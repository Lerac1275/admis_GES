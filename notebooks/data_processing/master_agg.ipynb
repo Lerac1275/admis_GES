{
 "cells": [
  {
   "cell_type": "code",
   "execution_count": 2,
   "metadata": {},
   "outputs": [],
   "source": [
    "import pandas as pd\n",
    "import numpy as np\n",
    "from tqdm import tqdm\n",
    "tqdm.pandas()"
   ]
  },
  {
   "cell_type": "markdown",
   "metadata": {},
   "source": [
    "# Introduction\n",
    "\n",
    "All google spreadsheets listed below taken from [this](https://drive.google.com/drive/folders/1RqU2LT503Rcl6C-j8SnYVg92oTMj7S8H) gdrive link\n",
    "\n",
    "At this stage have compiled: \n",
    "\n",
    "1. The tidied up GES information (`GES_dataGov_cleaned_23`)\n",
    "2. The tidied up IGP information (`igp_tidy.xlsx`)\n",
    "3. Mapping table for IGP-GES information (`IGP_GES_Mapping`)\n",
    "\n",
    "## Objective\n",
    "\n",
    "To create a single large table in tidy format containing: \n",
    "- University\n",
    "- Faculty\n",
    "- Unified Course Name\n",
    "- Year\n",
    "- Places\n",
    "- Rank Points (requirement)\n",
    "- GPA (requirement)\n",
    "- Employment Rate Fields\n",
    "- Earnings Fields\n",
    "- *Category mapping? (For comparison between degrees, requires more thought)*\n",
    "\n",
    "Need the table in **tidy format** because `ipyvizzu` *\"stories\"* can only reference a single fixed table of records defined at installation. Each story slide must use information from the original table. We can only change how the information is filtered.\n",
    "\n",
    "\n",
    "## `IGP_GES_Mapping`\n",
    "This is the table that maps IGP to GES information. \n",
    "\n",
    "In this workbook there are several sheets: \n",
    "1. `README`\n",
    "    \n",
    "    Background information on the workbook. \n",
    "\n",
    "2. University level tables\n",
    "\n",
    "    Yearly mapping information for the unified name for each university's courses. \n",
    "\n",
    "    Currently the sheet names / universities considered are: \n",
    "    - `NUS`\n",
    "    - `NTU`\n",
    "    - `SMU`\n",
    "\n",
    "3. `master_sheet`\n",
    "\n",
    "    To map course names across the IGP & GES tables. \n",
    "\n",
    "    Table originally duplicated from the GES data. Records exist at the university-school-degree level. \n",
    "\n",
    "    The `mapping_name` field is the unified name, used to index the university-level sheets containing the mapping information. \n",
    "    \n",
    "    For example considering *NUS Faculty of Arts and Social Sciences Bachelor of Arts / Hons*, the `mapping_name` *Arts* exists in the NUS and identifies the `Arts & Social Sciences` course for IGP data and `[Bachelor of Arts, Bachelor of Arts (Hons)\n",
    "    ]` courses for GES data respectively. Refer to the README for more info. \n",
    "    \n",
    "    Will need to use the `master_sheet` when aggregating individual university mapping tables to obtaint the university / faculty information. \n",
    "\n",
    "## Note\n",
    "\n",
    "The spreadsheets available within this repo vs on the drive link may differ. Take the drive link version as the **most updated** since manual adjustment is more conveniently done on the table directly in gsheets. "
   ]
  },
  {
   "cell_type": "code",
   "execution_count": 5,
   "metadata": {},
   "outputs": [],
   "source": [
    "mappping_spreadsheet = pd.ExcelFile(\"../../data/IGP_GES_Mapping_Table.xlsx\")"
   ]
  },
  {
   "cell_type": "code",
   "execution_count": 6,
   "metadata": {},
   "outputs": [
    {
     "data": {
      "text/plain": [
       "['README', 'NUS', 'NTU', 'SMU', 'Master Sheet']"
      ]
     },
     "execution_count": 6,
     "metadata": {},
     "output_type": "execute_result"
    }
   ],
   "source": [
    "mappping_spreadsheet.sheet_names"
   ]
  },
  {
   "cell_type": "code",
   "execution_count": null,
   "metadata": {},
   "outputs": [],
   "source": []
  }
 ],
 "metadata": {
  "kernelspec": {
   "display_name": "GES_env",
   "language": "python",
   "name": "python3"
  },
  "language_info": {
   "codemirror_mode": {
    "name": "ipython",
    "version": 3
   },
   "file_extension": ".py",
   "mimetype": "text/x-python",
   "name": "python",
   "nbconvert_exporter": "python",
   "pygments_lexer": "ipython3",
   "version": "3.11.1"
  }
 },
 "nbformat": 4,
 "nbformat_minor": 2
}
