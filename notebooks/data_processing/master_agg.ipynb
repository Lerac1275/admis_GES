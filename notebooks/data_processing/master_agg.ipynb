{
 "cells": [
  {
   "cell_type": "code",
   "execution_count": 189,
   "metadata": {},
   "outputs": [],
   "source": [
    "import pandas as pd\n",
    "import numpy as np\n",
    "from tqdm import tqdm\n",
    "from ast import literal_eval\n",
    "import os\n",
    "tqdm.pandas()"
   ]
  },
  {
   "cell_type": "code",
   "execution_count": 190,
   "metadata": {},
   "outputs": [],
   "source": [
    "pd.set_option('display.max_columns', 20)\n",
    "pd.set_option('display.max_rows', 20)"
   ]
  },
  {
   "cell_type": "markdown",
   "metadata": {},
   "source": [
    "# Introduction\n",
    "\n",
    "All google spreadsheets listed below taken from [this](https://drive.google.com/drive/folders/1RqU2LT503Rcl6C-j8SnYVg92oTMj7S8H) gdrive link\n",
    "\n",
    "At this stage have compiled: \n",
    "\n",
    "1. The tidied up GES information (`GES_dataGov_cleaned_23`)\n",
    "2. The tidied up IGP information (`igp_tidy.xlsx`)\n",
    "3. Mapping table for IGP-GES information (`IGP_GES_Mapping`)\n",
    "\n",
    "## Objective\n",
    "\n",
    "To create a single large table in tidy format containing: \n",
    "- University\n",
    "- Faculty\n",
    "- Unified Course Name\n",
    "- Year\n",
    "- Places\n",
    "- Rank Points (requirement)\n",
    "- GPA (requirement)\n",
    "- Employment Rate Fields\n",
    "- Earnings Fields\n",
    "- *Category mapping? (For comparison between degrees, requires more thought)*\n",
    "\n",
    "Need the table in **tidy format** because `ipyvizzu` *\"stories\"* can only reference a single fixed table of records defined at installation. Each story slide must use information from the original table. We can only change how the information is filtered.\n",
    "\n",
    "\n",
    "## `IGP_GES_Mapping`\n",
    "This is the table that maps IGP to GES information. \n",
    "\n",
    "In this workbook there are several sheets: \n",
    "1. `README`\n",
    "    \n",
    "    Background information on the workbook. \n",
    "\n",
    "2. University level tables\n",
    "\n",
    "    Yearly mapping information for the unified name for each university's courses. \n",
    "\n",
    "    Currently the sheet names / universities considered are: \n",
    "    - `NUS`\n",
    "    - `NTU`\n",
    "    - `SMU`\n",
    "\n",
    "3. `master_sheet`\n",
    "\n",
    "    To map course names across the IGP & GES tables. \n",
    "\n",
    "    Table originally duplicated from the GES data. Records exist at the university-school-degree level. \n",
    "\n",
    "    The `mapping_name` field is the unified name, used to index the university-level sheets containing the mapping information. \n",
    "    \n",
    "    For example considering *NUS Faculty of Arts and Social Sciences Bachelor of Arts / Hons*, the `mapping_name` *Arts* exists in the NUS and identifies the `Arts & Social Sciences` course for IGP data and `[Bachelor of Arts, Bachelor of Arts (Hons)\n",
    "    ]` courses for GES data respectively. Refer to the README for more info. \n",
    "    \n",
    "    Will need to use the `master_sheet` when aggregating individual university mapping tables to obtaint the university / faculty information. \n",
    "\n",
    "## Note\n",
    "\n",
    "The spreadsheets available within this repo vs on the drive link may differ. Take the drive link version as the **most updated** since manual adjustment is more conveniently done on the table directly in gsheets. "
   ]
  },
  {
   "cell_type": "markdown",
   "metadata": {},
   "source": [
    "# Combination and Mapping\n",
    "\n",
    "To combine the data across all Universities "
   ]
  },
  {
   "cell_type": "markdown",
   "metadata": {},
   "source": [
    "## Pre-Processing"
   ]
  },
  {
   "cell_type": "code",
   "execution_count": 191,
   "metadata": {},
   "outputs": [],
   "source": [
    "# Create ExcelFile object\n",
    "mappping_spreadsheet = pd.ExcelFile(\"../../data/IGP_GES_Mapping_Table.xlsx\")"
   ]
  },
  {
   "cell_type": "code",
   "execution_count": 192,
   "metadata": {},
   "outputs": [
    {
     "name": "stdout",
     "output_type": "stream",
     "text": [
      "['README', 'NUS', 'NTU', 'SMU', 'Master Sheet']\n"
     ]
    }
   ],
   "source": [
    "# All the sheet names\n",
    "print(mappping_spreadsheet.sheet_names)"
   ]
  },
  {
   "cell_type": "code",
   "execution_count": 193,
   "metadata": {},
   "outputs": [
    {
     "name": "stderr",
     "output_type": "stream",
     "text": [
      "100%|██████████| 3/3 [00:00<00:00, 49.78it/s]\n"
     ]
    }
   ],
   "source": [
    "# Instantiate master dataframe\n",
    "master_df_raw = pd.DataFrame()\n",
    "\n",
    "# Combine into one dataframe\n",
    "for uni in tqdm(['NUS', 'NTU', 'SMU']):\n",
    "    # Read in that university's table\n",
    "    tmp_df = pd.read_excel(mappping_spreadsheet, sheet_name=uni)\n",
    "    # Add university name (in short form)\n",
    "    tmp_df['uni']=uni\n",
    "    # Append to master dataframe\n",
    "    master_df_raw=pd.concat([master_df_raw, tmp_df], ignore_index=True)\n"
   ]
  },
  {
   "cell_type": "code",
   "execution_count": 194,
   "metadata": {},
   "outputs": [],
   "source": [
    "# Add the long form version of the uni name\n",
    "master_df_raw['university'] = master_df_raw['uni'].replace({\n",
    "    'NUS': 'National University of Singapore'\n",
    "    , 'NTU': 'Nanyang Technological University'\n",
    "    , 'SMU': 'Singapore Management University'\n",
    "})"
   ]
  },
  {
   "cell_type": "code",
   "execution_count": 195,
   "metadata": {},
   "outputs": [
    {
     "data": {
      "text/html": [
       "<div>\n",
       "<style scoped>\n",
       "    .dataframe tbody tr th:only-of-type {\n",
       "        vertical-align: middle;\n",
       "    }\n",
       "\n",
       "    .dataframe tbody tr th {\n",
       "        vertical-align: top;\n",
       "    }\n",
       "\n",
       "    .dataframe thead th {\n",
       "        text-align: right;\n",
       "    }\n",
       "</style>\n",
       "<table border=\"1\" class=\"dataframe\">\n",
       "  <thead>\n",
       "    <tr style=\"text-align: right;\">\n",
       "      <th></th>\n",
       "      <th>select_course</th>\n",
       "      <th>year</th>\n",
       "      <th>igp_course</th>\n",
       "      <th>ges_course</th>\n",
       "      <th>uni</th>\n",
       "      <th>university</th>\n",
       "    </tr>\n",
       "  </thead>\n",
       "  <tbody>\n",
       "    <tr>\n",
       "      <th>0</th>\n",
       "      <td>Arts</td>\n",
       "      <td>2013</td>\n",
       "      <td>Arts &amp; Social Sciences</td>\n",
       "      <td>Bachelor of Arts</td>\n",
       "      <td>NUS</td>\n",
       "      <td>National University of Singapore</td>\n",
       "    </tr>\n",
       "    <tr>\n",
       "      <th>1</th>\n",
       "      <td>Arts</td>\n",
       "      <td>2014</td>\n",
       "      <td>Arts &amp; Social Sciences</td>\n",
       "      <td>Bachelor of Arts</td>\n",
       "      <td>NUS</td>\n",
       "      <td>National University of Singapore</td>\n",
       "    </tr>\n",
       "    <tr>\n",
       "      <th>2</th>\n",
       "      <td>Arts</td>\n",
       "      <td>2015</td>\n",
       "      <td>Arts &amp; Social Sciences</td>\n",
       "      <td>Bachelor of Arts</td>\n",
       "      <td>NUS</td>\n",
       "      <td>National University of Singapore</td>\n",
       "    </tr>\n",
       "    <tr>\n",
       "      <th>3</th>\n",
       "      <td>Arts</td>\n",
       "      <td>2016</td>\n",
       "      <td>Arts &amp; Social Sciences</td>\n",
       "      <td>Bachelor of Arts</td>\n",
       "      <td>NUS</td>\n",
       "      <td>National University of Singapore</td>\n",
       "    </tr>\n",
       "    <tr>\n",
       "      <th>4</th>\n",
       "      <td>Arts</td>\n",
       "      <td>2017</td>\n",
       "      <td>Arts &amp; Social Sciences</td>\n",
       "      <td>Bachelor of Arts</td>\n",
       "      <td>NUS</td>\n",
       "      <td>National University of Singapore</td>\n",
       "    </tr>\n",
       "  </tbody>\n",
       "</table>\n",
       "</div>"
      ],
      "text/plain": [
       "  select_course  year              igp_course        ges_course  uni  \\\n",
       "0          Arts  2013  Arts & Social Sciences  Bachelor of Arts  NUS   \n",
       "1          Arts  2014  Arts & Social Sciences  Bachelor of Arts  NUS   \n",
       "2          Arts  2015  Arts & Social Sciences  Bachelor of Arts  NUS   \n",
       "3          Arts  2016  Arts & Social Sciences  Bachelor of Arts  NUS   \n",
       "4          Arts  2017  Arts & Social Sciences  Bachelor of Arts  NUS   \n",
       "\n",
       "                         university  \n",
       "0  National University of Singapore  \n",
       "1  National University of Singapore  \n",
       "2  National University of Singapore  \n",
       "3  National University of Singapore  \n",
       "4  National University of Singapore  "
      ]
     },
     "execution_count": 195,
     "metadata": {},
     "output_type": "execute_result"
    }
   ],
   "source": [
    "master_df_raw.head()"
   ]
  },
  {
   "cell_type": "code",
   "execution_count": 196,
   "metadata": {},
   "outputs": [],
   "source": [
    "# Trim whitespace from relevant text columns\n",
    "text_cols=['select_course', 'igp_course', 'ges_course', 'uni', 'university']\n",
    "for col in text_cols:\n",
    "    master_df_raw[col]=master_df_raw[col].str.strip()"
   ]
  },
  {
   "cell_type": "markdown",
   "metadata": {},
   "source": [
    "## Obtaining School\n",
    "\n",
    "Obtaining the School (Faculty) each degree falls under by mapping back to the `master_sheet` table"
   ]
  },
  {
   "cell_type": "code",
   "execution_count": 197,
   "metadata": {},
   "outputs": [],
   "source": [
    "# Read in master sheet\n",
    "master_sheet = pd.read_excel(mappping_spreadsheet, sheet_name='Master Sheet')\n",
    "\n",
    "# Strip leading & trailing whitespace\n",
    "text_cols = text_cols=['university', 'school', 'degree', 'mapping_name', 'Notes']\n",
    "for col in text_cols:\n",
    "    master_sheet[col]=master_sheet[col].str.strip()"
   ]
  },
  {
   "cell_type": "code",
   "execution_count": 198,
   "metadata": {},
   "outputs": [],
   "source": [
    "########\n",
    "# obtain the School associated with each degree by joining on the university name & mapping_name\n",
    "########\n",
    "master_df_school = master_df_raw.merge(\n",
    "                    master_sheet[['university', 'mapping_name', 'school']]\n",
    "                    ,left_on=('university', 'select_course')\n",
    "                    , right_on=('university', 'mapping_name')\n",
    "                    , how='left')"
   ]
  },
  {
   "cell_type": "code",
   "execution_count": 199,
   "metadata": {},
   "outputs": [
    {
     "name": "stdout",
     "output_type": "stream",
     "text": [
      "0\n"
     ]
    }
   ],
   "source": [
    "# There should be no missing school values\n",
    "tmp=master_df_school.loc[master_df_school.school.isna()]\n",
    "print(tmp.shape[0])\n",
    "# Empty Table"
   ]
  },
  {
   "cell_type": "code",
   "execution_count": 200,
   "metadata": {},
   "outputs": [],
   "source": [
    "# Reorder & Keep columns\n",
    "master_df_school=master_df_school[['uni', 'school', 'select_course', 'year'\n",
    "                                   , 'igp_course', 'ges_course', 'university']]\n",
    "# rename column \n",
    "master_df_school.rename(columns={\n",
    "    'select_course':'course'\n",
    "    }, inplace=True)\n"
   ]
  },
  {
   "cell_type": "code",
   "execution_count": 201,
   "metadata": {},
   "outputs": [
    {
     "name": "stdout",
     "output_type": "stream",
     "text": [
      "Before joining there were 889 rows.\n",
      "Now there were 889 rows.\n"
     ]
    }
   ],
   "source": [
    "print(f\"Before joining there were {master_df_raw.shape[0]:,} rows.\")\n",
    "print(f\"Now there were {master_df_school.shape[0]:,} rows.\")"
   ]
  },
  {
   "cell_type": "markdown",
   "metadata": {},
   "source": [
    "# Obtaining IGP Information\n",
    "\n",
    "Filling in the IGP dimensions for our dataset. Will require joining to the `igp_tidy.xlsx` table. \n",
    "\n",
    "We want to extract the fields: \n",
    "- Places\n",
    "- GPA\n",
    "- RP\n"
   ]
  },
  {
   "cell_type": "code",
   "execution_count": 202,
   "metadata": {},
   "outputs": [],
   "source": [
    "# Read in igp_tidy.xlsx\n",
    "igp_df = pd.read_excel(\"../../data/igp_tidy.xlsx\")\n",
    "# Rename columns for easier joining\n",
    "igp_df.rename(columns={\n",
    "                    'University': 'uni'\n",
    "                    , 'Course': 'course_IGP'\n",
    "                }\n",
    "                , inplace=True)\n",
    "\n",
    "# Strip leading & trailing whitespace but only for selected cols\n",
    "coltypes = igp_df.dtypes\n",
    "text_cols=['Faculty', 'course_IGP', 'AY', 'uni', 'RP']\n",
    "for col in text_cols:\n",
    "    igp_df[col]=igp_df[col].str.strip()\n"
   ]
  },
  {
   "cell_type": "code",
   "execution_count": 203,
   "metadata": {},
   "outputs": [],
   "source": [
    "# join on course name and university\n",
    "master_df_igp = master_df_school.merge(\n",
    "                igp_df[['uni', 'course_IGP', 'year', 'Places', 'GPA', 'RP']]\n",
    "                , left_on=('uni', 'igp_course', 'year')\n",
    "                , right_on=('uni', 'course_IGP', 'year')\n",
    "                , how='left'\n",
    ")"
   ]
  },
  {
   "cell_type": "code",
   "execution_count": 204,
   "metadata": {},
   "outputs": [
    {
     "name": "stdout",
     "output_type": "stream",
     "text": [
      "There were 889 rows before merging\n",
      "There are 889 rows after merging\n"
     ]
    }
   ],
   "source": [
    "print(f\"There were {master_df_school.shape[0]:,} rows before merging\")\n",
    "# There were 900 rows before merging\n",
    "print(f\"There are {master_df_igp.shape[0]:,} rows after merging\")\n",
    "# There are 900 rows after merging"
   ]
  },
  {
   "cell_type": "code",
   "execution_count": 205,
   "metadata": {},
   "outputs": [
    {
     "data": {
      "text/html": [
       "<div>\n",
       "<style scoped>\n",
       "    .dataframe tbody tr th:only-of-type {\n",
       "        vertical-align: middle;\n",
       "    }\n",
       "\n",
       "    .dataframe tbody tr th {\n",
       "        vertical-align: top;\n",
       "    }\n",
       "\n",
       "    .dataframe thead th {\n",
       "        text-align: right;\n",
       "    }\n",
       "</style>\n",
       "<table border=\"1\" class=\"dataframe\">\n",
       "  <thead>\n",
       "    <tr style=\"text-align: right;\">\n",
       "      <th></th>\n",
       "      <th>uni</th>\n",
       "      <th>school</th>\n",
       "      <th>course</th>\n",
       "      <th>year</th>\n",
       "      <th>igp_course</th>\n",
       "      <th>ges_course</th>\n",
       "      <th>university</th>\n",
       "      <th>course_IGP</th>\n",
       "      <th>Places</th>\n",
       "      <th>GPA</th>\n",
       "      <th>RP</th>\n",
       "    </tr>\n",
       "  </thead>\n",
       "  <tbody>\n",
       "    <tr>\n",
       "      <th>677</th>\n",
       "      <td>NTU</td>\n",
       "      <td>National Institute of Education (NIE)</td>\n",
       "      <td>Science (Education)</td>\n",
       "      <td>2014</td>\n",
       "      <td>NaN</td>\n",
       "      <td>Science (Education)</td>\n",
       "      <td>Nanyang Technological University</td>\n",
       "      <td>NaN</td>\n",
       "      <td>NaN</td>\n",
       "      <td>NaN</td>\n",
       "      <td>NaN</td>\n",
       "    </tr>\n",
       "    <tr>\n",
       "      <th>688</th>\n",
       "      <td>NTU</td>\n",
       "      <td>National Institute of Education (NIE)</td>\n",
       "      <td>Arts (Education)</td>\n",
       "      <td>2014</td>\n",
       "      <td>NaN</td>\n",
       "      <td>Arts (Education)</td>\n",
       "      <td>Nanyang Technological University</td>\n",
       "      <td>NaN</td>\n",
       "      <td>NaN</td>\n",
       "      <td>NaN</td>\n",
       "      <td>NaN</td>\n",
       "    </tr>\n",
       "  </tbody>\n",
       "</table>\n",
       "</div>"
      ],
      "text/plain": [
       "     uni                                 school               course  year  \\\n",
       "677  NTU  National Institute of Education (NIE)  Science (Education)  2014   \n",
       "688  NTU  National Institute of Education (NIE)     Arts (Education)  2014   \n",
       "\n",
       "    igp_course           ges_course                        university  \\\n",
       "677        NaN  Science (Education)  Nanyang Technological University   \n",
       "688        NaN     Arts (Education)  Nanyang Technological University   \n",
       "\n",
       "    course_IGP Places  GPA   RP  \n",
       "677        NaN    NaN  NaN  NaN  \n",
       "688        NaN    NaN  NaN  NaN  "
      ]
     },
     "execution_count": 205,
     "metadata": {},
     "output_type": "execute_result"
    }
   ],
   "source": [
    "# Any entries where there was no IGP match?\n",
    "missing=master_df_igp.loc[master_df_igp[['Places', 'GPA', 'RP']].isna().all(axis=1)]\n",
    "missing\n",
    "# No entries"
   ]
  },
  {
   "cell_type": "markdown",
   "metadata": {},
   "source": [
    "## Places Adjustment\n",
    "\n",
    "For some courses the `Places` value for a particular year may not be a number. \n",
    "\n",
    "Instead it redirects to a separate course where the places are shared. For example the `Arts` course in NUS from 2021 onwards shares a common placement intake under *Humanities & Sciences* with the `Science` & `Data Science & Analytics` intakes. \n",
    "\n",
    "However this is already reflected in the mapping table (`master_df_raw`), the *generic* IGP course mapped to that specific course is the *general* intake. For example all science / specific arts courses from 2021 onwards have their IGP requirements and places available tagged to a general `\"Humanities & Sciences\" intake`. \n",
    "\n",
    "The case we investigate is when only **places** are shared with other courses, but the specific course has its own Rank Points / GPA critiera."
   ]
  },
  {
   "cell_type": "code",
   "execution_count": 206,
   "metadata": {},
   "outputs": [
    {
     "data": {
      "text/html": [
       "<div>\n",
       "<style scoped>\n",
       "    .dataframe tbody tr th:only-of-type {\n",
       "        vertical-align: middle;\n",
       "    }\n",
       "\n",
       "    .dataframe tbody tr th {\n",
       "        vertical-align: top;\n",
       "    }\n",
       "\n",
       "    .dataframe thead th {\n",
       "        text-align: right;\n",
       "    }\n",
       "</style>\n",
       "<table border=\"1\" class=\"dataframe\">\n",
       "  <thead>\n",
       "    <tr style=\"text-align: right;\">\n",
       "      <th></th>\n",
       "      <th>uni</th>\n",
       "      <th>school</th>\n",
       "      <th>course</th>\n",
       "      <th>Places</th>\n",
       "    </tr>\n",
       "  </thead>\n",
       "  <tbody>\n",
       "    <tr>\n",
       "      <th>186</th>\n",
       "      <td>NUS</td>\n",
       "      <td>Faculty of Science</td>\n",
       "      <td>Data Science and Analytics</td>\n",
       "      <td>Science</td>\n",
       "    </tr>\n",
       "  </tbody>\n",
       "</table>\n",
       "</div>"
      ],
      "text/plain": [
       "     uni              school                      course   Places\n",
       "186  NUS  Faculty of Science  Data Science and Analytics  Science"
      ]
     },
     "execution_count": 206,
     "metadata": {},
     "output_type": "execute_result"
    }
   ],
   "source": [
    "# get the full set of courses where the places are special cases (and are not missing)\n",
    "master_df_igp.loc[(~master_df_igp.Places.astype(str).str.isnumeric())\n",
    "                  & (~master_df_igp.Places.isna())\n",
    "                  , ['uni', 'school', 'course', 'Places']].drop_duplicates()"
   ]
  },
  {
   "cell_type": "markdown",
   "metadata": {},
   "source": [
    "There is only **one** such case. \n",
    "\n",
    "For this case, will draw the *Places* values from the course *Science* in the IGP data. For context, *Data Science & Analytice* shared its place information with the general Science intake in 2016 & 2017."
   ]
  },
  {
   "cell_type": "code",
   "execution_count": 207,
   "metadata": {},
   "outputs": [],
   "source": [
    "def extract_places(row):\n",
    "    course = row['Places']\n",
    "    year = row['year']\n",
    "    uni = row['uni']\n",
    "    value = igp_df.loc[(igp_df.course_IGP==course) \n",
    "                        & (igp_df.year==year)\n",
    "                        & (igp_df.uni==uni), 'Places'].item()\n",
    "    return value"
   ]
  },
  {
   "cell_type": "code",
   "execution_count": 208,
   "metadata": {},
   "outputs": [
    {
     "data": {
      "text/html": [
       "<div>\n",
       "<style scoped>\n",
       "    .dataframe tbody tr th:only-of-type {\n",
       "        vertical-align: middle;\n",
       "    }\n",
       "\n",
       "    .dataframe tbody tr th {\n",
       "        vertical-align: top;\n",
       "    }\n",
       "\n",
       "    .dataframe thead th {\n",
       "        text-align: right;\n",
       "    }\n",
       "</style>\n",
       "<table border=\"1\" class=\"dataframe\">\n",
       "  <thead>\n",
       "    <tr style=\"text-align: right;\">\n",
       "      <th></th>\n",
       "      <th>uni</th>\n",
       "      <th>school</th>\n",
       "      <th>course</th>\n",
       "      <th>year</th>\n",
       "      <th>igp_course</th>\n",
       "      <th>ges_course</th>\n",
       "      <th>university</th>\n",
       "      <th>course_IGP</th>\n",
       "      <th>Places</th>\n",
       "      <th>GPA</th>\n",
       "      <th>RP</th>\n",
       "    </tr>\n",
       "  </thead>\n",
       "  <tbody>\n",
       "    <tr>\n",
       "      <th>186</th>\n",
       "      <td>NUS</td>\n",
       "      <td>Faculty of Science</td>\n",
       "      <td>Data Science and Analytics</td>\n",
       "      <td>2016</td>\n",
       "      <td>Data Science &amp; Analytics</td>\n",
       "      <td>NaN</td>\n",
       "      <td>National University of Singapore</td>\n",
       "      <td>Data Science &amp; Analytics</td>\n",
       "      <td>Science</td>\n",
       "      <td>NaN</td>\n",
       "      <td>AAB/C (80)</td>\n",
       "    </tr>\n",
       "    <tr>\n",
       "      <th>187</th>\n",
       "      <td>NUS</td>\n",
       "      <td>Faculty of Science</td>\n",
       "      <td>Data Science and Analytics</td>\n",
       "      <td>2017</td>\n",
       "      <td>Data Science &amp; Analytics</td>\n",
       "      <td>NaN</td>\n",
       "      <td>National University of Singapore</td>\n",
       "      <td>Data Science &amp; Analytics</td>\n",
       "      <td>Science</td>\n",
       "      <td>NaN</td>\n",
       "      <td>AAA/C (82.5)</td>\n",
       "    </tr>\n",
       "    <tr>\n",
       "      <th>188</th>\n",
       "      <td>NUS</td>\n",
       "      <td>Faculty of Science</td>\n",
       "      <td>Data Science and Analytics</td>\n",
       "      <td>2018</td>\n",
       "      <td>Data Science &amp; Analytics</td>\n",
       "      <td>NaN</td>\n",
       "      <td>National University of Singapore</td>\n",
       "      <td>Data Science &amp; Analytics</td>\n",
       "      <td>Science</td>\n",
       "      <td>NaN</td>\n",
       "      <td>AAB/C (80)</td>\n",
       "    </tr>\n",
       "  </tbody>\n",
       "</table>\n",
       "</div>"
      ],
      "text/plain": [
       "     uni              school                      course  year  \\\n",
       "186  NUS  Faculty of Science  Data Science and Analytics  2016   \n",
       "187  NUS  Faculty of Science  Data Science and Analytics  2017   \n",
       "188  NUS  Faculty of Science  Data Science and Analytics  2018   \n",
       "\n",
       "                   igp_course ges_course                        university  \\\n",
       "186  Data Science & Analytics        NaN  National University of Singapore   \n",
       "187  Data Science & Analytics        NaN  National University of Singapore   \n",
       "188  Data Science & Analytics        NaN  National University of Singapore   \n",
       "\n",
       "                   course_IGP   Places  GPA            RP  \n",
       "186  Data Science & Analytics  Science  NaN    AAB/C (80)  \n",
       "187  Data Science & Analytics  Science  NaN  AAA/C (82.5)  \n",
       "188  Data Science & Analytics  Science  NaN    AAB/C (80)  "
      ]
     },
     "execution_count": 208,
     "metadata": {},
     "output_type": "execute_result"
    }
   ],
   "source": [
    "tmp= master_df_igp.loc[(~master_df_igp.Places.astype(str).str.isnumeric())\n",
    "                  & (~master_df_igp.Places.isna())\n",
    "                  ]\n",
    "tmp"
   ]
  },
  {
   "cell_type": "code",
   "execution_count": 209,
   "metadata": {},
   "outputs": [],
   "source": [
    "# Extract for the relevant rows\n",
    "master_df_igp.loc[(~master_df_igp.Places.astype(str).str.isnumeric())\n",
    "                  & (~master_df_igp.Places.isna())\n",
    "                  , 'Places'] = master_df_igp.loc[\\\n",
    "                    (~master_df_igp.Places.astype(str).str.isnumeric())\n",
    "                    & (~master_df_igp.Places.isna())].apply(extract_places, axis=1)"
   ]
  },
  {
   "cell_type": "code",
   "execution_count": 210,
   "metadata": {},
   "outputs": [
    {
     "data": {
      "text/html": [
       "<div>\n",
       "<style scoped>\n",
       "    .dataframe tbody tr th:only-of-type {\n",
       "        vertical-align: middle;\n",
       "    }\n",
       "\n",
       "    .dataframe tbody tr th {\n",
       "        vertical-align: top;\n",
       "    }\n",
       "\n",
       "    .dataframe thead th {\n",
       "        text-align: right;\n",
       "    }\n",
       "</style>\n",
       "<table border=\"1\" class=\"dataframe\">\n",
       "  <thead>\n",
       "    <tr style=\"text-align: right;\">\n",
       "      <th></th>\n",
       "      <th>uni</th>\n",
       "      <th>school</th>\n",
       "      <th>course</th>\n",
       "      <th>year</th>\n",
       "      <th>igp_course</th>\n",
       "      <th>ges_course</th>\n",
       "      <th>university</th>\n",
       "      <th>course_IGP</th>\n",
       "      <th>Places</th>\n",
       "      <th>GPA</th>\n",
       "      <th>RP</th>\n",
       "    </tr>\n",
       "  </thead>\n",
       "  <tbody>\n",
       "    <tr>\n",
       "      <th>186</th>\n",
       "      <td>NUS</td>\n",
       "      <td>Faculty of Science</td>\n",
       "      <td>Data Science and Analytics</td>\n",
       "      <td>2016</td>\n",
       "      <td>Data Science &amp; Analytics</td>\n",
       "      <td>NaN</td>\n",
       "      <td>National University of Singapore</td>\n",
       "      <td>Data Science &amp; Analytics</td>\n",
       "      <td>1027</td>\n",
       "      <td>NaN</td>\n",
       "      <td>AAB/C (80)</td>\n",
       "    </tr>\n",
       "    <tr>\n",
       "      <th>187</th>\n",
       "      <td>NUS</td>\n",
       "      <td>Faculty of Science</td>\n",
       "      <td>Data Science and Analytics</td>\n",
       "      <td>2017</td>\n",
       "      <td>Data Science &amp; Analytics</td>\n",
       "      <td>NaN</td>\n",
       "      <td>National University of Singapore</td>\n",
       "      <td>Data Science &amp; Analytics</td>\n",
       "      <td>851</td>\n",
       "      <td>NaN</td>\n",
       "      <td>AAA/C (82.5)</td>\n",
       "    </tr>\n",
       "    <tr>\n",
       "      <th>188</th>\n",
       "      <td>NUS</td>\n",
       "      <td>Faculty of Science</td>\n",
       "      <td>Data Science and Analytics</td>\n",
       "      <td>2018</td>\n",
       "      <td>Data Science &amp; Analytics</td>\n",
       "      <td>NaN</td>\n",
       "      <td>National University of Singapore</td>\n",
       "      <td>Data Science &amp; Analytics</td>\n",
       "      <td>927</td>\n",
       "      <td>NaN</td>\n",
       "      <td>AAB/C (80)</td>\n",
       "    </tr>\n",
       "    <tr>\n",
       "      <th>189</th>\n",
       "      <td>NUS</td>\n",
       "      <td>Faculty of Science</td>\n",
       "      <td>Data Science and Analytics</td>\n",
       "      <td>2019</td>\n",
       "      <td>Data Science &amp; Analytics</td>\n",
       "      <td>NaN</td>\n",
       "      <td>National University of Singapore</td>\n",
       "      <td>Data Science &amp; Analytics</td>\n",
       "      <td>179</td>\n",
       "      <td>NaN</td>\n",
       "      <td>AAB/C (80)</td>\n",
       "    </tr>\n",
       "    <tr>\n",
       "      <th>190</th>\n",
       "      <td>NUS</td>\n",
       "      <td>Faculty of Science</td>\n",
       "      <td>Data Science and Analytics</td>\n",
       "      <td>2020</td>\n",
       "      <td>Data Science &amp; Analytics</td>\n",
       "      <td>Data Science and Analytics</td>\n",
       "      <td>National University of Singapore</td>\n",
       "      <td>Data Science &amp; Analytics</td>\n",
       "      <td>204</td>\n",
       "      <td>NaN</td>\n",
       "      <td>AAA/C (82.5)</td>\n",
       "    </tr>\n",
       "    <tr>\n",
       "      <th>191</th>\n",
       "      <td>NUS</td>\n",
       "      <td>Faculty of Science</td>\n",
       "      <td>Data Science and Analytics</td>\n",
       "      <td>2021</td>\n",
       "      <td>Humanities &amp; Sciences</td>\n",
       "      <td>Data Science and Analytics</td>\n",
       "      <td>National University of Singapore</td>\n",
       "      <td>Humanities &amp; Sciences</td>\n",
       "      <td>2100</td>\n",
       "      <td>3.79</td>\n",
       "      <td>ABB/B (78.75)</td>\n",
       "    </tr>\n",
       "    <tr>\n",
       "      <th>192</th>\n",
       "      <td>NUS</td>\n",
       "      <td>Faculty of Science</td>\n",
       "      <td>Data Science and Analytics</td>\n",
       "      <td>2022</td>\n",
       "      <td>Humanities &amp; Sciences</td>\n",
       "      <td>Data Science and Analytics</td>\n",
       "      <td>National University of Singapore</td>\n",
       "      <td>Humanities &amp; Sciences</td>\n",
       "      <td>1971</td>\n",
       "      <td>3.67</td>\n",
       "      <td>ABB/C (77.5)</td>\n",
       "    </tr>\n",
       "    <tr>\n",
       "      <th>193</th>\n",
       "      <td>NUS</td>\n",
       "      <td>Faculty of Science</td>\n",
       "      <td>Data Science and Analytics</td>\n",
       "      <td>2023</td>\n",
       "      <td>Humanities &amp; Sciences</td>\n",
       "      <td>Data Science and Analytics</td>\n",
       "      <td>National University of Singapore</td>\n",
       "      <td>Humanities &amp; Sciences</td>\n",
       "      <td>1949</td>\n",
       "      <td>3.62</td>\n",
       "      <td>ABB/B (78.75)</td>\n",
       "    </tr>\n",
       "  </tbody>\n",
       "</table>\n",
       "</div>"
      ],
      "text/plain": [
       "     uni              school                      course  year  \\\n",
       "186  NUS  Faculty of Science  Data Science and Analytics  2016   \n",
       "187  NUS  Faculty of Science  Data Science and Analytics  2017   \n",
       "188  NUS  Faculty of Science  Data Science and Analytics  2018   \n",
       "189  NUS  Faculty of Science  Data Science and Analytics  2019   \n",
       "190  NUS  Faculty of Science  Data Science and Analytics  2020   \n",
       "191  NUS  Faculty of Science  Data Science and Analytics  2021   \n",
       "192  NUS  Faculty of Science  Data Science and Analytics  2022   \n",
       "193  NUS  Faculty of Science  Data Science and Analytics  2023   \n",
       "\n",
       "                   igp_course                  ges_course  \\\n",
       "186  Data Science & Analytics                         NaN   \n",
       "187  Data Science & Analytics                         NaN   \n",
       "188  Data Science & Analytics                         NaN   \n",
       "189  Data Science & Analytics                         NaN   \n",
       "190  Data Science & Analytics  Data Science and Analytics   \n",
       "191     Humanities & Sciences  Data Science and Analytics   \n",
       "192     Humanities & Sciences  Data Science and Analytics   \n",
       "193     Humanities & Sciences  Data Science and Analytics   \n",
       "\n",
       "                           university                course_IGP Places   GPA  \\\n",
       "186  National University of Singapore  Data Science & Analytics   1027   NaN   \n",
       "187  National University of Singapore  Data Science & Analytics    851   NaN   \n",
       "188  National University of Singapore  Data Science & Analytics    927   NaN   \n",
       "189  National University of Singapore  Data Science & Analytics    179   NaN   \n",
       "190  National University of Singapore  Data Science & Analytics    204   NaN   \n",
       "191  National University of Singapore     Humanities & Sciences   2100  3.79   \n",
       "192  National University of Singapore     Humanities & Sciences   1971  3.67   \n",
       "193  National University of Singapore     Humanities & Sciences   1949  3.62   \n",
       "\n",
       "                RP  \n",
       "186     AAB/C (80)  \n",
       "187   AAA/C (82.5)  \n",
       "188     AAB/C (80)  \n",
       "189     AAB/C (80)  \n",
       "190   AAA/C (82.5)  \n",
       "191  ABB/B (78.75)  \n",
       "192   ABB/C (77.5)  \n",
       "193  ABB/B (78.75)  "
      ]
     },
     "execution_count": 210,
     "metadata": {},
     "output_type": "execute_result"
    }
   ],
   "source": [
    "master_df_igp.loc[master_df_igp.course=='Data Science and Analytics']"
   ]
  },
  {
   "cell_type": "code",
   "execution_count": null,
   "metadata": {},
   "outputs": [],
   "source": []
  },
  {
   "cell_type": "markdown",
   "metadata": {},
   "source": [
    "## GPA & Rank Points\n",
    "\n",
    "Checking that the data types for `GPA` & `RP` (Rank Points) are numerical. \n",
    "\n",
    "For `RP`, need to extract just the score without the letter grade breakdown before converting. "
   ]
  },
  {
   "cell_type": "markdown",
   "metadata": {},
   "source": [
    "### GPA"
   ]
  },
  {
   "cell_type": "code",
   "execution_count": 211,
   "metadata": {},
   "outputs": [
    {
     "data": {
      "text/plain": [
       "GPA    object\n",
       "RP     object\n",
       "dtype: object"
      ]
     },
     "execution_count": 211,
     "metadata": {},
     "output_type": "execute_result"
    }
   ],
   "source": [
    "master_df_igp[['GPA', 'RP']].dtypes"
   ]
  },
  {
   "cell_type": "code",
   "execution_count": 212,
   "metadata": {},
   "outputs": [
    {
     "data": {
      "text/plain": [
       "array(['#'], dtype=object)"
      ]
     },
     "execution_count": 212,
     "metadata": {},
     "output_type": "execute_result"
    }
   ],
   "source": [
    "# What non-float values are there in the GPA column?\n",
    "master_df_igp.loc[~master_df_igp['GPA'].apply(np.isreal), 'GPA'].unique()"
   ]
  },
  {
   "cell_type": "markdown",
   "metadata": {},
   "source": [
    "There are no malformed float objects. Hence we can convert the column directly with `pd.to_numeric` and force the unconvertible values (including the `'#'` character) to missing `np.NaN` values. "
   ]
  },
  {
   "cell_type": "code",
   "execution_count": 213,
   "metadata": {},
   "outputs": [],
   "source": [
    "master_df_igp['GPA'] = pd.to_numeric(master_df_igp['GPA'], errors='coerce')"
   ]
  },
  {
   "cell_type": "markdown",
   "metadata": {},
   "source": [
    "### RP "
   ]
  },
  {
   "cell_type": "code",
   "execution_count": 214,
   "metadata": {},
   "outputs": [],
   "source": [
    "master_df_igp['RP']=master_df_igp['RP'].str.extract(r\"(?<=\\()([0-9\\.]+)(?=\\))\")\n"
   ]
  },
  {
   "cell_type": "code",
   "execution_count": 215,
   "metadata": {},
   "outputs": [
    {
     "data": {
      "text/html": [
       "<div>\n",
       "<style scoped>\n",
       "    .dataframe tbody tr th:only-of-type {\n",
       "        vertical-align: middle;\n",
       "    }\n",
       "\n",
       "    .dataframe tbody tr th {\n",
       "        vertical-align: top;\n",
       "    }\n",
       "\n",
       "    .dataframe thead th {\n",
       "        text-align: right;\n",
       "    }\n",
       "</style>\n",
       "<table border=\"1\" class=\"dataframe\">\n",
       "  <thead>\n",
       "    <tr style=\"text-align: right;\">\n",
       "      <th></th>\n",
       "      <th>uni</th>\n",
       "      <th>school</th>\n",
       "      <th>course</th>\n",
       "      <th>year</th>\n",
       "      <th>igp_course</th>\n",
       "      <th>ges_course</th>\n",
       "      <th>university</th>\n",
       "      <th>course_IGP</th>\n",
       "      <th>Places</th>\n",
       "      <th>GPA</th>\n",
       "      <th>RP</th>\n",
       "    </tr>\n",
       "  </thead>\n",
       "  <tbody>\n",
       "    <tr>\n",
       "      <th>677</th>\n",
       "      <td>NTU</td>\n",
       "      <td>National Institute of Education (NIE)</td>\n",
       "      <td>Science (Education)</td>\n",
       "      <td>2014</td>\n",
       "      <td>NaN</td>\n",
       "      <td>Science (Education)</td>\n",
       "      <td>Nanyang Technological University</td>\n",
       "      <td>NaN</td>\n",
       "      <td>NaN</td>\n",
       "      <td>NaN</td>\n",
       "      <td>NaN</td>\n",
       "    </tr>\n",
       "    <tr>\n",
       "      <th>688</th>\n",
       "      <td>NTU</td>\n",
       "      <td>National Institute of Education (NIE)</td>\n",
       "      <td>Arts (Education)</td>\n",
       "      <td>2014</td>\n",
       "      <td>NaN</td>\n",
       "      <td>Arts (Education)</td>\n",
       "      <td>Nanyang Technological University</td>\n",
       "      <td>NaN</td>\n",
       "      <td>NaN</td>\n",
       "      <td>NaN</td>\n",
       "      <td>NaN</td>\n",
       "    </tr>\n",
       "  </tbody>\n",
       "</table>\n",
       "</div>"
      ],
      "text/plain": [
       "     uni                                 school               course  year  \\\n",
       "677  NTU  National Institute of Education (NIE)  Science (Education)  2014   \n",
       "688  NTU  National Institute of Education (NIE)     Arts (Education)  2014   \n",
       "\n",
       "    igp_course           ges_course                        university  \\\n",
       "677        NaN  Science (Education)  Nanyang Technological University   \n",
       "688        NaN     Arts (Education)  Nanyang Technological University   \n",
       "\n",
       "    course_IGP Places  GPA   RP  \n",
       "677        NaN    NaN  NaN  NaN  \n",
       "688        NaN    NaN  NaN  NaN  "
      ]
     },
     "execution_count": 215,
     "metadata": {},
     "output_type": "execute_result"
    }
   ],
   "source": [
    "master_df_igp.loc[master_df_igp.RP.isna()]"
   ]
  },
  {
   "cell_type": "markdown",
   "metadata": {},
   "source": [
    "Only two missing entries did not have any valid IGP information. Hence the extraction was successful. "
   ]
  },
  {
   "cell_type": "code",
   "execution_count": 216,
   "metadata": {},
   "outputs": [],
   "source": [
    "# convert the datatype\n",
    "master_df_igp['RP']=master_df_igp.RP.astype(float)"
   ]
  },
  {
   "cell_type": "code",
   "execution_count": 217,
   "metadata": {},
   "outputs": [
    {
     "data": {
      "text/plain": [
       "GPA    float64\n",
       "RP     float64\n",
       "dtype: object"
      ]
     },
     "execution_count": 217,
     "metadata": {},
     "output_type": "execute_result"
    }
   ],
   "source": [
    "master_df_igp[['GPA', 'RP']].dtypes"
   ]
  },
  {
   "cell_type": "markdown",
   "metadata": {},
   "source": [
    "Conversion Successful!"
   ]
  },
  {
   "cell_type": "markdown",
   "metadata": {},
   "source": [
    "# Obtaining GES information\n",
    "\n",
    "Now to obtain the GES information for each row. "
   ]
  },
  {
   "cell_type": "code",
   "execution_count": 218,
   "metadata": {},
   "outputs": [],
   "source": [
    "# Read in the cleaned up GES information\n",
    "ges_df = pd.read_excel(\"../../data/GES_dataGov_cleaned_23.xlsx\", sheet_name=0)\n",
    "# Filter for in-scope universities\n",
    "ges_df=ges_df.loc[ges_df.university.isin(\n",
    "    [\n",
    "    'Nanyang Technological University',\n",
    "    'National University of Singapore',\n",
    "    'Singapore Management University', ]\n",
    "    )]\n",
    "# Add shorthand uni name column\n",
    "ges_df['uni'] = ges_df['university'].replace(\n",
    "    {\n",
    "        'Nanyang Technological University' : 'NTU',\n",
    "        'National University of Singapore' : 'NUS',\n",
    "        'Singapore Management University' : 'SMU'\n",
    "    })"
   ]
  },
  {
   "cell_type": "code",
   "execution_count": 219,
   "metadata": {},
   "outputs": [
    {
     "data": {
      "text/plain": [
       "['year',\n",
       " 'university',\n",
       " 'school',\n",
       " 'degree',\n",
       " 'employment_rate_overall',\n",
       " 'employment_rate_ft_perm',\n",
       " 'basic_monthly_mean',\n",
       " 'basic_monthly_median',\n",
       " 'gross_monthly_mean',\n",
       " 'gross_monthly_median',\n",
       " 'gross_mthly_25_percentile',\n",
       " 'gross_mthly_75_percentile',\n",
       " 'include',\n",
       " 'uni']"
      ]
     },
     "execution_count": 219,
     "metadata": {},
     "output_type": "execute_result"
    }
   ],
   "source": [
    "ges_df.columns.tolist()"
   ]
  },
  {
   "cell_type": "code",
   "execution_count": 220,
   "metadata": {},
   "outputs": [
    {
     "data": {
      "text/html": [
       "<div>\n",
       "<style scoped>\n",
       "    .dataframe tbody tr th:only-of-type {\n",
       "        vertical-align: middle;\n",
       "    }\n",
       "\n",
       "    .dataframe tbody tr th {\n",
       "        vertical-align: top;\n",
       "    }\n",
       "\n",
       "    .dataframe thead th {\n",
       "        text-align: right;\n",
       "    }\n",
       "</style>\n",
       "<table border=\"1\" class=\"dataframe\">\n",
       "  <thead>\n",
       "    <tr style=\"text-align: right;\">\n",
       "      <th></th>\n",
       "      <th>year</th>\n",
       "      <th>university</th>\n",
       "      <th>school</th>\n",
       "      <th>degree</th>\n",
       "      <th>employment_rate_overall</th>\n",
       "      <th>employment_rate_ft_perm</th>\n",
       "      <th>basic_monthly_mean</th>\n",
       "      <th>basic_monthly_median</th>\n",
       "      <th>gross_monthly_mean</th>\n",
       "      <th>gross_monthly_median</th>\n",
       "      <th>gross_mthly_25_percentile</th>\n",
       "      <th>gross_mthly_75_percentile</th>\n",
       "      <th>include</th>\n",
       "      <th>uni</th>\n",
       "    </tr>\n",
       "  </thead>\n",
       "  <tbody>\n",
       "    <tr>\n",
       "      <th>0</th>\n",
       "      <td>2013</td>\n",
       "      <td>Nanyang Technological University</td>\n",
       "      <td>College of Business (Nanyang Business School)</td>\n",
       "      <td>Accountancy and Business</td>\n",
       "      <td>97.4</td>\n",
       "      <td>96.1</td>\n",
       "      <td>3701</td>\n",
       "      <td>3200</td>\n",
       "      <td>3727</td>\n",
       "      <td>3350</td>\n",
       "      <td>2900</td>\n",
       "      <td>4000</td>\n",
       "      <td>1</td>\n",
       "      <td>NTU</td>\n",
       "    </tr>\n",
       "    <tr>\n",
       "      <th>1</th>\n",
       "      <td>2013</td>\n",
       "      <td>Nanyang Technological University</td>\n",
       "      <td>College of Business (Nanyang Business School)</td>\n",
       "      <td>Accountancy</td>\n",
       "      <td>97.1</td>\n",
       "      <td>95.7</td>\n",
       "      <td>2850</td>\n",
       "      <td>2700</td>\n",
       "      <td>2938</td>\n",
       "      <td>2700</td>\n",
       "      <td>2700</td>\n",
       "      <td>2900</td>\n",
       "      <td>1</td>\n",
       "      <td>NTU</td>\n",
       "    </tr>\n",
       "  </tbody>\n",
       "</table>\n",
       "</div>"
      ],
      "text/plain": [
       "   year                        university  \\\n",
       "0  2013  Nanyang Technological University   \n",
       "1  2013  Nanyang Technological University   \n",
       "\n",
       "                                          school                    degree  \\\n",
       "0  College of Business (Nanyang Business School)  Accountancy and Business   \n",
       "1  College of Business (Nanyang Business School)               Accountancy   \n",
       "\n",
       "  employment_rate_overall employment_rate_ft_perm basic_monthly_mean  \\\n",
       "0                    97.4                    96.1               3701   \n",
       "1                    97.1                    95.7               2850   \n",
       "\n",
       "  basic_monthly_median gross_monthly_mean gross_monthly_median  \\\n",
       "0                 3200               3727                 3350   \n",
       "1                 2700               2938                 2700   \n",
       "\n",
       "  gross_mthly_25_percentile gross_mthly_75_percentile  include  uni  \n",
       "0                      2900                      4000        1  NTU  \n",
       "1                      2700                      2900        1  NTU  "
      ]
     },
     "execution_count": 220,
     "metadata": {},
     "output_type": "execute_result"
    }
   ],
   "source": [
    "ges_df.head(2)"
   ]
  },
  {
   "cell_type": "code",
   "execution_count": 221,
   "metadata": {},
   "outputs": [],
   "source": [
    "# Perform the joining\n",
    "ges_stats = ['employment_rate_overall',\n",
    "             'employment_rate_ft_perm', \n",
    "             'basic_monthly_mean', \n",
    "             'basic_monthly_median', \n",
    "             'gross_monthly_mean', \n",
    "             'gross_monthly_median', \n",
    "             'gross_mthly_25_percentile', \n",
    "             'gross_mthly_75_percentile']"
   ]
  },
  {
   "cell_type": "code",
   "execution_count": 222,
   "metadata": {},
   "outputs": [],
   "source": [
    "# Perform the merge. 'ges_course' in the mapping dataframe is the 'degree' name in \n",
    "# the GES table\n",
    "master_df_ges = master_df_igp.merge(ges_df[['uni', 'year', 'degree'] + ges_stats]\n",
    "                                    , left_on=('uni', 'year', 'ges_course')\n",
    "                                    , right_on = ('uni', 'year', 'degree')\n",
    "                                    , how='left')"
   ]
  },
  {
   "cell_type": "code",
   "execution_count": 223,
   "metadata": {},
   "outputs": [
    {
     "name": "stdout",
     "output_type": "stream",
     "text": [
      "There were 889 rows before merging\n",
      "After merging there are 889 rows\n"
     ]
    }
   ],
   "source": [
    "print(f\"There were {master_df_igp.shape[0]:,} rows before merging\")\n",
    "print(f\"After merging there are {master_df_ges.shape[0]:,} rows\")"
   ]
  },
  {
   "cell_type": "code",
   "execution_count": 225,
   "metadata": {},
   "outputs": [
    {
     "data": {
      "text/plain": [
       "Series([], dtype: int64)"
      ]
     },
     "execution_count": 225,
     "metadata": {},
     "output_type": "execute_result"
    }
   ],
   "source": [
    "master_df_ges.loc[(master_df_ges.degree.isna())\n",
    "                  & (~master_df_ges.ges_course.isna())].groupby(['uni', 'course']).size()"
   ]
  },
  {
   "cell_type": "markdown",
   "metadata": {},
   "source": [
    "Empty series. This means all the GES mappings are accounted for. Rows with GES information missing have no `ges_course` for that row, meaning there was no GES information available for that course that year. "
   ]
  },
  {
   "cell_type": "code",
   "execution_count": 230,
   "metadata": {},
   "outputs": [],
   "source": [
    "# convert the dtypes\n",
    "for col in ges_stats:\n",
    "    master_df_ges[col] = master_df_ges[col].astype(float)"
   ]
  },
  {
   "cell_type": "code",
   "execution_count": 231,
   "metadata": {},
   "outputs": [
    {
     "data": {
      "text/plain": [
       "employment_rate_overall      float64\n",
       "employment_rate_ft_perm      float64\n",
       "basic_monthly_mean           float64\n",
       "basic_monthly_median         float64\n",
       "gross_monthly_mean           float64\n",
       "gross_monthly_median         float64\n",
       "gross_mthly_25_percentile    float64\n",
       "gross_mthly_75_percentile    float64\n",
       "dtype: object"
      ]
     },
     "execution_count": 231,
     "metadata": {},
     "output_type": "execute_result"
    }
   ],
   "source": [
    "master_df_ges[ges_stats].dtypes"
   ]
  },
  {
   "cell_type": "code",
   "execution_count": 235,
   "metadata": {},
   "outputs": [],
   "source": [
    "# Reorganize columns\n",
    "colorder = ['uni', 'school', 'course', 'year', 'Places', 'GPA', 'RP'] + ges_stats + ['university']\n",
    "master_df_final = master_df_ges[colorder]"
   ]
  },
  {
   "cell_type": "code",
   "execution_count": 236,
   "metadata": {},
   "outputs": [
    {
     "data": {
      "text/html": [
       "<div>\n",
       "<style scoped>\n",
       "    .dataframe tbody tr th:only-of-type {\n",
       "        vertical-align: middle;\n",
       "    }\n",
       "\n",
       "    .dataframe tbody tr th {\n",
       "        vertical-align: top;\n",
       "    }\n",
       "\n",
       "    .dataframe thead th {\n",
       "        text-align: right;\n",
       "    }\n",
       "</style>\n",
       "<table border=\"1\" class=\"dataframe\">\n",
       "  <thead>\n",
       "    <tr style=\"text-align: right;\">\n",
       "      <th></th>\n",
       "      <th>uni</th>\n",
       "      <th>school</th>\n",
       "      <th>course</th>\n",
       "      <th>year</th>\n",
       "      <th>Places</th>\n",
       "      <th>GPA</th>\n",
       "      <th>RP</th>\n",
       "      <th>employment_rate_overall</th>\n",
       "      <th>employment_rate_ft_perm</th>\n",
       "      <th>basic_monthly_mean</th>\n",
       "      <th>basic_monthly_median</th>\n",
       "      <th>gross_monthly_mean</th>\n",
       "      <th>gross_monthly_median</th>\n",
       "      <th>gross_mthly_25_percentile</th>\n",
       "      <th>gross_mthly_75_percentile</th>\n",
       "      <th>university</th>\n",
       "    </tr>\n",
       "  </thead>\n",
       "  <tbody>\n",
       "    <tr>\n",
       "      <th>0</th>\n",
       "      <td>NUS</td>\n",
       "      <td>Faculty of Arts and Social Sciences</td>\n",
       "      <td>Arts</td>\n",
       "      <td>2013</td>\n",
       "      <td>1562</td>\n",
       "      <td>3.68</td>\n",
       "      <td>77.5</td>\n",
       "      <td>84.8</td>\n",
       "      <td>70.1</td>\n",
       "      <td>2741.0</td>\n",
       "      <td>2730.0</td>\n",
       "      <td>2888.0</td>\n",
       "      <td>2800.0</td>\n",
       "      <td>2500.0</td>\n",
       "      <td>3080.0</td>\n",
       "      <td>National University of Singapore</td>\n",
       "    </tr>\n",
       "  </tbody>\n",
       "</table>\n",
       "</div>"
      ],
      "text/plain": [
       "   uni                               school course  year Places   GPA    RP  \\\n",
       "0  NUS  Faculty of Arts and Social Sciences   Arts  2013   1562  3.68  77.5   \n",
       "\n",
       "   employment_rate_overall  employment_rate_ft_perm  basic_monthly_mean  \\\n",
       "0                     84.8                     70.1              2741.0   \n",
       "\n",
       "   basic_monthly_median  gross_monthly_mean  gross_monthly_median  \\\n",
       "0                2730.0              2888.0                2800.0   \n",
       "\n",
       "   gross_mthly_25_percentile  gross_mthly_75_percentile  \\\n",
       "0                     2500.0                     3080.0   \n",
       "\n",
       "                         university  \n",
       "0  National University of Singapore  "
      ]
     },
     "execution_count": 236,
     "metadata": {},
     "output_type": "execute_result"
    }
   ],
   "source": [
    "master_df_final.head(1)"
   ]
  },
  {
   "cell_type": "markdown",
   "metadata": {},
   "source": [
    "# Special GES treatment"
   ]
  },
  {
   "cell_type": "markdown",
   "metadata": {},
   "source": [
    "## NUS Data\n",
    "\n",
    "Pre-processing NUS data. \n",
    "\n",
    "For degrees with multiple GES results (e.g. *Nursing* has the GES records for Honours / **No** Honours), we take the the path <mark>with Honours only</mark>.\n",
    "\n"
   ]
  },
  {
   "cell_type": "code",
   "execution_count": 7,
   "metadata": {},
   "outputs": [],
   "source": [
    "# NUS Data\n",
    "nus_df=pd.read_excel(mappping_spreadsheet, sheet_name='NUS')"
   ]
  },
  {
   "cell_type": "code",
   "execution_count": 8,
   "metadata": {},
   "outputs": [],
   "source": [
    "# Courses to drop. These all have the hounours version\n",
    "drop_courses = [\n",
    "    'Arts'\n",
    "    , 'Science'\n",
    "    , 'Accountancy'\n",
    "    , 'Business Administration'\n",
    "    , 'Nursing'\n",
    "]"
   ]
  },
  {
   "cell_type": "code",
   "execution_count": 9,
   "metadata": {},
   "outputs": [
    {
     "data": {
      "text/html": [
       "<div>\n",
       "<style scoped>\n",
       "    .dataframe tbody tr th:only-of-type {\n",
       "        vertical-align: middle;\n",
       "    }\n",
       "\n",
       "    .dataframe tbody tr th {\n",
       "        vertical-align: top;\n",
       "    }\n",
       "\n",
       "    .dataframe thead th {\n",
       "        text-align: right;\n",
       "    }\n",
       "</style>\n",
       "<table border=\"1\" class=\"dataframe\">\n",
       "  <thead>\n",
       "    <tr style=\"text-align: right;\">\n",
       "      <th></th>\n",
       "      <th>select_course</th>\n",
       "      <th>year</th>\n",
       "      <th>igp_course</th>\n",
       "      <th>ges_course</th>\n",
       "    </tr>\n",
       "  </thead>\n",
       "  <tbody>\n",
       "    <tr>\n",
       "      <th>0</th>\n",
       "      <td>Arts</td>\n",
       "      <td>2013</td>\n",
       "      <td>Arts &amp; Social Sciences</td>\n",
       "      <td>Bachelor of Arts</td>\n",
       "    </tr>\n",
       "    <tr>\n",
       "      <th>1</th>\n",
       "      <td>Arts</td>\n",
       "      <td>2014</td>\n",
       "      <td>Arts &amp; Social Sciences</td>\n",
       "      <td>Bachelor of Arts</td>\n",
       "    </tr>\n",
       "    <tr>\n",
       "      <th>2</th>\n",
       "      <td>Arts</td>\n",
       "      <td>2015</td>\n",
       "      <td>Arts &amp; Social Sciences</td>\n",
       "      <td>Bachelor of Arts</td>\n",
       "    </tr>\n",
       "    <tr>\n",
       "      <th>3</th>\n",
       "      <td>Arts</td>\n",
       "      <td>2016</td>\n",
       "      <td>Arts &amp; Social Sciences</td>\n",
       "      <td>Bachelor of Arts</td>\n",
       "    </tr>\n",
       "    <tr>\n",
       "      <th>4</th>\n",
       "      <td>Arts</td>\n",
       "      <td>2017</td>\n",
       "      <td>Arts &amp; Social Sciences</td>\n",
       "      <td>Bachelor of Arts</td>\n",
       "    </tr>\n",
       "  </tbody>\n",
       "</table>\n",
       "</div>"
      ],
      "text/plain": [
       "  select_course  year              igp_course        ges_course\n",
       "0          Arts  2013  Arts & Social Sciences  Bachelor of Arts\n",
       "1          Arts  2014  Arts & Social Sciences  Bachelor of Arts\n",
       "2          Arts  2015  Arts & Social Sciences  Bachelor of Arts\n",
       "3          Arts  2016  Arts & Social Sciences  Bachelor of Arts\n",
       "4          Arts  2017  Arts & Social Sciences  Bachelor of Arts"
      ]
     },
     "execution_count": 9,
     "metadata": {},
     "output_type": "execute_result"
    }
   ],
   "source": [
    "nus_df.head()"
   ]
  },
  {
   "cell_type": "code",
   "execution_count": 10,
   "metadata": {},
   "outputs": [
    {
     "name": "stdout",
     "output_type": "stream",
     "text": [
      "Initially there are 35 unique coursesand 379 rows. \n",
      "After removal of specified courses thereare 30 unique coursesand 324 rows. \n"
     ]
    }
   ],
   "source": [
    "# Print Course Count & Row Count\n",
    "print(f\"Initially there are {nus_df.select_course.nunique():,} unique courses\"\\\n",
    "      f\"and {nus_df.shape[0]:,} rows. \")\n",
    "# Initially there are 35 unique coursesand 379 rows. \n",
    "\n",
    "# Remove the specified courses\n",
    "nus_df = nus_df.loc[~nus_df.select_course.isin(drop_courses)]\n",
    "\n",
    "# Re print Course Count & Row Count\n",
    "print(f\"After removal of specified courses there\"\\\n",
    "      f\"are {nus_df.select_course.nunique():,} unique courses\"\\\n",
    "      f\"and {nus_df.shape[0]:,} rows. \")\n",
    "# After removal of specified courses thereare 30 unique coursesand 324 rows. "
   ]
  },
  {
   "cell_type": "code",
   "execution_count": 11,
   "metadata": {},
   "outputs": [],
   "source": [
    "# Specify University\n",
    "nus_df['university']='National University of Singapore'"
   ]
  },
  {
   "cell_type": "markdown",
   "metadata": {},
   "source": [
    "## NTU Data\n",
    "\n",
    "No need to make any adjustments to this dataset since each degree corresponds to one GES outcome only. \n",
    "\n",
    "Add university name only. "
   ]
  },
  {
   "cell_type": "code",
   "execution_count": 13,
   "metadata": {},
   "outputs": [],
   "source": [
    "ntu_df = pd.read_excel(mappping_spreadsheet, sheet_name='NTU')"
   ]
  },
  {
   "cell_type": "code",
   "execution_count": 14,
   "metadata": {},
   "outputs": [],
   "source": [
    "# Specify University\n",
    "ntu_df['university']='Nanyang Technological University'"
   ]
  },
  {
   "cell_type": "markdown",
   "metadata": {},
   "source": []
  }
 ],
 "metadata": {
  "kernelspec": {
   "display_name": "GES_env",
   "language": "python",
   "name": "python3"
  },
  "language_info": {
   "codemirror_mode": {
    "name": "ipython",
    "version": 3
   },
   "file_extension": ".py",
   "mimetype": "text/x-python",
   "name": "python",
   "nbconvert_exporter": "python",
   "pygments_lexer": "ipython3",
   "version": "3.11.1"
  }
 },
 "nbformat": 4,
 "nbformat_minor": 2
}
