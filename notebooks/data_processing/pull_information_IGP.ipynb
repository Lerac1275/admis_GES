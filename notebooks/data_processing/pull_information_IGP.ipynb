{
 "cells": [
  {
   "cell_type": "code",
   "execution_count": 10,
   "metadata": {},
   "outputs": [],
   "source": [
    "from bs4 import BeautifulSoup\n",
    "import csv\n",
    "import requests, re\n",
    "import pandas as pd"
   ]
  },
  {
   "cell_type": "markdown",
   "metadata": {},
   "source": [
    "# Get Tables\n",
    "\n",
    "Get the HTML object of IGP score tables"
   ]
  },
  {
   "cell_type": "code",
   "execution_count": 11,
   "metadata": {},
   "outputs": [],
   "source": [
    "# igp_link = \"https://docs.google.com/spreadsheets/d/1MPEDZpw26TjN7dTsQzsbnXHZa47og0qSrdHrlT7nLKc/pubhtml#\"\n",
    "# html = requests.get(f\"{igp_link}\").text\n",
    "# soup = BeautifulSoup(html, \"html.parser\")\n",
    "# tables = soup.find_all(\"table\")\n",
    "# index = 0\n",
    "# # for table in tables:\n",
    "# #     with open(str(index) + \".csv\", \"w\") as f:\n",
    "# #         wr = csv.writer(f, quoting=csv.QUOTE_NONNUMERIC, lineterminator='\\n')\n",
    "# #         wr.writerows([[td.text for td in row.find_all(\"td\")] for row in table.find_all(\"tr\")])\n",
    "# #     index = index + 1\n"
   ]
  },
  {
   "cell_type": "markdown",
   "metadata": {},
   "source": [
    "# Extract IGP Data\n",
    "\n",
    "Extracting the raw IGP tables from the spreadsheet link"
   ]
  },
  {
   "cell_type": "code",
   "execution_count": 12,
   "metadata": {},
   "outputs": [],
   "source": [
    "# nus_igp_df = pd.read_html(str(tables[1]))\n",
    "# # Object returned is a list of dataframes with ONE element. Need to convert \n",
    "# nus_igp_df = nus_igp_df[0]"
   ]
  },
  {
   "cell_type": "code",
   "execution_count": 13,
   "metadata": {},
   "outputs": [],
   "source": [
    "# nus_igp_df.head()"
   ]
  },
  {
   "cell_type": "code",
   "execution_count": 14,
   "metadata": {},
   "outputs": [],
   "source": [
    "# ## NTU Table\n",
    "# ntu_igp_df = pd.read_html(str(tables[2]))\n",
    "# # Object returned is a list of dataframes with ONE element. Need to convert \n",
    "# ntu_igp_df = ntu_igp_df[0]"
   ]
  },
  {
   "cell_type": "code",
   "execution_count": 15,
   "metadata": {},
   "outputs": [],
   "source": [
    "# # SMU Table\n",
    "# smu_igp_df = pd.read_html(str(tables[3]))\n",
    "# # Object returned is a list of dataframes with ONE element. Need to convert \n",
    "# smu_igp_df = smu_igp_df[0]"
   ]
  },
  {
   "cell_type": "code",
   "execution_count": 16,
   "metadata": {},
   "outputs": [],
   "source": [
    "# # Dump all to /data/ folder. Will do adjustment in google sheets\n",
    "# nus_igp_df.to_csv(\"../data/raw_scraped/nus_igp_raw.csv\", index=False)\n",
    "# ntu_igp_df.to_csv(\"../data/raw_scraped/ntu_igp_raw.csv\", index=False)\n",
    "# smu_igp_df.to_csv(\"../data/raw_scraped/smu_igp_raw.csv\", index=False)"
   ]
  },
  {
   "cell_type": "markdown",
   "metadata": {},
   "source": [
    "# Pivoting\n",
    "\n",
    "Have uploaded the scraped tables above to google sheets and done the manual tidying up + removal of selected courses (e.g. those lacking sufficient data). \n",
    "\n",
    "Moving on to pivoting the data into a [**tidy format**](https://cran.r-project.org/web/packages/tidyr/vignettes/tidy-data.html). \n",
    "\n",
    "Ultimately each row should be indexed by the Course-AY, and each row should have the fields:\n",
    "- Faculty\n",
    "- RP (10th Percentile Rank Points)\n",
    "- GPA (10th Percentile GPA)\n",
    "- Places "
   ]
  },
  {
   "cell_type": "code",
   "execution_count": 18,
   "metadata": {},
   "outputs": [],
   "source": [
    "# Read in processed files\n",
    "ntu_processed = pd.read_excel(\"../../data/scraped_processed/ntu_igp_raw.xlsx\", \n",
    "sheet_name=0)\n",
    "nus_processed = pd.read_excel(\"../../data/scraped_processed/nus_igp_raw.xlsx\", sheet_name=0)\n",
    "smu_processed = pd.read_excel(\"../../data/scraped_processed/smu_igp_raw.xlsx\", sheet_name=0)\n",
    "\n",
    "# Drop the Course_old field. This field recorded the original course names as they appeared in the original spreadsheet. used for tracking changes\n",
    "ntu_processed.drop('Course_old', axis=1, inplace=True)\n",
    "smu_processed.drop('Course_old', axis=1, inplace=True)\n",
    "nus_processed.drop('Course_old', axis=1, inplace=True)"
   ]
  },
  {
   "cell_type": "code",
   "execution_count": 19,
   "metadata": {},
   "outputs": [],
   "source": [
    "# Toy Example\n",
    "tmp = smu_processed.loc[smu_processed.Course=='Accountancy']\n",
    "# Pivot Wide to long for yearly info\n",
    "tmp = pd.melt(tmp\n",
    "        , id_vars=['Course', 'Type']\n",
    "        , value_vars=tmp.columns.difference(['Course', 'Type'])\n",
    "        , value_name='value'\n",
    "        , var_name='AY'\n",
    "        )\n",
    "# Pivot Long to wide into tidy format\n",
    "tmp = tmp.pivot(index = ['Course', 'AY'], columns='Type', values='value')\n",
    "tmp.columns.name=None # Replace columnset name\n",
    "# tmp=tmp.reset_index()"
   ]
  },
  {
   "cell_type": "code",
   "execution_count": 20,
   "metadata": {},
   "outputs": [],
   "source": [
    "def pivot_processed(df, id_vars, pivot_index):\n",
    "    pivoted = df.copy()\n",
    "    pivoted = pd.melt(pivoted\n",
    "            , id_vars=id_vars\n",
    "            , value_vars=pivoted.columns.difference(id_vars)\n",
    "            , value_name='value'\n",
    "            , var_name='AY'\n",
    "            )\n",
    "    pivoted = pivoted.pivot(index = pivot_index, columns='Type', values='value')\n",
    "    pivoted.columns.name=None # Replace columnset name\n",
    "    return pivoted"
   ]
  },
  {
   "cell_type": "code",
   "execution_count": 21,
   "metadata": {},
   "outputs": [],
   "source": [
    "# Process for SMU\n",
    "smu_pivoted = pivot_processed(smu_processed, id_vars = ['Course', 'Type', 'Faculty'], pivot_index=['Faculty', 'Course', 'AY'])\n",
    "smu_pivoted=smu_pivoted.reset_index()\n",
    "# Process for NTU. Will have an additional faculty column\n",
    "ntu_pivoted = pivot_processed(ntu_processed, id_vars = ['Course', 'Type', 'Faculty'], pivot_index=['Faculty', 'Course', 'AY'])\n",
    "ntu_pivoted=ntu_pivoted.reset_index(drop=False)\n",
    "# Process for NUS. Will have an additional faculty column\n",
    "nus_pivoted = pivot_processed(nus_processed, id_vars = ['Course', 'Type', 'Faculty'], pivot_index=['Faculty', 'Course', 'AY'])\n",
    "nus_pivoted=nus_pivoted.reset_index(drop=False)"
   ]
  },
  {
   "cell_type": "code",
   "execution_count": 22,
   "metadata": {},
   "outputs": [
    {
     "data": {
      "text/html": [
       "<div>\n",
       "<style scoped>\n",
       "    .dataframe tbody tr th:only-of-type {\n",
       "        vertical-align: middle;\n",
       "    }\n",
       "\n",
       "    .dataframe tbody tr th {\n",
       "        vertical-align: top;\n",
       "    }\n",
       "\n",
       "    .dataframe thead th {\n",
       "        text-align: right;\n",
       "    }\n",
       "</style>\n",
       "<table border=\"1\" class=\"dataframe\">\n",
       "  <thead>\n",
       "    <tr style=\"text-align: right;\">\n",
       "      <th></th>\n",
       "      <th>Faculty</th>\n",
       "      <th>Course</th>\n",
       "      <th>AY</th>\n",
       "      <th>GPA</th>\n",
       "      <th>Places</th>\n",
       "      <th>RP</th>\n",
       "    </tr>\n",
       "  </thead>\n",
       "  <tbody>\n",
       "    <tr>\n",
       "      <th>0</th>\n",
       "      <td>College of Design &amp; Engineering</td>\n",
       "      <td>Architecture</td>\n",
       "      <td>2008/2009</td>\n",
       "      <td>#</td>\n",
       "      <td>171</td>\n",
       "      <td>BCC/C (70)</td>\n",
       "    </tr>\n",
       "    <tr>\n",
       "      <th>1</th>\n",
       "      <td>College of Design &amp; Engineering</td>\n",
       "      <td>Architecture</td>\n",
       "      <td>2009/2010</td>\n",
       "      <td>3.4</td>\n",
       "      <td>159</td>\n",
       "      <td>BBB/C (75)</td>\n",
       "    </tr>\n",
       "    <tr>\n",
       "      <th>2</th>\n",
       "      <td>College of Design &amp; Engineering</td>\n",
       "      <td>Architecture</td>\n",
       "      <td>2010/2011</td>\n",
       "      <td>3.42</td>\n",
       "      <td>148</td>\n",
       "      <td>BBB/B (76.25)</td>\n",
       "    </tr>\n",
       "    <tr>\n",
       "      <th>3</th>\n",
       "      <td>College of Design &amp; Engineering</td>\n",
       "      <td>Architecture</td>\n",
       "      <td>2011/2012</td>\n",
       "      <td>3.58</td>\n",
       "      <td>162</td>\n",
       "      <td>BBB/C (75)</td>\n",
       "    </tr>\n",
       "    <tr>\n",
       "      <th>4</th>\n",
       "      <td>College of Design &amp; Engineering</td>\n",
       "      <td>Architecture</td>\n",
       "      <td>2012/2013</td>\n",
       "      <td>3.83</td>\n",
       "      <td>135</td>\n",
       "      <td>ABB/B (78.75)</td>\n",
       "    </tr>\n",
       "  </tbody>\n",
       "</table>\n",
       "</div>"
      ],
      "text/plain": [
       "                           Faculty        Course         AY   GPA Places  \\\n",
       "0  College of Design & Engineering  Architecture  2008/2009     #    171   \n",
       "1  College of Design & Engineering  Architecture  2009/2010   3.4    159   \n",
       "2  College of Design & Engineering  Architecture  2010/2011  3.42    148   \n",
       "3  College of Design & Engineering  Architecture  2011/2012  3.58    162   \n",
       "4  College of Design & Engineering  Architecture  2012/2013  3.83    135   \n",
       "\n",
       "              RP  \n",
       "0     BCC/C (70)  \n",
       "1     BBB/C (75)  \n",
       "2  BBB/B (76.25)  \n",
       "3     BBB/C (75)  \n",
       "4  ABB/B (78.75)  "
      ]
     },
     "execution_count": 22,
     "metadata": {},
     "output_type": "execute_result"
    }
   ],
   "source": [
    "nus_pivoted.head()"
   ]
  },
  {
   "cell_type": "code",
   "execution_count": 23,
   "metadata": {},
   "outputs": [],
   "source": [
    "# Combine all the records and export\n",
    "nus_pivoted['University']='NUS'\n",
    "ntu_pivoted['University']='NTU'\n",
    "smu_pivoted['University']='SMU'\n",
    "\n",
    "master_pivoted = pd.concat([nus_pivoted, ntu_pivoted, smu_pivoted], ignore_index=True)\n",
    "master_pivoted['year'] = master_pivoted['AY'].str.extract(r\"^(\\d{4})\").astype(int)"
   ]
  },
  {
   "cell_type": "code",
   "execution_count": 26,
   "metadata": {},
   "outputs": [],
   "source": [
    "# Reorder Columns\n",
    "col_order=['University', 'Faculty', 'Course',  'year', 'GPA', 'Places', 'RP','AY']\n",
    "master_pivoted=master_pivoted[col_order]"
   ]
  },
  {
   "cell_type": "markdown",
   "metadata": {},
   "source": [
    "This is a pivoted and tidied up version of the IGP data"
   ]
  },
  {
   "cell_type": "code",
   "execution_count": 27,
   "metadata": {},
   "outputs": [
    {
     "data": {
      "text/html": [
       "<div>\n",
       "<style scoped>\n",
       "    .dataframe tbody tr th:only-of-type {\n",
       "        vertical-align: middle;\n",
       "    }\n",
       "\n",
       "    .dataframe tbody tr th {\n",
       "        vertical-align: top;\n",
       "    }\n",
       "\n",
       "    .dataframe thead th {\n",
       "        text-align: right;\n",
       "    }\n",
       "</style>\n",
       "<table border=\"1\" class=\"dataframe\">\n",
       "  <thead>\n",
       "    <tr style=\"text-align: right;\">\n",
       "      <th></th>\n",
       "      <th>University</th>\n",
       "      <th>Faculty</th>\n",
       "      <th>Course</th>\n",
       "      <th>year</th>\n",
       "      <th>GPA</th>\n",
       "      <th>Places</th>\n",
       "      <th>RP</th>\n",
       "      <th>AY</th>\n",
       "    </tr>\n",
       "  </thead>\n",
       "  <tbody>\n",
       "    <tr>\n",
       "      <th>0</th>\n",
       "      <td>NUS</td>\n",
       "      <td>College of Design &amp; Engineering</td>\n",
       "      <td>Architecture</td>\n",
       "      <td>2008</td>\n",
       "      <td>#</td>\n",
       "      <td>171</td>\n",
       "      <td>BCC/C (70)</td>\n",
       "      <td>2008/2009</td>\n",
       "    </tr>\n",
       "    <tr>\n",
       "      <th>1</th>\n",
       "      <td>NUS</td>\n",
       "      <td>College of Design &amp; Engineering</td>\n",
       "      <td>Architecture</td>\n",
       "      <td>2009</td>\n",
       "      <td>3.4</td>\n",
       "      <td>159</td>\n",
       "      <td>BBB/C (75)</td>\n",
       "      <td>2009/2010</td>\n",
       "    </tr>\n",
       "    <tr>\n",
       "      <th>2</th>\n",
       "      <td>NUS</td>\n",
       "      <td>College of Design &amp; Engineering</td>\n",
       "      <td>Architecture</td>\n",
       "      <td>2010</td>\n",
       "      <td>3.42</td>\n",
       "      <td>148</td>\n",
       "      <td>BBB/B (76.25)</td>\n",
       "      <td>2010/2011</td>\n",
       "    </tr>\n",
       "    <tr>\n",
       "      <th>3</th>\n",
       "      <td>NUS</td>\n",
       "      <td>College of Design &amp; Engineering</td>\n",
       "      <td>Architecture</td>\n",
       "      <td>2011</td>\n",
       "      <td>3.58</td>\n",
       "      <td>162</td>\n",
       "      <td>BBB/C (75)</td>\n",
       "      <td>2011/2012</td>\n",
       "    </tr>\n",
       "    <tr>\n",
       "      <th>4</th>\n",
       "      <td>NUS</td>\n",
       "      <td>College of Design &amp; Engineering</td>\n",
       "      <td>Architecture</td>\n",
       "      <td>2012</td>\n",
       "      <td>3.83</td>\n",
       "      <td>135</td>\n",
       "      <td>ABB/B (78.75)</td>\n",
       "      <td>2012/2013</td>\n",
       "    </tr>\n",
       "    <tr>\n",
       "      <th>5</th>\n",
       "      <td>NUS</td>\n",
       "      <td>College of Design &amp; Engineering</td>\n",
       "      <td>Architecture</td>\n",
       "      <td>2013</td>\n",
       "      <td>3.69</td>\n",
       "      <td>146</td>\n",
       "      <td>AAB/C (80)</td>\n",
       "      <td>2013/2014</td>\n",
       "    </tr>\n",
       "    <tr>\n",
       "      <th>6</th>\n",
       "      <td>NUS</td>\n",
       "      <td>College of Design &amp; Engineering</td>\n",
       "      <td>Architecture</td>\n",
       "      <td>2014</td>\n",
       "      <td>3.76</td>\n",
       "      <td>151</td>\n",
       "      <td>AAB/C (80)</td>\n",
       "      <td>2014/2015</td>\n",
       "    </tr>\n",
       "    <tr>\n",
       "      <th>7</th>\n",
       "      <td>NUS</td>\n",
       "      <td>College of Design &amp; Engineering</td>\n",
       "      <td>Architecture</td>\n",
       "      <td>2015</td>\n",
       "      <td>3.72</td>\n",
       "      <td>149</td>\n",
       "      <td>ABB/B (78.75)</td>\n",
       "      <td>2015/2016</td>\n",
       "    </tr>\n",
       "    <tr>\n",
       "      <th>8</th>\n",
       "      <td>NUS</td>\n",
       "      <td>College of Design &amp; Engineering</td>\n",
       "      <td>Architecture</td>\n",
       "      <td>2016</td>\n",
       "      <td>3.77</td>\n",
       "      <td>149</td>\n",
       "      <td>AAB/C (80)</td>\n",
       "      <td>2016/2017</td>\n",
       "    </tr>\n",
       "    <tr>\n",
       "      <th>9</th>\n",
       "      <td>NUS</td>\n",
       "      <td>College of Design &amp; Engineering</td>\n",
       "      <td>Architecture</td>\n",
       "      <td>2017</td>\n",
       "      <td>3.78</td>\n",
       "      <td>148</td>\n",
       "      <td>ABB/B (78.75)</td>\n",
       "      <td>2017/2018</td>\n",
       "    </tr>\n",
       "  </tbody>\n",
       "</table>\n",
       "</div>"
      ],
      "text/plain": [
       "  University                          Faculty        Course  year   GPA  \\\n",
       "0        NUS  College of Design & Engineering  Architecture  2008     #   \n",
       "1        NUS  College of Design & Engineering  Architecture  2009   3.4   \n",
       "2        NUS  College of Design & Engineering  Architecture  2010  3.42   \n",
       "3        NUS  College of Design & Engineering  Architecture  2011  3.58   \n",
       "4        NUS  College of Design & Engineering  Architecture  2012  3.83   \n",
       "5        NUS  College of Design & Engineering  Architecture  2013  3.69   \n",
       "6        NUS  College of Design & Engineering  Architecture  2014  3.76   \n",
       "7        NUS  College of Design & Engineering  Architecture  2015  3.72   \n",
       "8        NUS  College of Design & Engineering  Architecture  2016  3.77   \n",
       "9        NUS  College of Design & Engineering  Architecture  2017  3.78   \n",
       "\n",
       "  Places             RP         AY  \n",
       "0    171     BCC/C (70)  2008/2009  \n",
       "1    159     BBB/C (75)  2009/2010  \n",
       "2    148  BBB/B (76.25)  2010/2011  \n",
       "3    162     BBB/C (75)  2011/2012  \n",
       "4    135  ABB/B (78.75)  2012/2013  \n",
       "5    146     AAB/C (80)  2013/2014  \n",
       "6    151     AAB/C (80)  2014/2015  \n",
       "7    149  ABB/B (78.75)  2015/2016  \n",
       "8    149     AAB/C (80)  2016/2017  \n",
       "9    148  ABB/B (78.75)  2017/2018  "
      ]
     },
     "execution_count": 27,
     "metadata": {},
     "output_type": "execute_result"
    }
   ],
   "source": [
    "master_pivoted.head(10)"
   ]
  },
  {
   "cell_type": "code",
   "execution_count": 11,
   "metadata": {},
   "outputs": [],
   "source": [
    "# master_pivoted.to_excel(\"../data/igp_tidy.xlsx\", index=False)"
   ]
  },
  {
   "cell_type": "code",
   "execution_count": null,
   "metadata": {},
   "outputs": [],
   "source": []
  }
 ],
 "metadata": {
  "kernelspec": {
   "display_name": "ds_py3.9",
   "language": "python",
   "name": "python3"
  },
  "language_info": {
   "codemirror_mode": {
    "name": "ipython",
    "version": 3
   },
   "file_extension": ".py",
   "mimetype": "text/x-python",
   "name": "python",
   "nbconvert_exporter": "python",
   "pygments_lexer": "ipython3",
   "version": "3.11.1"
  }
 },
 "nbformat": 4,
 "nbformat_minor": 2
}
