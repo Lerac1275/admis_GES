{
 "cells": [
  {
   "cell_type": "code",
   "execution_count": 2,
   "metadata": {},
   "outputs": [],
   "source": [
    "import plotly.express as px\n",
    "import plotly.graph_objects as go\n",
    "import pandas as pd\n",
    "import numpy as np\n",
    "from dotenv import load_dotenv\n",
    "load_dotenv()\n",
    "import chart_studio.plotly as py\n",
    "import chart_studio.tools as tls\n",
    "import chart_studio\n",
    "import os\n"
   ]
  },
  {
   "cell_type": "code",
   "execution_count": 3,
   "metadata": {},
   "outputs": [],
   "source": [
    "# To embed charts in online article\n",
    "plotly_username = os.environ['plotly_username']\n",
    "plotly_apikey = os.environ['plotly_apikey']\n",
    "\n",
    "chart_studio.tools.set_credentials_file(username=plotly_username\n",
    "                                        , api_key=plotly_apikey)"
   ]
  },
  {
   "cell_type": "code",
   "execution_count": 4,
   "metadata": {},
   "outputs": [],
   "source": [
    "# Import data\n",
    "orig_df = pd.read_csv(\"../../data/graphing_table.csv\")\n",
    "\n",
    "# Generate summary rows # \n",
    "# Identify rows that are summary stats at the university level\n",
    "orig_df['summary_row'] = 0 \n",
    "\n",
    "# University level summaries\n",
    "for uni_tmp in orig_df.uni.unique().tolist():\n",
    "\n",
    "    # Filter for that uni, for records within the year range\n",
    "    tdf = orig_df.loc[(orig_df.uni == uni_tmp)]\n",
    "\n",
    "    # Aggregate relevant metrics\n",
    "    metrics = ['Places', 'GPA', 'RP',  'employment_rate_overall','employment_rate_ft_perm','basic_monthly_mean','basic_monthly_median','gross_monthly_mean','gross_monthly_median','gross_mthly_25_percentile','gross_mthly_75_percentile']\n",
    "    # 25th Percentile rows\n",
    "    uni_25th_pctile = tdf.groupby('year', as_index=False)[metrics].agg(lambda x: x.quantile(0.25))\n",
    "    uni_25th_pctile['uni'] = uni_tmp\n",
    "    uni_25th_pctile['course'] = f'{uni_tmp} 25th Percentile'\n",
    "    # Median Rows\n",
    "    uni_median = tdf.groupby('year', as_index=False)[metrics].agg(lambda x: x.quantile(0.5))\n",
    "    uni_median['uni'] = uni_tmp\n",
    "    uni_median['course'] = f'{uni_tmp} Median'\n",
    "    # 75th Percentile Rows\n",
    "    uni_75th_percentile = tdf.groupby('year', as_index=False)[metrics].agg(lambda x: x.quantile(0.75))\n",
    "    uni_75th_percentile['uni'] = uni_tmp\n",
    "    uni_75th_percentile['course'] = f'{uni_tmp} 75th Percentile'\n",
    "    stats_table = pd.concat([uni_median, uni_25th_pctile, uni_75th_percentile], ignore_index=True)\n",
    "    stats_table['summary_row'] = 1\n",
    "    # Join back to orig_df\n",
    "    orig_df = pd.concat([orig_df,stats_table], ignore_index=True)\n",
    "\n",
    "# Summary at the overall level\n",
    "uni_25th_pctile = orig_df.groupby('year', as_index=False)[metrics].agg(lambda x: x.quantile(0.25))\n",
    "uni_25th_pctile['uni'] = np.nan\n",
    "uni_25th_pctile['course'] = f'Overall 25th Percentile'\n",
    "# Median Rows\n",
    "uni_median = orig_df.groupby('year', as_index=False)[metrics].agg(lambda x: x.quantile(0.5))\n",
    "uni_median['uni'] = np.nan\n",
    "uni_median['course'] = f'Overall Median'\n",
    "# 75th Percentile Rows\n",
    "uni_75th_percentile = orig_df.groupby('year', as_index=False)[metrics].agg(lambda x: x.quantile(0.75))\n",
    "uni_75th_percentile['uni'] = np.nan\n",
    "uni_75th_percentile['course'] = f'Overall 75th Percentile'\n",
    "stats_table = pd.concat([uni_median, uni_25th_pctile, uni_75th_percentile], ignore_index=True)\n",
    "stats_table['summary_row'] = 1\n",
    "# Join back to orig_df\n",
    "orig_df = pd.concat([orig_df,stats_table], ignore_index=True)\n",
    "\n",
    "\n",
    "\n",
    "# track if a row is a course row or not\n",
    "orig_df['course_row'] = orig_df.summary_row.replace({0: 1, 1: 0 })"
   ]
  },
  {
   "cell_type": "markdown",
   "metadata": {},
   "source": [
    "# RP Scores\n",
    "\n",
    "Which degrees have become the most sought-after from 2017 compared to now? "
   ]
  },
  {
   "cell_type": "code",
   "execution_count": 5,
   "metadata": {},
   "outputs": [],
   "source": [
    "df = orig_df.copy()\n",
    "df = df.loc[(df.summary_row==0)]\n",
    "\n",
    "\n",
    "\n",
    "def calculate_RP_change(group):\n",
    "    # Find the earliest year with RP from 2017 onwards, or the next available year\n",
    "    year_orig = group['year'].min()\n",
    "    orig_RP = group[group['year'] == year_orig]['RP'].values[0]\n",
    "    \n",
    "    # Find the latest available year with RP\n",
    "    year_end = group['year'].max()\n",
    "    end_RP = group[group['year'] == year_end]['RP'].values[0]\n",
    "    \n",
    "    # Calculate RP change\n",
    "    RP_change = end_RP - orig_RP\n",
    "    \n",
    "    return pd.Series({\n",
    "        'year_orig': year_orig,\n",
    "        'orig_RP': orig_RP,\n",
    "        'year_end': year_end,\n",
    "        'end_RP': end_RP,\n",
    "        'RP_change': RP_change\n",
    "    })\n",
    "\n",
    "# Apply the function to the groupby object\n",
    "result_df = df.groupby(['uni', 'course'])[['uni','course', 'year', 'RP']].apply(calculate_RP_change).reset_index()\n",
    "\n",
    "# Sort by RP_change in descending order\n",
    "result_df = result_df.sort_values(by='RP_change', ascending=False)\n",
    "# Add the within-uni ranking\n",
    "result_df['uni_ranking']= result_df.groupby('uni')['RP_change'].rank(ascending=False, method='dense')\n",
    "\n"
   ]
  },
  {
   "cell_type": "code",
   "execution_count": 6,
   "metadata": {},
   "outputs": [
    {
     "data": {
      "text/html": [
       "<div>\n",
       "<style scoped>\n",
       "    .dataframe tbody tr th:only-of-type {\n",
       "        vertical-align: middle;\n",
       "    }\n",
       "\n",
       "    .dataframe tbody tr th {\n",
       "        vertical-align: top;\n",
       "    }\n",
       "\n",
       "    .dataframe thead th {\n",
       "        text-align: right;\n",
       "    }\n",
       "</style>\n",
       "<table border=\"1\" class=\"dataframe\">\n",
       "  <thead>\n",
       "    <tr style=\"text-align: right;\">\n",
       "      <th></th>\n",
       "      <th>mean_change</th>\n",
       "      <th>median_change</th>\n",
       "    </tr>\n",
       "    <tr>\n",
       "      <th>uni</th>\n",
       "      <th></th>\n",
       "      <th></th>\n",
       "    </tr>\n",
       "  </thead>\n",
       "  <tbody>\n",
       "    <tr>\n",
       "      <th>NTU</th>\n",
       "      <td>0.14</td>\n",
       "      <td>0.00</td>\n",
       "    </tr>\n",
       "    <tr>\n",
       "      <th>NUS</th>\n",
       "      <td>0.38</td>\n",
       "      <td>0.00</td>\n",
       "    </tr>\n",
       "    <tr>\n",
       "      <th>SMU</th>\n",
       "      <td>0.00</td>\n",
       "      <td>0.62</td>\n",
       "    </tr>\n",
       "  </tbody>\n",
       "</table>\n",
       "</div>"
      ],
      "text/plain": [
       "     mean_change  median_change\n",
       "uni                            \n",
       "NTU         0.14           0.00\n",
       "NUS         0.38           0.00\n",
       "SMU         0.00           0.62"
      ]
     },
     "execution_count": 6,
     "metadata": {},
     "output_type": "execute_result"
    }
   ],
   "source": [
    "# How much has the RP changed for each university?\n",
    "result_df.groupby('uni').agg(\n",
    "    mean_change = pd.NamedAgg(column='RP_change', aggfunc='mean')\n",
    "    ,median_change = pd.NamedAgg(column='RP_change', aggfunc='median')\n",
    ").round(2)"
   ]
  },
  {
   "cell_type": "code",
   "execution_count": 7,
   "metadata": {},
   "outputs": [
    {
     "data": {
      "text/html": [
       "<div>\n",
       "<style scoped>\n",
       "    .dataframe tbody tr th:only-of-type {\n",
       "        vertical-align: middle;\n",
       "    }\n",
       "\n",
       "    .dataframe tbody tr th {\n",
       "        vertical-align: top;\n",
       "    }\n",
       "\n",
       "    .dataframe thead th {\n",
       "        text-align: right;\n",
       "    }\n",
       "</style>\n",
       "<table border=\"1\" class=\"dataframe\">\n",
       "  <thead>\n",
       "    <tr style=\"text-align: right;\">\n",
       "      <th></th>\n",
       "      <th></th>\n",
       "      <th>course</th>\n",
       "      <th>year_orig</th>\n",
       "      <th>orig_RP</th>\n",
       "      <th>year_end</th>\n",
       "      <th>end_RP</th>\n",
       "      <th>RP_change</th>\n",
       "    </tr>\n",
       "    <tr>\n",
       "      <th>uni</th>\n",
       "      <th>uni_ranking</th>\n",
       "      <th></th>\n",
       "      <th></th>\n",
       "      <th></th>\n",
       "      <th></th>\n",
       "      <th></th>\n",
       "      <th></th>\n",
       "    </tr>\n",
       "  </thead>\n",
       "  <tbody>\n",
       "    <tr>\n",
       "      <th rowspan=\"5\" valign=\"top\">NTU</th>\n",
       "      <th>1.0</th>\n",
       "      <td>Computer Science</td>\n",
       "      <td>2013.0</td>\n",
       "      <td>68.75</td>\n",
       "      <td>2023.0</td>\n",
       "      <td>80.00</td>\n",
       "      <td>11.25</td>\n",
       "    </tr>\n",
       "    <tr>\n",
       "      <th>2.0</th>\n",
       "      <td>Art, Design and Media</td>\n",
       "      <td>2013.0</td>\n",
       "      <td>62.50</td>\n",
       "      <td>2023.0</td>\n",
       "      <td>72.50</td>\n",
       "      <td>10.00</td>\n",
       "    </tr>\n",
       "    <tr>\n",
       "      <th>3.0</th>\n",
       "      <td>Public Policy and Global Affairs</td>\n",
       "      <td>2013.0</td>\n",
       "      <td>73.75</td>\n",
       "      <td>2023.0</td>\n",
       "      <td>81.25</td>\n",
       "      <td>7.50</td>\n",
       "    </tr>\n",
       "    <tr>\n",
       "      <th>4.0</th>\n",
       "      <td>Computer Engineering</td>\n",
       "      <td>2013.0</td>\n",
       "      <td>68.75</td>\n",
       "      <td>2023.0</td>\n",
       "      <td>75.00</td>\n",
       "      <td>6.25</td>\n",
       "    </tr>\n",
       "    <tr>\n",
       "      <th>5.0</th>\n",
       "      <td>Biological Sciences</td>\n",
       "      <td>2013.0</td>\n",
       "      <td>73.75</td>\n",
       "      <td>2023.0</td>\n",
       "      <td>78.75</td>\n",
       "      <td>5.00</td>\n",
       "    </tr>\n",
       "    <tr>\n",
       "      <th rowspan=\"7\" valign=\"top\">NUS</th>\n",
       "      <th>1.0</th>\n",
       "      <td>Computer Science</td>\n",
       "      <td>2013.0</td>\n",
       "      <td>75.00</td>\n",
       "      <td>2023.0</td>\n",
       "      <td>85.00</td>\n",
       "      <td>10.00</td>\n",
       "    </tr>\n",
       "    <tr>\n",
       "      <th>2.0</th>\n",
       "      <td>Computer Engineering</td>\n",
       "      <td>2013.0</td>\n",
       "      <td>71.25</td>\n",
       "      <td>2023.0</td>\n",
       "      <td>80.00</td>\n",
       "      <td>8.75</td>\n",
       "    </tr>\n",
       "    <tr>\n",
       "      <th>3.0</th>\n",
       "      <td>Science (Hons)</td>\n",
       "      <td>2013.0</td>\n",
       "      <td>73.75</td>\n",
       "      <td>2023.0</td>\n",
       "      <td>78.75</td>\n",
       "      <td>5.00</td>\n",
       "    </tr>\n",
       "    <tr>\n",
       "      <th>4.0</th>\n",
       "      <td>Industrial Design</td>\n",
       "      <td>2013.0</td>\n",
       "      <td>75.00</td>\n",
       "      <td>2023.0</td>\n",
       "      <td>78.75</td>\n",
       "      <td>3.75</td>\n",
       "    </tr>\n",
       "    <tr>\n",
       "      <th>4.0</th>\n",
       "      <td>Business Analytics</td>\n",
       "      <td>2013.0</td>\n",
       "      <td>81.25</td>\n",
       "      <td>2023.0</td>\n",
       "      <td>85.00</td>\n",
       "      <td>3.75</td>\n",
       "    </tr>\n",
       "    <tr>\n",
       "      <th>4.0</th>\n",
       "      <td>Information Systems</td>\n",
       "      <td>2013.0</td>\n",
       "      <td>81.25</td>\n",
       "      <td>2023.0</td>\n",
       "      <td>85.00</td>\n",
       "      <td>3.75</td>\n",
       "    </tr>\n",
       "    <tr>\n",
       "      <th>5.0</th>\n",
       "      <td>Environmental Studies</td>\n",
       "      <td>2013.0</td>\n",
       "      <td>81.25</td>\n",
       "      <td>2023.0</td>\n",
       "      <td>83.75</td>\n",
       "      <td>2.50</td>\n",
       "    </tr>\n",
       "    <tr>\n",
       "      <th rowspan=\"5\" valign=\"top\">SMU</th>\n",
       "      <th>1.0</th>\n",
       "      <td>Information Systems</td>\n",
       "      <td>2013.0</td>\n",
       "      <td>70.00</td>\n",
       "      <td>2023.0</td>\n",
       "      <td>75.00</td>\n",
       "      <td>5.00</td>\n",
       "    </tr>\n",
       "    <tr>\n",
       "      <th>2.0</th>\n",
       "      <td>Social Sciences</td>\n",
       "      <td>2013.0</td>\n",
       "      <td>72.50</td>\n",
       "      <td>2023.0</td>\n",
       "      <td>75.00</td>\n",
       "      <td>2.50</td>\n",
       "    </tr>\n",
       "    <tr>\n",
       "      <th>3.0</th>\n",
       "      <td>Economics</td>\n",
       "      <td>2013.0</td>\n",
       "      <td>72.50</td>\n",
       "      <td>2023.0</td>\n",
       "      <td>73.75</td>\n",
       "      <td>1.25</td>\n",
       "    </tr>\n",
       "    <tr>\n",
       "      <th>4.0</th>\n",
       "      <td>Law</td>\n",
       "      <td>2013.0</td>\n",
       "      <td>85.00</td>\n",
       "      <td>2023.0</td>\n",
       "      <td>85.00</td>\n",
       "      <td>0.00</td>\n",
       "    </tr>\n",
       "    <tr>\n",
       "      <th>5.0</th>\n",
       "      <td>Business Management</td>\n",
       "      <td>2013.0</td>\n",
       "      <td>76.25</td>\n",
       "      <td>2023.0</td>\n",
       "      <td>75.00</td>\n",
       "      <td>-1.25</td>\n",
       "    </tr>\n",
       "  </tbody>\n",
       "</table>\n",
       "</div>"
      ],
      "text/plain": [
       "                                           course  year_orig  orig_RP  \\\n",
       "uni uni_ranking                                                         \n",
       "NTU 1.0                          Computer Science     2013.0    68.75   \n",
       "    2.0                     Art, Design and Media     2013.0    62.50   \n",
       "    3.0          Public Policy and Global Affairs     2013.0    73.75   \n",
       "    4.0                      Computer Engineering     2013.0    68.75   \n",
       "    5.0                       Biological Sciences     2013.0    73.75   \n",
       "NUS 1.0                          Computer Science     2013.0    75.00   \n",
       "    2.0                      Computer Engineering     2013.0    71.25   \n",
       "    3.0                            Science (Hons)     2013.0    73.75   \n",
       "    4.0                         Industrial Design     2013.0    75.00   \n",
       "    4.0                        Business Analytics     2013.0    81.25   \n",
       "    4.0                       Information Systems     2013.0    81.25   \n",
       "    5.0                     Environmental Studies     2013.0    81.25   \n",
       "SMU 1.0                       Information Systems     2013.0    70.00   \n",
       "    2.0                           Social Sciences     2013.0    72.50   \n",
       "    3.0                                 Economics     2013.0    72.50   \n",
       "    4.0                                       Law     2013.0    85.00   \n",
       "    5.0                       Business Management     2013.0    76.25   \n",
       "\n",
       "                 year_end  end_RP  RP_change  \n",
       "uni uni_ranking                               \n",
       "NTU 1.0            2023.0   80.00      11.25  \n",
       "    2.0            2023.0   72.50      10.00  \n",
       "    3.0            2023.0   81.25       7.50  \n",
       "    4.0            2023.0   75.00       6.25  \n",
       "    5.0            2023.0   78.75       5.00  \n",
       "NUS 1.0            2023.0   85.00      10.00  \n",
       "    2.0            2023.0   80.00       8.75  \n",
       "    3.0            2023.0   78.75       5.00  \n",
       "    4.0            2023.0   78.75       3.75  \n",
       "    4.0            2023.0   85.00       3.75  \n",
       "    4.0            2023.0   85.00       3.75  \n",
       "    5.0            2023.0   83.75       2.50  \n",
       "SMU 1.0            2023.0   75.00       5.00  \n",
       "    2.0            2023.0   75.00       2.50  \n",
       "    3.0            2023.0   73.75       1.25  \n",
       "    4.0            2023.0   85.00       0.00  \n",
       "    5.0            2023.0   75.00      -1.25  "
      ]
     },
     "execution_count": 7,
     "metadata": {},
     "output_type": "execute_result"
    }
   ],
   "source": [
    "metric = 'uni_ranking'\n",
    "result_df.loc[(result_df.uni_ranking<=5)].sort_values(['uni',metric], ascending=True)\\\n",
    "    .set_index(['uni',metric])"
   ]
  },
  {
   "cell_type": "code",
   "execution_count": 8,
   "metadata": {},
   "outputs": [
    {
     "data": {
      "text/html": [
       "<div>\n",
       "<style scoped>\n",
       "    .dataframe tbody tr th:only-of-type {\n",
       "        vertical-align: middle;\n",
       "    }\n",
       "\n",
       "    .dataframe tbody tr th {\n",
       "        vertical-align: top;\n",
       "    }\n",
       "\n",
       "    .dataframe thead th {\n",
       "        text-align: right;\n",
       "    }\n",
       "</style>\n",
       "<table border=\"1\" class=\"dataframe\">\n",
       "  <thead>\n",
       "    <tr style=\"text-align: right;\">\n",
       "      <th></th>\n",
       "      <th></th>\n",
       "      <th>course</th>\n",
       "      <th>year_orig</th>\n",
       "      <th>orig_RP</th>\n",
       "      <th>year_end</th>\n",
       "      <th>end_RP</th>\n",
       "      <th>uni_ranking</th>\n",
       "    </tr>\n",
       "    <tr>\n",
       "      <th>uni</th>\n",
       "      <th>RP_change</th>\n",
       "      <th></th>\n",
       "      <th></th>\n",
       "      <th></th>\n",
       "      <th></th>\n",
       "      <th></th>\n",
       "      <th></th>\n",
       "    </tr>\n",
       "  </thead>\n",
       "  <tbody>\n",
       "    <tr>\n",
       "      <th rowspan=\"5\" valign=\"top\">NTU</th>\n",
       "      <th>-13.75</th>\n",
       "      <td>Aerospace Engineering</td>\n",
       "      <td>2013.0</td>\n",
       "      <td>81.25</td>\n",
       "      <td>2023.0</td>\n",
       "      <td>67.50</td>\n",
       "      <td>16.0</td>\n",
       "    </tr>\n",
       "    <tr>\n",
       "      <th>-11.25</th>\n",
       "      <td>Chemical and Biomolecular Engineering</td>\n",
       "      <td>2013.0</td>\n",
       "      <td>81.25</td>\n",
       "      <td>2023.0</td>\n",
       "      <td>70.00</td>\n",
       "      <td>15.0</td>\n",
       "    </tr>\n",
       "    <tr>\n",
       "      <th>-10.00</th>\n",
       "      <td>Accountancy</td>\n",
       "      <td>2013.0</td>\n",
       "      <td>82.50</td>\n",
       "      <td>2023.0</td>\n",
       "      <td>72.50</td>\n",
       "      <td>14.0</td>\n",
       "    </tr>\n",
       "    <tr>\n",
       "      <th>-6.25</th>\n",
       "      <td>Business</td>\n",
       "      <td>2013.0</td>\n",
       "      <td>80.00</td>\n",
       "      <td>2023.0</td>\n",
       "      <td>73.75</td>\n",
       "      <td>13.0</td>\n",
       "    </tr>\n",
       "    <tr>\n",
       "      <th>-6.25</th>\n",
       "      <td>Maritime Studies</td>\n",
       "      <td>2013.0</td>\n",
       "      <td>75.00</td>\n",
       "      <td>2023.0</td>\n",
       "      <td>68.75</td>\n",
       "      <td>13.0</td>\n",
       "    </tr>\n",
       "    <tr>\n",
       "      <th>...</th>\n",
       "      <th>...</th>\n",
       "      <td>...</td>\n",
       "      <td>...</td>\n",
       "      <td>...</td>\n",
       "      <td>...</td>\n",
       "      <td>...</td>\n",
       "      <td>...</td>\n",
       "    </tr>\n",
       "    <tr>\n",
       "      <th rowspan=\"5\" valign=\"top\">SMU</th>\n",
       "      <th>-1.25</th>\n",
       "      <td>Business Management</td>\n",
       "      <td>2013.0</td>\n",
       "      <td>76.25</td>\n",
       "      <td>2023.0</td>\n",
       "      <td>75.00</td>\n",
       "      <td>5.0</td>\n",
       "    </tr>\n",
       "    <tr>\n",
       "      <th>0.00</th>\n",
       "      <td>Law</td>\n",
       "      <td>2013.0</td>\n",
       "      <td>85.00</td>\n",
       "      <td>2023.0</td>\n",
       "      <td>85.00</td>\n",
       "      <td>4.0</td>\n",
       "    </tr>\n",
       "    <tr>\n",
       "      <th>1.25</th>\n",
       "      <td>Economics</td>\n",
       "      <td>2013.0</td>\n",
       "      <td>72.50</td>\n",
       "      <td>2023.0</td>\n",
       "      <td>73.75</td>\n",
       "      <td>3.0</td>\n",
       "    </tr>\n",
       "    <tr>\n",
       "      <th>2.50</th>\n",
       "      <td>Social Sciences</td>\n",
       "      <td>2013.0</td>\n",
       "      <td>72.50</td>\n",
       "      <td>2023.0</td>\n",
       "      <td>75.00</td>\n",
       "      <td>2.0</td>\n",
       "    </tr>\n",
       "    <tr>\n",
       "      <th>5.00</th>\n",
       "      <td>Information Systems</td>\n",
       "      <td>2013.0</td>\n",
       "      <td>70.00</td>\n",
       "      <td>2023.0</td>\n",
       "      <td>75.00</td>\n",
       "      <td>1.0</td>\n",
       "    </tr>\n",
       "  </tbody>\n",
       "</table>\n",
       "<p>71 rows × 6 columns</p>\n",
       "</div>"
      ],
      "text/plain": [
       "                                              course  year_orig  orig_RP  \\\n",
       "uni RP_change                                                              \n",
       "NTU -13.75                     Aerospace Engineering     2013.0    81.25   \n",
       "    -11.25     Chemical and Biomolecular Engineering     2013.0    81.25   \n",
       "    -10.00                               Accountancy     2013.0    82.50   \n",
       "    -6.25                                   Business     2013.0    80.00   \n",
       "    -6.25                           Maritime Studies     2013.0    75.00   \n",
       "...                                              ...        ...      ...   \n",
       "SMU -1.25                        Business Management     2013.0    76.25   \n",
       "     0.00                                        Law     2013.0    85.00   \n",
       "     1.25                                  Economics     2013.0    72.50   \n",
       "     2.50                            Social Sciences     2013.0    72.50   \n",
       "     5.00                        Information Systems     2013.0    70.00   \n",
       "\n",
       "               year_end  end_RP  uni_ranking  \n",
       "uni RP_change                                 \n",
       "NTU -13.75       2023.0   67.50         16.0  \n",
       "    -11.25       2023.0   70.00         15.0  \n",
       "    -10.00       2023.0   72.50         14.0  \n",
       "    -6.25        2023.0   73.75         13.0  \n",
       "    -6.25        2023.0   68.75         13.0  \n",
       "...                 ...     ...          ...  \n",
       "SMU -1.25        2023.0   75.00          5.0  \n",
       "     0.00        2023.0   85.00          4.0  \n",
       "     1.25        2023.0   73.75          3.0  \n",
       "     2.50        2023.0   75.00          2.0  \n",
       "     5.00        2023.0   75.00          1.0  \n",
       "\n",
       "[71 rows x 6 columns]"
      ]
     },
     "execution_count": 8,
     "metadata": {},
     "output_type": "execute_result"
    }
   ],
   "source": [
    "metric = 'RP_change'\n",
    "result_df.sort_values(['uni',metric], ascending=True)\\\n",
    "    .set_index(['uni',metric])"
   ]
  },
  {
   "cell_type": "markdown",
   "metadata": {},
   "source": [
    "A common pattern emerges. In all three universities, tech-related degrees are becoming increasingly popular. The course with the greatest rise in admissions criteria is tech related in all 3 universities. "
   ]
  },
  {
   "cell_type": "markdown",
   "metadata": {},
   "source": [
    "# Tech Salaries\n",
    "\n",
    "The driving force behind this surge in popularity are the lucrative job prospects undergraduates hope await them upon graduation. "
   ]
  },
  {
   "cell_type": "code",
   "execution_count": 9,
   "metadata": {},
   "outputs": [],
   "source": [
    "tech_degrees= {\n",
    "    'NUS': ['Data Science and Analytics', 'Business Analytics', 'Computer Science', 'Computer Engineering', 'Information Security', 'Information Systems']\n",
    "    , 'NTU': ['Computer Engineering', 'Computer Science', 'Data Science & Artificial Intelligence']\n",
    "    , 'SMU': ['Information Systems']\n",
    "}"
   ]
  },
  {
   "cell_type": "code",
   "execution_count": 10,
   "metadata": {},
   "outputs": [
    {
     "data": {
      "application/vnd.plotly.v1+json": {
       "config": {
        "plotlyServerURL": "https://plotly.com"
       },
       "data": [
        {
         "line": {
          "color": "black",
          "dash": "dash"
         },
         "mode": "lines",
         "name": "Overall Median",
         "type": "scatter",
         "x": [
          2013,
          2014,
          2015,
          2016,
          2017,
          2018,
          2019,
          2020,
          2021,
          2022,
          2023
         ],
         "y": [
          3.1,
          3.204,
          3.3,
          3.4,
          3.4345,
          3.5,
          3.6,
          3.7,
          3.79,
          4.2,
          4.2
         ]
        },
        {
         "line": {
          "color": "red",
          "dash": "dash"
         },
         "mode": "lines",
         "name": "Tech Degree Median",
         "type": "scatter",
         "x": [
          2013,
          2014,
          2015,
          2016,
          2017,
          2018,
          2019,
          2020,
          2021,
          2022,
          2023
         ],
         "y": [
          3.1875,
          3.45,
          3.525,
          3.75,
          4,
          4,
          4.228,
          4.542,
          5,
          5.5,
          5.45
         ]
        },
        {
         "hovertemplate": "SMU<br>Information Systems<br>Salary: %{y:.2f}K",
         "marker": {
          "color": "#FF6173",
          "opacity": 0.7
         },
         "mode": "markers",
         "name": "Tech Degree",
         "showlegend": true,
         "type": "scatter",
         "x": [
          2023,
          2022,
          2021,
          2020,
          2019,
          2018,
          2017,
          2016,
          2015,
          2014,
          2013
         ],
         "y": [
          5.4,
          5.4,
          5,
          4.542,
          4.3,
          4,
          4,
          3.6,
          3.5,
          3.35,
          3.3
         ]
        },
        {
         "hovertemplate": "SMU<br>Accountancy<br>Salary: %{y:.2f}K",
         "marker": {
          "color": "grey",
          "opacity": 0.7
         },
         "mode": "markers",
         "name": "Non-Tech Degree",
         "showlegend": true,
         "type": "scatter",
         "x": [
          2013,
          2014,
          2015,
          2016,
          2017,
          2018,
          2019,
          2020,
          2021,
          2022,
          2023
         ],
         "y": [
          2.825,
          2.875,
          3,
          3,
          3,
          3,
          3.05,
          3.1,
          3.4,
          3.825,
          3.9
         ]
        },
        {
         "hovertemplate": "SMU<br>Business Management<br>Salary: %{y:.2f}K",
         "marker": {
          "color": "grey",
          "opacity": 0.7
         },
         "mode": "markers",
         "name": "Non-Tech Degree",
         "showlegend": false,
         "type": "scatter",
         "x": [
          2013,
          2014,
          2015,
          2016,
          2017,
          2018,
          2019,
          2020,
          2021,
          2022,
          2023
         ],
         "y": [
          3.2,
          3.333,
          3.3,
          3.5,
          3.5,
          3.7,
          3.75,
          3.85,
          4,
          4.4,
          4.436
         ]
        },
        {
         "hovertemplate": "SMU<br>Economics<br>Salary: %{y:.2f}K",
         "marker": {
          "color": "grey",
          "opacity": 0.7
         },
         "mode": "markers",
         "name": "Non-Tech Degree",
         "showlegend": false,
         "type": "scatter",
         "x": [
          2013,
          2014,
          2015,
          2016,
          2017,
          2018,
          2019,
          2020,
          2021,
          2022,
          2023
         ],
         "y": [
          3.339,
          3.5,
          3.5,
          3.7,
          3.7,
          3.7,
          3.9,
          3.8,
          4.435,
          4.5,
          4.5
         ]
        },
        {
         "hovertemplate": "SMU<br>Social Sciences<br>Salary: %{y:.2f}K",
         "marker": {
          "color": "grey",
          "opacity": 0.7
         },
         "mode": "markers",
         "name": "Non-Tech Degree",
         "showlegend": false,
         "type": "scatter",
         "x": [
          2013,
          2014,
          2015,
          2016,
          2017,
          2018,
          2019,
          2020,
          2021,
          2022,
          2023
         ],
         "y": [
          3,
          3,
          3.2,
          3.145,
          3.3,
          3.21,
          3.5,
          3.5,
          3.6,
          4,
          4
         ]
        },
        {
         "hovertemplate": "SMU<br>Law<br>Salary: %{y:.2f}K",
         "marker": {
          "color": "grey",
          "opacity": 0.7
         },
         "mode": "markers",
         "name": "Non-Tech Degree",
         "showlegend": false,
         "type": "scatter",
         "x": [
          2013,
          2014,
          2015,
          2016,
          2017,
          2018,
          2019,
          2020,
          2021,
          2022,
          2023
         ],
         "y": [
          5,
          5.025,
          4.731,
          4.85,
          5,
          4.5,
          4.9,
          4.588,
          5.6,
          6.375,
          7
         ]
        },
        {
         "hovertemplate": "NTU<br>Data Science & Artificial Intelligence<br>Salary: %{y:.2f}K",
         "marker": {
          "color": "#FF6173",
          "opacity": 0.7
         },
         "mode": "markers",
         "name": "Tech Degree",
         "showlegend": false,
         "type": "scatter",
         "x": [
          2023,
          2022,
          2021,
          2020,
          2019,
          2018
         ],
         "y": [
          5.25,
          5.625,
          null,
          null,
          null,
          null
         ]
        },
        {
         "hovertemplate": "NTU<br>Computer Science<br>Salary: %{y:.2f}K",
         "marker": {
          "color": "#FF6173",
          "opacity": 0.7
         },
         "mode": "markers",
         "name": "Tech Degree",
         "showlegend": false,
         "type": "scatter",
         "x": [
          2023,
          2022,
          2021,
          2020,
          2019,
          2018,
          2017,
          2016,
          2015,
          2014,
          2013
         ],
         "y": [
          5.2,
          5.5,
          4.8,
          4.3,
          4.2,
          4,
          3.85,
          3.5,
          3.3,
          3.2,
          3.125
         ]
        },
        {
         "hovertemplate": "NTU<br>Computer Engineering<br>Salary: %{y:.2f}K",
         "marker": {
          "color": "#FF6173",
          "opacity": 0.7
         },
         "mode": "markers",
         "name": "Tech Degree",
         "showlegend": false,
         "type": "scatter",
         "x": [
          2023,
          2022,
          2021,
          2020,
          2019,
          2018,
          2017,
          2016,
          2015,
          2014,
          2013
         ],
         "y": [
          5.4,
          5.295,
          4.5,
          4.1,
          4,
          3.775,
          3.6,
          3.5,
          3.5,
          3.4,
          3.175
         ]
        },
        {
         "hovertemplate": "NTU<br>Accountancy<br>Salary: %{y:.2f}K",
         "marker": {
          "color": "grey",
          "opacity": 0.7
         },
         "mode": "markers",
         "name": "Non-Tech Degree",
         "showlegend": false,
         "type": "scatter",
         "x": [
          2013,
          2014,
          2015,
          2016,
          2017,
          2018,
          2019,
          2020,
          2021,
          2022,
          2023
         ],
         "y": [
          2.7,
          2.84,
          2.875,
          2.9,
          3,
          3,
          3,
          3,
          3.4,
          3.6,
          3.6
         ]
        },
        {
         "hovertemplate": "NTU<br>Business<br>Salary: %{y:.2f}K",
         "marker": {
          "color": "grey",
          "opacity": 0.7
         },
         "mode": "markers",
         "name": "Non-Tech Degree",
         "showlegend": false,
         "type": "scatter",
         "x": [
          2013,
          2014,
          2015,
          2016,
          2017,
          2018,
          2019,
          2020,
          2021,
          2022,
          2023
         ],
         "y": [
          3,
          3.1,
          3.2,
          3.3,
          3.3,
          3.5,
          3.6,
          3.8,
          4,
          4.015,
          4.255
         ]
        },
        {
         "hovertemplate": "NTU<br>Aerospace Engineering<br>Salary: %{y:.2f}K",
         "marker": {
          "color": "grey",
          "opacity": 0.7
         },
         "mode": "markers",
         "name": "Non-Tech Degree",
         "showlegend": false,
         "type": "scatter",
         "x": [
          2013,
          2014,
          2015,
          2016,
          2017,
          2018,
          2019,
          2020,
          2021,
          2022,
          2023
         ],
         "y": [
          3.5,
          3.77,
          3.7,
          3.675,
          3.5,
          3.8,
          3.8,
          4,
          4.471,
          5,
          4.763
         ]
        },
        {
         "hovertemplate": "NTU<br>Bioengineering<br>Salary: %{y:.2f}K",
         "marker": {
          "color": "grey",
          "opacity": 0.7
         },
         "mode": "markers",
         "name": "Non-Tech Degree",
         "showlegend": false,
         "type": "scatter",
         "x": [
          2013,
          2014,
          2015,
          2016,
          2017,
          2018,
          2019,
          2020,
          2021,
          2022,
          2023
         ],
         "y": [
          3.125,
          3,
          3.113,
          3.237,
          3.419,
          3.5,
          3.5,
          3.45,
          3.5,
          4.2,
          4.043
         ]
        },
        {
         "hovertemplate": "NTU<br>Chemical and Biomolecular Engineering<br>Salary: %{y:.2f}K",
         "marker": {
          "color": "grey",
          "opacity": 0.7
         },
         "mode": "markers",
         "name": "Non-Tech Degree",
         "showlegend": false,
         "type": "scatter",
         "x": [
          2013,
          2014,
          2015,
          2016,
          2017,
          2018,
          2019,
          2020,
          2021,
          2022,
          2023
         ],
         "y": [
          3.2,
          3.4,
          3.3,
          3.4,
          3.5,
          3.6,
          3.8,
          3.9,
          3.74,
          4.8,
          4.2
         ]
        },
        {
         "hovertemplate": "NTU<br>Civil Engineering<br>Salary: %{y:.2f}K",
         "marker": {
          "color": "grey",
          "opacity": 0.7
         },
         "mode": "markers",
         "name": "Non-Tech Degree",
         "showlegend": false,
         "type": "scatter",
         "x": [
          2013,
          2014,
          2015,
          2016,
          2017,
          2018,
          2019,
          2020,
          2021,
          2022,
          2023
         ],
         "y": [
          3.1,
          3.1,
          3.2,
          3.3,
          3.4,
          3.5,
          3.5,
          3.5,
          3.54,
          3.65,
          4
         ]
        },
        {
         "hovertemplate": "NTU<br>Electrical and Electronic Engineering<br>Salary: %{y:.2f}K",
         "marker": {
          "color": "grey",
          "opacity": 0.7
         },
         "mode": "markers",
         "name": "Non-Tech Degree",
         "showlegend": false,
         "type": "scatter",
         "x": [
          2013,
          2014,
          2015,
          2016,
          2017,
          2018,
          2019,
          2020,
          2021,
          2022,
          2023
         ],
         "y": [
          3.1,
          3.2,
          3.3,
          3.4,
          3.6,
          3.6,
          3.7,
          3.88,
          4,
          4.558,
          4.8
         ]
        },
        {
         "hovertemplate": "NTU<br>Environmental Engineering<br>Salary: %{y:.2f}K",
         "marker": {
          "color": "grey",
          "opacity": 0.7
         },
         "mode": "markers",
         "name": "Non-Tech Degree",
         "showlegend": false,
         "type": "scatter",
         "x": [
          2013,
          2014,
          2015,
          2016,
          2017,
          2018,
          2019,
          2020,
          2021,
          2022,
          2023
         ],
         "y": [
          3,
          3,
          3.3,
          3.1,
          3.635,
          3.4,
          3.51,
          3.45,
          3.5,
          3.9,
          4.115
         ]
        },
        {
         "hovertemplate": "NTU<br>Information Engineering and Media<br>Salary: %{y:.2f}K",
         "marker": {
          "color": "grey",
          "opacity": 0.7
         },
         "mode": "markers",
         "name": "Non-Tech Degree",
         "showlegend": false,
         "type": "scatter",
         "x": [
          2013,
          2014,
          2015,
          2016,
          2017,
          2018,
          2019,
          2020,
          2021,
          2022,
          2023
         ],
         "y": [
          3.2,
          3.2,
          3.275,
          3.35,
          3.7,
          3.75,
          4,
          4,
          4.2,
          4.95,
          4.8
         ]
        },
        {
         "hovertemplate": "NTU<br>Materials Engineering<br>Salary: %{y:.2f}K",
         "marker": {
          "color": "grey",
          "opacity": 0.7
         },
         "mode": "markers",
         "name": "Non-Tech Degree",
         "showlegend": false,
         "type": "scatter",
         "x": [
          2013,
          2014,
          2015,
          2016,
          2017,
          2018,
          2019,
          2020,
          2021,
          2022,
          2023
         ],
         "y": [
          3,
          3.15,
          3.2,
          3.3,
          3.375,
          3.5,
          3.6,
          3.7,
          3.65,
          4.5,
          4.2
         ]
        },
        {
         "hovertemplate": "NTU<br>Mechanical Engineering<br>Salary: %{y:.2f}K",
         "marker": {
          "color": "grey",
          "opacity": 0.7
         },
         "mode": "markers",
         "name": "Non-Tech Degree",
         "showlegend": false,
         "type": "scatter",
         "x": [
          2013,
          2014,
          2015,
          2016,
          2017,
          2018,
          2019,
          2020,
          2021,
          2022,
          2023
         ],
         "y": [
          3.1,
          3.1,
          3.25,
          3.35,
          3.45,
          3.5,
          3.6,
          3.85,
          3.8,
          4.5,
          4.4
         ]
        },
        {
         "hovertemplate": "NTU<br>Maritime Studies<br>Salary: %{y:.2f}K",
         "marker": {
          "color": "grey",
          "opacity": 0.7
         },
         "mode": "markers",
         "name": "Non-Tech Degree",
         "showlegend": false,
         "type": "scatter",
         "x": [
          2013,
          2014,
          2015,
          2016,
          2017,
          2018,
          2019,
          2020,
          2021,
          2022,
          2023
         ],
         "y": [
          3,
          3.05,
          3.2,
          3.398,
          3.32,
          3.35,
          3.5,
          3.5,
          3.5,
          3.74,
          4.2
         ]
        },
        {
         "hovertemplate": "NTU<br>Art, Design and Media<br>Salary: %{y:.2f}K",
         "marker": {
          "color": "grey",
          "opacity": 0.7
         },
         "mode": "markers",
         "name": "Non-Tech Degree",
         "showlegend": false,
         "type": "scatter",
         "x": [
          2013,
          2014,
          2015,
          2016,
          2017,
          2018,
          2019,
          2020,
          2021,
          2022,
          2023
         ],
         "y": [
          2.5,
          2.7,
          2.8,
          2.7,
          2.8,
          3,
          3,
          2.8,
          3,
          3.2,
          3.498
         ]
        },
        {
         "hovertemplate": "NTU<br>Chinese<br>Salary: %{y:.2f}K",
         "marker": {
          "color": "grey",
          "opacity": 0.7
         },
         "mode": "markers",
         "name": "Non-Tech Degree",
         "showlegend": false,
         "type": "scatter",
         "x": [
          2013,
          2014,
          2015,
          2016,
          2017,
          2018,
          2019,
          2020,
          2021,
          2022,
          2023
         ],
         "y": [
          3,
          3,
          3.2,
          3.3,
          3.3,
          3.5,
          3.21,
          3.5,
          3.3,
          3.6,
          4.09
         ]
        },
        {
         "hovertemplate": "NTU<br>Communication Studies<br>Salary: %{y:.2f}K",
         "marker": {
          "color": "grey",
          "opacity": 0.7
         },
         "mode": "markers",
         "name": "Non-Tech Degree",
         "showlegend": false,
         "type": "scatter",
         "x": [
          2013,
          2014,
          2015,
          2016,
          2017,
          2018,
          2019,
          2020,
          2021,
          2022,
          2023
         ],
         "y": [
          3,
          3,
          3,
          3,
          3,
          3,
          3.2,
          3.34,
          3.5,
          3.5,
          3.675
         ]
        },
        {
         "hovertemplate": "NTU<br>Economics<br>Salary: %{y:.2f}K",
         "marker": {
          "color": "grey",
          "opacity": 0.7
         },
         "mode": "markers",
         "name": "Non-Tech Degree",
         "showlegend": false,
         "type": "scatter",
         "x": [
          2013,
          2014,
          2015,
          2016,
          2017,
          2018,
          2019,
          2020,
          2021,
          2022,
          2023
         ],
         "y": [
          3,
          3.2,
          3.3,
          3.3,
          3.24,
          3.536,
          3.4,
          3.797,
          3.65,
          4,
          4.314
         ]
        },
        {
         "hovertemplate": "NTU<br>English<br>Salary: %{y:.2f}K",
         "marker": {
          "color": "grey",
          "opacity": 0.7
         },
         "mode": "markers",
         "name": "Non-Tech Degree",
         "showlegend": false,
         "type": "scatter",
         "x": [
          2013,
          2014,
          2015,
          2016,
          2017,
          2018,
          2019,
          2020,
          2021,
          2022,
          2023
         ],
         "y": [
          3.1,
          3.1,
          3.314,
          3,
          3,
          3,
          3,
          3.45,
          3.5,
          3.748,
          3.775
         ]
        },
        {
         "hovertemplate": "NTU<br>Linguistics and Multilingual Studies<br>Salary: %{y:.2f}K",
         "marker": {
          "color": "grey",
          "opacity": 0.7
         },
         "mode": "markers",
         "name": "Non-Tech Degree",
         "showlegend": false,
         "type": "scatter",
         "x": [
          2013,
          2014,
          2015,
          2016,
          2017,
          2018,
          2019,
          2020,
          2021,
          2022,
          2023
         ],
         "y": [
          2.625,
          3.23,
          3,
          3.365,
          3.1,
          3.2,
          3.2,
          3.35,
          3.3,
          3.5,
          3.95
         ]
        },
        {
         "hovertemplate": "NTU<br>Psychology<br>Salary: %{y:.2f}K",
         "marker": {
          "color": "grey",
          "opacity": 0.7
         },
         "mode": "markers",
         "name": "Non-Tech Degree",
         "showlegend": false,
         "type": "scatter",
         "x": [
          2013,
          2014,
          2015,
          2016,
          2017,
          2018,
          2019,
          2020,
          2021,
          2022,
          2023
         ],
         "y": [
          3,
          3.1,
          3.2,
          3.2,
          3.2,
          3.37,
          3.4,
          3.3,
          3.35,
          3.668,
          4
         ]
        },
        {
         "hovertemplate": "NTU<br>Sociology<br>Salary: %{y:.2f}K",
         "marker": {
          "color": "grey",
          "opacity": 0.7
         },
         "mode": "markers",
         "name": "Non-Tech Degree",
         "showlegend": false,
         "type": "scatter",
         "x": [
          2013,
          2014,
          2015,
          2016,
          2017,
          2018,
          2019,
          2020,
          2021,
          2022,
          2023
         ],
         "y": [
          3.1,
          3.1,
          3.125,
          3.5,
          3.228,
          3.22,
          3.3,
          3.6,
          3.5,
          3.8,
          4.008
         ]
        },
        {
         "hovertemplate": "NTU<br>Biological Sciences<br>Salary: %{y:.2f}K",
         "marker": {
          "color": "grey",
          "opacity": 0.7
         },
         "mode": "markers",
         "name": "Non-Tech Degree",
         "showlegend": false,
         "type": "scatter",
         "x": [
          2013,
          2014,
          2015,
          2016,
          2017,
          2018,
          2019,
          2020,
          2021,
          2022,
          2023
         ],
         "y": [
          3,
          3,
          3.19,
          3.175,
          3.2,
          3.25,
          3.3,
          3.325,
          3.5,
          3.6,
          3.98
         ]
        },
        {
         "hovertemplate": "NTU<br>Chemistry and Biological Chemistry<br>Salary: %{y:.2f}K",
         "marker": {
          "color": "grey",
          "opacity": 0.7
         },
         "mode": "markers",
         "name": "Non-Tech Degree",
         "showlegend": false,
         "type": "scatter",
         "x": [
          2013,
          2014,
          2015,
          2016,
          2017,
          2018,
          2019,
          2020,
          2021,
          2022,
          2023
         ],
         "y": [
          3.1,
          3.1,
          3,
          3.149,
          3.1,
          3.2,
          3.4,
          3.245,
          3.4,
          3.7,
          3.8
         ]
        },
        {
         "hovertemplate": "NTU<br>Mathematical Sciences<br>Salary: %{y:.2f}K",
         "marker": {
          "color": "grey",
          "opacity": 0.7
         },
         "mode": "markers",
         "name": "Non-Tech Degree",
         "showlegend": false,
         "type": "scatter",
         "x": [
          2013,
          2014,
          2015,
          2016,
          2017,
          2018,
          2019,
          2020,
          2021,
          2022,
          2023
         ],
         "y": [
          3,
          3.2,
          3.24,
          3.5,
          3.5,
          3.65,
          3.599,
          3.656,
          3.806,
          4.3,
          4.25
         ]
        },
        {
         "hovertemplate": "NTU<br>Physics / Applied Physics<br>Salary: %{y:.2f}K",
         "marker": {
          "color": "grey",
          "opacity": 0.7
         },
         "mode": "markers",
         "name": "Non-Tech Degree",
         "showlegend": false,
         "type": "scatter",
         "x": [
          2013,
          2014,
          2015,
          2016,
          2017,
          2018,
          2019,
          2020,
          2021,
          2022,
          2023
         ],
         "y": [
          3.3,
          3.1,
          3.2,
          3.45,
          3.3,
          3.4,
          3.5,
          3.7,
          3.6,
          4,
          4
         ]
        },
        {
         "hovertemplate": "NTU<br>Sports Science and Management<br>Salary: %{y:.2f}K",
         "marker": {
          "color": "grey",
          "opacity": 0.7
         },
         "mode": "markers",
         "name": "Non-Tech Degree",
         "showlegend": false,
         "type": "scatter",
         "x": [
          2013,
          2014,
          2015,
          2016,
          2017,
          2018,
          2019,
          2020,
          2021,
          2022,
          2023
         ],
         "y": [
          3,
          3,
          3.295,
          3.2,
          3.45,
          3.3,
          3.35,
          3.3,
          3.3,
          3.35,
          3.85
         ]
        },
        {
         "hovertemplate": "NTU<br>Science (Education)<br>Salary: %{y:.2f}K",
         "marker": {
          "color": "grey",
          "opacity": 0.7
         },
         "mode": "markers",
         "name": "Non-Tech Degree",
         "showlegend": false,
         "type": "scatter",
         "x": [
          2013,
          2014,
          2015,
          2016,
          2017,
          2018,
          2019,
          2020,
          2021,
          2022,
          2023
         ],
         "y": [
          3.498,
          3.475,
          3.504,
          3.525,
          3.701,
          3.8,
          3.8,
          3.8,
          3.904,
          4.3,
          4.3
         ]
        },
        {
         "hovertemplate": "NTU<br>Arts (Education)<br>Salary: %{y:.2f}K",
         "marker": {
          "color": "grey",
          "opacity": 0.7
         },
         "mode": "markers",
         "name": "Non-Tech Degree",
         "showlegend": false,
         "type": "scatter",
         "x": [
          2013,
          2014,
          2015,
          2016,
          2017,
          2018,
          2019,
          2020,
          2021,
          2022,
          2023
         ],
         "y": [
          3.498,
          3.475,
          3.5,
          3.525,
          3.6,
          3.8,
          3.8,
          3.799,
          3.78,
          4.129,
          4.129
         ]
        },
        {
         "hovertemplate": "NTU<br>History<br>Salary: %{y:.2f}K",
         "marker": {
          "color": "grey",
          "opacity": 0.7
         },
         "mode": "markers",
         "name": "Non-Tech Degree",
         "showlegend": false,
         "type": "scatter",
         "x": [
          2013,
          2014,
          2015,
          2016,
          2017,
          2018,
          2019,
          2020,
          2021,
          2022,
          2023
         ],
         "y": [
          null,
          null,
          null,
          3,
          3.2,
          3.5,
          3.5,
          3.65,
          3.675,
          4,
          4.2
         ]
        },
        {
         "hovertemplate": "NTU<br>Public Policy and Global Affairs<br>Salary: %{y:.2f}K",
         "marker": {
          "color": "grey",
          "opacity": 0.7
         },
         "mode": "markers",
         "name": "Non-Tech Degree",
         "showlegend": false,
         "type": "scatter",
         "x": [
          2013,
          2014,
          2015,
          2016,
          2017,
          2018,
          2019,
          2020,
          2021,
          2022,
          2023
         ],
         "y": [
          null,
          null,
          null,
          null,
          3.395,
          3.35,
          3.85,
          3.8,
          3.804,
          4.123,
          4.202
         ]
        },
        {
         "hovertemplate": "NTU<br>Philosophy<br>Salary: %{y:.2f}K",
         "marker": {
          "color": "grey",
          "opacity": 0.7
         },
         "mode": "markers",
         "name": "Non-Tech Degree",
         "showlegend": false,
         "type": "scatter",
         "x": [
          2014,
          2015,
          2016,
          2017,
          2018,
          2019,
          2020,
          2021,
          2022,
          2023
         ],
         "y": [
          null,
          null,
          null,
          null,
          3,
          3.5,
          3.65,
          3.4,
          3.45,
          4
         ]
        },
        {
         "hovertemplate": "NTU<br>Environmental Earth Systems Science<br>Salary: %{y:.2f}K",
         "marker": {
          "color": "grey",
          "opacity": 0.7
         },
         "mode": "markers",
         "name": "Non-Tech Degree",
         "showlegend": false,
         "type": "scatter",
         "x": [
          2014,
          2015,
          2016,
          2017,
          2018,
          2019,
          2020,
          2021,
          2022,
          2023
         ],
         "y": [
          null,
          null,
          null,
          null,
          3.44,
          3.5,
          3.55,
          3.95,
          4.023,
          4.138
         ]
        },
        {
         "hovertemplate": "NTU<br>Medicine<br>Salary: %{y:.2f}K",
         "marker": {
          "color": "grey",
          "opacity": 0.7
         },
         "mode": "markers",
         "name": "Non-Tech Degree",
         "showlegend": false,
         "type": "scatter",
         "x": [
          2013,
          2014,
          2015,
          2016,
          2017,
          2018,
          2019,
          2020,
          2021,
          2022,
          2023
         ],
         "y": [
          null,
          null,
          null,
          null,
          null,
          null,
          5.7,
          5.25,
          5.5,
          5.6,
          null
         ]
        },
        {
         "hovertemplate": "NUS<br>Information Systems<br>Salary: %{y:.2f}K",
         "marker": {
          "color": "#FF6173",
          "opacity": 0.7
         },
         "mode": "markers",
         "name": "Tech Degree",
         "showlegend": false,
         "type": "scatter",
         "x": [
          2023,
          2022,
          2021,
          2020,
          2019,
          2018,
          2017,
          2016,
          2015,
          2014,
          2013
         ],
         "y": [
          5.5,
          5.5,
          5,
          4.5,
          4.228,
          4.458,
          4,
          4,
          3.55,
          3.5,
          3.005
         ]
        },
        {
         "hovertemplate": "NUS<br>Information Security<br>Salary: %{y:.2f}K",
         "marker": {
          "color": "#FF6173",
          "opacity": 0.7
         },
         "mode": "markers",
         "name": "Tech Degree",
         "showlegend": false,
         "type": "scatter",
         "x": [
          2023,
          2022,
          2021,
          2020,
          2019,
          2018,
          2017,
          2016,
          2015
         ],
         "y": [
          5.5,
          5.5,
          5.4,
          5,
          null,
          null,
          null,
          null,
          null
         ]
        },
        {
         "hovertemplate": "NUS<br>Computer Science<br>Salary: %{y:.2f}K",
         "marker": {
          "color": "#FF6173",
          "opacity": 0.7
         },
         "mode": "markers",
         "name": "Tech Degree",
         "showlegend": false,
         "type": "scatter",
         "x": [
          2023,
          2022,
          2021,
          2020,
          2019,
          2018,
          2017,
          2016,
          2015,
          2014,
          2013
         ],
         "y": [
          6.333,
          6.6,
          6,
          5.243,
          5,
          4.32,
          4.285,
          4,
          3.7,
          3.5,
          3.425
         ]
        },
        {
         "hovertemplate": "NUS<br>Computer Engineering<br>Salary: %{y:.2f}K",
         "marker": {
          "color": "#FF6173",
          "opacity": 0.7
         },
         "mode": "markers",
         "name": "Tech Degree",
         "showlegend": false,
         "type": "scatter",
         "x": [
          2013,
          2014,
          2015,
          2016,
          2017,
          2018,
          2019,
          2020,
          2021,
          2022,
          2023
         ],
         "y": [
          3.2,
          3.5,
          4,
          3.9,
          3.9,
          3.975,
          4,
          5,
          5.4,
          6,
          5.595
         ]
        },
        {
         "hovertemplate": "NUS<br>Business Analytics<br>Salary: %{y:.2f}K",
         "marker": {
          "color": "#FF6173",
          "opacity": 0.7
         },
         "mode": "markers",
         "name": "Tech Degree",
         "showlegend": false,
         "type": "scatter",
         "x": [
          2023,
          2022,
          2021,
          2020,
          2019,
          2018,
          2017,
          2016,
          2015,
          2014,
          2013
         ],
         "y": [
          5.5,
          5.5,
          5.4,
          5,
          5,
          4.5,
          4,
          null,
          null,
          null,
          null
         ]
        },
        {
         "hovertemplate": "NUS<br>Data Science and Analytics<br>Salary: %{y:.2f}K",
         "marker": {
          "color": "#FF6173",
          "opacity": 0.7
         },
         "mode": "markers",
         "name": "Tech Degree",
         "showlegend": false,
         "type": "scatter",
         "x": [
          2023,
          2022,
          2021,
          2020,
          2019,
          2018,
          2017,
          2016
         ],
         "y": [
          5,
          5.5,
          4.8,
          4.125,
          null,
          null,
          null,
          null
         ]
        },
        {
         "hovertemplate": "NUS<br>Environmental Engineering<br>Salary: %{y:.2f}K",
         "marker": {
          "color": "grey",
          "opacity": 0.7
         },
         "mode": "markers",
         "name": "Non-Tech Degree",
         "showlegend": false,
         "type": "scatter",
         "x": [
          2015,
          2016,
          2017,
          2018,
          2019,
          2020,
          2021,
          2022,
          2023,
          2014,
          2013
         ],
         "y": [
          3.45,
          3.35,
          3.35,
          3.4,
          3.4,
          3.5,
          3.5,
          4.2,
          4.243,
          3.23,
          3.11
         ]
        },
        {
         "hovertemplate": "NUS<br>Industrial and Systems Engineering<br>Salary: %{y:.2f}K",
         "marker": {
          "color": "grey",
          "opacity": 0.7
         },
         "mode": "markers",
         "name": "Non-Tech Degree",
         "showlegend": false,
         "type": "scatter",
         "x": [
          2013,
          2014,
          2015,
          2016,
          2017,
          2018,
          2019,
          2020,
          2021,
          2022,
          2023
         ],
         "y": [
          3.2,
          3.6,
          3.5,
          3.5,
          3.875,
          3.895,
          4,
          4.38,
          4.5,
          5,
          4.6
         ]
        },
        {
         "hovertemplate": "NUS<br>Materials Science and Engineering<br>Salary: %{y:.2f}K",
         "marker": {
          "color": "grey",
          "opacity": 0.7
         },
         "mode": "markers",
         "name": "Non-Tech Degree",
         "showlegend": false,
         "type": "scatter",
         "x": [
          2013,
          2014,
          2015,
          2016,
          2017,
          2018,
          2019,
          2020,
          2021,
          2022,
          2023
         ],
         "y": [
          3,
          3.3,
          3.35,
          3.54,
          3.388,
          3.6,
          4,
          3.9,
          3.896,
          4.5,
          4.346
         ]
        },
        {
         "hovertemplate": "NUS<br>Mechanical Engineering<br>Salary: %{y:.2f}K",
         "marker": {
          "color": "grey",
          "opacity": 0.7
         },
         "mode": "markers",
         "name": "Non-Tech Degree",
         "showlegend": false,
         "type": "scatter",
         "x": [
          2013,
          2014,
          2015,
          2016,
          2017,
          2018,
          2019,
          2020,
          2021,
          2022,
          2023
         ],
         "y": [
          3.225,
          3.2,
          3.3,
          3.4,
          3.45,
          3.7,
          3.7,
          3.8,
          3.875,
          4.525,
          4.49
         ]
        },
        {
         "hovertemplate": "NUS<br>Law<br>Salary: %{y:.2f}K",
         "marker": {
          "color": "grey",
          "opacity": 0.7
         },
         "mode": "markers",
         "name": "Non-Tech Degree",
         "showlegend": false,
         "type": "scatter",
         "x": [
          2013,
          2014,
          2015,
          2016,
          2017,
          2018,
          2019,
          2020,
          2021,
          2022,
          2023
         ],
         "y": [
          5,
          5.15,
          4.7,
          4.9,
          5,
          5.5,
          5.4,
          5,
          5.6,
          6.4,
          7
         ]
        },
        {
         "hovertemplate": "NUS<br>Science (Hons)<br>Salary: %{y:.2f}K",
         "marker": {
          "color": "grey",
          "opacity": 0.7
         },
         "mode": "markers",
         "name": "Non-Tech Degree",
         "showlegend": false,
         "type": "scatter",
         "x": [
          2013,
          2014,
          2015,
          2016,
          2017,
          2018,
          2019,
          2020,
          2021,
          2022,
          2023
         ],
         "y": [
          3.1,
          3.21,
          3.3,
          3.3,
          3.3,
          3.4,
          3.5,
          3.528,
          3.6,
          3.85,
          4
         ]
        },
        {
         "hovertemplate": "NUS<br>Engineering Science<br>Salary: %{y:.2f}K",
         "marker": {
          "color": "grey",
          "opacity": 0.7
         },
         "mode": "markers",
         "name": "Non-Tech Degree",
         "showlegend": false,
         "type": "scatter",
         "x": [
          2023,
          2022,
          2021,
          2020,
          2019,
          2017,
          2016,
          2015,
          2014,
          2013
         ],
         "y": [
          4.5,
          4.45,
          4.5,
          4,
          3.75,
          3.675,
          3.74,
          3.8,
          3.4,
          3
         ]
        },
        {
         "hovertemplate": "NUS<br>Environmental Studies<br>Salary: %{y:.2f}K",
         "marker": {
          "color": "grey",
          "opacity": 0.7
         },
         "mode": "markers",
         "name": "Non-Tech Degree",
         "showlegend": false,
         "type": "scatter",
         "x": [
          2013,
          2014,
          2015,
          2016,
          2017,
          2018,
          2019,
          2020,
          2021,
          2022,
          2023
         ],
         "y": [
          null,
          null,
          3.5,
          3.3,
          3.3,
          3.414,
          3.325,
          3.25,
          3.65,
          3.8,
          4
         ]
        },
        {
         "hovertemplate": "NUS<br>Pharmacy<br>Salary: %{y:.2f}K",
         "marker": {
          "color": "grey",
          "opacity": 0.7
         },
         "mode": "markers",
         "name": "Non-Tech Degree",
         "showlegend": false,
         "type": "scatter",
         "x": [
          2013,
          2014,
          2015,
          2016,
          2017,
          2018,
          2019,
          2020,
          2021,
          2022
         ],
         "y": [
          3.5,
          3.63,
          3.5,
          3.6,
          3.6,
          3.65,
          3.75,
          3.7,
          3.915,
          4
         ]
        },
        {
         "hovertemplate": "NUS<br>Accountancy (Hons)<br>Salary: %{y:.2f}K",
         "marker": {
          "color": "grey",
          "opacity": 0.7
         },
         "mode": "markers",
         "name": "Non-Tech Degree",
         "showlegend": false,
         "type": "scatter",
         "x": [
          2013,
          2014,
          2015,
          2016,
          2017,
          2018,
          2019,
          2020,
          2021,
          2022,
          2023
         ],
         "y": [
          2.8,
          2.912,
          3,
          3.075,
          3.125,
          3.2,
          3.6,
          3.5,
          3.5,
          4,
          4.2
         ]
        },
        {
         "hovertemplate": "NUS<br>Business Administration (Hons)<br>Salary: %{y:.2f}K",
         "marker": {
          "color": "grey",
          "opacity": 0.7
         },
         "mode": "markers",
         "name": "Non-Tech Degree",
         "showlegend": false,
         "type": "scatter",
         "x": [
          2013,
          2014,
          2015,
          2016,
          2017,
          2018,
          2019,
          2020,
          2021,
          2022,
          2023
         ],
         "y": [
          3.2,
          3.52,
          3.8,
          3.62,
          3.8,
          3.895,
          4.15,
          4,
          4.347,
          4.696,
          4.8
         ]
        },
        {
         "hovertemplate": "NUS<br>Electrical Engineering<br>Salary: %{y:.2f}K",
         "marker": {
          "color": "grey",
          "opacity": 0.7
         },
         "mode": "markers",
         "name": "Non-Tech Degree",
         "showlegend": false,
         "type": "scatter",
         "x": [
          2023,
          2022,
          2021,
          2020,
          2019,
          2018,
          2017,
          2016,
          2015,
          2014,
          2013
         ],
         "y": [
          4.8,
          4.8,
          4.15,
          4.2,
          4,
          3.7,
          3.6,
          3.5,
          3.3,
          3.3,
          3.2
         ]
        },
        {
         "hovertemplate": "NUS<br>Civil Engineering<br>Salary: %{y:.2f}K",
         "marker": {
          "color": "grey",
          "opacity": 0.7
         },
         "mode": "markers",
         "name": "Non-Tech Degree",
         "showlegend": false,
         "type": "scatter",
         "x": [
          2023,
          2022,
          2021,
          2020,
          2019,
          2018,
          2017,
          2016,
          2015,
          2014,
          2013
         ],
         "y": [
          4,
          4,
          3.7,
          3.59,
          3.6,
          3.5,
          3.3,
          3.42,
          3.35,
          3.208,
          3.05
         ]
        },
        {
         "hovertemplate": "NUS<br>Chemical Engineering<br>Salary: %{y:.2f}K",
         "marker": {
          "color": "grey",
          "opacity": 0.7
         },
         "mode": "markers",
         "name": "Non-Tech Degree",
         "showlegend": false,
         "type": "scatter",
         "x": [
          2023,
          2022,
          2021,
          2020,
          2019,
          2018,
          2017,
          2016,
          2015,
          2014,
          2013
         ],
         "y": [
          4.405,
          4.675,
          3.8,
          4,
          3.95,
          4,
          3.6,
          3.45,
          3.5,
          3.3,
          3.175
         ]
        },
        {
         "hovertemplate": "NUS<br>Biomedical Engineering<br>Salary: %{y:.2f}K",
         "marker": {
          "color": "grey",
          "opacity": 0.7
         },
         "mode": "markers",
         "name": "Non-Tech Degree",
         "showlegend": false,
         "type": "scatter",
         "x": [
          2023,
          2022,
          2021,
          2020,
          2019,
          2018,
          2017,
          2016,
          2015,
          2014,
          2013
         ],
         "y": [
          4.1,
          4,
          3.6,
          3.5,
          3.5,
          3.389,
          3.3,
          3.2,
          3.3,
          3,
          3
         ]
        },
        {
         "hovertemplate": "NUS<br>Architecture<br>Salary: %{y:.2f}K",
         "marker": {
          "color": "grey",
          "opacity": 0.7
         },
         "mode": "markers",
         "name": "Non-Tech Degree",
         "showlegend": false,
         "type": "scatter",
         "x": [
          2013,
          2014,
          2015,
          2016,
          2017,
          2018,
          2019,
          2020,
          2021,
          2022,
          2023
         ],
         "y": [
          null,
          4.275,
          4.127,
          4,
          4,
          null,
          4.1,
          4,
          4,
          4.4,
          null
         ]
        },
        {
         "hovertemplate": "NUS<br>Industrial Design<br>Salary: %{y:.2f}K",
         "marker": {
          "color": "grey",
          "opacity": 0.7
         },
         "mode": "markers",
         "name": "Non-Tech Degree",
         "showlegend": false,
         "type": "scatter",
         "x": [
          2013,
          2014,
          2015,
          2016,
          2017,
          2018,
          2019,
          2020,
          2021,
          2022,
          2023
         ],
         "y": [
          2.65,
          2.565,
          3,
          3,
          2.92,
          3.25,
          3.3,
          3.5,
          3.825,
          4.5,
          4
         ]
        },
        {
         "hovertemplate": "NUS<br>Project & Facilities Management<br>Salary: %{y:.2f}K",
         "marker": {
          "color": "grey",
          "opacity": 0.7
         },
         "mode": "markers",
         "name": "Non-Tech Degree",
         "showlegend": false,
         "type": "scatter",
         "x": [
          2013,
          2014,
          2015,
          2016,
          2017,
          2018,
          2019,
          2020,
          2021,
          2022,
          2023
         ],
         "y": [
          3,
          3,
          3,
          3,
          3,
          3.06,
          3.155,
          3.2,
          3.5,
          3.555,
          3.855
         ]
        },
        {
         "hovertemplate": "NUS<br>Real Estate<br>Salary: %{y:.2f}K",
         "marker": {
          "color": "grey",
          "opacity": 0.7
         },
         "mode": "markers",
         "name": "Non-Tech Degree",
         "showlegend": false,
         "type": "scatter",
         "x": [
          2013,
          2014,
          2015,
          2016,
          2017,
          2018,
          2019,
          2020,
          2021,
          2022,
          2023
         ],
         "y": [
          2.9,
          3,
          3.1,
          3.2,
          3,
          3.3,
          3.4,
          3.63,
          3.7,
          3.85,
          4
         ]
        },
        {
         "hovertemplate": "NUS<br>Medicine<br>Salary: %{y:.2f}K",
         "marker": {
          "color": "grey",
          "opacity": 0.7
         },
         "mode": "markers",
         "name": "Non-Tech Degree",
         "showlegend": false,
         "type": "scatter",
         "x": [
          2013,
          2014,
          2015,
          2016,
          2017,
          2018,
          2019,
          2020,
          2021,
          2022,
          2023
         ],
         "y": [
          4.5,
          5,
          4.9,
          5,
          5,
          null,
          5.237,
          5.25,
          null,
          null,
          null
         ]
        },
        {
         "hovertemplate": "NUS<br>Nursing (Hons)<br>Salary: %{y:.2f}K",
         "marker": {
          "color": "grey",
          "opacity": 0.7
         },
         "mode": "markers",
         "name": "Non-Tech Degree",
         "showlegend": false,
         "type": "scatter",
         "x": [
          2013,
          2014,
          2015,
          2016,
          2017,
          2018,
          2019,
          2020,
          2021,
          2022,
          2023
         ],
         "y": [
          3.025,
          3.5,
          3.435,
          3.5,
          3.5,
          3.55,
          3.65,
          3.6,
          3.75,
          3.85,
          4
         ]
        },
        {
         "hovertemplate": "NUS<br>Dentistry<br>Salary: %{y:.2f}K",
         "marker": {
          "color": "grey",
          "opacity": 0.7
         },
         "mode": "markers",
         "name": "Non-Tech Degree",
         "showlegend": false,
         "type": "scatter",
         "x": [
          2023,
          2022,
          2021,
          2020,
          2019,
          2018,
          2017,
          2016,
          2015,
          2014,
          2013
         ],
         "y": [
          4.55,
          4.2,
          4.2,
          4.2,
          4.2,
          4.05,
          4.05,
          4.05,
          4,
          4,
          4
         ]
        },
        {
         "hovertemplate": "NUS<br>Social Sciences<br>Salary: %{y:.2f}K",
         "marker": {
          "color": "grey",
          "opacity": 0.7
         },
         "mode": "markers",
         "name": "Non-Tech Degree",
         "showlegend": false,
         "type": "scatter",
         "x": [
          2023,
          2022,
          2021,
          2020,
          2019,
          2018,
          2017,
          2016,
          2015,
          2014,
          2013
         ],
         "y": [
          4.015,
          3.795,
          3.6,
          3.5,
          3.5,
          3.4,
          3.3,
          3.3,
          3.31,
          3.25,
          3.2
         ]
        },
        {
         "hovertemplate": "NUS<br>Arts (Hons)<br>Salary: %{y:.2f}K",
         "marker": {
          "color": "grey",
          "opacity": 0.7
         },
         "mode": "markers",
         "name": "Non-Tech Degree",
         "showlegend": false,
         "type": "scatter",
         "x": [
          2023,
          2022,
          2021,
          2020,
          2019,
          2018,
          2017,
          2016,
          2015,
          2014,
          2013
         ],
         "y": [
          4.008,
          4,
          3.65,
          3.5,
          3.5,
          3.3,
          3.36,
          3.5,
          3.31,
          3.3,
          3.2
         ]
        }
       ],
       "layout": {
        "legend": {
         "orientation": "h",
         "x": 0,
         "xanchor": "left",
         "y": 1.02,
         "yanchor": "bottom"
        },
        "margin": {
         "r": 10
        },
        "template": {
         "data": {
          "bar": [
           {
            "error_x": {
             "color": "rgb(51,51,51)"
            },
            "error_y": {
             "color": "rgb(51,51,51)"
            },
            "marker": {
             "line": {
              "color": "rgb(237,237,237)",
              "width": 0.5
             },
             "pattern": {
              "fillmode": "overlay",
              "size": 10,
              "solidity": 0.2
             }
            },
            "type": "bar"
           }
          ],
          "barpolar": [
           {
            "marker": {
             "line": {
              "color": "rgb(237,237,237)",
              "width": 0.5
             },
             "pattern": {
              "fillmode": "overlay",
              "size": 10,
              "solidity": 0.2
             }
            },
            "type": "barpolar"
           }
          ],
          "carpet": [
           {
            "aaxis": {
             "endlinecolor": "rgb(51,51,51)",
             "gridcolor": "white",
             "linecolor": "white",
             "minorgridcolor": "white",
             "startlinecolor": "rgb(51,51,51)"
            },
            "baxis": {
             "endlinecolor": "rgb(51,51,51)",
             "gridcolor": "white",
             "linecolor": "white",
             "minorgridcolor": "white",
             "startlinecolor": "rgb(51,51,51)"
            },
            "type": "carpet"
           }
          ],
          "choropleth": [
           {
            "colorbar": {
             "outlinewidth": 0,
             "tickcolor": "rgb(237,237,237)",
             "ticklen": 6,
             "ticks": "inside"
            },
            "type": "choropleth"
           }
          ],
          "contour": [
           {
            "colorbar": {
             "outlinewidth": 0,
             "tickcolor": "rgb(237,237,237)",
             "ticklen": 6,
             "ticks": "inside"
            },
            "colorscale": [
             [
              0,
              "rgb(20,44,66)"
             ],
             [
              1,
              "rgb(90,179,244)"
             ]
            ],
            "type": "contour"
           }
          ],
          "contourcarpet": [
           {
            "colorbar": {
             "outlinewidth": 0,
             "tickcolor": "rgb(237,237,237)",
             "ticklen": 6,
             "ticks": "inside"
            },
            "type": "contourcarpet"
           }
          ],
          "heatmap": [
           {
            "colorbar": {
             "outlinewidth": 0,
             "tickcolor": "rgb(237,237,237)",
             "ticklen": 6,
             "ticks": "inside"
            },
            "colorscale": [
             [
              0,
              "rgb(20,44,66)"
             ],
             [
              1,
              "rgb(90,179,244)"
             ]
            ],
            "type": "heatmap"
           }
          ],
          "heatmapgl": [
           {
            "colorbar": {
             "outlinewidth": 0,
             "tickcolor": "rgb(237,237,237)",
             "ticklen": 6,
             "ticks": "inside"
            },
            "colorscale": [
             [
              0,
              "rgb(20,44,66)"
             ],
             [
              1,
              "rgb(90,179,244)"
             ]
            ],
            "type": "heatmapgl"
           }
          ],
          "histogram": [
           {
            "marker": {
             "pattern": {
              "fillmode": "overlay",
              "size": 10,
              "solidity": 0.2
             }
            },
            "type": "histogram"
           }
          ],
          "histogram2d": [
           {
            "colorbar": {
             "outlinewidth": 0,
             "tickcolor": "rgb(237,237,237)",
             "ticklen": 6,
             "ticks": "inside"
            },
            "colorscale": [
             [
              0,
              "rgb(20,44,66)"
             ],
             [
              1,
              "rgb(90,179,244)"
             ]
            ],
            "type": "histogram2d"
           }
          ],
          "histogram2dcontour": [
           {
            "colorbar": {
             "outlinewidth": 0,
             "tickcolor": "rgb(237,237,237)",
             "ticklen": 6,
             "ticks": "inside"
            },
            "colorscale": [
             [
              0,
              "rgb(20,44,66)"
             ],
             [
              1,
              "rgb(90,179,244)"
             ]
            ],
            "type": "histogram2dcontour"
           }
          ],
          "mesh3d": [
           {
            "colorbar": {
             "outlinewidth": 0,
             "tickcolor": "rgb(237,237,237)",
             "ticklen": 6,
             "ticks": "inside"
            },
            "type": "mesh3d"
           }
          ],
          "parcoords": [
           {
            "line": {
             "colorbar": {
              "outlinewidth": 0,
              "tickcolor": "rgb(237,237,237)",
              "ticklen": 6,
              "ticks": "inside"
             }
            },
            "type": "parcoords"
           }
          ],
          "pie": [
           {
            "automargin": true,
            "type": "pie"
           }
          ],
          "scatter": [
           {
            "fillpattern": {
             "fillmode": "overlay",
             "size": 10,
             "solidity": 0.2
            },
            "type": "scatter"
           }
          ],
          "scatter3d": [
           {
            "line": {
             "colorbar": {
              "outlinewidth": 0,
              "tickcolor": "rgb(237,237,237)",
              "ticklen": 6,
              "ticks": "inside"
             }
            },
            "marker": {
             "colorbar": {
              "outlinewidth": 0,
              "tickcolor": "rgb(237,237,237)",
              "ticklen": 6,
              "ticks": "inside"
             }
            },
            "type": "scatter3d"
           }
          ],
          "scattercarpet": [
           {
            "marker": {
             "colorbar": {
              "outlinewidth": 0,
              "tickcolor": "rgb(237,237,237)",
              "ticklen": 6,
              "ticks": "inside"
             }
            },
            "type": "scattercarpet"
           }
          ],
          "scattergeo": [
           {
            "marker": {
             "colorbar": {
              "outlinewidth": 0,
              "tickcolor": "rgb(237,237,237)",
              "ticklen": 6,
              "ticks": "inside"
             }
            },
            "type": "scattergeo"
           }
          ],
          "scattergl": [
           {
            "marker": {
             "colorbar": {
              "outlinewidth": 0,
              "tickcolor": "rgb(237,237,237)",
              "ticklen": 6,
              "ticks": "inside"
             }
            },
            "type": "scattergl"
           }
          ],
          "scattermapbox": [
           {
            "marker": {
             "colorbar": {
              "outlinewidth": 0,
              "tickcolor": "rgb(237,237,237)",
              "ticklen": 6,
              "ticks": "inside"
             }
            },
            "type": "scattermapbox"
           }
          ],
          "scatterpolar": [
           {
            "marker": {
             "colorbar": {
              "outlinewidth": 0,
              "tickcolor": "rgb(237,237,237)",
              "ticklen": 6,
              "ticks": "inside"
             }
            },
            "type": "scatterpolar"
           }
          ],
          "scatterpolargl": [
           {
            "marker": {
             "colorbar": {
              "outlinewidth": 0,
              "tickcolor": "rgb(237,237,237)",
              "ticklen": 6,
              "ticks": "inside"
             }
            },
            "type": "scatterpolargl"
           }
          ],
          "scatterternary": [
           {
            "marker": {
             "colorbar": {
              "outlinewidth": 0,
              "tickcolor": "rgb(237,237,237)",
              "ticklen": 6,
              "ticks": "inside"
             }
            },
            "type": "scatterternary"
           }
          ],
          "surface": [
           {
            "colorbar": {
             "outlinewidth": 0,
             "tickcolor": "rgb(237,237,237)",
             "ticklen": 6,
             "ticks": "inside"
            },
            "colorscale": [
             [
              0,
              "rgb(20,44,66)"
             ],
             [
              1,
              "rgb(90,179,244)"
             ]
            ],
            "type": "surface"
           }
          ],
          "table": [
           {
            "cells": {
             "fill": {
              "color": "rgb(237,237,237)"
             },
             "line": {
              "color": "white"
             }
            },
            "header": {
             "fill": {
              "color": "rgb(217,217,217)"
             },
             "line": {
              "color": "white"
             }
            },
            "type": "table"
           }
          ]
         },
         "layout": {
          "annotationdefaults": {
           "arrowhead": 0,
           "arrowwidth": 1
          },
          "autotypenumbers": "strict",
          "coloraxis": {
           "colorbar": {
            "outlinewidth": 0,
            "tickcolor": "rgb(237,237,237)",
            "ticklen": 6,
            "ticks": "inside"
           }
          },
          "colorscale": {
           "sequential": [
            [
             0,
             "rgb(20,44,66)"
            ],
            [
             1,
             "rgb(90,179,244)"
            ]
           ],
           "sequentialminus": [
            [
             0,
             "rgb(20,44,66)"
            ],
            [
             1,
             "rgb(90,179,244)"
            ]
           ]
          },
          "colorway": [
           "#F8766D",
           "#A3A500",
           "#00BF7D",
           "#00B0F6",
           "#E76BF3"
          ],
          "font": {
           "color": "rgb(51,51,51)"
          },
          "geo": {
           "bgcolor": "white",
           "lakecolor": "white",
           "landcolor": "rgb(237,237,237)",
           "showlakes": true,
           "showland": true,
           "subunitcolor": "white"
          },
          "hoverlabel": {
           "align": "left"
          },
          "hovermode": "closest",
          "paper_bgcolor": "white",
          "plot_bgcolor": "rgb(237,237,237)",
          "polar": {
           "angularaxis": {
            "gridcolor": "white",
            "linecolor": "white",
            "showgrid": true,
            "tickcolor": "rgb(51,51,51)",
            "ticks": "outside"
           },
           "bgcolor": "rgb(237,237,237)",
           "radialaxis": {
            "gridcolor": "white",
            "linecolor": "white",
            "showgrid": true,
            "tickcolor": "rgb(51,51,51)",
            "ticks": "outside"
           }
          },
          "scene": {
           "xaxis": {
            "backgroundcolor": "rgb(237,237,237)",
            "gridcolor": "white",
            "gridwidth": 2,
            "linecolor": "white",
            "showbackground": true,
            "showgrid": true,
            "tickcolor": "rgb(51,51,51)",
            "ticks": "outside",
            "zerolinecolor": "white"
           },
           "yaxis": {
            "backgroundcolor": "rgb(237,237,237)",
            "gridcolor": "white",
            "gridwidth": 2,
            "linecolor": "white",
            "showbackground": true,
            "showgrid": true,
            "tickcolor": "rgb(51,51,51)",
            "ticks": "outside",
            "zerolinecolor": "white"
           },
           "zaxis": {
            "backgroundcolor": "rgb(237,237,237)",
            "gridcolor": "white",
            "gridwidth": 2,
            "linecolor": "white",
            "showbackground": true,
            "showgrid": true,
            "tickcolor": "rgb(51,51,51)",
            "ticks": "outside",
            "zerolinecolor": "white"
           }
          },
          "shapedefaults": {
           "fillcolor": "black",
           "line": {
            "width": 0
           },
           "opacity": 0.3
          },
          "ternary": {
           "aaxis": {
            "gridcolor": "white",
            "linecolor": "white",
            "showgrid": true,
            "tickcolor": "rgb(51,51,51)",
            "ticks": "outside"
           },
           "baxis": {
            "gridcolor": "white",
            "linecolor": "white",
            "showgrid": true,
            "tickcolor": "rgb(51,51,51)",
            "ticks": "outside"
           },
           "bgcolor": "rgb(237,237,237)",
           "caxis": {
            "gridcolor": "white",
            "linecolor": "white",
            "showgrid": true,
            "tickcolor": "rgb(51,51,51)",
            "ticks": "outside"
           }
          },
          "xaxis": {
           "automargin": true,
           "gridcolor": "white",
           "linecolor": "white",
           "showgrid": true,
           "tickcolor": "rgb(51,51,51)",
           "ticks": "outside",
           "title": {
            "standoff": 15
           },
           "zerolinecolor": "white"
          },
          "yaxis": {
           "automargin": true,
           "gridcolor": "white",
           "linecolor": "white",
           "showgrid": true,
           "tickcolor": "rgb(51,51,51)",
           "ticks": "outside",
           "title": {
            "standoff": 15
           },
           "zerolinecolor": "white"
          }
         }
        },
        "title": {
         "text": "Degree starting salaries",
         "x": 0.1,
         "xanchor": "left",
         "y": 0.95,
         "yanchor": "top"
        },
        "xaxis": {
         "dtick": 1,
         "fixedrange": true,
         "tickmode": "linear",
         "title": {
          "text": "Year"
         }
        },
        "yaxis": {
         "dtick": 0.5,
         "fixedrange": true,
         "tickmode": "linear",
         "title": {
          "text": "Gross Monthly Median (SGD Thousands)"
         }
        }
       }
      }
     },
     "metadata": {},
     "output_type": "display_data"
    }
   ],
   "source": [
    "df = orig_df.copy()\n",
    "# Filter the DataFrame for tech-related degrees\n",
    "df['is_tech_degree'] = df.apply(lambda x: 1 if x['course'] in tech_degrees.get(x['uni'], []) else 0, axis=1)\n",
    "\n",
    "# Adjust gross_monthly_median to thousands\n",
    "df['gross_monthly_median'] = df['gross_monthly_median'] / 1000\n",
    "\n",
    "tech_degree_color = '#FF6173'\n",
    "non_tech_degree_color = 'grey'\n",
    "\n",
    "# Create the figure\n",
    "fig = go.Figure()\n",
    "\n",
    "# Plot the line plot for the overall median\n",
    "median_df = df[(df['course'] == 'Overall Median') & (df['summary_row'] == 1)]\n",
    "fig.add_trace(go.Scatter(\n",
    "    x=median_df['year'],\n",
    "    y=median_df['gross_monthly_median'],\n",
    "    mode='lines',\n",
    "    line=dict(color='black', dash='dash'),\n",
    "    name='Overall Median'\n",
    "))\n",
    "\n",
    "# Compute the median yearlysalaary for tech degrees\n",
    "tdf = df.loc[(df['is_tech_degree']==1)\n",
    "             & (df.summary_row==0)]\n",
    "# Median Rows\n",
    "tdf_median = tdf.groupby('year', as_index=False)[metrics].agg(lambda x: x.quantile(0.5))\n",
    "tdf_median['uni'] = np.nan\n",
    "tdf_median['course'] = f'Tech Degree Median'\n",
    "tdf_median['summary_row']=1\n",
    "\n",
    "fig.add_trace(go.Scatter(\n",
    "    x=tdf_median['year'],\n",
    "    y=tdf_median['gross_monthly_median'],\n",
    "    mode='lines',\n",
    "    line=dict(color='red', dash='dash'),\n",
    "    name='Tech Degree Median'\n",
    "))\n",
    "\n",
    "# Plot scatter plots for each non-summary course\n",
    "df = df.sort_values('is_tech_degree', ascending=False)\n",
    "for uni in df['uni'].unique():\n",
    "    uni_df = df[(df['uni'] == uni) & (df['course_row'] == 1)]\n",
    "    for course in uni_df['course'].unique():\n",
    "        course_df = uni_df[uni_df['course'] == course]\n",
    "        color = tech_degree_color if course_df['is_tech_degree'].iloc[0] == 1 else non_tech_degree_color\n",
    "        fig.add_trace(go.Scatter(\n",
    "            x=course_df['year'],\n",
    "            y=course_df['gross_monthly_median'],\n",
    "            mode='markers',\n",
    "            marker=dict(color=color, opacity=0.7),\n",
    "            name='Tech Degree' if color == tech_degree_color else 'Non-Tech Degree',\n",
    "            showlegend=not any(d['name'] == ('Tech Degree' if color == tech_degree_color else 'Non-Tech Degree') for d in fig.data),\n",
    "            hovertemplate=f\"{uni}<br>{course}<br>Salary: %{{y:.2f}}K\"\n",
    "        ))\n",
    "\n",
    "# Customize the layout\n",
    "fig.update_layout(\n",
    "    xaxis_fixedrange=True, yaxis_fixedrange=True,\n",
    "    # title=\"Yearly degree starting salaries\",\n",
    "    title = {\n",
    "        'text': 'Degree starting salaries'\n",
    "        , 'y' : 0.95\n",
    "        , 'x': 0.1\n",
    "        , 'xanchor': 'left'\n",
    "        , 'yanchor': 'top'\n",
    "    },\n",
    "    xaxis_title=\"Year\",\n",
    "    yaxis_title=\"Gross Monthly Median (SGD Thousands)\",\n",
    "    # legend_title=\"Degree Type\",\n",
    "    legend=dict(\n",
    "        orientation=\"h\",\n",
    "        yanchor=\"bottom\",\n",
    "        y=1.02,\n",
    "        xanchor=\"left\",\n",
    "        x=0\n",
    "    ),\n",
    "    xaxis=dict(\n",
    "        tickmode='linear',\n",
    "        dtick=1  # Yearly ticks\n",
    "    ),\n",
    "    yaxis=dict(\n",
    "        tickmode='linear',\n",
    "        dtick=0.5  # $500 increments\n",
    "    )\n",
    "    , template='ggplot2'\n",
    "    , margin = dict(r=10)\n",
    ")\n",
    "\n",
    "# Show the figure\n",
    "fig.show()\n"
   ]
  },
  {
   "cell_type": "code",
   "execution_count": 11,
   "metadata": {},
   "outputs": [
    {
     "data": {
      "text/html": [
       "<div>\n",
       "<style scoped>\n",
       "    .dataframe tbody tr th:only-of-type {\n",
       "        vertical-align: middle;\n",
       "    }\n",
       "\n",
       "    .dataframe tbody tr th {\n",
       "        vertical-align: top;\n",
       "    }\n",
       "\n",
       "    .dataframe thead th {\n",
       "        text-align: right;\n",
       "    }\n",
       "</style>\n",
       "<table border=\"1\" class=\"dataframe\">\n",
       "  <thead>\n",
       "    <tr style=\"text-align: right;\">\n",
       "      <th></th>\n",
       "      <th>year</th>\n",
       "      <th>uni</th>\n",
       "      <th>course</th>\n",
       "      <th>gross_monthly_median</th>\n",
       "    </tr>\n",
       "  </thead>\n",
       "  <tbody>\n",
       "    <tr>\n",
       "      <th>875</th>\n",
       "      <td>2022</td>\n",
       "      <td>NaN</td>\n",
       "      <td>Overall Median</td>\n",
       "      <td>4.2</td>\n",
       "    </tr>\n",
       "    <tr>\n",
       "      <th>876</th>\n",
       "      <td>2023</td>\n",
       "      <td>NaN</td>\n",
       "      <td>Overall Median</td>\n",
       "      <td>4.2</td>\n",
       "    </tr>\n",
       "  </tbody>\n",
       "</table>\n",
       "</div>"
      ],
      "text/plain": [
       "     year  uni          course  gross_monthly_median\n",
       "875  2022  NaN  Overall Median                   4.2\n",
       "876  2023  NaN  Overall Median                   4.2"
      ]
     },
     "execution_count": 11,
     "metadata": {},
     "output_type": "execute_result"
    }
   ],
   "source": [
    "median_df.loc[(median_df.year.between(2022, 2023)), ['year', 'uni', 'course', 'gross_monthly_median']]"
   ]
  },
  {
   "cell_type": "code",
   "execution_count": 12,
   "metadata": {},
   "outputs": [],
   "source": [
    "tmp_23_df = df.loc[(df.year==2023), ['year', 'uni', 'course', 'gross_monthly_median']]\\\n",
    "        .sort_values('gross_monthly_median', ascending=False)\n",
    "tmp_22_df = df.loc[(df.year==2022), ['year', 'uni', 'course', 'gross_monthly_median']]\\\n",
    "        .sort_values('gross_monthly_median', ascending=False)\n",
    "tdf = pd.concat([tmp_23_df, tmp_22_df], ignore_index=True)\n",
    "tdf.to_csv(\"tmp.csv\", index=False)"
   ]
  },
  {
   "cell_type": "code",
   "execution_count": 13,
   "metadata": {},
   "outputs": [
    {
     "data": {
      "text/html": [
       "<div>\n",
       "<style scoped>\n",
       "    .dataframe tbody tr th:only-of-type {\n",
       "        vertical-align: middle;\n",
       "    }\n",
       "\n",
       "    .dataframe tbody tr th {\n",
       "        vertical-align: top;\n",
       "    }\n",
       "\n",
       "    .dataframe thead th {\n",
       "        text-align: right;\n",
       "    }\n",
       "</style>\n",
       "<table border=\"1\" class=\"dataframe\">\n",
       "  <thead>\n",
       "    <tr style=\"text-align: right;\">\n",
       "      <th></th>\n",
       "      <th>year</th>\n",
       "      <th>uni</th>\n",
       "      <th>course</th>\n",
       "      <th>gross_monthly_median</th>\n",
       "    </tr>\n",
       "  </thead>\n",
       "  <tbody>\n",
       "    <tr>\n",
       "      <th>235</th>\n",
       "      <td>2022</td>\n",
       "      <td>NUS</td>\n",
       "      <td>Computer Science</td>\n",
       "      <td>6.600</td>\n",
       "    </tr>\n",
       "    <tr>\n",
       "      <th>151</th>\n",
       "      <td>2022</td>\n",
       "      <td>NUS</td>\n",
       "      <td>Law</td>\n",
       "      <td>6.400</td>\n",
       "    </tr>\n",
       "    <tr>\n",
       "      <th>765</th>\n",
       "      <td>2022</td>\n",
       "      <td>SMU</td>\n",
       "      <td>Law</td>\n",
       "      <td>6.375</td>\n",
       "    </tr>\n",
       "    <tr>\n",
       "      <th>75</th>\n",
       "      <td>2022</td>\n",
       "      <td>NUS</td>\n",
       "      <td>Computer Engineering</td>\n",
       "      <td>6.000</td>\n",
       "    </tr>\n",
       "    <tr>\n",
       "      <th>699</th>\n",
       "      <td>2022</td>\n",
       "      <td>NTU</td>\n",
       "      <td>Data Science &amp; Artificial Intelligence</td>\n",
       "      <td>5.625</td>\n",
       "    </tr>\n",
       "    <tr>\n",
       "      <th>...</th>\n",
       "      <td>...</td>\n",
       "      <td>...</td>\n",
       "      <td>...</td>\n",
       "      <td>...</td>\n",
       "    </tr>\n",
       "    <tr>\n",
       "      <th>541</th>\n",
       "      <td>2022</td>\n",
       "      <td>NTU</td>\n",
       "      <td>Linguistics and Multilingual Studies</td>\n",
       "      <td>3.500</td>\n",
       "    </tr>\n",
       "    <tr>\n",
       "      <th>672</th>\n",
       "      <td>2022</td>\n",
       "      <td>NTU</td>\n",
       "      <td>Philosophy</td>\n",
       "      <td>3.450</td>\n",
       "    </tr>\n",
       "    <tr>\n",
       "      <th>618</th>\n",
       "      <td>2022</td>\n",
       "      <td>NTU</td>\n",
       "      <td>Sports Science and Management</td>\n",
       "      <td>3.350</td>\n",
       "    </tr>\n",
       "    <tr>\n",
       "      <th>486</th>\n",
       "      <td>2022</td>\n",
       "      <td>NTU</td>\n",
       "      <td>Art, Design and Media</td>\n",
       "      <td>3.200</td>\n",
       "    </tr>\n",
       "    <tr>\n",
       "      <th>310</th>\n",
       "      <td>2022</td>\n",
       "      <td>NUS</td>\n",
       "      <td>Medicine</td>\n",
       "      <td>NaN</td>\n",
       "    </tr>\n",
       "  </tbody>\n",
       "</table>\n",
       "<p>83 rows × 4 columns</p>\n",
       "</div>"
      ],
      "text/plain": [
       "     year  uni                                  course  gross_monthly_median\n",
       "235  2022  NUS                        Computer Science                 6.600\n",
       "151  2022  NUS                                     Law                 6.400\n",
       "765  2022  SMU                                     Law                 6.375\n",
       "75   2022  NUS                    Computer Engineering                 6.000\n",
       "699  2022  NTU  Data Science & Artificial Intelligence                 5.625\n",
       "..    ...  ...                                     ...                   ...\n",
       "541  2022  NTU    Linguistics and Multilingual Studies                 3.500\n",
       "672  2022  NTU                              Philosophy                 3.450\n",
       "618  2022  NTU           Sports Science and Management                 3.350\n",
       "486  2022  NTU                   Art, Design and Media                 3.200\n",
       "310  2022  NUS                                Medicine                   NaN\n",
       "\n",
       "[83 rows x 4 columns]"
      ]
     },
     "execution_count": 13,
     "metadata": {},
     "output_type": "execute_result"
    }
   ],
   "source": [
    "df.loc[(df.year==2022), ['year', 'uni', 'course', 'gross_monthly_median']]\\\n",
    "        .sort_values('gross_monthly_median', ascending=False)\\\n",
    "        "
   ]
  },
  {
   "cell_type": "code",
   "execution_count": 14,
   "metadata": {},
   "outputs": [],
   "source": [
    "# Host on plotly\n",
    "# py.plot(fig, filename= 'yearly_salaries', auto_open=True)"
   ]
  },
  {
   "cell_type": "code",
   "execution_count": 15,
   "metadata": {},
   "outputs": [],
   "source": [
    "overall_median_df = df[(df['course'] == 'Overall Median') & (df['summary_row'] == 1)]\n",
    "tech_degrees_df = df[(df['is_tech_degree'] == 1) & (df['course_row'] == 1)]\n",
    "\n",
    "# Group by year and calculate the required statistics\n",
    "comparison_df = overall_median_df[['year', 'gross_monthly_median']].rename(columns={'gross_monthly_median': 'overall_median'})\n",
    "comparison_df['tech_degree_median'] = tech_degrees_df.groupby('year')['gross_monthly_median'].median().values\n",
    "comparison_df['tech_degree_mean'] = tech_degrees_df.groupby('year')['gross_monthly_median'].mean().values\n",
    "\n",
    "# Calculate the percentage difference\n",
    "comparison_df['pct_median_over'] = ((comparison_df['tech_degree_median'] - comparison_df['overall_median']) / comparison_df['overall_median']) * 100\n",
    "\n",
    "comparison_df.set_index('year', inplace=True)"
   ]
  },
  {
   "cell_type": "code",
   "execution_count": 16,
   "metadata": {},
   "outputs": [
    {
     "data": {
      "text/html": [
       "<div>\n",
       "<style scoped>\n",
       "    .dataframe tbody tr th:only-of-type {\n",
       "        vertical-align: middle;\n",
       "    }\n",
       "\n",
       "    .dataframe tbody tr th {\n",
       "        vertical-align: top;\n",
       "    }\n",
       "\n",
       "    .dataframe thead th {\n",
       "        text-align: right;\n",
       "    }\n",
       "</style>\n",
       "<table border=\"1\" class=\"dataframe\">\n",
       "  <thead>\n",
       "    <tr style=\"text-align: right;\">\n",
       "      <th></th>\n",
       "      <th>overall_median</th>\n",
       "      <th>tech_degree_median</th>\n",
       "      <th>tech_degree_mean</th>\n",
       "      <th>pct_median_over</th>\n",
       "    </tr>\n",
       "    <tr>\n",
       "      <th>year</th>\n",
       "      <th></th>\n",
       "      <th></th>\n",
       "      <th></th>\n",
       "      <th></th>\n",
       "    </tr>\n",
       "  </thead>\n",
       "  <tbody>\n",
       "    <tr>\n",
       "      <th>2013</th>\n",
       "      <td>3.1000</td>\n",
       "      <td>3.1875</td>\n",
       "      <td>3.205000</td>\n",
       "      <td>2.822581</td>\n",
       "    </tr>\n",
       "    <tr>\n",
       "      <th>2014</th>\n",
       "      <td>3.2040</td>\n",
       "      <td>3.4500</td>\n",
       "      <td>3.408333</td>\n",
       "      <td>7.677903</td>\n",
       "    </tr>\n",
       "    <tr>\n",
       "      <th>2015</th>\n",
       "      <td>3.3000</td>\n",
       "      <td>3.5250</td>\n",
       "      <td>3.591667</td>\n",
       "      <td>6.818182</td>\n",
       "    </tr>\n",
       "    <tr>\n",
       "      <th>2016</th>\n",
       "      <td>3.4000</td>\n",
       "      <td>3.7500</td>\n",
       "      <td>3.750000</td>\n",
       "      <td>10.294118</td>\n",
       "    </tr>\n",
       "    <tr>\n",
       "      <th>2017</th>\n",
       "      <td>3.4345</td>\n",
       "      <td>4.0000</td>\n",
       "      <td>3.947857</td>\n",
       "      <td>16.465279</td>\n",
       "    </tr>\n",
       "    <tr>\n",
       "      <th>2018</th>\n",
       "      <td>3.5000</td>\n",
       "      <td>4.0000</td>\n",
       "      <td>4.146857</td>\n",
       "      <td>14.285714</td>\n",
       "    </tr>\n",
       "    <tr>\n",
       "      <th>2019</th>\n",
       "      <td>3.6000</td>\n",
       "      <td>4.2280</td>\n",
       "      <td>4.389714</td>\n",
       "      <td>17.444444</td>\n",
       "    </tr>\n",
       "    <tr>\n",
       "      <th>2020</th>\n",
       "      <td>3.7000</td>\n",
       "      <td>4.5420</td>\n",
       "      <td>4.645556</td>\n",
       "      <td>22.756757</td>\n",
       "    </tr>\n",
       "    <tr>\n",
       "      <th>2021</th>\n",
       "      <td>3.7900</td>\n",
       "      <td>5.0000</td>\n",
       "      <td>5.144444</td>\n",
       "      <td>31.926121</td>\n",
       "    </tr>\n",
       "    <tr>\n",
       "      <th>2022</th>\n",
       "      <td>4.2000</td>\n",
       "      <td>5.5000</td>\n",
       "      <td>5.642000</td>\n",
       "      <td>30.952381</td>\n",
       "    </tr>\n",
       "    <tr>\n",
       "      <th>2023</th>\n",
       "      <td>4.2000</td>\n",
       "      <td>5.4500</td>\n",
       "      <td>5.467800</td>\n",
       "      <td>29.761905</td>\n",
       "    </tr>\n",
       "  </tbody>\n",
       "</table>\n",
       "</div>"
      ],
      "text/plain": [
       "      overall_median  tech_degree_median  tech_degree_mean  pct_median_over\n",
       "year                                                                       \n",
       "2013          3.1000              3.1875          3.205000         2.822581\n",
       "2014          3.2040              3.4500          3.408333         7.677903\n",
       "2015          3.3000              3.5250          3.591667         6.818182\n",
       "2016          3.4000              3.7500          3.750000        10.294118\n",
       "2017          3.4345              4.0000          3.947857        16.465279\n",
       "2018          3.5000              4.0000          4.146857        14.285714\n",
       "2019          3.6000              4.2280          4.389714        17.444444\n",
       "2020          3.7000              4.5420          4.645556        22.756757\n",
       "2021          3.7900              5.0000          5.144444        31.926121\n",
       "2022          4.2000              5.5000          5.642000        30.952381\n",
       "2023          4.2000              5.4500          5.467800        29.761905"
      ]
     },
     "execution_count": 16,
     "metadata": {},
     "output_type": "execute_result"
    }
   ],
   "source": [
    "comparison_df"
   ]
  },
  {
   "cell_type": "markdown",
   "metadata": {},
   "source": [
    "# Dip in the last year\n",
    "\n",
    "Dumbell plot of tech salaries for year 2022 - 2023. \n",
    "\n",
    "In 2022 there were several high-profile layoffs in shopee, google, meta and more. This spelled trouble for many a graduating student. Did the reality reflect the fear on everyone's minds at the time? "
   ]
  },
  {
   "cell_type": "code",
   "execution_count": 17,
   "metadata": {},
   "outputs": [
    {
     "data": {
      "application/vnd.plotly.v1+json": {
       "config": {
        "plotlyServerURL": "https://plotly.com"
       },
       "data": [
        {
         "marker": {
          "color": [
           "green",
           "green",
           "green",
           "green",
           "green",
           "red",
           "red",
           "red",
           "red",
           "red"
          ]
         },
         "orientation": "h",
         "text": [
          105,
          0,
          0,
          0,
          0,
          -267,
          -300,
          -375,
          -405,
          -500
         ],
         "textposition": "outside",
         "type": "bar",
         "x": [
          105,
          0,
          0,
          0,
          0,
          -267,
          -300,
          -375,
          -405,
          -500
         ],
         "y": [
          "Computer Engineering (NTU)",
          "Business Analytics (NUS)",
          "Information Systems (NUS)",
          "Information Systems (SMU)",
          "Information Security (NUS)",
          "Computer Science (NUS)",
          "Computer Science (NTU)",
          "Data Science & Artificial Intelligence (NTU)",
          "Computer Engineering (NUS)",
          "Data Science and Analytics (NUS)"
         ]
        }
       ],
       "layout": {
        "margin": {
         "l": 15,
         "r": 10
        },
        "shapes": [
         {
          "line": {
           "color": "black",
           "dash": "dash",
           "width": 2
          },
          "type": "line",
          "x0": 0,
          "x1": 0,
          "y0": -0.5,
          "y1": 9.5
         }
        ],
        "template": {
         "data": {
          "bar": [
           {
            "error_x": {
             "color": "#2a3f5f"
            },
            "error_y": {
             "color": "#2a3f5f"
            },
            "marker": {
             "line": {
              "color": "#E5ECF6",
              "width": 0.5
             },
             "pattern": {
              "fillmode": "overlay",
              "size": 10,
              "solidity": 0.2
             }
            },
            "type": "bar"
           }
          ],
          "barpolar": [
           {
            "marker": {
             "line": {
              "color": "#E5ECF6",
              "width": 0.5
             },
             "pattern": {
              "fillmode": "overlay",
              "size": 10,
              "solidity": 0.2
             }
            },
            "type": "barpolar"
           }
          ],
          "carpet": [
           {
            "aaxis": {
             "endlinecolor": "#2a3f5f",
             "gridcolor": "white",
             "linecolor": "white",
             "minorgridcolor": "white",
             "startlinecolor": "#2a3f5f"
            },
            "baxis": {
             "endlinecolor": "#2a3f5f",
             "gridcolor": "white",
             "linecolor": "white",
             "minorgridcolor": "white",
             "startlinecolor": "#2a3f5f"
            },
            "type": "carpet"
           }
          ],
          "choropleth": [
           {
            "colorbar": {
             "outlinewidth": 0,
             "ticks": ""
            },
            "type": "choropleth"
           }
          ],
          "contour": [
           {
            "colorbar": {
             "outlinewidth": 0,
             "ticks": ""
            },
            "colorscale": [
             [
              0,
              "#0d0887"
             ],
             [
              0.1111111111111111,
              "#46039f"
             ],
             [
              0.2222222222222222,
              "#7201a8"
             ],
             [
              0.3333333333333333,
              "#9c179e"
             ],
             [
              0.4444444444444444,
              "#bd3786"
             ],
             [
              0.5555555555555556,
              "#d8576b"
             ],
             [
              0.6666666666666666,
              "#ed7953"
             ],
             [
              0.7777777777777778,
              "#fb9f3a"
             ],
             [
              0.8888888888888888,
              "#fdca26"
             ],
             [
              1,
              "#f0f921"
             ]
            ],
            "type": "contour"
           }
          ],
          "contourcarpet": [
           {
            "colorbar": {
             "outlinewidth": 0,
             "ticks": ""
            },
            "type": "contourcarpet"
           }
          ],
          "heatmap": [
           {
            "colorbar": {
             "outlinewidth": 0,
             "ticks": ""
            },
            "colorscale": [
             [
              0,
              "#0d0887"
             ],
             [
              0.1111111111111111,
              "#46039f"
             ],
             [
              0.2222222222222222,
              "#7201a8"
             ],
             [
              0.3333333333333333,
              "#9c179e"
             ],
             [
              0.4444444444444444,
              "#bd3786"
             ],
             [
              0.5555555555555556,
              "#d8576b"
             ],
             [
              0.6666666666666666,
              "#ed7953"
             ],
             [
              0.7777777777777778,
              "#fb9f3a"
             ],
             [
              0.8888888888888888,
              "#fdca26"
             ],
             [
              1,
              "#f0f921"
             ]
            ],
            "type": "heatmap"
           }
          ],
          "heatmapgl": [
           {
            "colorbar": {
             "outlinewidth": 0,
             "ticks": ""
            },
            "colorscale": [
             [
              0,
              "#0d0887"
             ],
             [
              0.1111111111111111,
              "#46039f"
             ],
             [
              0.2222222222222222,
              "#7201a8"
             ],
             [
              0.3333333333333333,
              "#9c179e"
             ],
             [
              0.4444444444444444,
              "#bd3786"
             ],
             [
              0.5555555555555556,
              "#d8576b"
             ],
             [
              0.6666666666666666,
              "#ed7953"
             ],
             [
              0.7777777777777778,
              "#fb9f3a"
             ],
             [
              0.8888888888888888,
              "#fdca26"
             ],
             [
              1,
              "#f0f921"
             ]
            ],
            "type": "heatmapgl"
           }
          ],
          "histogram": [
           {
            "marker": {
             "pattern": {
              "fillmode": "overlay",
              "size": 10,
              "solidity": 0.2
             }
            },
            "type": "histogram"
           }
          ],
          "histogram2d": [
           {
            "colorbar": {
             "outlinewidth": 0,
             "ticks": ""
            },
            "colorscale": [
             [
              0,
              "#0d0887"
             ],
             [
              0.1111111111111111,
              "#46039f"
             ],
             [
              0.2222222222222222,
              "#7201a8"
             ],
             [
              0.3333333333333333,
              "#9c179e"
             ],
             [
              0.4444444444444444,
              "#bd3786"
             ],
             [
              0.5555555555555556,
              "#d8576b"
             ],
             [
              0.6666666666666666,
              "#ed7953"
             ],
             [
              0.7777777777777778,
              "#fb9f3a"
             ],
             [
              0.8888888888888888,
              "#fdca26"
             ],
             [
              1,
              "#f0f921"
             ]
            ],
            "type": "histogram2d"
           }
          ],
          "histogram2dcontour": [
           {
            "colorbar": {
             "outlinewidth": 0,
             "ticks": ""
            },
            "colorscale": [
             [
              0,
              "#0d0887"
             ],
             [
              0.1111111111111111,
              "#46039f"
             ],
             [
              0.2222222222222222,
              "#7201a8"
             ],
             [
              0.3333333333333333,
              "#9c179e"
             ],
             [
              0.4444444444444444,
              "#bd3786"
             ],
             [
              0.5555555555555556,
              "#d8576b"
             ],
             [
              0.6666666666666666,
              "#ed7953"
             ],
             [
              0.7777777777777778,
              "#fb9f3a"
             ],
             [
              0.8888888888888888,
              "#fdca26"
             ],
             [
              1,
              "#f0f921"
             ]
            ],
            "type": "histogram2dcontour"
           }
          ],
          "mesh3d": [
           {
            "colorbar": {
             "outlinewidth": 0,
             "ticks": ""
            },
            "type": "mesh3d"
           }
          ],
          "parcoords": [
           {
            "line": {
             "colorbar": {
              "outlinewidth": 0,
              "ticks": ""
             }
            },
            "type": "parcoords"
           }
          ],
          "pie": [
           {
            "automargin": true,
            "type": "pie"
           }
          ],
          "scatter": [
           {
            "fillpattern": {
             "fillmode": "overlay",
             "size": 10,
             "solidity": 0.2
            },
            "type": "scatter"
           }
          ],
          "scatter3d": [
           {
            "line": {
             "colorbar": {
              "outlinewidth": 0,
              "ticks": ""
             }
            },
            "marker": {
             "colorbar": {
              "outlinewidth": 0,
              "ticks": ""
             }
            },
            "type": "scatter3d"
           }
          ],
          "scattercarpet": [
           {
            "marker": {
             "colorbar": {
              "outlinewidth": 0,
              "ticks": ""
             }
            },
            "type": "scattercarpet"
           }
          ],
          "scattergeo": [
           {
            "marker": {
             "colorbar": {
              "outlinewidth": 0,
              "ticks": ""
             }
            },
            "type": "scattergeo"
           }
          ],
          "scattergl": [
           {
            "marker": {
             "colorbar": {
              "outlinewidth": 0,
              "ticks": ""
             }
            },
            "type": "scattergl"
           }
          ],
          "scattermapbox": [
           {
            "marker": {
             "colorbar": {
              "outlinewidth": 0,
              "ticks": ""
             }
            },
            "type": "scattermapbox"
           }
          ],
          "scatterpolar": [
           {
            "marker": {
             "colorbar": {
              "outlinewidth": 0,
              "ticks": ""
             }
            },
            "type": "scatterpolar"
           }
          ],
          "scatterpolargl": [
           {
            "marker": {
             "colorbar": {
              "outlinewidth": 0,
              "ticks": ""
             }
            },
            "type": "scatterpolargl"
           }
          ],
          "scatterternary": [
           {
            "marker": {
             "colorbar": {
              "outlinewidth": 0,
              "ticks": ""
             }
            },
            "type": "scatterternary"
           }
          ],
          "surface": [
           {
            "colorbar": {
             "outlinewidth": 0,
             "ticks": ""
            },
            "colorscale": [
             [
              0,
              "#0d0887"
             ],
             [
              0.1111111111111111,
              "#46039f"
             ],
             [
              0.2222222222222222,
              "#7201a8"
             ],
             [
              0.3333333333333333,
              "#9c179e"
             ],
             [
              0.4444444444444444,
              "#bd3786"
             ],
             [
              0.5555555555555556,
              "#d8576b"
             ],
             [
              0.6666666666666666,
              "#ed7953"
             ],
             [
              0.7777777777777778,
              "#fb9f3a"
             ],
             [
              0.8888888888888888,
              "#fdca26"
             ],
             [
              1,
              "#f0f921"
             ]
            ],
            "type": "surface"
           }
          ],
          "table": [
           {
            "cells": {
             "fill": {
              "color": "#EBF0F8"
             },
             "line": {
              "color": "white"
             }
            },
            "header": {
             "fill": {
              "color": "#C8D4E3"
             },
             "line": {
              "color": "white"
             }
            },
            "type": "table"
           }
          ]
         },
         "layout": {
          "annotationdefaults": {
           "arrowcolor": "#2a3f5f",
           "arrowhead": 0,
           "arrowwidth": 1
          },
          "autotypenumbers": "strict",
          "coloraxis": {
           "colorbar": {
            "outlinewidth": 0,
            "ticks": ""
           }
          },
          "colorscale": {
           "diverging": [
            [
             0,
             "#8e0152"
            ],
            [
             0.1,
             "#c51b7d"
            ],
            [
             0.2,
             "#de77ae"
            ],
            [
             0.3,
             "#f1b6da"
            ],
            [
             0.4,
             "#fde0ef"
            ],
            [
             0.5,
             "#f7f7f7"
            ],
            [
             0.6,
             "#e6f5d0"
            ],
            [
             0.7,
             "#b8e186"
            ],
            [
             0.8,
             "#7fbc41"
            ],
            [
             0.9,
             "#4d9221"
            ],
            [
             1,
             "#276419"
            ]
           ],
           "sequential": [
            [
             0,
             "#0d0887"
            ],
            [
             0.1111111111111111,
             "#46039f"
            ],
            [
             0.2222222222222222,
             "#7201a8"
            ],
            [
             0.3333333333333333,
             "#9c179e"
            ],
            [
             0.4444444444444444,
             "#bd3786"
            ],
            [
             0.5555555555555556,
             "#d8576b"
            ],
            [
             0.6666666666666666,
             "#ed7953"
            ],
            [
             0.7777777777777778,
             "#fb9f3a"
            ],
            [
             0.8888888888888888,
             "#fdca26"
            ],
            [
             1,
             "#f0f921"
            ]
           ],
           "sequentialminus": [
            [
             0,
             "#0d0887"
            ],
            [
             0.1111111111111111,
             "#46039f"
            ],
            [
             0.2222222222222222,
             "#7201a8"
            ],
            [
             0.3333333333333333,
             "#9c179e"
            ],
            [
             0.4444444444444444,
             "#bd3786"
            ],
            [
             0.5555555555555556,
             "#d8576b"
            ],
            [
             0.6666666666666666,
             "#ed7953"
            ],
            [
             0.7777777777777778,
             "#fb9f3a"
            ],
            [
             0.8888888888888888,
             "#fdca26"
            ],
            [
             1,
             "#f0f921"
            ]
           ]
          },
          "colorway": [
           "#636efa",
           "#EF553B",
           "#00cc96",
           "#ab63fa",
           "#FFA15A",
           "#19d3f3",
           "#FF6692",
           "#B6E880",
           "#FF97FF",
           "#FECB52"
          ],
          "font": {
           "color": "#2a3f5f"
          },
          "geo": {
           "bgcolor": "white",
           "lakecolor": "white",
           "landcolor": "#E5ECF6",
           "showlakes": true,
           "showland": true,
           "subunitcolor": "white"
          },
          "hoverlabel": {
           "align": "left"
          },
          "hovermode": "closest",
          "mapbox": {
           "style": "light"
          },
          "paper_bgcolor": "white",
          "plot_bgcolor": "#E5ECF6",
          "polar": {
           "angularaxis": {
            "gridcolor": "white",
            "linecolor": "white",
            "ticks": ""
           },
           "bgcolor": "#E5ECF6",
           "radialaxis": {
            "gridcolor": "white",
            "linecolor": "white",
            "ticks": ""
           }
          },
          "scene": {
           "xaxis": {
            "backgroundcolor": "#E5ECF6",
            "gridcolor": "white",
            "gridwidth": 2,
            "linecolor": "white",
            "showbackground": true,
            "ticks": "",
            "zerolinecolor": "white"
           },
           "yaxis": {
            "backgroundcolor": "#E5ECF6",
            "gridcolor": "white",
            "gridwidth": 2,
            "linecolor": "white",
            "showbackground": true,
            "ticks": "",
            "zerolinecolor": "white"
           },
           "zaxis": {
            "backgroundcolor": "#E5ECF6",
            "gridcolor": "white",
            "gridwidth": 2,
            "linecolor": "white",
            "showbackground": true,
            "ticks": "",
            "zerolinecolor": "white"
           }
          },
          "shapedefaults": {
           "line": {
            "color": "#2a3f5f"
           }
          },
          "ternary": {
           "aaxis": {
            "gridcolor": "white",
            "linecolor": "white",
            "ticks": ""
           },
           "baxis": {
            "gridcolor": "white",
            "linecolor": "white",
            "ticks": ""
           },
           "bgcolor": "#E5ECF6",
           "caxis": {
            "gridcolor": "white",
            "linecolor": "white",
            "ticks": ""
           }
          },
          "title": {
           "x": 0.05
          },
          "xaxis": {
           "automargin": true,
           "gridcolor": "white",
           "linecolor": "white",
           "ticks": "",
           "title": {
            "standoff": 15
           },
           "zerolinecolor": "white",
           "zerolinewidth": 2
          },
          "yaxis": {
           "automargin": true,
           "gridcolor": "white",
           "linecolor": "white",
           "ticks": "",
           "title": {
            "standoff": 15
           },
           "zerolinecolor": "white",
           "zerolinewidth": 2
          }
         }
        },
        "title": {
         "text": "Change in Median Salaries for Tech Degrees (2022 to 2023)"
        },
        "xaxis": {
         "fixedrange": true,
         "range": [
          -600,
          205
         ],
         "tickformat": "$,.0f",
         "title": {
          "text": "Change in Gross Monthly Median Salary"
         },
         "zeroline": false
        },
        "yaxis": {
         "autorange": "reversed",
         "fixedrange": true
        }
       }
      }
     },
     "metadata": {},
     "output_type": "display_data"
    }
   ],
   "source": [
    "df = orig_df.copy()\n",
    "# Filter the DataFrame for tech-related degrees\n",
    "df['is_tech_degree'] = df.apply(lambda x: 1 if x['course'] in tech_degrees.get(x['uni'], []) else 0, axis=1)\n",
    "\n",
    "# Adjust gross_monthly_median to thousands\n",
    "# df['gross_monthly_median'] = df['gross_monthly_median'] / 1000\n",
    "\n",
    "\n",
    "# Provided tech_degrees dictionary\n",
    "tech_degrees = {\n",
    "    'NUS': ['Data Science and Analytics', 'Business Analytics', 'Computer Science', 'Information Security', 'Information Systems'],\n",
    "    'NTU': ['Computer Engineering', 'Computer Science', 'Data Science & Artificial Intelligence'],\n",
    "    'SMU': ['Information Systems']\n",
    "}\n",
    "\n",
    "# Filter the DataFrame for tech-related degrees in 2022 and 2023\n",
    "tech_degrees_df = df[(df['is_tech_degree'] == 1) & (df['course_row'] == 1) & df['year'].isin([2022, 2023])]\n",
    "\n",
    "# Compute the change in salary from 2022 to 2023\n",
    "change_df = tech_degrees_df.pivot_table(\n",
    "    index=['uni', 'course'], \n",
    "    columns='year', \n",
    "    values='gross_monthly_median'\n",
    ").reset_index()\n",
    "\n",
    "change_df['change'] = change_df[2023] - change_df[2022]\n",
    "change_df['course_uni'] = change_df.apply(lambda x: f\"{x['course']} ({x['uni']})\", axis=1)\n",
    "\n",
    "# Sort the DataFrame by the 'change' column\n",
    "change_df.sort_values(by='change', ascending=False, inplace=True)\n",
    "\n",
    "# Create the bar plot with flipped axes\n",
    "fig = go.Figure()\n",
    "\n",
    "fig.add_trace(go.Bar(\n",
    "    y=change_df['course_uni'],\n",
    "    x=change_df['change'],\n",
    "    orientation='h',\n",
    "    marker_color=['red' if x < 0 else 'green' for x in change_df['change']],\n",
    "    text=change_df['change'],\n",
    "    textposition='outside'\n",
    "))\n",
    "\n",
    "# Add a vertical dashed line at x=0\n",
    "fig.add_shape(\n",
    "    type=\"line\",\n",
    "    x0=0, y0=-0.5, x1=0, y1=len(change_df) - 0.5,\n",
    "    line=dict(color=\"black\", width=2, dash=\"dash\")\n",
    ")\n",
    "\n",
    "# Customize the layout\n",
    "fig.update_layout(\n",
    "    xaxis_fixedrange=True, yaxis_fixedrange=True,\n",
    "    # title = {\n",
    "    #         'text': \"Change in Median Salaries for Tech Degrees (2022 to 2023)\"\n",
    "    #         , 'y' : 0.95\n",
    "    #         , 'x': 0.1\n",
    "    #         , 'xanchor': 'left'\n",
    "    #         , 'yanchor': 'top'\n",
    "    #     },\n",
    "    title = \"Change in Median Salaries for Tech Degrees (2022 to 2023)\",\n",
    "    xaxis_title=\"Change in Gross Monthly Median Salary\",\n",
    "    # yaxis_title=\"Degree (University)\",\n",
    "    xaxis=dict(\n",
    "        tickformat=\"$,.0f\",\n",
    "        zeroline=False,  # Hide the zero line (since we added our own dashed line)\n",
    "        range=[min(change_df['change']) - 100, max(change_df['change']) + 100]  # Adjust range to center 0\n",
    "    ),\n",
    "    yaxis=dict(autorange=\"reversed\")  # To keep the degrees ordered as before\n",
    "    , margin = dict(r=10, l=15)\n",
    ")\n",
    "\n",
    "# Show the figure\n",
    "fig.show()"
   ]
  },
  {
   "cell_type": "code",
   "execution_count": 18,
   "metadata": {},
   "outputs": [],
   "source": [
    "# Host on plotly\n",
    "# py.plot(fig, filename= 'salary_change', auto_open=True)"
   ]
  },
  {
   "cell_type": "code",
   "execution_count": 19,
   "metadata": {},
   "outputs": [
    {
     "name": "stdout",
     "output_type": "stream",
     "text": [
      "50.0\n",
      "65.53731343283582\n"
     ]
    }
   ],
   "source": [
    "df = orig_df.copy()\n",
    "# Filter the DataFrame for tech-related degrees\n",
    "df['is_tech_degree'] = df.apply(lambda x: 1 if x['course'] in tech_degrees.get(x['uni'], []) else 0, axis=1)\n",
    "\n",
    "# Compute the overall average change in salary across all courses from 2022 to 2023\n",
    "all_courses_df = df[(df['course_row'] == 1) & df['year'].isin([2022, 2023])]\n",
    "overall_change = all_courses_df.pivot_table(index=['uni', 'course'], columns='year', values='gross_monthly_median')\n",
    "print((overall_change[2023] - overall_change[2022]).median())\n",
    "print((overall_change[2023] - overall_change[2022]).mean())"
   ]
  },
  {
   "cell_type": "code",
   "execution_count": 20,
   "metadata": {},
   "outputs": [
    {
     "data": {
      "text/html": [
       "<div>\n",
       "<style scoped>\n",
       "    .dataframe tbody tr th:only-of-type {\n",
       "        vertical-align: middle;\n",
       "    }\n",
       "\n",
       "    .dataframe tbody tr th {\n",
       "        vertical-align: top;\n",
       "    }\n",
       "\n",
       "    .dataframe thead th {\n",
       "        text-align: right;\n",
       "    }\n",
       "</style>\n",
       "<table border=\"1\" class=\"dataframe\">\n",
       "  <thead>\n",
       "    <tr style=\"text-align: right;\">\n",
       "      <th></th>\n",
       "      <th>year</th>\n",
       "      <th>2022</th>\n",
       "      <th>2023</th>\n",
       "    </tr>\n",
       "    <tr>\n",
       "      <th>uni</th>\n",
       "      <th>course</th>\n",
       "      <th></th>\n",
       "      <th></th>\n",
       "    </tr>\n",
       "  </thead>\n",
       "  <tbody>\n",
       "    <tr>\n",
       "      <th rowspan=\"5\" valign=\"top\">NTU</th>\n",
       "      <th>Accountancy</th>\n",
       "      <td>3600.0</td>\n",
       "      <td>3600.0</td>\n",
       "    </tr>\n",
       "    <tr>\n",
       "      <th>Aerospace Engineering</th>\n",
       "      <td>5000.0</td>\n",
       "      <td>4763.0</td>\n",
       "    </tr>\n",
       "    <tr>\n",
       "      <th>Art, Design and Media</th>\n",
       "      <td>3200.0</td>\n",
       "      <td>3498.0</td>\n",
       "    </tr>\n",
       "    <tr>\n",
       "      <th>Arts (Education)</th>\n",
       "      <td>4129.0</td>\n",
       "      <td>4129.0</td>\n",
       "    </tr>\n",
       "    <tr>\n",
       "      <th>Bioengineering</th>\n",
       "      <td>4200.0</td>\n",
       "      <td>4043.0</td>\n",
       "    </tr>\n",
       "    <tr>\n",
       "      <th>...</th>\n",
       "      <th>...</th>\n",
       "      <td>...</td>\n",
       "      <td>...</td>\n",
       "    </tr>\n",
       "    <tr>\n",
       "      <th rowspan=\"5\" valign=\"top\">SMU</th>\n",
       "      <th>Business Management</th>\n",
       "      <td>4400.0</td>\n",
       "      <td>4436.0</td>\n",
       "    </tr>\n",
       "    <tr>\n",
       "      <th>Economics</th>\n",
       "      <td>4500.0</td>\n",
       "      <td>4500.0</td>\n",
       "    </tr>\n",
       "    <tr>\n",
       "      <th>Information Systems</th>\n",
       "      <td>5400.0</td>\n",
       "      <td>5400.0</td>\n",
       "    </tr>\n",
       "    <tr>\n",
       "      <th>Law</th>\n",
       "      <td>6375.0</td>\n",
       "      <td>7000.0</td>\n",
       "    </tr>\n",
       "    <tr>\n",
       "      <th>Social Sciences</th>\n",
       "      <td>4000.0</td>\n",
       "      <td>4000.0</td>\n",
       "    </tr>\n",
       "  </tbody>\n",
       "</table>\n",
       "<p>70 rows × 2 columns</p>\n",
       "</div>"
      ],
      "text/plain": [
       "year                         2022    2023\n",
       "uni course                               \n",
       "NTU Accountancy            3600.0  3600.0\n",
       "    Aerospace Engineering  5000.0  4763.0\n",
       "    Art, Design and Media  3200.0  3498.0\n",
       "    Arts (Education)       4129.0  4129.0\n",
       "    Bioengineering         4200.0  4043.0\n",
       "...                           ...     ...\n",
       "SMU Business Management    4400.0  4436.0\n",
       "    Economics              4500.0  4500.0\n",
       "    Information Systems    5400.0  5400.0\n",
       "    Law                    6375.0  7000.0\n",
       "    Social Sciences        4000.0  4000.0\n",
       "\n",
       "[70 rows x 2 columns]"
      ]
     },
     "execution_count": 20,
     "metadata": {},
     "output_type": "execute_result"
    }
   ],
   "source": [
    "overall_change"
   ]
  },
  {
   "cell_type": "code",
   "execution_count": null,
   "metadata": {},
   "outputs": [],
   "source": []
  },
  {
   "cell_type": "code",
   "execution_count": 21,
   "metadata": {},
   "outputs": [
    {
     "data": {
      "application/vnd.plotly.v1+json": {
       "config": {
        "plotlyServerURL": "https://plotly.com"
       },
       "data": [
        {
         "marker": {
          "color": [
           "green",
           "green",
           "green",
           "green",
           "green",
           "red",
           "red",
           "red",
           "red"
          ]
         },
         "orientation": "h",
         "text": [
          105,
          0,
          0,
          0,
          0,
          -267,
          -300,
          -375,
          -500
         ],
         "textposition": "outside",
         "type": "bar",
         "x": [
          105,
          0,
          0,
          0,
          0,
          -267,
          -300,
          -375,
          -500
         ],
         "y": [
          "Computer Engineering (NTU)",
          "Business Analytics (NUS)",
          "Information Systems (SMU)",
          "Information Systems (NUS)",
          "Information Security (NUS)",
          "Computer Science (NUS)",
          "Computer Science (NTU)",
          "Data Science & Artificial Intelligence (NTU)",
          "Data Science and Analytics (NUS)"
         ]
        },
        {
         "line": {
          "color": "blue",
          "dash": "dash"
         },
         "mode": "lines",
         "name": "Overall Average Change",
         "type": "scatter",
         "x": [
          65.53731343283582
         ],
         "y": [
          null
         ]
        }
       ],
       "layout": {
        "shapes": [
         {
          "line": {
           "color": "black",
           "dash": "dash",
           "width": 2
          },
          "name": "No Change",
          "type": "line",
          "x0": 0,
          "x1": 0,
          "y0": -0.5,
          "y1": 8.5
         },
         {
          "line": {
           "color": "blue",
           "dash": "dash",
           "width": 2
          },
          "name": "Overall Average Change",
          "type": "line",
          "x0": 65.53731343283582,
          "x1": 65.53731343283582,
          "y0": -0.5,
          "y1": 8.5
         }
        ],
        "showlegend": true,
        "template": {
         "data": {
          "bar": [
           {
            "error_x": {
             "color": "#2a3f5f"
            },
            "error_y": {
             "color": "#2a3f5f"
            },
            "marker": {
             "line": {
              "color": "#E5ECF6",
              "width": 0.5
             },
             "pattern": {
              "fillmode": "overlay",
              "size": 10,
              "solidity": 0.2
             }
            },
            "type": "bar"
           }
          ],
          "barpolar": [
           {
            "marker": {
             "line": {
              "color": "#E5ECF6",
              "width": 0.5
             },
             "pattern": {
              "fillmode": "overlay",
              "size": 10,
              "solidity": 0.2
             }
            },
            "type": "barpolar"
           }
          ],
          "carpet": [
           {
            "aaxis": {
             "endlinecolor": "#2a3f5f",
             "gridcolor": "white",
             "linecolor": "white",
             "minorgridcolor": "white",
             "startlinecolor": "#2a3f5f"
            },
            "baxis": {
             "endlinecolor": "#2a3f5f",
             "gridcolor": "white",
             "linecolor": "white",
             "minorgridcolor": "white",
             "startlinecolor": "#2a3f5f"
            },
            "type": "carpet"
           }
          ],
          "choropleth": [
           {
            "colorbar": {
             "outlinewidth": 0,
             "ticks": ""
            },
            "type": "choropleth"
           }
          ],
          "contour": [
           {
            "colorbar": {
             "outlinewidth": 0,
             "ticks": ""
            },
            "colorscale": [
             [
              0,
              "#0d0887"
             ],
             [
              0.1111111111111111,
              "#46039f"
             ],
             [
              0.2222222222222222,
              "#7201a8"
             ],
             [
              0.3333333333333333,
              "#9c179e"
             ],
             [
              0.4444444444444444,
              "#bd3786"
             ],
             [
              0.5555555555555556,
              "#d8576b"
             ],
             [
              0.6666666666666666,
              "#ed7953"
             ],
             [
              0.7777777777777778,
              "#fb9f3a"
             ],
             [
              0.8888888888888888,
              "#fdca26"
             ],
             [
              1,
              "#f0f921"
             ]
            ],
            "type": "contour"
           }
          ],
          "contourcarpet": [
           {
            "colorbar": {
             "outlinewidth": 0,
             "ticks": ""
            },
            "type": "contourcarpet"
           }
          ],
          "heatmap": [
           {
            "colorbar": {
             "outlinewidth": 0,
             "ticks": ""
            },
            "colorscale": [
             [
              0,
              "#0d0887"
             ],
             [
              0.1111111111111111,
              "#46039f"
             ],
             [
              0.2222222222222222,
              "#7201a8"
             ],
             [
              0.3333333333333333,
              "#9c179e"
             ],
             [
              0.4444444444444444,
              "#bd3786"
             ],
             [
              0.5555555555555556,
              "#d8576b"
             ],
             [
              0.6666666666666666,
              "#ed7953"
             ],
             [
              0.7777777777777778,
              "#fb9f3a"
             ],
             [
              0.8888888888888888,
              "#fdca26"
             ],
             [
              1,
              "#f0f921"
             ]
            ],
            "type": "heatmap"
           }
          ],
          "heatmapgl": [
           {
            "colorbar": {
             "outlinewidth": 0,
             "ticks": ""
            },
            "colorscale": [
             [
              0,
              "#0d0887"
             ],
             [
              0.1111111111111111,
              "#46039f"
             ],
             [
              0.2222222222222222,
              "#7201a8"
             ],
             [
              0.3333333333333333,
              "#9c179e"
             ],
             [
              0.4444444444444444,
              "#bd3786"
             ],
             [
              0.5555555555555556,
              "#d8576b"
             ],
             [
              0.6666666666666666,
              "#ed7953"
             ],
             [
              0.7777777777777778,
              "#fb9f3a"
             ],
             [
              0.8888888888888888,
              "#fdca26"
             ],
             [
              1,
              "#f0f921"
             ]
            ],
            "type": "heatmapgl"
           }
          ],
          "histogram": [
           {
            "marker": {
             "pattern": {
              "fillmode": "overlay",
              "size": 10,
              "solidity": 0.2
             }
            },
            "type": "histogram"
           }
          ],
          "histogram2d": [
           {
            "colorbar": {
             "outlinewidth": 0,
             "ticks": ""
            },
            "colorscale": [
             [
              0,
              "#0d0887"
             ],
             [
              0.1111111111111111,
              "#46039f"
             ],
             [
              0.2222222222222222,
              "#7201a8"
             ],
             [
              0.3333333333333333,
              "#9c179e"
             ],
             [
              0.4444444444444444,
              "#bd3786"
             ],
             [
              0.5555555555555556,
              "#d8576b"
             ],
             [
              0.6666666666666666,
              "#ed7953"
             ],
             [
              0.7777777777777778,
              "#fb9f3a"
             ],
             [
              0.8888888888888888,
              "#fdca26"
             ],
             [
              1,
              "#f0f921"
             ]
            ],
            "type": "histogram2d"
           }
          ],
          "histogram2dcontour": [
           {
            "colorbar": {
             "outlinewidth": 0,
             "ticks": ""
            },
            "colorscale": [
             [
              0,
              "#0d0887"
             ],
             [
              0.1111111111111111,
              "#46039f"
             ],
             [
              0.2222222222222222,
              "#7201a8"
             ],
             [
              0.3333333333333333,
              "#9c179e"
             ],
             [
              0.4444444444444444,
              "#bd3786"
             ],
             [
              0.5555555555555556,
              "#d8576b"
             ],
             [
              0.6666666666666666,
              "#ed7953"
             ],
             [
              0.7777777777777778,
              "#fb9f3a"
             ],
             [
              0.8888888888888888,
              "#fdca26"
             ],
             [
              1,
              "#f0f921"
             ]
            ],
            "type": "histogram2dcontour"
           }
          ],
          "mesh3d": [
           {
            "colorbar": {
             "outlinewidth": 0,
             "ticks": ""
            },
            "type": "mesh3d"
           }
          ],
          "parcoords": [
           {
            "line": {
             "colorbar": {
              "outlinewidth": 0,
              "ticks": ""
             }
            },
            "type": "parcoords"
           }
          ],
          "pie": [
           {
            "automargin": true,
            "type": "pie"
           }
          ],
          "scatter": [
           {
            "fillpattern": {
             "fillmode": "overlay",
             "size": 10,
             "solidity": 0.2
            },
            "type": "scatter"
           }
          ],
          "scatter3d": [
           {
            "line": {
             "colorbar": {
              "outlinewidth": 0,
              "ticks": ""
             }
            },
            "marker": {
             "colorbar": {
              "outlinewidth": 0,
              "ticks": ""
             }
            },
            "type": "scatter3d"
           }
          ],
          "scattercarpet": [
           {
            "marker": {
             "colorbar": {
              "outlinewidth": 0,
              "ticks": ""
             }
            },
            "type": "scattercarpet"
           }
          ],
          "scattergeo": [
           {
            "marker": {
             "colorbar": {
              "outlinewidth": 0,
              "ticks": ""
             }
            },
            "type": "scattergeo"
           }
          ],
          "scattergl": [
           {
            "marker": {
             "colorbar": {
              "outlinewidth": 0,
              "ticks": ""
             }
            },
            "type": "scattergl"
           }
          ],
          "scattermapbox": [
           {
            "marker": {
             "colorbar": {
              "outlinewidth": 0,
              "ticks": ""
             }
            },
            "type": "scattermapbox"
           }
          ],
          "scatterpolar": [
           {
            "marker": {
             "colorbar": {
              "outlinewidth": 0,
              "ticks": ""
             }
            },
            "type": "scatterpolar"
           }
          ],
          "scatterpolargl": [
           {
            "marker": {
             "colorbar": {
              "outlinewidth": 0,
              "ticks": ""
             }
            },
            "type": "scatterpolargl"
           }
          ],
          "scatterternary": [
           {
            "marker": {
             "colorbar": {
              "outlinewidth": 0,
              "ticks": ""
             }
            },
            "type": "scatterternary"
           }
          ],
          "surface": [
           {
            "colorbar": {
             "outlinewidth": 0,
             "ticks": ""
            },
            "colorscale": [
             [
              0,
              "#0d0887"
             ],
             [
              0.1111111111111111,
              "#46039f"
             ],
             [
              0.2222222222222222,
              "#7201a8"
             ],
             [
              0.3333333333333333,
              "#9c179e"
             ],
             [
              0.4444444444444444,
              "#bd3786"
             ],
             [
              0.5555555555555556,
              "#d8576b"
             ],
             [
              0.6666666666666666,
              "#ed7953"
             ],
             [
              0.7777777777777778,
              "#fb9f3a"
             ],
             [
              0.8888888888888888,
              "#fdca26"
             ],
             [
              1,
              "#f0f921"
             ]
            ],
            "type": "surface"
           }
          ],
          "table": [
           {
            "cells": {
             "fill": {
              "color": "#EBF0F8"
             },
             "line": {
              "color": "white"
             }
            },
            "header": {
             "fill": {
              "color": "#C8D4E3"
             },
             "line": {
              "color": "white"
             }
            },
            "type": "table"
           }
          ]
         },
         "layout": {
          "annotationdefaults": {
           "arrowcolor": "#2a3f5f",
           "arrowhead": 0,
           "arrowwidth": 1
          },
          "autotypenumbers": "strict",
          "coloraxis": {
           "colorbar": {
            "outlinewidth": 0,
            "ticks": ""
           }
          },
          "colorscale": {
           "diverging": [
            [
             0,
             "#8e0152"
            ],
            [
             0.1,
             "#c51b7d"
            ],
            [
             0.2,
             "#de77ae"
            ],
            [
             0.3,
             "#f1b6da"
            ],
            [
             0.4,
             "#fde0ef"
            ],
            [
             0.5,
             "#f7f7f7"
            ],
            [
             0.6,
             "#e6f5d0"
            ],
            [
             0.7,
             "#b8e186"
            ],
            [
             0.8,
             "#7fbc41"
            ],
            [
             0.9,
             "#4d9221"
            ],
            [
             1,
             "#276419"
            ]
           ],
           "sequential": [
            [
             0,
             "#0d0887"
            ],
            [
             0.1111111111111111,
             "#46039f"
            ],
            [
             0.2222222222222222,
             "#7201a8"
            ],
            [
             0.3333333333333333,
             "#9c179e"
            ],
            [
             0.4444444444444444,
             "#bd3786"
            ],
            [
             0.5555555555555556,
             "#d8576b"
            ],
            [
             0.6666666666666666,
             "#ed7953"
            ],
            [
             0.7777777777777778,
             "#fb9f3a"
            ],
            [
             0.8888888888888888,
             "#fdca26"
            ],
            [
             1,
             "#f0f921"
            ]
           ],
           "sequentialminus": [
            [
             0,
             "#0d0887"
            ],
            [
             0.1111111111111111,
             "#46039f"
            ],
            [
             0.2222222222222222,
             "#7201a8"
            ],
            [
             0.3333333333333333,
             "#9c179e"
            ],
            [
             0.4444444444444444,
             "#bd3786"
            ],
            [
             0.5555555555555556,
             "#d8576b"
            ],
            [
             0.6666666666666666,
             "#ed7953"
            ],
            [
             0.7777777777777778,
             "#fb9f3a"
            ],
            [
             0.8888888888888888,
             "#fdca26"
            ],
            [
             1,
             "#f0f921"
            ]
           ]
          },
          "colorway": [
           "#636efa",
           "#EF553B",
           "#00cc96",
           "#ab63fa",
           "#FFA15A",
           "#19d3f3",
           "#FF6692",
           "#B6E880",
           "#FF97FF",
           "#FECB52"
          ],
          "font": {
           "color": "#2a3f5f"
          },
          "geo": {
           "bgcolor": "white",
           "lakecolor": "white",
           "landcolor": "#E5ECF6",
           "showlakes": true,
           "showland": true,
           "subunitcolor": "white"
          },
          "hoverlabel": {
           "align": "left"
          },
          "hovermode": "closest",
          "mapbox": {
           "style": "light"
          },
          "paper_bgcolor": "white",
          "plot_bgcolor": "#E5ECF6",
          "polar": {
           "angularaxis": {
            "gridcolor": "white",
            "linecolor": "white",
            "ticks": ""
           },
           "bgcolor": "#E5ECF6",
           "radialaxis": {
            "gridcolor": "white",
            "linecolor": "white",
            "ticks": ""
           }
          },
          "scene": {
           "xaxis": {
            "backgroundcolor": "#E5ECF6",
            "gridcolor": "white",
            "gridwidth": 2,
            "linecolor": "white",
            "showbackground": true,
            "ticks": "",
            "zerolinecolor": "white"
           },
           "yaxis": {
            "backgroundcolor": "#E5ECF6",
            "gridcolor": "white",
            "gridwidth": 2,
            "linecolor": "white",
            "showbackground": true,
            "ticks": "",
            "zerolinecolor": "white"
           },
           "zaxis": {
            "backgroundcolor": "#E5ECF6",
            "gridcolor": "white",
            "gridwidth": 2,
            "linecolor": "white",
            "showbackground": true,
            "ticks": "",
            "zerolinecolor": "white"
           }
          },
          "shapedefaults": {
           "line": {
            "color": "#2a3f5f"
           }
          },
          "ternary": {
           "aaxis": {
            "gridcolor": "white",
            "linecolor": "white",
            "ticks": ""
           },
           "baxis": {
            "gridcolor": "white",
            "linecolor": "white",
            "ticks": ""
           },
           "bgcolor": "#E5ECF6",
           "caxis": {
            "gridcolor": "white",
            "linecolor": "white",
            "ticks": ""
           }
          },
          "title": {
           "x": 0.05
          },
          "xaxis": {
           "automargin": true,
           "gridcolor": "white",
           "linecolor": "white",
           "ticks": "",
           "title": {
            "standoff": 15
           },
           "zerolinecolor": "white",
           "zerolinewidth": 2
          },
          "yaxis": {
           "automargin": true,
           "gridcolor": "white",
           "linecolor": "white",
           "ticks": "",
           "title": {
            "standoff": 15
           },
           "zerolinecolor": "white",
           "zerolinewidth": 2
          }
         }
        },
        "title": {
         "text": "Change in Median Salaries for Tech Degrees (2022 to 2023)"
        },
        "xaxis": {
         "dtick": 250,
         "tickformat": "$,.0f",
         "tickmode": "linear",
         "title": {
          "text": "Change in Gross Monthly Median Salary"
         },
         "zeroline": false
        },
        "yaxis": {
         "autorange": "reversed",
         "title": {
          "text": ""
         }
        }
       }
      }
     },
     "metadata": {},
     "output_type": "display_data"
    }
   ],
   "source": [
    "df = orig_df.copy()\n",
    "# Filter the DataFrame for tech-related degrees\n",
    "df['is_tech_degree'] = df.apply(lambda x: 1 if x['course'] in tech_degrees.get(x['uni'], []) else 0, axis=1)\n",
    "\n",
    "# Adjust gross_monthly_median to thousands\n",
    "# df['gross_monthly_median'] = df['gross_monthly_median'] / 1000\n",
    "\n",
    "\n",
    "# Provided tech_degrees dictionary\n",
    "tech_degrees = {\n",
    "    'NUS': ['Data Science and Analytics', 'Business Analytics', 'Computer Science', 'Information Security', 'Information Systems'],\n",
    "    'NTU': ['Computer Engineering', 'Computer Science', 'Data Science & Artificial Intelligence'],\n",
    "    'SMU': ['Information Systems']\n",
    "}\n",
    "\n",
    "# Filter the DataFrame for tech-related degrees in 2022 and 2023\n",
    "tech_degrees_df = df[(df['is_tech_degree'] == 1) & (df['course_row'] == 1) & df['year'].isin([2022, 2023])]\n",
    "\n",
    "# Compute the change in salary from 2022 to 2023 for each course\n",
    "change_df = tech_degrees_df.pivot_table(\n",
    "    index=['uni', 'course'], \n",
    "    columns='year', \n",
    "    values='gross_monthly_median'\n",
    ").reset_index()\n",
    "\n",
    "change_df['change'] = change_df[2023] - change_df[2022]\n",
    "change_df['course_uni'] = change_df.apply(lambda x: f\"{x['course']} ({x['uni']})\", axis=1)\n",
    "\n",
    "# Sort the DataFrame by the 'change' column\n",
    "change_df.sort_values(by='change', ascending=False, inplace=True)\n",
    "\n",
    "# Compute the overall average change in salary across all courses from 2022 to 2023\n",
    "all_courses_df = df[(df['course_row'] == 1) & df['year'].isin([2022, 2023])]\n",
    "overall_change = all_courses_df.pivot_table(index=['uni', 'course'], columns='year', values='gross_monthly_median')\n",
    "overall_change = (overall_change[2023] - overall_change[2022]).mean()\n",
    "\n",
    "# Create the bar plot with flipped axes\n",
    "fig = go.Figure()\n",
    "\n",
    "fig.add_trace(go.Bar(\n",
    "    y=change_df['course_uni'],\n",
    "    x=change_df['change'],\n",
    "    orientation='h',\n",
    "    marker_color=['red' if x < 0 else 'green' for x in change_df['change']],\n",
    "    text=change_df['change'],\n",
    "    textposition='outside'\n",
    "))\n",
    "\n",
    "# Add a vertical dashed line at x=0 (No Change)\n",
    "fig.add_shape(\n",
    "    type=\"line\",\n",
    "    x0=0, y0=-0.5, x1=0, y1=len(change_df) - 0.5,\n",
    "    line=dict(color=\"black\", width=2, dash=\"dash\"),\n",
    "    name='No Change'\n",
    ")\n",
    "\n",
    "# Add a vertical dashed line for overall average change\n",
    "fig.add_shape(\n",
    "    type=\"line\",\n",
    "    x0=overall_change, y0=-0.5, x1=overall_change, y1=len(change_df) - 0.5,\n",
    "    line=dict(color=\"blue\", width=2, dash=\"dash\"),\n",
    "    name='Overall Average Change'\n",
    ")\n",
    "\n",
    "# Add overall average change to legend\n",
    "fig.add_trace(go.Scatter(\n",
    "    x=[overall_change],\n",
    "    y=[None],  # Invisible point to show the legend\n",
    "    mode='lines',\n",
    "    line=dict(color='blue', dash='dash'),\n",
    "    name='Overall Average Change'\n",
    "))\n",
    "\n",
    "# Customize the layout\n",
    "fig.update_layout(\n",
    "    \n",
    "    title=\"Change in Median Salaries for Tech Degrees (2022 to 2023)\",\n",
    "    xaxis_title=\"Change in Gross Monthly Median Salary\",\n",
    "    yaxis_title=\"\",\n",
    "    yaxis=dict(autorange=\"reversed\"),  # To keep the degrees ordered as before\n",
    "    xaxis=dict(\n",
    "        tickformat=\"$,.0f\",\n",
    "        zeroline=False,  # Hide the zero line (since we added our own dashed line)\n",
    "        tickmode='linear',\n",
    "        dtick=250  # $250 increments\n",
    "    ),\n",
    "    showlegend=True\n",
    ")\n",
    "\n",
    "# Show the figure\n",
    "fig.show()\n"
   ]
  },
  {
   "cell_type": "markdown",
   "metadata": {},
   "source": [
    "# Employment Rates\n"
   ]
  },
  {
   "cell_type": "code",
   "execution_count": 22,
   "metadata": {},
   "outputs": [
    {
     "data": {
      "text/plain": [
       "Index(['uni', 'school', 'course', 'year', 'Places', 'GPA', 'RP',\n",
       "       'employment_rate_overall', 'employment_rate_ft_perm',\n",
       "       'basic_monthly_mean', 'basic_monthly_median', 'gross_monthly_mean',\n",
       "       'gross_monthly_median', 'gross_mthly_25_percentile',\n",
       "       'gross_mthly_75_percentile', 'university', 'summary_row', 'course_row'],\n",
       "      dtype='object')"
      ]
     },
     "execution_count": 22,
     "metadata": {},
     "output_type": "execute_result"
    }
   ],
   "source": [
    "orig_df.columns"
   ]
  },
  {
   "cell_type": "code",
   "execution_count": 23,
   "metadata": {},
   "outputs": [],
   "source": [
    "# Generate the table of employment rates between 2022 and 2023 for tech-related degrees\n",
    "df = orig_df.copy()\n",
    "df['is_tech_degree'] = df.apply(lambda x: 1 if x['course'] in tech_degrees.get(x['uni'], []) else 0, axis=1)\n",
    "\n",
    "\n",
    "tech_employment = df.loc[(df.is_tech_degree==1)\n",
    "                         & (df.summary_row==0)\n",
    "                         & (df.year.between(2022, 2023))\n",
    "                         , ['year', 'uni', 'course', 'employment_rate_ft_perm']]\n",
    "# Keep the overall median too\n",
    "overall_rows = df.loc[(df.year.between(2022, 2023))\n",
    "                      & (df.course=='Overall Median')\n",
    "                      , ['year', 'uni', 'course', 'employment_rate_ft_perm']]\n",
    "# Append\n",
    "tech_employment = pd.concat([tech_employment, overall_rows], ignore_index=True)\n",
    "tech_employment = tech_employment.pivot(index=['uni', 'course'], columns=['year'], values=['employment_rate_ft_perm'])\n",
    "# collapse column index\n",
    "tech_employment.columns = tech_employment.columns.get_level_values(1)\n",
    "# Delete column index name\n",
    "tech_employment.columns.name=None\n",
    "tech_employment=tech_employment.reset_index()"
   ]
  },
  {
   "cell_type": "code",
   "execution_count": 24,
   "metadata": {},
   "outputs": [
    {
     "data": {
      "text/html": [
       "<div>\n",
       "<style scoped>\n",
       "    .dataframe tbody tr th:only-of-type {\n",
       "        vertical-align: middle;\n",
       "    }\n",
       "\n",
       "    .dataframe tbody tr th {\n",
       "        vertical-align: top;\n",
       "    }\n",
       "\n",
       "    .dataframe thead th {\n",
       "        text-align: right;\n",
       "    }\n",
       "</style>\n",
       "<table border=\"1\" class=\"dataframe\">\n",
       "  <thead>\n",
       "    <tr style=\"text-align: right;\">\n",
       "      <th></th>\n",
       "      <th>uni</th>\n",
       "      <th>course</th>\n",
       "      <th>2022</th>\n",
       "      <th>2023</th>\n",
       "    </tr>\n",
       "  </thead>\n",
       "  <tbody>\n",
       "    <tr>\n",
       "      <th>1</th>\n",
       "      <td>NTU</td>\n",
       "      <td>Computer Engineering</td>\n",
       "      <td>85.2</td>\n",
       "      <td>87.50</td>\n",
       "    </tr>\n",
       "    <tr>\n",
       "      <th>2</th>\n",
       "      <td>NTU</td>\n",
       "      <td>Computer Science</td>\n",
       "      <td>91.7</td>\n",
       "      <td>86.50</td>\n",
       "    </tr>\n",
       "    <tr>\n",
       "      <th>3</th>\n",
       "      <td>NTU</td>\n",
       "      <td>Data Science &amp; Artificial Intelligence</td>\n",
       "      <td>82.4</td>\n",
       "      <td>83.30</td>\n",
       "    </tr>\n",
       "    <tr>\n",
       "      <th>4</th>\n",
       "      <td>NUS</td>\n",
       "      <td>Business Analytics</td>\n",
       "      <td>95.2</td>\n",
       "      <td>93.00</td>\n",
       "    </tr>\n",
       "    <tr>\n",
       "      <th>5</th>\n",
       "      <td>NUS</td>\n",
       "      <td>Computer Science</td>\n",
       "      <td>96.1</td>\n",
       "      <td>91.90</td>\n",
       "    </tr>\n",
       "    <tr>\n",
       "      <th>6</th>\n",
       "      <td>NUS</td>\n",
       "      <td>Data Science and Analytics</td>\n",
       "      <td>96.8</td>\n",
       "      <td>80.40</td>\n",
       "    </tr>\n",
       "    <tr>\n",
       "      <th>7</th>\n",
       "      <td>NUS</td>\n",
       "      <td>Information Security</td>\n",
       "      <td>91.1</td>\n",
       "      <td>89.50</td>\n",
       "    </tr>\n",
       "    <tr>\n",
       "      <th>8</th>\n",
       "      <td>NUS</td>\n",
       "      <td>Information Systems</td>\n",
       "      <td>93.0</td>\n",
       "      <td>91.40</td>\n",
       "    </tr>\n",
       "    <tr>\n",
       "      <th>9</th>\n",
       "      <td>SMU</td>\n",
       "      <td>Information Systems</td>\n",
       "      <td>93.4</td>\n",
       "      <td>88.40</td>\n",
       "    </tr>\n",
       "    <tr>\n",
       "      <th>0</th>\n",
       "      <td>NaN</td>\n",
       "      <td>Overall Median</td>\n",
       "      <td>90.9</td>\n",
       "      <td>84.55</td>\n",
       "    </tr>\n",
       "  </tbody>\n",
       "</table>\n",
       "</div>"
      ],
      "text/plain": [
       "   uni                                  course  2022   2023\n",
       "1  NTU                    Computer Engineering  85.2  87.50\n",
       "2  NTU                        Computer Science  91.7  86.50\n",
       "3  NTU  Data Science & Artificial Intelligence  82.4  83.30\n",
       "4  NUS                      Business Analytics  95.2  93.00\n",
       "5  NUS                        Computer Science  96.1  91.90\n",
       "6  NUS              Data Science and Analytics  96.8  80.40\n",
       "7  NUS                    Information Security  91.1  89.50\n",
       "8  NUS                     Information Systems  93.0  91.40\n",
       "9  SMU                     Information Systems  93.4  88.40\n",
       "0  NaN                          Overall Median  90.9  84.55"
      ]
     },
     "execution_count": 24,
     "metadata": {},
     "output_type": "execute_result"
    }
   ],
   "source": [
    "tech_employment.sort_values('uni')"
   ]
  },
  {
   "cell_type": "markdown",
   "metadata": {},
   "source": [
    "# RP vs Salary\n",
    "\n",
    "Even with this recent dip, the demand for these courses is unlikely to fall as their median salaries are still substantially greater than the alternatives. \n",
    "\n",
    "Even accounting for their competitiveness, these degrees are still the ideal choice for prospective students whose priority is maximising their earning power. \n",
    "\n",
    "<Insert table of median salary / RP>\n",
    "<Insert plot and link to live dashboard>"
   ]
  },
  {
   "cell_type": "markdown",
   "metadata": {},
   "source": [
    "# Computer Science Example"
   ]
  },
  {
   "cell_type": "code",
   "execution_count": 49,
   "metadata": {},
   "outputs": [
    {
     "data": {
      "application/vnd.plotly.v1+json": {
       "config": {
        "plotlyServerURL": "https://plotly.com"
       },
       "data": [
        {
         "hovertemplate": "<b>Computer Engineering</b><br>RP: 80.0<br>Median Salary: $5.59K",
         "marker": {
          "color": "#F587F4",
          "size": 16
         },
         "mode": "markers",
         "name": "Computer Engineering (NUS)",
         "type": "scatter",
         "x": [
          80
         ],
         "y": [
          5.595
         ]
        },
        {
         "customdata": [
          "Arts (Hons)<br>RP: 78.75<br>Median Salary: $4.01K",
          "Social Sciences<br>RP: 78.75<br>Median Salary: $4.01K",
          "Dentistry<br>RP: 85.0<br>Median Salary: $4.55K",
          "Biomedical Engineering<br>RP: 72.5<br>Median Salary: $4.10K",
          "Chemical Engineering<br>RP: 72.5<br>Median Salary: $4.41K",
          "Civil Engineering<br>RP: 72.5<br>Median Salary: $4.00K",
          "Electrical Engineering<br>RP: 72.5<br>Median Salary: $4.80K",
          "Engineering Science<br>RP: 72.5<br>Median Salary: $4.50K",
          "Environmental Engineering<br>RP: 72.5<br>Median Salary: $4.24K",
          "Industrial and Systems Engineering<br>RP: 72.5<br>Median Salary: $4.60K",
          "Materials Science and Engineering<br>RP: 72.5<br>Median Salary: $4.35K",
          "Mechanical Engineering<br>RP: 72.5<br>Median Salary: $4.49K",
          "Law<br>RP: 85.0<br>Median Salary: $7.00K",
          "Science (Hons)<br>RP: 78.75<br>Median Salary: $4.00K",
          "Data Science and Analytics<br>RP: 78.75<br>Median Salary: $5.00K",
          "Environmental Studies<br>RP: 83.75<br>Median Salary: $4.00K",
          "Accountancy (Hons)<br>RP: 82.5<br>Median Salary: $4.20K",
          "Business Administration (Hons)<br>RP: 83.75<br>Median Salary: $4.80K",
          "Business Analytics<br>RP: 85.0<br>Median Salary: $5.50K",
          "Computer Science<br>RP: 85.0<br>Median Salary: $6.33K",
          "Information Security<br>RP: 82.5<br>Median Salary: $5.50K",
          "Information Systems<br>RP: 85.0<br>Median Salary: $5.50K",
          "Architecture<br>RP: 68.75<br>Median Salary: $nanK",
          "Industrial Design<br>RP: 78.75<br>Median Salary: $4.00K",
          "Project & Facilities Management<br>RP: 72.5<br>Median Salary: $3.85K",
          "Real Estate<br>RP: 73.75<br>Median Salary: $4.00K",
          "Medicine<br>RP: 85.0<br>Median Salary: $nanK",
          "Nursing (Hons)<br>RP: 66.25<br>Median Salary: $4.00K"
         ],
         "hovertemplate": "%{customdata}",
         "marker": {
          "color": "#fe4a49",
          "opacity": 0.4,
          "size": 8
         },
         "mode": "markers",
         "name": "NUS",
         "type": "scatter",
         "x": [
          78.75,
          78.75,
          85,
          72.5,
          72.5,
          72.5,
          72.5,
          72.5,
          72.5,
          72.5,
          72.5,
          72.5,
          85,
          78.75,
          78.75,
          83.75,
          82.5,
          83.75,
          85,
          85,
          82.5,
          85,
          68.75,
          78.75,
          72.5,
          73.75,
          85,
          66.25
         ],
         "y": [
          4.008,
          4.015,
          4.55,
          4.1,
          4.405,
          4,
          4.8,
          4.5,
          4.243,
          4.6,
          4.346,
          4.49,
          7,
          4,
          5,
          4,
          4.2,
          4.8,
          5.5,
          6.333,
          5.5,
          5.5,
          null,
          4,
          3.855,
          4,
          null,
          4
         ]
        },
        {
         "customdata": [
          "Accountancy<br>RP: 72.5<br>Median Salary: $3.60K",
          "Business<br>RP: 73.75<br>Median Salary: $4.25K",
          "Aerospace Engineering<br>RP: 67.5<br>Median Salary: $4.76K",
          "Bioengineering<br>RP: 68.75<br>Median Salary: $4.04K",
          "Chemical and Biomolecular Engineering<br>RP: 70.0<br>Median Salary: $4.20K",
          "Computer Engineering<br>RP: 75.0<br>Median Salary: $5.40K",
          "Civil Engineering<br>RP: 63.75<br>Median Salary: $4.00K",
          "Computer Science<br>RP: 80.0<br>Median Salary: $5.20K",
          "Electrical and Electronic Engineering<br>RP: 65.0<br>Median Salary: $4.80K",
          "Environmental Engineering<br>RP: 68.75<br>Median Salary: $4.12K",
          "Information Engineering and Media<br>RP: 68.75<br>Median Salary: $4.80K",
          "Materials Engineering<br>RP: 67.5<br>Median Salary: $4.20K",
          "Mechanical Engineering<br>RP: 62.5<br>Median Salary: $4.40K",
          "Maritime Studies<br>RP: 68.75<br>Median Salary: $4.20K",
          "Art, Design and Media<br>RP: 72.5<br>Median Salary: $3.50K",
          "Chinese<br>RP: 71.25<br>Median Salary: $4.09K",
          "Communication Studies<br>RP: 78.75<br>Median Salary: $3.67K",
          "Economics<br>RP: 73.75<br>Median Salary: $4.31K",
          "English<br>RP: 73.75<br>Median Salary: $3.77K",
          "Linguistics and Multilingual Studies<br>RP: 75.0<br>Median Salary: $3.95K",
          "Psychology<br>RP: 77.5<br>Median Salary: $4.00K",
          "Sociology<br>RP: 71.25<br>Median Salary: $4.01K",
          "Biological Sciences<br>RP: 78.75<br>Median Salary: $3.98K",
          "Chemistry and Biological Chemistry<br>RP: 72.5<br>Median Salary: $3.80K",
          "Mathematical Sciences<br>RP: 68.75<br>Median Salary: $4.25K",
          "Physics / Applied Physics<br>RP: 62.5<br>Median Salary: $4.00K",
          "Sports Science and Management<br>RP: 68.75<br>Median Salary: $3.85K",
          "Science (Education)<br>RP: 76.25<br>Median Salary: $4.30K",
          "Arts (Education)<br>RP: 70.0<br>Median Salary: $4.13K",
          "History<br>RP: 70.0<br>Median Salary: $4.20K",
          "Public Policy and Global Affairs<br>RP: 81.25<br>Median Salary: $4.20K",
          "Philosophy<br>RP: 72.5<br>Median Salary: $4.00K",
          "Environmental Earth Systems Science<br>RP: 81.25<br>Median Salary: $4.14K",
          "Medicine<br>RP: 85.0<br>Median Salary: $nanK",
          "Data Science & Artificial Intelligence<br>RP: 82.5<br>Median Salary: $5.25K"
         ],
         "hovertemplate": "%{customdata}",
         "marker": {
          "color": "#09814a",
          "opacity": 0.4,
          "size": 8
         },
         "mode": "markers",
         "name": "NTU",
         "type": "scatter",
         "x": [
          72.5,
          73.75,
          67.5,
          68.75,
          70,
          75,
          63.75,
          80,
          65,
          68.75,
          68.75,
          67.5,
          62.5,
          68.75,
          72.5,
          71.25,
          78.75,
          73.75,
          73.75,
          75,
          77.5,
          71.25,
          78.75,
          72.5,
          68.75,
          62.5,
          68.75,
          76.25,
          70,
          70,
          81.25,
          72.5,
          81.25,
          85,
          82.5
         ],
         "y": [
          3.6,
          4.255,
          4.763,
          4.043,
          4.2,
          5.4,
          4,
          5.2,
          4.8,
          4.115,
          4.8,
          4.2,
          4.4,
          4.2,
          3.498,
          4.09,
          3.675,
          4.314,
          3.775,
          3.95,
          4,
          4.008,
          3.98,
          3.8,
          4.25,
          4,
          3.85,
          4.3,
          4.129,
          4.2,
          4.202,
          4,
          4.138,
          null,
          5.25
         ]
        },
        {
         "customdata": [
          "Accountancy<br>RP: 72.5<br>Median Salary: $3.90K",
          "Business Management<br>RP: 75.0<br>Median Salary: $4.44K",
          "Economics<br>RP: 73.75<br>Median Salary: $4.50K",
          "Information Systems<br>RP: 75.0<br>Median Salary: $5.40K",
          "Social Sciences<br>RP: 75.0<br>Median Salary: $4.00K",
          "Law<br>RP: 85.0<br>Median Salary: $7.00K"
         ],
         "hovertemplate": "%{customdata}",
         "marker": {
          "color": "#1438CA",
          "opacity": 0.4,
          "size": 8
         },
         "mode": "markers",
         "name": "SMU",
         "type": "scatter",
         "x": [
          72.5,
          75,
          73.75,
          75,
          75,
          85
         ],
         "y": [
          3.9,
          4.436,
          4.5,
          5.4,
          4,
          7
         ]
        }
       ],
       "layout": {
        "legend": {
         "orientation": "h",
         "x": 0.5,
         "xanchor": "center",
         "y": -0.25,
         "yanchor": "bottom"
        },
        "margin": {
         "b": 100,
         "l": 50,
         "r": 10,
         "t": 50
        },
        "template": {
         "data": {
          "bar": [
           {
            "error_x": {
             "color": "#2a3f5f"
            },
            "error_y": {
             "color": "#2a3f5f"
            },
            "marker": {
             "line": {
              "color": "#E5ECF6",
              "width": 0.5
             },
             "pattern": {
              "fillmode": "overlay",
              "size": 10,
              "solidity": 0.2
             }
            },
            "type": "bar"
           }
          ],
          "barpolar": [
           {
            "marker": {
             "line": {
              "color": "#E5ECF6",
              "width": 0.5
             },
             "pattern": {
              "fillmode": "overlay",
              "size": 10,
              "solidity": 0.2
             }
            },
            "type": "barpolar"
           }
          ],
          "carpet": [
           {
            "aaxis": {
             "endlinecolor": "#2a3f5f",
             "gridcolor": "white",
             "linecolor": "white",
             "minorgridcolor": "white",
             "startlinecolor": "#2a3f5f"
            },
            "baxis": {
             "endlinecolor": "#2a3f5f",
             "gridcolor": "white",
             "linecolor": "white",
             "minorgridcolor": "white",
             "startlinecolor": "#2a3f5f"
            },
            "type": "carpet"
           }
          ],
          "choropleth": [
           {
            "colorbar": {
             "outlinewidth": 0,
             "ticks": ""
            },
            "type": "choropleth"
           }
          ],
          "contour": [
           {
            "colorbar": {
             "outlinewidth": 0,
             "ticks": ""
            },
            "colorscale": [
             [
              0,
              "#0d0887"
             ],
             [
              0.1111111111111111,
              "#46039f"
             ],
             [
              0.2222222222222222,
              "#7201a8"
             ],
             [
              0.3333333333333333,
              "#9c179e"
             ],
             [
              0.4444444444444444,
              "#bd3786"
             ],
             [
              0.5555555555555556,
              "#d8576b"
             ],
             [
              0.6666666666666666,
              "#ed7953"
             ],
             [
              0.7777777777777778,
              "#fb9f3a"
             ],
             [
              0.8888888888888888,
              "#fdca26"
             ],
             [
              1,
              "#f0f921"
             ]
            ],
            "type": "contour"
           }
          ],
          "contourcarpet": [
           {
            "colorbar": {
             "outlinewidth": 0,
             "ticks": ""
            },
            "type": "contourcarpet"
           }
          ],
          "heatmap": [
           {
            "colorbar": {
             "outlinewidth": 0,
             "ticks": ""
            },
            "colorscale": [
             [
              0,
              "#0d0887"
             ],
             [
              0.1111111111111111,
              "#46039f"
             ],
             [
              0.2222222222222222,
              "#7201a8"
             ],
             [
              0.3333333333333333,
              "#9c179e"
             ],
             [
              0.4444444444444444,
              "#bd3786"
             ],
             [
              0.5555555555555556,
              "#d8576b"
             ],
             [
              0.6666666666666666,
              "#ed7953"
             ],
             [
              0.7777777777777778,
              "#fb9f3a"
             ],
             [
              0.8888888888888888,
              "#fdca26"
             ],
             [
              1,
              "#f0f921"
             ]
            ],
            "type": "heatmap"
           }
          ],
          "heatmapgl": [
           {
            "colorbar": {
             "outlinewidth": 0,
             "ticks": ""
            },
            "colorscale": [
             [
              0,
              "#0d0887"
             ],
             [
              0.1111111111111111,
              "#46039f"
             ],
             [
              0.2222222222222222,
              "#7201a8"
             ],
             [
              0.3333333333333333,
              "#9c179e"
             ],
             [
              0.4444444444444444,
              "#bd3786"
             ],
             [
              0.5555555555555556,
              "#d8576b"
             ],
             [
              0.6666666666666666,
              "#ed7953"
             ],
             [
              0.7777777777777778,
              "#fb9f3a"
             ],
             [
              0.8888888888888888,
              "#fdca26"
             ],
             [
              1,
              "#f0f921"
             ]
            ],
            "type": "heatmapgl"
           }
          ],
          "histogram": [
           {
            "marker": {
             "pattern": {
              "fillmode": "overlay",
              "size": 10,
              "solidity": 0.2
             }
            },
            "type": "histogram"
           }
          ],
          "histogram2d": [
           {
            "colorbar": {
             "outlinewidth": 0,
             "ticks": ""
            },
            "colorscale": [
             [
              0,
              "#0d0887"
             ],
             [
              0.1111111111111111,
              "#46039f"
             ],
             [
              0.2222222222222222,
              "#7201a8"
             ],
             [
              0.3333333333333333,
              "#9c179e"
             ],
             [
              0.4444444444444444,
              "#bd3786"
             ],
             [
              0.5555555555555556,
              "#d8576b"
             ],
             [
              0.6666666666666666,
              "#ed7953"
             ],
             [
              0.7777777777777778,
              "#fb9f3a"
             ],
             [
              0.8888888888888888,
              "#fdca26"
             ],
             [
              1,
              "#f0f921"
             ]
            ],
            "type": "histogram2d"
           }
          ],
          "histogram2dcontour": [
           {
            "colorbar": {
             "outlinewidth": 0,
             "ticks": ""
            },
            "colorscale": [
             [
              0,
              "#0d0887"
             ],
             [
              0.1111111111111111,
              "#46039f"
             ],
             [
              0.2222222222222222,
              "#7201a8"
             ],
             [
              0.3333333333333333,
              "#9c179e"
             ],
             [
              0.4444444444444444,
              "#bd3786"
             ],
             [
              0.5555555555555556,
              "#d8576b"
             ],
             [
              0.6666666666666666,
              "#ed7953"
             ],
             [
              0.7777777777777778,
              "#fb9f3a"
             ],
             [
              0.8888888888888888,
              "#fdca26"
             ],
             [
              1,
              "#f0f921"
             ]
            ],
            "type": "histogram2dcontour"
           }
          ],
          "mesh3d": [
           {
            "colorbar": {
             "outlinewidth": 0,
             "ticks": ""
            },
            "type": "mesh3d"
           }
          ],
          "parcoords": [
           {
            "line": {
             "colorbar": {
              "outlinewidth": 0,
              "ticks": ""
             }
            },
            "type": "parcoords"
           }
          ],
          "pie": [
           {
            "automargin": true,
            "type": "pie"
           }
          ],
          "scatter": [
           {
            "fillpattern": {
             "fillmode": "overlay",
             "size": 10,
             "solidity": 0.2
            },
            "type": "scatter"
           }
          ],
          "scatter3d": [
           {
            "line": {
             "colorbar": {
              "outlinewidth": 0,
              "ticks": ""
             }
            },
            "marker": {
             "colorbar": {
              "outlinewidth": 0,
              "ticks": ""
             }
            },
            "type": "scatter3d"
           }
          ],
          "scattercarpet": [
           {
            "marker": {
             "colorbar": {
              "outlinewidth": 0,
              "ticks": ""
             }
            },
            "type": "scattercarpet"
           }
          ],
          "scattergeo": [
           {
            "marker": {
             "colorbar": {
              "outlinewidth": 0,
              "ticks": ""
             }
            },
            "type": "scattergeo"
           }
          ],
          "scattergl": [
           {
            "marker": {
             "colorbar": {
              "outlinewidth": 0,
              "ticks": ""
             }
            },
            "type": "scattergl"
           }
          ],
          "scattermapbox": [
           {
            "marker": {
             "colorbar": {
              "outlinewidth": 0,
              "ticks": ""
             }
            },
            "type": "scattermapbox"
           }
          ],
          "scatterpolar": [
           {
            "marker": {
             "colorbar": {
              "outlinewidth": 0,
              "ticks": ""
             }
            },
            "type": "scatterpolar"
           }
          ],
          "scatterpolargl": [
           {
            "marker": {
             "colorbar": {
              "outlinewidth": 0,
              "ticks": ""
             }
            },
            "type": "scatterpolargl"
           }
          ],
          "scatterternary": [
           {
            "marker": {
             "colorbar": {
              "outlinewidth": 0,
              "ticks": ""
             }
            },
            "type": "scatterternary"
           }
          ],
          "surface": [
           {
            "colorbar": {
             "outlinewidth": 0,
             "ticks": ""
            },
            "colorscale": [
             [
              0,
              "#0d0887"
             ],
             [
              0.1111111111111111,
              "#46039f"
             ],
             [
              0.2222222222222222,
              "#7201a8"
             ],
             [
              0.3333333333333333,
              "#9c179e"
             ],
             [
              0.4444444444444444,
              "#bd3786"
             ],
             [
              0.5555555555555556,
              "#d8576b"
             ],
             [
              0.6666666666666666,
              "#ed7953"
             ],
             [
              0.7777777777777778,
              "#fb9f3a"
             ],
             [
              0.8888888888888888,
              "#fdca26"
             ],
             [
              1,
              "#f0f921"
             ]
            ],
            "type": "surface"
           }
          ],
          "table": [
           {
            "cells": {
             "fill": {
              "color": "#EBF0F8"
             },
             "line": {
              "color": "white"
             }
            },
            "header": {
             "fill": {
              "color": "#C8D4E3"
             },
             "line": {
              "color": "white"
             }
            },
            "type": "table"
           }
          ]
         },
         "layout": {
          "annotationdefaults": {
           "arrowcolor": "#2a3f5f",
           "arrowhead": 0,
           "arrowwidth": 1
          },
          "autotypenumbers": "strict",
          "coloraxis": {
           "colorbar": {
            "outlinewidth": 0,
            "ticks": ""
           }
          },
          "colorscale": {
           "diverging": [
            [
             0,
             "#8e0152"
            ],
            [
             0.1,
             "#c51b7d"
            ],
            [
             0.2,
             "#de77ae"
            ],
            [
             0.3,
             "#f1b6da"
            ],
            [
             0.4,
             "#fde0ef"
            ],
            [
             0.5,
             "#f7f7f7"
            ],
            [
             0.6,
             "#e6f5d0"
            ],
            [
             0.7,
             "#b8e186"
            ],
            [
             0.8,
             "#7fbc41"
            ],
            [
             0.9,
             "#4d9221"
            ],
            [
             1,
             "#276419"
            ]
           ],
           "sequential": [
            [
             0,
             "#0d0887"
            ],
            [
             0.1111111111111111,
             "#46039f"
            ],
            [
             0.2222222222222222,
             "#7201a8"
            ],
            [
             0.3333333333333333,
             "#9c179e"
            ],
            [
             0.4444444444444444,
             "#bd3786"
            ],
            [
             0.5555555555555556,
             "#d8576b"
            ],
            [
             0.6666666666666666,
             "#ed7953"
            ],
            [
             0.7777777777777778,
             "#fb9f3a"
            ],
            [
             0.8888888888888888,
             "#fdca26"
            ],
            [
             1,
             "#f0f921"
            ]
           ],
           "sequentialminus": [
            [
             0,
             "#0d0887"
            ],
            [
             0.1111111111111111,
             "#46039f"
            ],
            [
             0.2222222222222222,
             "#7201a8"
            ],
            [
             0.3333333333333333,
             "#9c179e"
            ],
            [
             0.4444444444444444,
             "#bd3786"
            ],
            [
             0.5555555555555556,
             "#d8576b"
            ],
            [
             0.6666666666666666,
             "#ed7953"
            ],
            [
             0.7777777777777778,
             "#fb9f3a"
            ],
            [
             0.8888888888888888,
             "#fdca26"
            ],
            [
             1,
             "#f0f921"
            ]
           ]
          },
          "colorway": [
           "#636efa",
           "#EF553B",
           "#00cc96",
           "#ab63fa",
           "#FFA15A",
           "#19d3f3",
           "#FF6692",
           "#B6E880",
           "#FF97FF",
           "#FECB52"
          ],
          "font": {
           "color": "#2a3f5f"
          },
          "geo": {
           "bgcolor": "white",
           "lakecolor": "white",
           "landcolor": "#E5ECF6",
           "showlakes": true,
           "showland": true,
           "subunitcolor": "white"
          },
          "hoverlabel": {
           "align": "left"
          },
          "hovermode": "closest",
          "mapbox": {
           "style": "light"
          },
          "paper_bgcolor": "white",
          "plot_bgcolor": "#E5ECF6",
          "polar": {
           "angularaxis": {
            "gridcolor": "white",
            "linecolor": "white",
            "ticks": ""
           },
           "bgcolor": "#E5ECF6",
           "radialaxis": {
            "gridcolor": "white",
            "linecolor": "white",
            "ticks": ""
           }
          },
          "scene": {
           "xaxis": {
            "backgroundcolor": "#E5ECF6",
            "gridcolor": "white",
            "gridwidth": 2,
            "linecolor": "white",
            "showbackground": true,
            "ticks": "",
            "zerolinecolor": "white"
           },
           "yaxis": {
            "backgroundcolor": "#E5ECF6",
            "gridcolor": "white",
            "gridwidth": 2,
            "linecolor": "white",
            "showbackground": true,
            "ticks": "",
            "zerolinecolor": "white"
           },
           "zaxis": {
            "backgroundcolor": "#E5ECF6",
            "gridcolor": "white",
            "gridwidth": 2,
            "linecolor": "white",
            "showbackground": true,
            "ticks": "",
            "zerolinecolor": "white"
           }
          },
          "shapedefaults": {
           "line": {
            "color": "#2a3f5f"
           }
          },
          "ternary": {
           "aaxis": {
            "gridcolor": "white",
            "linecolor": "white",
            "ticks": ""
           },
           "baxis": {
            "gridcolor": "white",
            "linecolor": "white",
            "ticks": ""
           },
           "bgcolor": "#E5ECF6",
           "caxis": {
            "gridcolor": "white",
            "linecolor": "white",
            "ticks": ""
           }
          },
          "title": {
           "x": 0.05
          },
          "xaxis": {
           "automargin": true,
           "gridcolor": "white",
           "linecolor": "white",
           "ticks": "",
           "title": {
            "standoff": 15
           },
           "zerolinecolor": "white",
           "zerolinewidth": 2
          },
          "yaxis": {
           "automargin": true,
           "gridcolor": "white",
           "linecolor": "white",
           "ticks": "",
           "title": {
            "standoff": 15
           },
           "zerolinecolor": "white",
           "zerolinewidth": 2
          }
         }
        },
        "title": {
         "text": "RP vs Gross Monthly Median Salary (Year: 2023)<br><sup>Each point is a degree from a university, denoted by colour. Hover over the point for more details.</sup>"
        },
        "xaxis": {
         "fixedrange": true,
         "title": {
          "text": "Rank Points"
         }
        },
        "yaxis": {
         "fixedrange": true,
         "title": {
          "text": "Median Monthly Salary (Thousands)"
         }
        }
       }
      }
     },
     "metadata": {},
     "output_type": "display_data"
    }
   ],
   "source": [
    "selected_course='Computer Engineering'\n",
    "selected_uni='NUS'\n",
    "input_df = orig_df.copy()\n",
    "\n",
    "latest_year = input_df.loc[(input_df['course'] == selected_course)\n",
    "                        & (input_df['uni']==selected_uni), 'year'].max()\n",
    "filtered_df = input_df[(input_df['year'] == latest_year)\n",
    "                    & (input_df.summary_row==0)].copy()\n",
    "\n",
    "# Divide gross_monthly_median by 1,000 for formatting\n",
    "filtered_df['gross_monthly_median'] = filtered_df['gross_monthly_median'] / 1000\n",
    "\n",
    "# Add custom data for tooltips (course name, RP, and gross monthly median)\n",
    "filtered_df['tooltip'] = filtered_df.apply(lambda row: f\"{row['course']}<br>RP: {row['RP']}<br>Median Salary: ${row['gross_monthly_median']:.2f}K\", axis=1)\n",
    "filtered_df['empty'] = \"\"\n",
    "\n",
    "# Creating the scatter plot [NUS, NTU, SMU]\n",
    "colors = ['#fe4a49', '#09814a', '#1438CA']\n",
    "color_map = {uni: colors[i % len(colors)] for i, uni in enumerate(filtered_df['uni'].unique())}\n",
    "# Store Graph Object traces\n",
    "traces = []\n",
    "\n",
    "# Highlighting the selected course\n",
    "selected_data = filtered_df[(filtered_df['course'] == selected_course)\n",
    "                            & (filtered_df.uni==selected_uni)]\n",
    "selected_trace= go.Scatter(\n",
    "            x=selected_data['RP'], \n",
    "            y=selected_data['gross_monthly_median'], \n",
    "            mode='markers', \n",
    "            name=f\"{selected_course} ({selected_uni})\", \n",
    "            marker=dict(color='#F587F4', size=16),\n",
    "            hovertemplate='<b>{}</b><br>RP: {}<br>Median Salary: ${:.2f}K'.format(selected_course, selected_data['RP'].values[0], selected_data['gross_monthly_median'].values[0])\n",
    "        )\n",
    "traces.append(selected_trace)\n",
    "\n",
    "# Other courses data\n",
    "other_courses_df = filtered_df.loc[~((filtered_df.course == selected_course)\n",
    "                                & (filtered_df.uni==selected_uni))]\n",
    "\n",
    "# Iterate over all other uni courses by uni\n",
    "for uni in other_courses_df['uni'].unique():\n",
    "    uni_data = other_courses_df[other_courses_df['uni'] == uni]\n",
    "    trace = go.Scatter(\n",
    "        x=uni_data['RP'],\n",
    "        y=uni_data['gross_monthly_median'],\n",
    "        mode='markers',\n",
    "        name=uni,\n",
    "        marker=dict(color=color_map[uni], size=8, opacity=0.4),\n",
    "        customdata=uni_data['tooltip'],\n",
    "        hovertemplate='%{customdata}'  # This ensures only the custom tooltip is displayed\n",
    "    )\n",
    "    # Add the trace\n",
    "    traces.append(trace)\n",
    "\n",
    "# Create the layout\n",
    "# layout = go.Layout(\n",
    "#     # title=f\"RP vs Gross Monthly Median Salary (Year: {latest_year})\",\n",
    "#     title=\"RP VS Median Salary for 2023\",\n",
    "#     xaxis=dict(title='Rank Points'),\n",
    "#     yaxis=dict(title='Median Gross Salary (thousands)'),\n",
    "#     # For legend at top\n",
    "#     legend=dict(orientation=\"h\",yanchor=\"bottom\", y=1.08,xanchor=\"center\", x=0.5, traceorder=\"normal\"),  \n",
    "#     # legend=dict(title=None, orientation=\"h\", yanchor=\"bottom\", y=-0.25, xanchor=\"center\", x=0.5),\n",
    "#     margin=dict(l=50, r=50, t=15, b=100),\n",
    "#     # height=300\n",
    "\n",
    "# )\n",
    "\n",
    "layout = go.Layout(\n",
    "    xaxis_fixedrange=True, yaxis_fixedrange=True,\n",
    "    # title=dict(\n",
    "    #         text=f\"RP vs Gross Monthly Median Salary (Year: {latest_year})\",\n",
    "    #         subtitle=dict(\n",
    "    #             text=\"Each point is a degree from a uni, denoted by colour.\",\n",
    "    #             font=dict(color=\"gray\", size=13),\n",
    "    #         ),\n",
    "    title=f\"RP vs Gross Monthly Median Salary (Year: {latest_year})<br><sup>Each point is a degree from a university, denoted by colour. Hover over the point for more details.</sup>\",\n",
    "    xaxis=dict(title='Rank Points'),\n",
    "    yaxis=dict(title='Median Monthly Salary (Thousands)'),\n",
    "    legend=dict(title=None, orientation=\"h\", yanchor=\"bottom\", y=-0.25, xanchor=\"center\", x=0.5),\n",
    "    margin=dict(l=50, r=10, t=50, b=100)\n",
    " \n",
    ")\n",
    "\n",
    "# Create the figure\n",
    "fig = go.Figure(data=traces, layout=layout)\n",
    "\n",
    "fig.show()"
   ]
  },
  {
   "cell_type": "code",
   "execution_count": 50,
   "metadata": {},
   "outputs": [
    {
     "data": {
      "text/plain": [
       "'https://plotly.com/~carel/11/'"
      ]
     },
     "execution_count": 50,
     "metadata": {},
     "output_type": "execute_result"
    }
   ],
   "source": [
    "# py.plot(fig, filename= 'comSci_vs_RP', auto_open=True)"
   ]
  },
  {
   "cell_type": "code",
   "execution_count": null,
   "metadata": {},
   "outputs": [],
   "source": []
  }
 ],
 "metadata": {
  "kernelspec": {
   "display_name": "GES_env",
   "language": "python",
   "name": "python3"
  },
  "language_info": {
   "codemirror_mode": {
    "name": "ipython",
    "version": 3
   },
   "file_extension": ".py",
   "mimetype": "text/x-python",
   "name": "python",
   "nbconvert_exporter": "python",
   "pygments_lexer": "ipython3",
   "version": "3.11.1"
  }
 },
 "nbformat": 4,
 "nbformat_minor": 2
}
