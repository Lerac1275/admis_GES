{
 "cells": [
  {
   "cell_type": "code",
   "execution_count": 3,
   "metadata": {},
   "outputs": [],
   "source": [
    "import plotly.express as px\n",
    "import plotly.graph_objects as go\n",
    "import pandas as pd\n",
    "import numpy as np\n",
    "from dotenv import load_dotenv\n",
    "load_dotenv()\n",
    "import chart_studio.plotly as py\n",
    "import chart_studio.tools as tls\n",
    "import chart_studio\n",
    "import os"
   ]
  },
  {
   "cell_type": "code",
   "execution_count": 4,
   "metadata": {},
   "outputs": [],
   "source": [
    "# To embed charts in online article\n",
    "plotly_username = os.environ['plotly_username']\n",
    "plotly_apikey = os.environ['plotly_apikey']\n",
    "\n",
    "chart_studio.tools.set_credentials_file(username=plotly_username\n",
    "                                        , api_key=plotly_apikey)"
   ]
  },
  {
   "cell_type": "markdown",
   "metadata": {},
   "source": [
    "# Introduction\n",
    "\n",
    "To generate relevant graphs / tables for **GES 2024** article analysis. "
   ]
  },
  {
   "cell_type": "code",
   "execution_count": 5,
   "metadata": {},
   "outputs": [],
   "source": [
    "# To track \"tech-related\" degrees\n",
    "tech_degrees= {\n",
    "    'NUS': ['Data Science and Analytics', 'Business Analytics', 'Computer Science', 'Computer Engineering', 'Information Security', 'Information Systems']\n",
    "    , 'NTU': ['Computer Engineering', 'Computer Science', 'Data Science & Artificial Intelligence']\n",
    "    , 'SMU': ['Information Systems']\n",
    "}"
   ]
  },
  {
   "cell_type": "code",
   "execution_count": 6,
   "metadata": {},
   "outputs": [],
   "source": [
    "# Data Preparation\n",
    "\n",
    "# Data has been updated to include '24 GES + IGP data\n",
    "orig_df = pd.read_csv(\"../../data/graphing_table.csv\")\n",
    "# Drop columns that are entirely missing\n",
    "orig_df.dropna(axis=1, how='all', inplace=True)\n",
    "\n",
    "# Generate summary rows # \n",
    "# Identify rows that are summary stats at the university level\n",
    "orig_df['summary_row'] = 0 \n",
    "\n",
    "# University level summaries\n",
    "for uni_tmp in orig_df.uni.unique().tolist():\n",
    "\n",
    "    # Filter for that uni, for records within the year range\n",
    "    tdf = orig_df.loc[(orig_df.uni == uni_tmp)]\n",
    "\n",
    "    # Aggregate relevant metrics\n",
    "    metrics = ['Places', 'GPA', 'RP',  'employment_rate_overall','employment_rate_ft_perm','basic_monthly_mean','basic_monthly_median','gross_monthly_mean','gross_monthly_median','gross_mthly_25_percentile','gross_mthly_75_percentile']\n",
    "    # 25th Percentile rows\n",
    "    uni_25th_pctile = tdf.groupby('year', as_index=False)[metrics].agg(lambda x: x.quantile(0.25))\n",
    "    uni_25th_pctile['uni'] = uni_tmp\n",
    "    uni_25th_pctile['course'] = f'{uni_tmp} 25th Percentile'\n",
    "    # Median Rows\n",
    "    uni_median = tdf.groupby('year', as_index=False)[metrics].agg(lambda x: x.quantile(0.5))\n",
    "    uni_median['uni'] = uni_tmp\n",
    "    uni_median['course'] = f'{uni_tmp} Median'\n",
    "    # 75th Percentile Rows\n",
    "    uni_75th_percentile = tdf.groupby('year', as_index=False)[metrics].agg(lambda x: x.quantile(0.75))\n",
    "    uni_75th_percentile['uni'] = uni_tmp\n",
    "    uni_75th_percentile['course'] = f'{uni_tmp} 75th Percentile'\n",
    "    stats_table = pd.concat([uni_median, uni_25th_pctile, uni_75th_percentile], ignore_index=True)\n",
    "    stats_table['summary_row'] = 1\n",
    "    # Join back to orig_df\n",
    "    orig_df = pd.concat([orig_df,stats_table], ignore_index=True)\n",
    "\n",
    "# Summary at the overall level\n",
    "uni_25th_pctile = orig_df.groupby('year', as_index=False)[metrics].agg(lambda x: x.quantile(0.25))\n",
    "uni_25th_pctile['uni'] = np.nan\n",
    "uni_25th_pctile['course'] = f'Overall 25th Percentile'\n",
    "# Median Rows\n",
    "uni_median = orig_df.groupby('year', as_index=False)[metrics].agg(lambda x: x.quantile(0.5))\n",
    "uni_median['uni'] = np.nan\n",
    "uni_median['course'] = f'Overall Median'\n",
    "# 75th Percentile Rows\n",
    "uni_75th_percentile = orig_df.groupby('year', as_index=False)[metrics].agg(lambda x: x.quantile(0.75))\n",
    "uni_75th_percentile['uni'] = np.nan\n",
    "uni_75th_percentile['course'] = f'Overall 75th Percentile'\n",
    "stats_table = pd.concat([uni_median, uni_25th_pctile, uni_75th_percentile], ignore_index=True)\n",
    "stats_table['summary_row'] = 1\n",
    "# Join back to orig_df\n",
    "orig_df = pd.concat([orig_df,stats_table], ignore_index=True)\n",
    "\n",
    "# track if a row is a course row or not\n",
    "orig_df['course_row'] = orig_df.summary_row.replace({0: 1, 1: 0 })"
   ]
  },
  {
   "cell_type": "code",
   "execution_count": null,
   "metadata": {},
   "outputs": [],
   "source": [
    "# orig_df.to_csv(\"../../data/2024_graphing_aggrowsIncluded.csv\", index=False)"
   ]
  },
  {
   "cell_type": "markdown",
   "metadata": {},
   "source": [
    "# Ideas\n",
    "\n",
    "Points to investigate for this year's article: \n",
    "\n",
    "- Last year it was established that tech degrees experienced the greatest surge in popularity (2013 -> 2023), has that changed this year for these degrees? Can produce a table / chart of RP changes for tech degrees from '23 to '24 + see which non-tech degrees experienced a rise in RP(?)\n",
    "\n",
    "- Recreate the yearly Degree Starting Salaries Scatterplot including '24. Further drill down into tech-degree median salaries only? \n",
    "    - Could relate this to the \"Change in Median Salaries for Tech Degrees\" plot, this time comparing '23 to '24.\n",
    "\n",
    "- Try coming up with a visualization for the higher variance in starting salaries for tech degrees in '24\n",
    "\n",
    "- Deeper analysis of employment trends for '24. Maybe some plot of salaries vs employment? \n"
   ]
  },
  {
   "cell_type": "markdown",
   "metadata": {},
   "source": [
    "# Admission Criteria Changes\n",
    "\n",
    "Charting how the admissions critera (RP) changed from '23 to '24 for tech degrees. \n",
    "\n",
    "Also look for any unexpected rises in popularity"
   ]
  },
  {
   "cell_type": "code",
   "execution_count": 26,
   "metadata": {},
   "outputs": [
    {
     "name": "stdout",
     "output_type": "stream",
     "text": [
      "RP Changes for Degrees (2023-2024)\n"
     ]
    }
   ],
   "source": [
    "# Duplicate Original Table\n",
    "df = orig_df.copy()\n",
    "\n",
    "# Filter for tech degrees and years 2023-2024\n",
    "tech_df = pd.DataFrame()\n",
    "\n",
    "for uni, courses in tech_degrees.items():\n",
    "    for course in courses:\n",
    "        temp_df = df[(df['uni'] == uni) & \n",
    "                     (df['course'] == course) & \n",
    "                     (df['year'].isin([2023, 2024])) &\n",
    "                     (df['summary_row'] != 1)]  # Exclude summary rows\n",
    "        tech_df = pd.concat([tech_df, temp_df])\n",
    "\n",
    "# Create a flat list of all tech degrees tuples (uni, course)\n",
    "all_tech_degrees = []\n",
    "for uni, courses in tech_degrees.items():\n",
    "    for course in courses:\n",
    "        all_tech_degrees.append((uni, course))\n",
    "\n",
    "# Now add non-tech degrees to the analysis\n",
    "# Filter for non-tech degrees and years 2023-2024\n",
    "non_tech_df = df[(df['year'].isin([2023, 2024])) & (df['summary_row'] != 1)]\n",
    "\n",
    "# Exclude tech degrees from the dataset\n",
    "non_tech_rows = []\n",
    "for _, row in non_tech_df.iterrows():\n",
    "    if (row['uni'], row['course']) not in all_tech_degrees:\n",
    "        non_tech_rows.append(row)\n",
    "\n",
    "non_tech_df = pd.DataFrame(non_tech_rows)\n",
    "\n",
    "# Combine tech and non-tech dataframes\n",
    "combined_df = pd.concat([tech_df, non_tech_df])\n",
    "\n",
    "# Add a column to indicate tech degrees\n",
    "combined_df['tech_degree'] = combined_df.apply(\n",
    "    lambda row: 1 if (row['uni'], row['course']) in all_tech_degrees else 0, \n",
    "    axis=1\n",
    ")\n",
    "\n",
    "# Create a pivot table to compare RP scores for all degrees\n",
    "rp_comparison = combined_df.pivot_table(\n",
    "    index=['uni', 'course', 'tech_degree'],\n",
    "    columns='year',\n",
    "    values='RP',\n",
    "    aggfunc='first'  # Take the first value in case of duplicates\n",
    ")\n",
    "\n",
    "# Calculate the change in RP from 2023 to 2024\n",
    "rp_comparison['Change'] = rp_comparison[2024] - rp_comparison[2023]\n",
    "rp_comparison['Change_abs'] = abs(rp_comparison['Change'])\n",
    "\n",
    "# Reset index for better display\n",
    "rp_comparison = rp_comparison.reset_index()\n",
    "\n",
    "# Sort by tech_degree first (tech degrees on top) and then by absolute change\n",
    "rp_comparison = rp_comparison.sort_values(['tech_degree', 'Change_abs'], ascending=[False, False])\n",
    "\n",
    "# Format the final output\n",
    "result_table = rp_comparison.copy()\n",
    "result_table['2023 RP'] = result_table[2023]\n",
    "result_table['2024 RP'] = result_table[2024]\n",
    "result_table['Change'] = result_table['Change']\n",
    "result_table['Change Direction'] = result_table['Change'].apply(\n",
    "    lambda x: '↑' if x > 0 else ('↓' if x < 0 else '−')\n",
    ")\n",
    "result_table = result_table[['uni', 'course', 'tech_degree', '2023 RP', '2024 RP', 'Change', 'Change Direction']]\\\n",
    "                .reset_index(drop=True)\n",
    "result_table.columns.name=None\n",
    "\n",
    "# Display the combined table\n",
    "print(\"RP Changes for Degrees (2023-2024)\")\n",
    "\n",
    "# # Alternatively, you can limit to top changes if the table is too large\n",
    "# # Uncomment the following lines to show only tech degrees and top 15 non-tech degrees\n",
    "\n",
    "# tech_result = result_table[result_table['tech_degree'] == 1]\n",
    "# non_tech_result = result_table[result_table['tech_degree'] == 0].head(15)\n",
    "# final_result = pd.concat([tech_result, non_tech_result])\n",
    "# print(final_result.to_string(index=False))\n"
   ]
  },
  {
   "cell_type": "code",
   "execution_count": 43,
   "metadata": {},
   "outputs": [],
   "source": [
    "result_table.to_csv(\"./tmp.csv\", index=False)"
   ]
  },
  {
   "cell_type": "code",
   "execution_count": 28,
   "metadata": {},
   "outputs": [
    {
     "data": {
      "text/html": [
       "<div>\n",
       "<style scoped>\n",
       "    .dataframe tbody tr th:only-of-type {\n",
       "        vertical-align: middle;\n",
       "    }\n",
       "\n",
       "    .dataframe tbody tr th {\n",
       "        vertical-align: top;\n",
       "    }\n",
       "\n",
       "    .dataframe thead th {\n",
       "        text-align: right;\n",
       "    }\n",
       "</style>\n",
       "<table border=\"1\" class=\"dataframe\">\n",
       "  <thead>\n",
       "    <tr style=\"text-align: right;\">\n",
       "      <th></th>\n",
       "      <th>uni</th>\n",
       "      <th>course</th>\n",
       "      <th>tech_degree</th>\n",
       "      <th>2023 RP</th>\n",
       "      <th>2024 RP</th>\n",
       "      <th>Change</th>\n",
       "      <th>Change Direction</th>\n",
       "    </tr>\n",
       "  </thead>\n",
       "  <tbody>\n",
       "    <tr>\n",
       "      <th>0</th>\n",
       "      <td>NUS</td>\n",
       "      <td>Computer Engineering</td>\n",
       "      <td>1</td>\n",
       "      <td>80.00</td>\n",
       "      <td>85.00</td>\n",
       "      <td>5.00</td>\n",
       "      <td>↑</td>\n",
       "    </tr>\n",
       "    <tr>\n",
       "      <th>1</th>\n",
       "      <td>NUS</td>\n",
       "      <td>Information Security</td>\n",
       "      <td>1</td>\n",
       "      <td>82.50</td>\n",
       "      <td>85.00</td>\n",
       "      <td>2.50</td>\n",
       "      <td>↑</td>\n",
       "    </tr>\n",
       "    <tr>\n",
       "      <th>2</th>\n",
       "      <td>NTU</td>\n",
       "      <td>Computer Science</td>\n",
       "      <td>1</td>\n",
       "      <td>80.00</td>\n",
       "      <td>78.75</td>\n",
       "      <td>-1.25</td>\n",
       "      <td>↓</td>\n",
       "    </tr>\n",
       "    <tr>\n",
       "      <th>3</th>\n",
       "      <td>NTU</td>\n",
       "      <td>Data Science &amp; Artificial Intelligence</td>\n",
       "      <td>1</td>\n",
       "      <td>82.50</td>\n",
       "      <td>81.25</td>\n",
       "      <td>-1.25</td>\n",
       "      <td>↓</td>\n",
       "    </tr>\n",
       "    <tr>\n",
       "      <th>4</th>\n",
       "      <td>NTU</td>\n",
       "      <td>Computer Engineering</td>\n",
       "      <td>1</td>\n",
       "      <td>75.00</td>\n",
       "      <td>75.00</td>\n",
       "      <td>0.00</td>\n",
       "      <td>−</td>\n",
       "    </tr>\n",
       "    <tr>\n",
       "      <th>5</th>\n",
       "      <td>NUS</td>\n",
       "      <td>Business Analytics</td>\n",
       "      <td>1</td>\n",
       "      <td>85.00</td>\n",
       "      <td>85.00</td>\n",
       "      <td>0.00</td>\n",
       "      <td>−</td>\n",
       "    </tr>\n",
       "    <tr>\n",
       "      <th>6</th>\n",
       "      <td>NUS</td>\n",
       "      <td>Computer Science</td>\n",
       "      <td>1</td>\n",
       "      <td>85.00</td>\n",
       "      <td>85.00</td>\n",
       "      <td>0.00</td>\n",
       "      <td>−</td>\n",
       "    </tr>\n",
       "    <tr>\n",
       "      <th>7</th>\n",
       "      <td>NUS</td>\n",
       "      <td>Data Science and Analytics</td>\n",
       "      <td>1</td>\n",
       "      <td>78.75</td>\n",
       "      <td>78.75</td>\n",
       "      <td>0.00</td>\n",
       "      <td>−</td>\n",
       "    </tr>\n",
       "    <tr>\n",
       "      <th>8</th>\n",
       "      <td>NUS</td>\n",
       "      <td>Information Systems</td>\n",
       "      <td>1</td>\n",
       "      <td>85.00</td>\n",
       "      <td>85.00</td>\n",
       "      <td>0.00</td>\n",
       "      <td>−</td>\n",
       "    </tr>\n",
       "    <tr>\n",
       "      <th>9</th>\n",
       "      <td>SMU</td>\n",
       "      <td>Information Systems</td>\n",
       "      <td>1</td>\n",
       "      <td>75.00</td>\n",
       "      <td>75.00</td>\n",
       "      <td>0.00</td>\n",
       "      <td>−</td>\n",
       "    </tr>\n",
       "  </tbody>\n",
       "</table>\n",
       "</div>"
      ],
      "text/plain": [
       "   uni                                  course  tech_degree  2023 RP  2024 RP  \\\n",
       "0  NUS                    Computer Engineering            1    80.00    85.00   \n",
       "1  NUS                    Information Security            1    82.50    85.00   \n",
       "2  NTU                        Computer Science            1    80.00    78.75   \n",
       "3  NTU  Data Science & Artificial Intelligence            1    82.50    81.25   \n",
       "4  NTU                    Computer Engineering            1    75.00    75.00   \n",
       "5  NUS                      Business Analytics            1    85.00    85.00   \n",
       "6  NUS                        Computer Science            1    85.00    85.00   \n",
       "7  NUS              Data Science and Analytics            1    78.75    78.75   \n",
       "8  NUS                     Information Systems            1    85.00    85.00   \n",
       "9  SMU                     Information Systems            1    75.00    75.00   \n",
       "\n",
       "   Change Change Direction  \n",
       "0    5.00                ↑  \n",
       "1    2.50                ↑  \n",
       "2   -1.25                ↓  \n",
       "3   -1.25                ↓  \n",
       "4    0.00                −  \n",
       "5    0.00                −  \n",
       "6    0.00                −  \n",
       "7    0.00                −  \n",
       "8    0.00                −  \n",
       "9    0.00                −  "
      ]
     },
     "execution_count": 28,
     "metadata": {},
     "output_type": "execute_result"
    }
   ],
   "source": [
    "result_table.loc[(result_table.tech_degree==1)]"
   ]
  },
  {
   "cell_type": "markdown",
   "metadata": {},
   "source": [
    "Concerning tech-degrees, not much change. Still as popular as they ever were. "
   ]
  },
  {
   "cell_type": "code",
   "execution_count": 27,
   "metadata": {},
   "outputs": [
    {
     "data": {
      "text/html": [
       "<div>\n",
       "<style scoped>\n",
       "    .dataframe tbody tr th:only-of-type {\n",
       "        vertical-align: middle;\n",
       "    }\n",
       "\n",
       "    .dataframe tbody tr th {\n",
       "        vertical-align: top;\n",
       "    }\n",
       "\n",
       "    .dataframe thead th {\n",
       "        text-align: right;\n",
       "    }\n",
       "</style>\n",
       "<table border=\"1\" class=\"dataframe\">\n",
       "  <thead>\n",
       "    <tr style=\"text-align: right;\">\n",
       "      <th></th>\n",
       "      <th>uni</th>\n",
       "      <th>course</th>\n",
       "      <th>tech_degree</th>\n",
       "      <th>2023 RP</th>\n",
       "      <th>2024 RP</th>\n",
       "      <th>Change</th>\n",
       "      <th>Change Direction</th>\n",
       "    </tr>\n",
       "  </thead>\n",
       "  <tbody>\n",
       "    <tr>\n",
       "      <th>10</th>\n",
       "      <td>NUS</td>\n",
       "      <td>Real Estate</td>\n",
       "      <td>0</td>\n",
       "      <td>73.75</td>\n",
       "      <td>82.50</td>\n",
       "      <td>8.75</td>\n",
       "      <td>↑</td>\n",
       "    </tr>\n",
       "    <tr>\n",
       "      <th>11</th>\n",
       "      <td>NTU</td>\n",
       "      <td>Physics / Applied Physics</td>\n",
       "      <td>0</td>\n",
       "      <td>62.50</td>\n",
       "      <td>67.50</td>\n",
       "      <td>5.00</td>\n",
       "      <td>↑</td>\n",
       "    </tr>\n",
       "    <tr>\n",
       "      <th>12</th>\n",
       "      <td>NTU</td>\n",
       "      <td>Environmental Engineering</td>\n",
       "      <td>0</td>\n",
       "      <td>68.75</td>\n",
       "      <td>65.00</td>\n",
       "      <td>-3.75</td>\n",
       "      <td>↓</td>\n",
       "    </tr>\n",
       "    <tr>\n",
       "      <th>13</th>\n",
       "      <td>NTU</td>\n",
       "      <td>Mathematical Sciences</td>\n",
       "      <td>0</td>\n",
       "      <td>68.75</td>\n",
       "      <td>72.50</td>\n",
       "      <td>3.75</td>\n",
       "      <td>↑</td>\n",
       "    </tr>\n",
       "    <tr>\n",
       "      <th>14</th>\n",
       "      <td>NTU</td>\n",
       "      <td>Science (Education)</td>\n",
       "      <td>0</td>\n",
       "      <td>76.25</td>\n",
       "      <td>80.00</td>\n",
       "      <td>3.75</td>\n",
       "      <td>↑</td>\n",
       "    </tr>\n",
       "    <tr>\n",
       "      <th>15</th>\n",
       "      <td>NTU</td>\n",
       "      <td>Accountancy</td>\n",
       "      <td>0</td>\n",
       "      <td>72.50</td>\n",
       "      <td>75.00</td>\n",
       "      <td>2.50</td>\n",
       "      <td>↑</td>\n",
       "    </tr>\n",
       "    <tr>\n",
       "      <th>16</th>\n",
       "      <td>NTU</td>\n",
       "      <td>Art, Design and Media</td>\n",
       "      <td>0</td>\n",
       "      <td>72.50</td>\n",
       "      <td>70.00</td>\n",
       "      <td>-2.50</td>\n",
       "      <td>↓</td>\n",
       "    </tr>\n",
       "    <tr>\n",
       "      <th>17</th>\n",
       "      <td>NTU</td>\n",
       "      <td>Arts (Education)</td>\n",
       "      <td>0</td>\n",
       "      <td>70.00</td>\n",
       "      <td>72.50</td>\n",
       "      <td>2.50</td>\n",
       "      <td>↑</td>\n",
       "    </tr>\n",
       "    <tr>\n",
       "      <th>18</th>\n",
       "      <td>NTU</td>\n",
       "      <td>Chemistry and Biological Chemistry</td>\n",
       "      <td>0</td>\n",
       "      <td>72.50</td>\n",
       "      <td>70.00</td>\n",
       "      <td>-2.50</td>\n",
       "      <td>↓</td>\n",
       "    </tr>\n",
       "    <tr>\n",
       "      <th>19</th>\n",
       "      <td>NTU</td>\n",
       "      <td>Civil Engineering</td>\n",
       "      <td>0</td>\n",
       "      <td>63.75</td>\n",
       "      <td>61.25</td>\n",
       "      <td>-2.50</td>\n",
       "      <td>↓</td>\n",
       "    </tr>\n",
       "  </tbody>\n",
       "</table>\n",
       "</div>"
      ],
      "text/plain": [
       "    uni                              course  tech_degree  2023 RP  2024 RP  \\\n",
       "10  NUS                         Real Estate            0    73.75    82.50   \n",
       "11  NTU           Physics / Applied Physics            0    62.50    67.50   \n",
       "12  NTU           Environmental Engineering            0    68.75    65.00   \n",
       "13  NTU               Mathematical Sciences            0    68.75    72.50   \n",
       "14  NTU                 Science (Education)            0    76.25    80.00   \n",
       "15  NTU                         Accountancy            0    72.50    75.00   \n",
       "16  NTU               Art, Design and Media            0    72.50    70.00   \n",
       "17  NTU                    Arts (Education)            0    70.00    72.50   \n",
       "18  NTU  Chemistry and Biological Chemistry            0    72.50    70.00   \n",
       "19  NTU                   Civil Engineering            0    63.75    61.25   \n",
       "\n",
       "    Change Change Direction  \n",
       "10    8.75                ↑  \n",
       "11    5.00                ↑  \n",
       "12   -3.75                ↓  \n",
       "13    3.75                ↑  \n",
       "14    3.75                ↑  \n",
       "15    2.50                ↑  \n",
       "16   -2.50                ↓  \n",
       "17    2.50                ↑  \n",
       "18   -2.50                ↓  \n",
       "19   -2.50                ↓  "
      ]
     },
     "execution_count": 27,
     "metadata": {},
     "output_type": "execute_result"
    }
   ],
   "source": [
    "result_table.loc[(result_table.tech_degree==0)].head(10)"
   ]
  },
  {
   "cell_type": "markdown",
   "metadata": {},
   "source": [
    "For non-tech degrees, there's a *seemingly* large jump from 2023 to 2024. However this is <mark>unlikely to be because the course itself became more popular</mark>. \n",
    "\n",
    "From 2024 onwards the admissions for Real Estate, Business Administration, and Accountancy were merged into a single intake. The higher RP admission scores are likely from students applying for the other two courses, not for Real Estate. "
   ]
  },
  {
   "cell_type": "markdown",
   "metadata": {},
   "source": [
    "# Degree Starting Salaries"
   ]
  },
  {
   "cell_type": "code",
   "execution_count": 29,
   "metadata": {},
   "outputs": [
    {
     "data": {
      "application/vnd.plotly.v1+json": {
       "config": {
        "plotlyServerURL": "https://plotly.com"
       },
       "data": [
        {
         "line": {
          "color": "black",
          "dash": "dash"
         },
         "mode": "lines",
         "name": "Overall Median",
         "type": "scatter",
         "x": [
          2013,
          2014,
          2015,
          2016,
          2017,
          2018,
          2019,
          2020,
          2021,
          2022,
          2023,
          2024
         ],
         "y": [
          3.1,
          3.204,
          3.3,
          3.4,
          3.4345,
          3.5,
          3.6,
          3.7,
          3.79,
          4.2,
          4.2,
          4.419
         ]
        },
        {
         "line": {
          "color": "red",
          "dash": "dash"
         },
         "mode": "lines",
         "name": "Tech Degree Median",
         "type": "scatter",
         "x": [
          2013,
          2014,
          2015,
          2016,
          2017,
          2018,
          2019,
          2020,
          2021,
          2022,
          2023,
          2024
         ],
         "y": [
          3.1875,
          3.45,
          3.525,
          3.75,
          4,
          4,
          4.228,
          4.542,
          5,
          5.5,
          5.45,
          5.5
         ]
        },
        {
         "hovertemplate": "SMU<br>Information Systems<br>Salary: %{y:.2f}K",
         "marker": {
          "color": "#FF6173",
          "opacity": 0.7
         },
         "mode": "markers",
         "name": "Tech Degree",
         "showlegend": true,
         "type": "scatter",
         "x": [
          2024,
          2023,
          2022,
          2021,
          2020,
          2019,
          2018,
          2017,
          2016,
          2015,
          2014,
          2013
         ],
         "y": [
          5,
          5.4,
          5.4,
          5,
          4.542,
          4.3,
          4,
          4,
          3.6,
          3.5,
          3.35,
          3.3
         ]
        },
        {
         "hovertemplate": "SMU<br>Accountancy<br>Salary: %{y:.2f}K",
         "marker": {
          "color": "grey",
          "opacity": 0.7
         },
         "mode": "markers",
         "name": "Non-Tech Degree",
         "showlegend": true,
         "type": "scatter",
         "x": [
          2013,
          2014,
          2015,
          2016,
          2017,
          2018,
          2019,
          2020,
          2021,
          2022,
          2023,
          2024
         ],
         "y": [
          2.825,
          2.875,
          3,
          3,
          3,
          3,
          3.05,
          3.1,
          3.4,
          3.825,
          3.9,
          4.35
         ]
        },
        {
         "hovertemplate": "SMU<br>Business Management<br>Salary: %{y:.2f}K",
         "marker": {
          "color": "grey",
          "opacity": 0.7
         },
         "mode": "markers",
         "name": "Non-Tech Degree",
         "showlegend": false,
         "type": "scatter",
         "x": [
          2013,
          2014,
          2015,
          2016,
          2017,
          2018,
          2019,
          2020,
          2021,
          2022,
          2023,
          2024
         ],
         "y": [
          3.2,
          3.333,
          3.3,
          3.5,
          3.5,
          3.7,
          3.75,
          3.85,
          4,
          4.4,
          4.436,
          4.5
         ]
        },
        {
         "hovertemplate": "SMU<br>Economics<br>Salary: %{y:.2f}K",
         "marker": {
          "color": "grey",
          "opacity": 0.7
         },
         "mode": "markers",
         "name": "Non-Tech Degree",
         "showlegend": false,
         "type": "scatter",
         "x": [
          2013,
          2014,
          2015,
          2016,
          2017,
          2018,
          2019,
          2020,
          2021,
          2022,
          2023,
          2024
         ],
         "y": [
          3.339,
          3.5,
          3.5,
          3.7,
          3.7,
          3.7,
          3.9,
          3.8,
          4.435,
          4.5,
          4.5,
          4.753
         ]
        },
        {
         "hovertemplate": "SMU<br>Social Sciences<br>Salary: %{y:.2f}K",
         "marker": {
          "color": "grey",
          "opacity": 0.7
         },
         "mode": "markers",
         "name": "Non-Tech Degree",
         "showlegend": false,
         "type": "scatter",
         "x": [
          2013,
          2014,
          2015,
          2016,
          2017,
          2018,
          2019,
          2020,
          2021,
          2022,
          2023,
          2024
         ],
         "y": [
          3,
          3,
          3.2,
          3.145,
          3.3,
          3.21,
          3.5,
          3.5,
          3.6,
          4,
          4,
          4.334
         ]
        },
        {
         "hovertemplate": "SMU<br>Law<br>Salary: %{y:.2f}K",
         "marker": {
          "color": "grey",
          "opacity": 0.7
         },
         "mode": "markers",
         "name": "Non-Tech Degree",
         "showlegend": false,
         "type": "scatter",
         "x": [
          2013,
          2014,
          2015,
          2016,
          2017,
          2018,
          2019,
          2020,
          2021,
          2022,
          2023,
          2024
         ],
         "y": [
          5,
          5.025,
          4.731,
          4.85,
          5,
          4.5,
          4.9,
          4.588,
          5.6,
          6.375,
          7,
          7
         ]
        },
        {
         "hovertemplate": "NTU<br>Data Science & Artificial Intelligence<br>Salary: %{y:.2f}K",
         "marker": {
          "color": "#FF6173",
          "opacity": 0.7
         },
         "mode": "markers",
         "name": "Tech Degree",
         "showlegend": false,
         "type": "scatter",
         "x": [
          2024,
          2023,
          2022,
          2021,
          2020,
          2019,
          2018
         ],
         "y": [
          5.45,
          5.25,
          5.625,
          null,
          null,
          null,
          null
         ]
        },
        {
         "hovertemplate": "NTU<br>Computer Science<br>Salary: %{y:.2f}K",
         "marker": {
          "color": "#FF6173",
          "opacity": 0.7
         },
         "mode": "markers",
         "name": "Tech Degree",
         "showlegend": false,
         "type": "scatter",
         "x": [
          2024,
          2023,
          2022,
          2021,
          2020,
          2019,
          2018,
          2017,
          2016,
          2015,
          2014,
          2013
         ],
         "y": [
          5.5,
          5.2,
          5.5,
          4.8,
          4.3,
          4.2,
          4,
          3.85,
          3.5,
          3.3,
          3.2,
          3.125
         ]
        },
        {
         "hovertemplate": "NTU<br>Computer Engineering<br>Salary: %{y:.2f}K",
         "marker": {
          "color": "#FF6173",
          "opacity": 0.7
         },
         "mode": "markers",
         "name": "Tech Degree",
         "showlegend": false,
         "type": "scatter",
         "x": [
          2024,
          2023,
          2022,
          2021,
          2020,
          2019,
          2018,
          2017,
          2016,
          2015,
          2014,
          2013
         ],
         "y": [
          5.5,
          5.4,
          5.295,
          4.5,
          4.1,
          4,
          3.775,
          3.6,
          3.5,
          3.5,
          3.4,
          3.175
         ]
        },
        {
         "hovertemplate": "NTU<br>Accountancy<br>Salary: %{y:.2f}K",
         "marker": {
          "color": "grey",
          "opacity": 0.7
         },
         "mode": "markers",
         "name": "Non-Tech Degree",
         "showlegend": false,
         "type": "scatter",
         "x": [
          2013,
          2014,
          2015,
          2016,
          2017,
          2018,
          2019,
          2020,
          2021,
          2022,
          2023,
          2024
         ],
         "y": [
          2.7,
          2.84,
          2.875,
          2.9,
          3,
          3,
          3,
          3,
          3.4,
          3.6,
          3.6,
          4.35
         ]
        },
        {
         "hovertemplate": "NTU<br>Business<br>Salary: %{y:.2f}K",
         "marker": {
          "color": "grey",
          "opacity": 0.7
         },
         "mode": "markers",
         "name": "Non-Tech Degree",
         "showlegend": false,
         "type": "scatter",
         "x": [
          2013,
          2014,
          2015,
          2016,
          2017,
          2018,
          2019,
          2020,
          2021,
          2022,
          2023,
          2024
         ],
         "y": [
          3,
          3.1,
          3.2,
          3.3,
          3.3,
          3.5,
          3.6,
          3.8,
          4,
          4.015,
          4.255,
          4.334
         ]
        },
        {
         "hovertemplate": "NTU<br>Aerospace Engineering<br>Salary: %{y:.2f}K",
         "marker": {
          "color": "grey",
          "opacity": 0.7
         },
         "mode": "markers",
         "name": "Non-Tech Degree",
         "showlegend": false,
         "type": "scatter",
         "x": [
          2013,
          2014,
          2015,
          2016,
          2017,
          2018,
          2019,
          2020,
          2021,
          2022,
          2023,
          2024
         ],
         "y": [
          3.5,
          3.77,
          3.7,
          3.675,
          3.5,
          3.8,
          3.8,
          4,
          4.471,
          5,
          4.763,
          4.45
         ]
        },
        {
         "hovertemplate": "NTU<br>Bioengineering<br>Salary: %{y:.2f}K",
         "marker": {
          "color": "grey",
          "opacity": 0.7
         },
         "mode": "markers",
         "name": "Non-Tech Degree",
         "showlegend": false,
         "type": "scatter",
         "x": [
          2013,
          2014,
          2015,
          2016,
          2017,
          2018,
          2019,
          2020,
          2021,
          2022,
          2023,
          2024
         ],
         "y": [
          3.125,
          3,
          3.113,
          3.237,
          3.419,
          3.5,
          3.5,
          3.45,
          3.5,
          4.2,
          4.043,
          4.043
         ]
        },
        {
         "hovertemplate": "NTU<br>Chemical and Biomolecular Engineering<br>Salary: %{y:.2f}K",
         "marker": {
          "color": "grey",
          "opacity": 0.7
         },
         "mode": "markers",
         "name": "Non-Tech Degree",
         "showlegend": false,
         "type": "scatter",
         "x": [
          2013,
          2014,
          2015,
          2016,
          2017,
          2018,
          2019,
          2020,
          2021,
          2022,
          2023,
          2024
         ],
         "y": [
          3.2,
          3.4,
          3.3,
          3.4,
          3.5,
          3.6,
          3.8,
          3.9,
          3.74,
          4.8,
          4.2,
          4.2
         ]
        },
        {
         "hovertemplate": "NTU<br>Civil Engineering<br>Salary: %{y:.2f}K",
         "marker": {
          "color": "grey",
          "opacity": 0.7
         },
         "mode": "markers",
         "name": "Non-Tech Degree",
         "showlegend": false,
         "type": "scatter",
         "x": [
          2013,
          2014,
          2015,
          2016,
          2017,
          2018,
          2019,
          2020,
          2021,
          2022,
          2023,
          2024
         ],
         "y": [
          3.1,
          3.1,
          3.2,
          3.3,
          3.4,
          3.5,
          3.5,
          3.5,
          3.54,
          3.65,
          4,
          4
         ]
        },
        {
         "hovertemplate": "NTU<br>Electrical and Electronic Engineering<br>Salary: %{y:.2f}K",
         "marker": {
          "color": "grey",
          "opacity": 0.7
         },
         "mode": "markers",
         "name": "Non-Tech Degree",
         "showlegend": false,
         "type": "scatter",
         "x": [
          2013,
          2014,
          2015,
          2016,
          2017,
          2018,
          2019,
          2020,
          2021,
          2022,
          2023,
          2024
         ],
         "y": [
          3.1,
          3.2,
          3.3,
          3.4,
          3.6,
          3.6,
          3.7,
          3.88,
          4,
          4.558,
          4.8,
          4.8
         ]
        },
        {
         "hovertemplate": "NTU<br>Environmental Engineering<br>Salary: %{y:.2f}K",
         "marker": {
          "color": "grey",
          "opacity": 0.7
         },
         "mode": "markers",
         "name": "Non-Tech Degree",
         "showlegend": false,
         "type": "scatter",
         "x": [
          2013,
          2014,
          2015,
          2016,
          2017,
          2018,
          2019,
          2020,
          2021,
          2022,
          2023,
          2024
         ],
         "y": [
          3,
          3,
          3.3,
          3.1,
          3.635,
          3.4,
          3.51,
          3.45,
          3.5,
          3.9,
          4.115,
          4.3
         ]
        },
        {
         "hovertemplate": "NTU<br>Information Engineering and Media<br>Salary: %{y:.2f}K",
         "marker": {
          "color": "grey",
          "opacity": 0.7
         },
         "mode": "markers",
         "name": "Non-Tech Degree",
         "showlegend": false,
         "type": "scatter",
         "x": [
          2013,
          2014,
          2015,
          2016,
          2017,
          2018,
          2019,
          2020,
          2021,
          2022,
          2023,
          2024
         ],
         "y": [
          3.2,
          3.2,
          3.275,
          3.35,
          3.7,
          3.75,
          4,
          4,
          4.2,
          4.95,
          4.8,
          4.9
         ]
        },
        {
         "hovertemplate": "NTU<br>Materials Engineering<br>Salary: %{y:.2f}K",
         "marker": {
          "color": "grey",
          "opacity": 0.7
         },
         "mode": "markers",
         "name": "Non-Tech Degree",
         "showlegend": false,
         "type": "scatter",
         "x": [
          2013,
          2014,
          2015,
          2016,
          2017,
          2018,
          2019,
          2020,
          2021,
          2022,
          2023,
          2024
         ],
         "y": [
          3,
          3.15,
          3.2,
          3.3,
          3.375,
          3.5,
          3.6,
          3.7,
          3.65,
          4.5,
          4.2,
          4.329
         ]
        },
        {
         "hovertemplate": "NTU<br>Mechanical Engineering<br>Salary: %{y:.2f}K",
         "marker": {
          "color": "grey",
          "opacity": 0.7
         },
         "mode": "markers",
         "name": "Non-Tech Degree",
         "showlegend": false,
         "type": "scatter",
         "x": [
          2013,
          2014,
          2015,
          2016,
          2017,
          2018,
          2019,
          2020,
          2021,
          2022,
          2023,
          2024
         ],
         "y": [
          3.1,
          3.1,
          3.25,
          3.35,
          3.45,
          3.5,
          3.6,
          3.85,
          3.8,
          4.5,
          4.4,
          4.495
         ]
        },
        {
         "hovertemplate": "NTU<br>Maritime Studies<br>Salary: %{y:.2f}K",
         "marker": {
          "color": "grey",
          "opacity": 0.7
         },
         "mode": "markers",
         "name": "Non-Tech Degree",
         "showlegend": false,
         "type": "scatter",
         "x": [
          2013,
          2014,
          2015,
          2016,
          2017,
          2018,
          2019,
          2020,
          2021,
          2022,
          2023,
          2024
         ],
         "y": [
          3,
          3.05,
          3.2,
          3.398,
          3.32,
          3.35,
          3.5,
          3.5,
          3.5,
          3.74,
          4.2,
          4.1
         ]
        },
        {
         "hovertemplate": "NTU<br>Art, Design and Media<br>Salary: %{y:.2f}K",
         "marker": {
          "color": "grey",
          "opacity": 0.7
         },
         "mode": "markers",
         "name": "Non-Tech Degree",
         "showlegend": false,
         "type": "scatter",
         "x": [
          2013,
          2014,
          2015,
          2016,
          2017,
          2018,
          2019,
          2020,
          2021,
          2022,
          2023,
          2024
         ],
         "y": [
          2.5,
          2.7,
          2.8,
          2.7,
          2.8,
          3,
          3,
          2.8,
          3,
          3.2,
          3.498,
          3.5
         ]
        },
        {
         "hovertemplate": "NTU<br>Chinese<br>Salary: %{y:.2f}K",
         "marker": {
          "color": "grey",
          "opacity": 0.7
         },
         "mode": "markers",
         "name": "Non-Tech Degree",
         "showlegend": false,
         "type": "scatter",
         "x": [
          2013,
          2014,
          2015,
          2016,
          2017,
          2018,
          2019,
          2020,
          2021,
          2022,
          2023,
          2024
         ],
         "y": [
          3,
          3,
          3.2,
          3.3,
          3.3,
          3.5,
          3.21,
          3.5,
          3.3,
          3.6,
          4.09,
          4.02
         ]
        },
        {
         "hovertemplate": "NTU<br>Communication Studies<br>Salary: %{y:.2f}K",
         "marker": {
          "color": "grey",
          "opacity": 0.7
         },
         "mode": "markers",
         "name": "Non-Tech Degree",
         "showlegend": false,
         "type": "scatter",
         "x": [
          2013,
          2014,
          2015,
          2016,
          2017,
          2018,
          2019,
          2020,
          2021,
          2022,
          2023,
          2024
         ],
         "y": [
          3,
          3,
          3,
          3,
          3,
          3,
          3.2,
          3.34,
          3.5,
          3.5,
          3.675,
          3.88
         ]
        },
        {
         "hovertemplate": "NTU<br>Economics<br>Salary: %{y:.2f}K",
         "marker": {
          "color": "grey",
          "opacity": 0.7
         },
         "mode": "markers",
         "name": "Non-Tech Degree",
         "showlegend": false,
         "type": "scatter",
         "x": [
          2013,
          2014,
          2015,
          2016,
          2017,
          2018,
          2019,
          2020,
          2021,
          2022,
          2023,
          2024
         ],
         "y": [
          3,
          3.2,
          3.3,
          3.3,
          3.24,
          3.536,
          3.4,
          3.797,
          3.65,
          4,
          4.314,
          4.325
         ]
        },
        {
         "hovertemplate": "NTU<br>English<br>Salary: %{y:.2f}K",
         "marker": {
          "color": "grey",
          "opacity": 0.7
         },
         "mode": "markers",
         "name": "Non-Tech Degree",
         "showlegend": false,
         "type": "scatter",
         "x": [
          2013,
          2014,
          2015,
          2016,
          2017,
          2018,
          2019,
          2020,
          2021,
          2022,
          2023,
          2024
         ],
         "y": [
          3.1,
          3.1,
          3.314,
          3,
          3,
          3,
          3,
          3.45,
          3.5,
          3.748,
          3.775,
          3.775
         ]
        },
        {
         "hovertemplate": "NTU<br>Linguistics and Multilingual Studies<br>Salary: %{y:.2f}K",
         "marker": {
          "color": "grey",
          "opacity": 0.7
         },
         "mode": "markers",
         "name": "Non-Tech Degree",
         "showlegend": false,
         "type": "scatter",
         "x": [
          2013,
          2014,
          2015,
          2016,
          2017,
          2018,
          2019,
          2020,
          2021,
          2022,
          2023,
          2024
         ],
         "y": [
          2.625,
          3.23,
          3,
          3.365,
          3.1,
          3.2,
          3.2,
          3.35,
          3.3,
          3.5,
          3.95,
          3.85
         ]
        },
        {
         "hovertemplate": "NTU<br>Psychology<br>Salary: %{y:.2f}K",
         "marker": {
          "color": "grey",
          "opacity": 0.7
         },
         "mode": "markers",
         "name": "Non-Tech Degree",
         "showlegend": false,
         "type": "scatter",
         "x": [
          2013,
          2014,
          2015,
          2016,
          2017,
          2018,
          2019,
          2020,
          2021,
          2022,
          2023,
          2024
         ],
         "y": [
          3,
          3.1,
          3.2,
          3.2,
          3.2,
          3.37,
          3.4,
          3.3,
          3.35,
          3.668,
          4,
          4.174
         ]
        },
        {
         "hovertemplate": "NTU<br>Sociology<br>Salary: %{y:.2f}K",
         "marker": {
          "color": "grey",
          "opacity": 0.7
         },
         "mode": "markers",
         "name": "Non-Tech Degree",
         "showlegend": false,
         "type": "scatter",
         "x": [
          2013,
          2014,
          2015,
          2016,
          2017,
          2018,
          2019,
          2020,
          2021,
          2022,
          2023,
          2024
         ],
         "y": [
          3.1,
          3.1,
          3.125,
          3.5,
          3.228,
          3.22,
          3.3,
          3.6,
          3.5,
          3.8,
          4.008,
          4
         ]
        },
        {
         "hovertemplate": "NTU<br>Biological Sciences<br>Salary: %{y:.2f}K",
         "marker": {
          "color": "grey",
          "opacity": 0.7
         },
         "mode": "markers",
         "name": "Non-Tech Degree",
         "showlegend": false,
         "type": "scatter",
         "x": [
          2013,
          2014,
          2015,
          2016,
          2017,
          2018,
          2019,
          2020,
          2021,
          2022,
          2023,
          2024
         ],
         "y": [
          3,
          3,
          3.19,
          3.175,
          3.2,
          3.25,
          3.3,
          3.325,
          3.5,
          3.6,
          3.98,
          4
         ]
        },
        {
         "hovertemplate": "NTU<br>Chemistry and Biological Chemistry<br>Salary: %{y:.2f}K",
         "marker": {
          "color": "grey",
          "opacity": 0.7
         },
         "mode": "markers",
         "name": "Non-Tech Degree",
         "showlegend": false,
         "type": "scatter",
         "x": [
          2013,
          2014,
          2015,
          2016,
          2017,
          2018,
          2019,
          2020,
          2021,
          2022,
          2023,
          2024
         ],
         "y": [
          3.1,
          3.1,
          3,
          3.149,
          3.1,
          3.2,
          3.4,
          3.245,
          3.4,
          3.7,
          3.8,
          3.98
         ]
        },
        {
         "hovertemplate": "NTU<br>Mathematical Sciences<br>Salary: %{y:.2f}K",
         "marker": {
          "color": "grey",
          "opacity": 0.7
         },
         "mode": "markers",
         "name": "Non-Tech Degree",
         "showlegend": false,
         "type": "scatter",
         "x": [
          2013,
          2014,
          2015,
          2016,
          2017,
          2018,
          2019,
          2020,
          2021,
          2022,
          2023,
          2024
         ],
         "y": [
          3,
          3.2,
          3.24,
          3.5,
          3.5,
          3.65,
          3.599,
          3.656,
          3.806,
          4.3,
          4.25,
          4.379
         ]
        },
        {
         "hovertemplate": "NTU<br>Physics / Applied Physics<br>Salary: %{y:.2f}K",
         "marker": {
          "color": "grey",
          "opacity": 0.7
         },
         "mode": "markers",
         "name": "Non-Tech Degree",
         "showlegend": false,
         "type": "scatter",
         "x": [
          2013,
          2014,
          2015,
          2016,
          2017,
          2018,
          2019,
          2020,
          2021,
          2022,
          2023,
          2024
         ],
         "y": [
          3.3,
          3.1,
          3.2,
          3.45,
          3.3,
          3.4,
          3.5,
          3.7,
          3.6,
          4,
          4,
          4.25
         ]
        },
        {
         "hovertemplate": "NTU<br>Sports Science and Management<br>Salary: %{y:.2f}K",
         "marker": {
          "color": "grey",
          "opacity": 0.7
         },
         "mode": "markers",
         "name": "Non-Tech Degree",
         "showlegend": false,
         "type": "scatter",
         "x": [
          2013,
          2014,
          2015,
          2016,
          2017,
          2018,
          2019,
          2020,
          2021,
          2022,
          2023,
          2024
         ],
         "y": [
          3,
          3,
          3.295,
          3.2,
          3.45,
          3.3,
          3.35,
          3.3,
          3.3,
          3.35,
          3.85,
          4
         ]
        },
        {
         "hovertemplate": "NTU<br>Science (Education)<br>Salary: %{y:.2f}K",
         "marker": {
          "color": "grey",
          "opacity": 0.7
         },
         "mode": "markers",
         "name": "Non-Tech Degree",
         "showlegend": false,
         "type": "scatter",
         "x": [
          2013,
          2014,
          2015,
          2016,
          2017,
          2018,
          2019,
          2020,
          2021,
          2022,
          2023,
          2024
         ],
         "y": [
          3.498,
          3.475,
          3.504,
          3.525,
          3.701,
          3.8,
          3.8,
          3.8,
          3.904,
          4.3,
          4.3,
          5
         ]
        },
        {
         "hovertemplate": "NTU<br>Arts (Education)<br>Salary: %{y:.2f}K",
         "marker": {
          "color": "grey",
          "opacity": 0.7
         },
         "mode": "markers",
         "name": "Non-Tech Degree",
         "showlegend": false,
         "type": "scatter",
         "x": [
          2013,
          2014,
          2015,
          2016,
          2017,
          2018,
          2019,
          2020,
          2021,
          2022,
          2023,
          2024
         ],
         "y": [
          3.498,
          3.475,
          3.5,
          3.525,
          3.6,
          3.8,
          3.8,
          3.799,
          3.78,
          4.129,
          4.129,
          5
         ]
        },
        {
         "hovertemplate": "NTU<br>History<br>Salary: %{y:.2f}K",
         "marker": {
          "color": "grey",
          "opacity": 0.7
         },
         "mode": "markers",
         "name": "Non-Tech Degree",
         "showlegend": false,
         "type": "scatter",
         "x": [
          2013,
          2014,
          2015,
          2016,
          2017,
          2018,
          2019,
          2020,
          2021,
          2022,
          2023,
          2024
         ],
         "y": [
          null,
          null,
          null,
          3,
          3.2,
          3.5,
          3.5,
          3.65,
          3.675,
          4,
          4.2,
          4.45
         ]
        },
        {
         "hovertemplate": "NTU<br>Public Policy and Global Affairs<br>Salary: %{y:.2f}K",
         "marker": {
          "color": "grey",
          "opacity": 0.7
         },
         "mode": "markers",
         "name": "Non-Tech Degree",
         "showlegend": false,
         "type": "scatter",
         "x": [
          2013,
          2014,
          2015,
          2016,
          2017,
          2018,
          2019,
          2020,
          2021,
          2022,
          2023,
          2024
         ],
         "y": [
          null,
          null,
          null,
          null,
          3.395,
          3.35,
          3.85,
          3.8,
          3.804,
          4.123,
          4.202,
          4.5
         ]
        },
        {
         "hovertemplate": "NTU<br>Philosophy<br>Salary: %{y:.2f}K",
         "marker": {
          "color": "grey",
          "opacity": 0.7
         },
         "mode": "markers",
         "name": "Non-Tech Degree",
         "showlegend": false,
         "type": "scatter",
         "x": [
          2014,
          2015,
          2016,
          2017,
          2018,
          2019,
          2020,
          2021,
          2022,
          2023,
          2024
         ],
         "y": [
          null,
          null,
          null,
          null,
          3,
          3.5,
          3.65,
          3.4,
          3.45,
          4,
          4.365
         ]
        },
        {
         "hovertemplate": "NTU<br>Environmental Earth Systems Science<br>Salary: %{y:.2f}K",
         "marker": {
          "color": "grey",
          "opacity": 0.7
         },
         "mode": "markers",
         "name": "Non-Tech Degree",
         "showlegend": false,
         "type": "scatter",
         "x": [
          2014,
          2015,
          2016,
          2017,
          2018,
          2019,
          2020,
          2021,
          2022,
          2023,
          2024
         ],
         "y": [
          null,
          null,
          null,
          null,
          3.44,
          3.5,
          3.55,
          3.95,
          4.023,
          4.138,
          4.5
         ]
        },
        {
         "hovertemplate": "NTU<br>Medicine<br>Salary: %{y:.2f}K",
         "marker": {
          "color": "grey",
          "opacity": 0.7
         },
         "mode": "markers",
         "name": "Non-Tech Degree",
         "showlegend": false,
         "type": "scatter",
         "x": [
          2013,
          2014,
          2015,
          2016,
          2017,
          2018,
          2019,
          2020,
          2021,
          2022,
          2023
         ],
         "y": [
          null,
          null,
          null,
          null,
          null,
          null,
          5.7,
          5.25,
          5.5,
          5.6,
          null
         ]
        },
        {
         "hovertemplate": "NUS<br>Information Systems<br>Salary: %{y:.2f}K",
         "marker": {
          "color": "#FF6173",
          "opacity": 0.7
         },
         "mode": "markers",
         "name": "Tech Degree",
         "showlegend": false,
         "type": "scatter",
         "x": [
          2024,
          2023,
          2022,
          2021,
          2020,
          2019,
          2018,
          2017,
          2016,
          2015,
          2014,
          2013
         ],
         "y": [
          6,
          5.5,
          5.5,
          5,
          4.5,
          4.228,
          4.458,
          4,
          4,
          3.55,
          3.5,
          3.005
         ]
        },
        {
         "hovertemplate": "NUS<br>Information Security<br>Salary: %{y:.2f}K",
         "marker": {
          "color": "#FF6173",
          "opacity": 0.7
         },
         "mode": "markers",
         "name": "Tech Degree",
         "showlegend": false,
         "type": "scatter",
         "x": [
          2024,
          2023,
          2022,
          2021,
          2020,
          2019,
          2018,
          2017,
          2016,
          2015
         ],
         "y": [
          6.11,
          5.5,
          5.5,
          5.4,
          5,
          null,
          null,
          null,
          null,
          null
         ]
        },
        {
         "hovertemplate": "NUS<br>Computer Science<br>Salary: %{y:.2f}K",
         "marker": {
          "color": "#FF6173",
          "opacity": 0.7
         },
         "mode": "markers",
         "name": "Tech Degree",
         "showlegend": false,
         "type": "scatter",
         "x": [
          2024,
          2023,
          2022,
          2021,
          2020,
          2019,
          2018,
          2017,
          2016,
          2015,
          2014,
          2013
         ],
         "y": [
          6.5,
          6.333,
          6.6,
          6,
          5.243,
          5,
          4.32,
          4.285,
          4,
          3.7,
          3.5,
          3.425
         ]
        },
        {
         "hovertemplate": "NUS<br>Computer Engineering<br>Salary: %{y:.2f}K",
         "marker": {
          "color": "#FF6173",
          "opacity": 0.7
         },
         "mode": "markers",
         "name": "Tech Degree",
         "showlegend": false,
         "type": "scatter",
         "x": [
          2013,
          2014,
          2015,
          2016,
          2017,
          2018,
          2019,
          2020,
          2021,
          2022,
          2023,
          2024
         ],
         "y": [
          3.2,
          3.5,
          4,
          3.9,
          3.9,
          3.975,
          4,
          5,
          5.4,
          6,
          5.595,
          5.8
         ]
        },
        {
         "hovertemplate": "NUS<br>Business Analytics<br>Salary: %{y:.2f}K",
         "marker": {
          "color": "#FF6173",
          "opacity": 0.7
         },
         "mode": "markers",
         "name": "Tech Degree",
         "showlegend": false,
         "type": "scatter",
         "x": [
          2024,
          2023,
          2022,
          2021,
          2020,
          2019,
          2018,
          2017,
          2016,
          2015,
          2014,
          2013
         ],
         "y": [
          5.4,
          5.5,
          5.5,
          5.4,
          5,
          5,
          4.5,
          4,
          null,
          null,
          null,
          null
         ]
        },
        {
         "hovertemplate": "NUS<br>Data Science and Analytics<br>Salary: %{y:.2f}K",
         "marker": {
          "color": "#FF6173",
          "opacity": 0.7
         },
         "mode": "markers",
         "name": "Tech Degree",
         "showlegend": false,
         "type": "scatter",
         "x": [
          2024,
          2023,
          2022,
          2021,
          2020,
          2019,
          2018,
          2017,
          2016
         ],
         "y": [
          5.4,
          5,
          5.5,
          4.8,
          4.125,
          null,
          null,
          null,
          null
         ]
        },
        {
         "hovertemplate": "NUS<br>Environmental Engineering<br>Salary: %{y:.2f}K",
         "marker": {
          "color": "grey",
          "opacity": 0.7
         },
         "mode": "markers",
         "name": "Non-Tech Degree",
         "showlegend": false,
         "type": "scatter",
         "x": [
          2016,
          2017,
          2018,
          2019,
          2020,
          2021,
          2022,
          2023,
          2024,
          2015,
          2014,
          2013
         ],
         "y": [
          3.35,
          3.35,
          3.4,
          3.4,
          3.5,
          3.5,
          4.2,
          4.243,
          4.701,
          3.45,
          3.23,
          3.11
         ]
        },
        {
         "hovertemplate": "NUS<br>Industrial and Systems Engineering<br>Salary: %{y:.2f}K",
         "marker": {
          "color": "grey",
          "opacity": 0.7
         },
         "mode": "markers",
         "name": "Non-Tech Degree",
         "showlegend": false,
         "type": "scatter",
         "x": [
          2013,
          2014,
          2015,
          2016,
          2017,
          2018,
          2019,
          2020,
          2021,
          2022,
          2023,
          2024
         ],
         "y": [
          3.2,
          3.6,
          3.5,
          3.5,
          3.875,
          3.895,
          4,
          4.38,
          4.5,
          5,
          4.6,
          4.9
         ]
        },
        {
         "hovertemplate": "NUS<br>Materials Science and Engineering<br>Salary: %{y:.2f}K",
         "marker": {
          "color": "grey",
          "opacity": 0.7
         },
         "mode": "markers",
         "name": "Non-Tech Degree",
         "showlegend": false,
         "type": "scatter",
         "x": [
          2013,
          2014,
          2015,
          2016,
          2017,
          2018,
          2019,
          2020,
          2021,
          2022,
          2023,
          2024
         ],
         "y": [
          3,
          3.3,
          3.35,
          3.54,
          3.388,
          3.6,
          4,
          3.9,
          3.896,
          4.5,
          4.346,
          5
         ]
        },
        {
         "hovertemplate": "NUS<br>Mechanical Engineering<br>Salary: %{y:.2f}K",
         "marker": {
          "color": "grey",
          "opacity": 0.7
         },
         "mode": "markers",
         "name": "Non-Tech Degree",
         "showlegend": false,
         "type": "scatter",
         "x": [
          2013,
          2014,
          2015,
          2016,
          2017,
          2018,
          2019,
          2020,
          2021,
          2022,
          2023,
          2024
         ],
         "y": [
          3.225,
          3.2,
          3.3,
          3.4,
          3.45,
          3.7,
          3.7,
          3.8,
          3.875,
          4.525,
          4.49,
          5
         ]
        },
        {
         "hovertemplate": "NUS<br>Law<br>Salary: %{y:.2f}K",
         "marker": {
          "color": "grey",
          "opacity": 0.7
         },
         "mode": "markers",
         "name": "Non-Tech Degree",
         "showlegend": false,
         "type": "scatter",
         "x": [
          2013,
          2014,
          2015,
          2016,
          2017,
          2018,
          2019,
          2020,
          2021,
          2022,
          2023,
          2024
         ],
         "y": [
          5,
          5.15,
          4.7,
          4.9,
          5,
          5.5,
          5.4,
          5,
          5.6,
          6.4,
          7,
          7
         ]
        },
        {
         "hovertemplate": "NUS<br>Science (Hons)<br>Salary: %{y:.2f}K",
         "marker": {
          "color": "grey",
          "opacity": 0.7
         },
         "mode": "markers",
         "name": "Non-Tech Degree",
         "showlegend": false,
         "type": "scatter",
         "x": [
          2013,
          2014,
          2015,
          2016,
          2017,
          2018,
          2019,
          2020,
          2021,
          2022,
          2023,
          2024
         ],
         "y": [
          3.1,
          3.21,
          3.3,
          3.3,
          3.3,
          3.4,
          3.5,
          3.528,
          3.6,
          3.85,
          4,
          4.15
         ]
        },
        {
         "hovertemplate": "NUS<br>Engineering Science<br>Salary: %{y:.2f}K",
         "marker": {
          "color": "grey",
          "opacity": 0.7
         },
         "mode": "markers",
         "name": "Non-Tech Degree",
         "showlegend": false,
         "type": "scatter",
         "x": [
          2024,
          2023,
          2022,
          2021,
          2020,
          2019,
          2017,
          2016,
          2015,
          2014,
          2013
         ],
         "y": [
          5.5,
          4.5,
          4.45,
          4.5,
          4,
          3.75,
          3.675,
          3.74,
          3.8,
          3.4,
          3
         ]
        },
        {
         "hovertemplate": "NUS<br>Environmental Studies<br>Salary: %{y:.2f}K",
         "marker": {
          "color": "grey",
          "opacity": 0.7
         },
         "mode": "markers",
         "name": "Non-Tech Degree",
         "showlegend": false,
         "type": "scatter",
         "x": [
          2013,
          2014,
          2015,
          2016,
          2017,
          2018,
          2019,
          2020,
          2021,
          2022,
          2023,
          2024
         ],
         "y": [
          null,
          null,
          3.5,
          3.3,
          3.3,
          3.414,
          3.325,
          3.25,
          3.65,
          3.8,
          4,
          4.3
         ]
        },
        {
         "hovertemplate": "NUS<br>Pharmacy<br>Salary: %{y:.2f}K",
         "marker": {
          "color": "grey",
          "opacity": 0.7
         },
         "mode": "markers",
         "name": "Non-Tech Degree",
         "showlegend": false,
         "type": "scatter",
         "x": [
          2013,
          2014,
          2015,
          2016,
          2017,
          2018,
          2019,
          2020,
          2021,
          2022
         ],
         "y": [
          3.5,
          3.63,
          3.5,
          3.6,
          3.6,
          3.65,
          3.75,
          3.7,
          3.915,
          4
         ]
        },
        {
         "hovertemplate": "NUS<br>Accountancy (Hons)<br>Salary: %{y:.2f}K",
         "marker": {
          "color": "grey",
          "opacity": 0.7
         },
         "mode": "markers",
         "name": "Non-Tech Degree",
         "showlegend": false,
         "type": "scatter",
         "x": [
          2013,
          2014,
          2015,
          2016,
          2017,
          2018,
          2019,
          2020,
          2021,
          2022,
          2023,
          2024
         ],
         "y": [
          2.8,
          2.912,
          3,
          3.075,
          3.125,
          3.2,
          3.6,
          3.5,
          3.5,
          4,
          4.2,
          4.388
         ]
        },
        {
         "hovertemplate": "NUS<br>Business Administration (Hons)<br>Salary: %{y:.2f}K",
         "marker": {
          "color": "grey",
          "opacity": 0.7
         },
         "mode": "markers",
         "name": "Non-Tech Degree",
         "showlegend": false,
         "type": "scatter",
         "x": [
          2013,
          2014,
          2015,
          2016,
          2017,
          2018,
          2019,
          2020,
          2021,
          2022,
          2023,
          2024
         ],
         "y": [
          3.2,
          3.52,
          3.8,
          3.62,
          3.8,
          3.895,
          4.15,
          4,
          4.347,
          4.696,
          4.8,
          4.9
         ]
        },
        {
         "hovertemplate": "NUS<br>Electrical Engineering<br>Salary: %{y:.2f}K",
         "marker": {
          "color": "grey",
          "opacity": 0.7
         },
         "mode": "markers",
         "name": "Non-Tech Degree",
         "showlegend": false,
         "type": "scatter",
         "x": [
          2024,
          2023,
          2022,
          2021,
          2020,
          2019,
          2018,
          2017,
          2016,
          2015,
          2014,
          2013
         ],
         "y": [
          5,
          4.8,
          4.8,
          4.15,
          4.2,
          4,
          3.7,
          3.6,
          3.5,
          3.3,
          3.3,
          3.2
         ]
        },
        {
         "hovertemplate": "NUS<br>Civil Engineering<br>Salary: %{y:.2f}K",
         "marker": {
          "color": "grey",
          "opacity": 0.7
         },
         "mode": "markers",
         "name": "Non-Tech Degree",
         "showlegend": false,
         "type": "scatter",
         "x": [
          2024,
          2023,
          2022,
          2021,
          2020,
          2019,
          2018,
          2017,
          2016,
          2015,
          2014,
          2013
         ],
         "y": [
          4.2,
          4,
          4,
          3.7,
          3.59,
          3.6,
          3.5,
          3.3,
          3.42,
          3.35,
          3.208,
          3.05
         ]
        },
        {
         "hovertemplate": "NUS<br>Chemical Engineering<br>Salary: %{y:.2f}K",
         "marker": {
          "color": "grey",
          "opacity": 0.7
         },
         "mode": "markers",
         "name": "Non-Tech Degree",
         "showlegend": false,
         "type": "scatter",
         "x": [
          2024,
          2023,
          2022,
          2021,
          2020,
          2019,
          2018,
          2017,
          2016,
          2015,
          2014,
          2013
         ],
         "y": [
          4.76,
          4.405,
          4.675,
          3.8,
          4,
          3.95,
          4,
          3.6,
          3.45,
          3.5,
          3.3,
          3.175
         ]
        },
        {
         "hovertemplate": "NUS<br>Biomedical Engineering<br>Salary: %{y:.2f}K",
         "marker": {
          "color": "grey",
          "opacity": 0.7
         },
         "mode": "markers",
         "name": "Non-Tech Degree",
         "showlegend": false,
         "type": "scatter",
         "x": [
          2024,
          2023,
          2022,
          2021,
          2020,
          2019,
          2018,
          2017,
          2016,
          2015,
          2014,
          2013
         ],
         "y": [
          4.325,
          4.1,
          4,
          3.6,
          3.5,
          3.5,
          3.389,
          3.3,
          3.2,
          3.3,
          3,
          3
         ]
        },
        {
         "hovertemplate": "NUS<br>Architecture<br>Salary: %{y:.2f}K",
         "marker": {
          "color": "grey",
          "opacity": 0.7
         },
         "mode": "markers",
         "name": "Non-Tech Degree",
         "showlegend": false,
         "type": "scatter",
         "x": [
          2013,
          2014,
          2015,
          2016,
          2017,
          2018,
          2019,
          2020,
          2021,
          2022,
          2023,
          2024
         ],
         "y": [
          null,
          4.275,
          4.127,
          4,
          4,
          null,
          4.1,
          4,
          4,
          4.4,
          null,
          4.995
         ]
        },
        {
         "hovertemplate": "NUS<br>Industrial Design<br>Salary: %{y:.2f}K",
         "marker": {
          "color": "grey",
          "opacity": 0.7
         },
         "mode": "markers",
         "name": "Non-Tech Degree",
         "showlegend": false,
         "type": "scatter",
         "x": [
          2013,
          2014,
          2015,
          2016,
          2017,
          2018,
          2019,
          2020,
          2021,
          2022,
          2023,
          2024
         ],
         "y": [
          2.65,
          2.565,
          3,
          3,
          2.92,
          3.25,
          3.3,
          3.5,
          3.825,
          4.5,
          4,
          4.025
         ]
        },
        {
         "hovertemplate": "NUS<br>Project & Facilities Management<br>Salary: %{y:.2f}K",
         "marker": {
          "color": "grey",
          "opacity": 0.7
         },
         "mode": "markers",
         "name": "Non-Tech Degree",
         "showlegend": false,
         "type": "scatter",
         "x": [
          2013,
          2014,
          2015,
          2016,
          2017,
          2018,
          2019,
          2020,
          2021,
          2022,
          2023,
          2024
         ],
         "y": [
          3,
          3,
          3,
          3,
          3,
          3.06,
          3.155,
          3.2,
          3.5,
          3.555,
          3.855,
          4
         ]
        },
        {
         "hovertemplate": "NUS<br>Real Estate<br>Salary: %{y:.2f}K",
         "marker": {
          "color": "grey",
          "opacity": 0.7
         },
         "mode": "markers",
         "name": "Non-Tech Degree",
         "showlegend": false,
         "type": "scatter",
         "x": [
          2013,
          2014,
          2015,
          2016,
          2017,
          2018,
          2019,
          2020,
          2021,
          2022,
          2023,
          2024
         ],
         "y": [
          2.9,
          3,
          3.1,
          3.2,
          3,
          3.3,
          3.4,
          3.63,
          3.7,
          3.85,
          4,
          4.1
         ]
        },
        {
         "hovertemplate": "NUS<br>Medicine<br>Salary: %{y:.2f}K",
         "marker": {
          "color": "grey",
          "opacity": 0.7
         },
         "mode": "markers",
         "name": "Non-Tech Degree",
         "showlegend": false,
         "type": "scatter",
         "x": [
          2013,
          2014,
          2015,
          2016,
          2017,
          2018,
          2019,
          2020,
          2021,
          2022,
          2023
         ],
         "y": [
          4.5,
          5,
          4.9,
          5,
          5,
          null,
          5.237,
          5.25,
          null,
          null,
          null
         ]
        },
        {
         "hovertemplate": "NUS<br>Nursing (Hons)<br>Salary: %{y:.2f}K",
         "marker": {
          "color": "grey",
          "opacity": 0.7
         },
         "mode": "markers",
         "name": "Non-Tech Degree",
         "showlegend": false,
         "type": "scatter",
         "x": [
          2013,
          2014,
          2015,
          2016,
          2017,
          2018,
          2019,
          2020,
          2021,
          2022,
          2023,
          2024
         ],
         "y": [
          3.025,
          3.5,
          3.435,
          3.5,
          3.5,
          3.55,
          3.65,
          3.6,
          3.75,
          3.85,
          4,
          4
         ]
        },
        {
         "hovertemplate": "NUS<br>Dentistry<br>Salary: %{y:.2f}K",
         "marker": {
          "color": "grey",
          "opacity": 0.7
         },
         "mode": "markers",
         "name": "Non-Tech Degree",
         "showlegend": false,
         "type": "scatter",
         "x": [
          2024,
          2023,
          2022,
          2021,
          2020,
          2019,
          2018,
          2017,
          2016,
          2015,
          2014,
          2013
         ],
         "y": [
          4.55,
          4.55,
          4.2,
          4.2,
          4.2,
          4.2,
          4.05,
          4.05,
          4.05,
          4,
          4,
          4
         ]
        },
        {
         "hovertemplate": "NUS<br>Social Sciences<br>Salary: %{y:.2f}K",
         "marker": {
          "color": "grey",
          "opacity": 0.7
         },
         "mode": "markers",
         "name": "Non-Tech Degree",
         "showlegend": false,
         "type": "scatter",
         "x": [
          2024,
          2023,
          2022,
          2021,
          2020,
          2019,
          2018,
          2017,
          2016,
          2015,
          2014,
          2013
         ],
         "y": [
          4.21,
          4.015,
          3.795,
          3.6,
          3.5,
          3.5,
          3.4,
          3.3,
          3.3,
          3.31,
          3.25,
          3.2
         ]
        },
        {
         "hovertemplate": "NUS<br>Arts (Hons)<br>Salary: %{y:.2f}K",
         "marker": {
          "color": "grey",
          "opacity": 0.7
         },
         "mode": "markers",
         "name": "Non-Tech Degree",
         "showlegend": false,
         "type": "scatter",
         "x": [
          2024,
          2023,
          2022,
          2021,
          2020,
          2019,
          2018,
          2017,
          2016,
          2015,
          2014,
          2013
         ],
         "y": [
          4.419,
          4.008,
          4,
          3.65,
          3.5,
          3.5,
          3.3,
          3.36,
          3.5,
          3.31,
          3.3,
          3.2
         ]
        }
       ],
       "layout": {
        "legend": {
         "orientation": "h",
         "x": 0,
         "xanchor": "left",
         "y": 1.02,
         "yanchor": "bottom"
        },
        "margin": {
         "r": 10
        },
        "template": {
         "data": {
          "bar": [
           {
            "error_x": {
             "color": "rgb(51,51,51)"
            },
            "error_y": {
             "color": "rgb(51,51,51)"
            },
            "marker": {
             "line": {
              "color": "rgb(237,237,237)",
              "width": 0.5
             },
             "pattern": {
              "fillmode": "overlay",
              "size": 10,
              "solidity": 0.2
             }
            },
            "type": "bar"
           }
          ],
          "barpolar": [
           {
            "marker": {
             "line": {
              "color": "rgb(237,237,237)",
              "width": 0.5
             },
             "pattern": {
              "fillmode": "overlay",
              "size": 10,
              "solidity": 0.2
             }
            },
            "type": "barpolar"
           }
          ],
          "carpet": [
           {
            "aaxis": {
             "endlinecolor": "rgb(51,51,51)",
             "gridcolor": "white",
             "linecolor": "white",
             "minorgridcolor": "white",
             "startlinecolor": "rgb(51,51,51)"
            },
            "baxis": {
             "endlinecolor": "rgb(51,51,51)",
             "gridcolor": "white",
             "linecolor": "white",
             "minorgridcolor": "white",
             "startlinecolor": "rgb(51,51,51)"
            },
            "type": "carpet"
           }
          ],
          "choropleth": [
           {
            "colorbar": {
             "outlinewidth": 0,
             "tickcolor": "rgb(237,237,237)",
             "ticklen": 6,
             "ticks": "inside"
            },
            "type": "choropleth"
           }
          ],
          "contour": [
           {
            "colorbar": {
             "outlinewidth": 0,
             "tickcolor": "rgb(237,237,237)",
             "ticklen": 6,
             "ticks": "inside"
            },
            "colorscale": [
             [
              0,
              "rgb(20,44,66)"
             ],
             [
              1,
              "rgb(90,179,244)"
             ]
            ],
            "type": "contour"
           }
          ],
          "contourcarpet": [
           {
            "colorbar": {
             "outlinewidth": 0,
             "tickcolor": "rgb(237,237,237)",
             "ticklen": 6,
             "ticks": "inside"
            },
            "type": "contourcarpet"
           }
          ],
          "heatmap": [
           {
            "colorbar": {
             "outlinewidth": 0,
             "tickcolor": "rgb(237,237,237)",
             "ticklen": 6,
             "ticks": "inside"
            },
            "colorscale": [
             [
              0,
              "rgb(20,44,66)"
             ],
             [
              1,
              "rgb(90,179,244)"
             ]
            ],
            "type": "heatmap"
           }
          ],
          "heatmapgl": [
           {
            "colorbar": {
             "outlinewidth": 0,
             "tickcolor": "rgb(237,237,237)",
             "ticklen": 6,
             "ticks": "inside"
            },
            "colorscale": [
             [
              0,
              "rgb(20,44,66)"
             ],
             [
              1,
              "rgb(90,179,244)"
             ]
            ],
            "type": "heatmapgl"
           }
          ],
          "histogram": [
           {
            "marker": {
             "pattern": {
              "fillmode": "overlay",
              "size": 10,
              "solidity": 0.2
             }
            },
            "type": "histogram"
           }
          ],
          "histogram2d": [
           {
            "colorbar": {
             "outlinewidth": 0,
             "tickcolor": "rgb(237,237,237)",
             "ticklen": 6,
             "ticks": "inside"
            },
            "colorscale": [
             [
              0,
              "rgb(20,44,66)"
             ],
             [
              1,
              "rgb(90,179,244)"
             ]
            ],
            "type": "histogram2d"
           }
          ],
          "histogram2dcontour": [
           {
            "colorbar": {
             "outlinewidth": 0,
             "tickcolor": "rgb(237,237,237)",
             "ticklen": 6,
             "ticks": "inside"
            },
            "colorscale": [
             [
              0,
              "rgb(20,44,66)"
             ],
             [
              1,
              "rgb(90,179,244)"
             ]
            ],
            "type": "histogram2dcontour"
           }
          ],
          "mesh3d": [
           {
            "colorbar": {
             "outlinewidth": 0,
             "tickcolor": "rgb(237,237,237)",
             "ticklen": 6,
             "ticks": "inside"
            },
            "type": "mesh3d"
           }
          ],
          "parcoords": [
           {
            "line": {
             "colorbar": {
              "outlinewidth": 0,
              "tickcolor": "rgb(237,237,237)",
              "ticklen": 6,
              "ticks": "inside"
             }
            },
            "type": "parcoords"
           }
          ],
          "pie": [
           {
            "automargin": true,
            "type": "pie"
           }
          ],
          "scatter": [
           {
            "fillpattern": {
             "fillmode": "overlay",
             "size": 10,
             "solidity": 0.2
            },
            "type": "scatter"
           }
          ],
          "scatter3d": [
           {
            "line": {
             "colorbar": {
              "outlinewidth": 0,
              "tickcolor": "rgb(237,237,237)",
              "ticklen": 6,
              "ticks": "inside"
             }
            },
            "marker": {
             "colorbar": {
              "outlinewidth": 0,
              "tickcolor": "rgb(237,237,237)",
              "ticklen": 6,
              "ticks": "inside"
             }
            },
            "type": "scatter3d"
           }
          ],
          "scattercarpet": [
           {
            "marker": {
             "colorbar": {
              "outlinewidth": 0,
              "tickcolor": "rgb(237,237,237)",
              "ticklen": 6,
              "ticks": "inside"
             }
            },
            "type": "scattercarpet"
           }
          ],
          "scattergeo": [
           {
            "marker": {
             "colorbar": {
              "outlinewidth": 0,
              "tickcolor": "rgb(237,237,237)",
              "ticklen": 6,
              "ticks": "inside"
             }
            },
            "type": "scattergeo"
           }
          ],
          "scattergl": [
           {
            "marker": {
             "colorbar": {
              "outlinewidth": 0,
              "tickcolor": "rgb(237,237,237)",
              "ticklen": 6,
              "ticks": "inside"
             }
            },
            "type": "scattergl"
           }
          ],
          "scattermapbox": [
           {
            "marker": {
             "colorbar": {
              "outlinewidth": 0,
              "tickcolor": "rgb(237,237,237)",
              "ticklen": 6,
              "ticks": "inside"
             }
            },
            "type": "scattermapbox"
           }
          ],
          "scatterpolar": [
           {
            "marker": {
             "colorbar": {
              "outlinewidth": 0,
              "tickcolor": "rgb(237,237,237)",
              "ticklen": 6,
              "ticks": "inside"
             }
            },
            "type": "scatterpolar"
           }
          ],
          "scatterpolargl": [
           {
            "marker": {
             "colorbar": {
              "outlinewidth": 0,
              "tickcolor": "rgb(237,237,237)",
              "ticklen": 6,
              "ticks": "inside"
             }
            },
            "type": "scatterpolargl"
           }
          ],
          "scatterternary": [
           {
            "marker": {
             "colorbar": {
              "outlinewidth": 0,
              "tickcolor": "rgb(237,237,237)",
              "ticklen": 6,
              "ticks": "inside"
             }
            },
            "type": "scatterternary"
           }
          ],
          "surface": [
           {
            "colorbar": {
             "outlinewidth": 0,
             "tickcolor": "rgb(237,237,237)",
             "ticklen": 6,
             "ticks": "inside"
            },
            "colorscale": [
             [
              0,
              "rgb(20,44,66)"
             ],
             [
              1,
              "rgb(90,179,244)"
             ]
            ],
            "type": "surface"
           }
          ],
          "table": [
           {
            "cells": {
             "fill": {
              "color": "rgb(237,237,237)"
             },
             "line": {
              "color": "white"
             }
            },
            "header": {
             "fill": {
              "color": "rgb(217,217,217)"
             },
             "line": {
              "color": "white"
             }
            },
            "type": "table"
           }
          ]
         },
         "layout": {
          "annotationdefaults": {
           "arrowhead": 0,
           "arrowwidth": 1
          },
          "autotypenumbers": "strict",
          "coloraxis": {
           "colorbar": {
            "outlinewidth": 0,
            "tickcolor": "rgb(237,237,237)",
            "ticklen": 6,
            "ticks": "inside"
           }
          },
          "colorscale": {
           "sequential": [
            [
             0,
             "rgb(20,44,66)"
            ],
            [
             1,
             "rgb(90,179,244)"
            ]
           ],
           "sequentialminus": [
            [
             0,
             "rgb(20,44,66)"
            ],
            [
             1,
             "rgb(90,179,244)"
            ]
           ]
          },
          "colorway": [
           "#F8766D",
           "#A3A500",
           "#00BF7D",
           "#00B0F6",
           "#E76BF3"
          ],
          "font": {
           "color": "rgb(51,51,51)"
          },
          "geo": {
           "bgcolor": "white",
           "lakecolor": "white",
           "landcolor": "rgb(237,237,237)",
           "showlakes": true,
           "showland": true,
           "subunitcolor": "white"
          },
          "hoverlabel": {
           "align": "left"
          },
          "hovermode": "closest",
          "paper_bgcolor": "white",
          "plot_bgcolor": "rgb(237,237,237)",
          "polar": {
           "angularaxis": {
            "gridcolor": "white",
            "linecolor": "white",
            "showgrid": true,
            "tickcolor": "rgb(51,51,51)",
            "ticks": "outside"
           },
           "bgcolor": "rgb(237,237,237)",
           "radialaxis": {
            "gridcolor": "white",
            "linecolor": "white",
            "showgrid": true,
            "tickcolor": "rgb(51,51,51)",
            "ticks": "outside"
           }
          },
          "scene": {
           "xaxis": {
            "backgroundcolor": "rgb(237,237,237)",
            "gridcolor": "white",
            "gridwidth": 2,
            "linecolor": "white",
            "showbackground": true,
            "showgrid": true,
            "tickcolor": "rgb(51,51,51)",
            "ticks": "outside",
            "zerolinecolor": "white"
           },
           "yaxis": {
            "backgroundcolor": "rgb(237,237,237)",
            "gridcolor": "white",
            "gridwidth": 2,
            "linecolor": "white",
            "showbackground": true,
            "showgrid": true,
            "tickcolor": "rgb(51,51,51)",
            "ticks": "outside",
            "zerolinecolor": "white"
           },
           "zaxis": {
            "backgroundcolor": "rgb(237,237,237)",
            "gridcolor": "white",
            "gridwidth": 2,
            "linecolor": "white",
            "showbackground": true,
            "showgrid": true,
            "tickcolor": "rgb(51,51,51)",
            "ticks": "outside",
            "zerolinecolor": "white"
           }
          },
          "shapedefaults": {
           "fillcolor": "black",
           "line": {
            "width": 0
           },
           "opacity": 0.3
          },
          "ternary": {
           "aaxis": {
            "gridcolor": "white",
            "linecolor": "white",
            "showgrid": true,
            "tickcolor": "rgb(51,51,51)",
            "ticks": "outside"
           },
           "baxis": {
            "gridcolor": "white",
            "linecolor": "white",
            "showgrid": true,
            "tickcolor": "rgb(51,51,51)",
            "ticks": "outside"
           },
           "bgcolor": "rgb(237,237,237)",
           "caxis": {
            "gridcolor": "white",
            "linecolor": "white",
            "showgrid": true,
            "tickcolor": "rgb(51,51,51)",
            "ticks": "outside"
           }
          },
          "xaxis": {
           "automargin": true,
           "gridcolor": "white",
           "linecolor": "white",
           "showgrid": true,
           "tickcolor": "rgb(51,51,51)",
           "ticks": "outside",
           "title": {
            "standoff": 15
           },
           "zerolinecolor": "white"
          },
          "yaxis": {
           "automargin": true,
           "gridcolor": "white",
           "linecolor": "white",
           "showgrid": true,
           "tickcolor": "rgb(51,51,51)",
           "ticks": "outside",
           "title": {
            "standoff": 15
           },
           "zerolinecolor": "white"
          }
         }
        },
        "title": {
         "text": "Degree starting salaries",
         "x": 0.1,
         "xanchor": "left",
         "y": 0.95,
         "yanchor": "top"
        },
        "xaxis": {
         "dtick": 1,
         "fixedrange": true,
         "tickmode": "linear",
         "title": {
          "text": "Year"
         }
        },
        "yaxis": {
         "dtick": 0.5,
         "fixedrange": true,
         "tickmode": "linear",
         "title": {
          "text": "Gross Monthly Median (SGD Thousands)"
         }
        }
       }
      }
     },
     "metadata": {},
     "output_type": "display_data"
    }
   ],
   "source": [
    "df = orig_df.copy()\n",
    "# Filter the DataFrame for tech-related degrees\n",
    "df['is_tech_degree'] = df.apply(lambda x: 1 if x['course'] in tech_degrees.get(x['uni'], []) else 0, axis=1)\n",
    "\n",
    "# Adjust gross_monthly_median to thousands\n",
    "df['gross_monthly_median'] = df['gross_monthly_median'] / 1000\n",
    "\n",
    "tech_degree_color = '#FF6173'\n",
    "non_tech_degree_color = 'grey'\n",
    "\n",
    "# Create the figure\n",
    "fig = go.Figure()\n",
    "\n",
    "# Plot the line plot for the overall median\n",
    "median_df = df[(df['course'] == 'Overall Median') & (df['summary_row'] == 1)]\n",
    "fig.add_trace(go.Scatter(\n",
    "    x=median_df['year'],\n",
    "    y=median_df['gross_monthly_median'],\n",
    "    mode='lines',\n",
    "    line=dict(color='black', dash='dash'),\n",
    "    name='Overall Median'\n",
    "))\n",
    "\n",
    "# Compute the median yearlysalaary for tech degrees\n",
    "tdf = df.loc[(df['is_tech_degree']==1)\n",
    "             & (df.summary_row==0)]\n",
    "# Median Rows\n",
    "tdf_median = tdf.groupby('year', as_index=False)[metrics].agg(lambda x: x.quantile(0.5))\n",
    "tdf_median['uni'] = np.nan\n",
    "tdf_median['course'] = f'Tech Degree Median'\n",
    "tdf_median['summary_row']=1\n",
    "\n",
    "fig.add_trace(go.Scatter(\n",
    "    x=tdf_median['year'],\n",
    "    y=tdf_median['gross_monthly_median'],\n",
    "    mode='lines',\n",
    "    line=dict(color='red', dash='dash'),\n",
    "    name='Tech Degree Median'\n",
    "))\n",
    "\n",
    "# Plot scatter plots for each non-summary course\n",
    "df = df.sort_values('is_tech_degree', ascending=False)\n",
    "for uni in df['uni'].unique():\n",
    "    uni_df = df[(df['uni'] == uni) & (df['course_row'] == 1)]\n",
    "    for course in uni_df['course'].unique():\n",
    "        course_df = uni_df[uni_df['course'] == course]\n",
    "        color = tech_degree_color if course_df['is_tech_degree'].iloc[0] == 1 else non_tech_degree_color\n",
    "        fig.add_trace(go.Scatter(\n",
    "            x=course_df['year'],\n",
    "            y=course_df['gross_monthly_median'],\n",
    "            mode='markers',\n",
    "            marker=dict(color=color, opacity=0.7),\n",
    "            name='Tech Degree' if color == tech_degree_color else 'Non-Tech Degree',\n",
    "            showlegend=not any(d['name'] == ('Tech Degree' if color == tech_degree_color else 'Non-Tech Degree') for d in fig.data),\n",
    "            hovertemplate=f\"{uni}<br>{course}<br>Salary: %{{y:.2f}}K\"\n",
    "        ))\n",
    "\n",
    "# Customize the layout\n",
    "fig.update_layout(\n",
    "    xaxis_fixedrange=True, yaxis_fixedrange=True,\n",
    "    # title=\"Yearly degree starting salaries\",\n",
    "    title = {\n",
    "        'text': 'Degree starting salaries'\n",
    "        , 'y' : 0.95\n",
    "        , 'x': 0.1\n",
    "        , 'xanchor': 'left'\n",
    "        , 'yanchor': 'top'\n",
    "    },\n",
    "    xaxis_title=\"Year\",\n",
    "    yaxis_title=\"Gross Monthly Median (SGD Thousands)\",\n",
    "    # legend_title=\"Degree Type\",\n",
    "    legend=dict(\n",
    "        orientation=\"h\",\n",
    "        yanchor=\"bottom\",\n",
    "        y=1.02,\n",
    "        xanchor=\"left\",\n",
    "        x=0\n",
    "    ),\n",
    "    xaxis=dict(\n",
    "        tickmode='linear',\n",
    "        dtick=1  # Yearly ticks\n",
    "    ),\n",
    "    yaxis=dict(\n",
    "        tickmode='linear',\n",
    "        dtick=0.5  # $500 increments\n",
    "    )\n",
    "    , template='ggplot2'\n",
    "    , margin = dict(r=10)\n",
    ")\n",
    "\n",
    "# Show the figure\n",
    "fig.show()\n"
   ]
  },
  {
   "cell_type": "markdown",
   "metadata": {},
   "source": [
    "The gap between the starting salaries of tech-related degrees vs non tech-related degrees continues to widen. "
   ]
  },
  {
   "cell_type": "code",
   "execution_count": null,
   "metadata": {},
   "outputs": [
    {
     "data": {
      "text/plain": [
       "'https://chart-studio.plotly.com/~carel/16/'"
      ]
     },
     "execution_count": 32,
     "metadata": {},
     "output_type": "execute_result"
    }
   ],
   "source": [
    "# Host on plotly\n",
    "# py.plot(fig, filename= 'yearly_salaries_2024', auto_open=True)"
   ]
  },
  {
   "cell_type": "markdown",
   "metadata": {},
   "source": [
    "## Aggregate statistics for tech vs non-tech degrees"
   ]
  },
  {
   "cell_type": "code",
   "execution_count": 7,
   "metadata": {},
   "outputs": [
    {
     "name": "stderr",
     "output_type": "stream",
     "text": [
      "/var/folders/lt/1bfps6v903d64dxtxrz736pw0000gn/T/ipykernel_57555/158707257.py:20: SettingWithCopyWarning: \n",
      "A value is trying to be set on a copy of a slice from a DataFrame.\n",
      "Try using .loc[row_indexer,col_indexer] = value instead\n",
      "\n",
      "See the caveats in the documentation: https://pandas.pydata.org/pandas-docs/stable/user_guide/indexing.html#returning-a-view-versus-a-copy\n",
      "  df_courses['is_tech'] = df_courses.apply(is_tech_degree, axis=1)\n"
     ]
    }
   ],
   "source": [
    "# Load the data\n",
    "df=orig_df.copy()\n",
    "\n",
    "# Filter for 2022, 2023 and 2024 data\n",
    "df_recent = df[(df['year'] >= 2022) & (df['year'] <= 2024)]\n",
    "\n",
    "# Filter out summary rows (rows where summary_row is 1)\n",
    "df_courses = df_recent[df_recent['summary_row'] != 1]\n",
    "\n",
    "# Define tech degrees (will use the tech_degrees variable that's available in your environment)\n",
    "# This uses the tech_degrees dictionary available in your environment\n",
    "\n",
    "# Create a function to determine if a row is a tech degree\n",
    "def is_tech_degree(row):\n",
    "    uni = row['uni']\n",
    "    course = row['course']\n",
    "    return uni in tech_degrees and course in tech_degrees[uni]\n",
    "\n",
    "# Apply the function to create a new column\n",
    "df_courses['is_tech'] = df_courses.apply(is_tech_degree, axis=1)\n",
    "\n",
    "# Group by year and tech status, then calculate statistics\n",
    "stats = df_courses.groupby(['year', 'is_tech'])[\n",
    "    ['gross_mthly_25_percentile', 'gross_monthly_median', 'gross_mthly_75_percentile']\n",
    "].median()\n",
    "\n",
    "# Create a comparison table\n",
    "rows = [\n",
    "    'Tech 2022', 'Tech 2023', 'Tech 2024', \n",
    "    'Tech % Change 2022-2023', 'Tech % Change 2023-2024',\n",
    "    'Non-Tech 2022', 'Non-Tech 2023', 'Non-Tech 2024', \n",
    "    'Non-Tech % Change 2022-2023', 'Non-Tech % Change 2023-2024',\n",
    "    'Tech vs Non-Tech % Diff 2022', 'Tech vs Non-Tech % Diff 2023', 'Tech vs Non-Tech % Diff 2024'\n",
    "]\n",
    "\n",
    "comparison = pd.DataFrame(index=rows, \n",
    "                          columns=['25th Percentile', 'Median', '75th Percentile'])\n",
    "\n",
    "# Mapping of column names\n",
    "col_mapping = {\n",
    "    'gross_mthly_25_percentile': '25th Percentile',\n",
    "    'gross_monthly_median': 'Median',\n",
    "    'gross_mthly_75_percentile': '75th Percentile'\n",
    "}\n",
    "\n",
    "# Fill in the data\n",
    "for metric, col_name in col_mapping.items():\n",
    "    # Tech values\n",
    "    tech_2022 = stats.loc[(2022, True), metric]\n",
    "    tech_2023 = stats.loc[(2023, True), metric]\n",
    "    tech_2024 = stats.loc[(2024, True), metric]\n",
    "    tech_change_22_23 = ((tech_2023 / tech_2022) - 1) * 100\n",
    "    tech_change_23_24 = ((tech_2024 / tech_2023) - 1) * 100\n",
    "    \n",
    "    # Non-tech values\n",
    "    non_tech_2022 = stats.loc[(2022, False), metric]\n",
    "    non_tech_2023 = stats.loc[(2023, False), metric]\n",
    "    non_tech_2024 = stats.loc[(2024, False), metric]\n",
    "    non_tech_change_22_23 = ((non_tech_2023 / non_tech_2022) - 1) * 100\n",
    "    non_tech_change_23_24 = ((non_tech_2024 / non_tech_2023) - 1) * 100\n",
    "    \n",
    "    # Calculate differences\n",
    "    diff_2022 = ((tech_2022 / non_tech_2022) - 1) * 100\n",
    "    diff_2023 = ((tech_2023 / non_tech_2023) - 1) * 100\n",
    "    diff_2024 = ((tech_2024 / non_tech_2024) - 1) * 100\n",
    "    \n",
    "    # Populate table with raw values (no special formatting)\n",
    "    comparison.loc['Tech 2022', col_name] = tech_2022\n",
    "    comparison.loc['Tech 2023', col_name] = tech_2023\n",
    "    comparison.loc['Tech 2024', col_name] = tech_2024\n",
    "    comparison.loc['Tech % Change 2022-2023', col_name] = tech_change_22_23\n",
    "    comparison.loc['Tech % Change 2023-2024', col_name] = tech_change_23_24\n",
    "    \n",
    "    comparison.loc['Non-Tech 2022', col_name] = non_tech_2022\n",
    "    comparison.loc['Non-Tech 2023', col_name] = non_tech_2023\n",
    "    comparison.loc['Non-Tech 2024', col_name] = non_tech_2024\n",
    "    comparison.loc['Non-Tech % Change 2022-2023', col_name] = non_tech_change_22_23\n",
    "    comparison.loc['Non-Tech % Change 2023-2024', col_name] = non_tech_change_23_24\n",
    "    \n",
    "    comparison.loc['Tech vs Non-Tech % Diff 2022', col_name] = diff_2022\n",
    "    comparison.loc['Tech vs Non-Tech % Diff 2023', col_name] = diff_2023\n",
    "    comparison.loc['Tech vs Non-Tech % Diff 2024', col_name] = diff_2024\n",
    "\n",
    "# Let's also see how many tech vs non-tech courses we're comparing\n",
    "# Check that these are fairly consistent every year\n",
    "tech_counts = df_courses.groupby(['year', 'is_tech']).size()\n"
   ]
  },
  {
   "cell_type": "code",
   "execution_count": 8,
   "metadata": {},
   "outputs": [
    {
     "data": {
      "text/html": [
       "<div>\n",
       "<style scoped>\n",
       "    .dataframe tbody tr th:only-of-type {\n",
       "        vertical-align: middle;\n",
       "    }\n",
       "\n",
       "    .dataframe tbody tr th {\n",
       "        vertical-align: top;\n",
       "    }\n",
       "\n",
       "    .dataframe thead th {\n",
       "        text-align: right;\n",
       "    }\n",
       "</style>\n",
       "<table border=\"1\" class=\"dataframe\">\n",
       "  <thead>\n",
       "    <tr style=\"text-align: right;\">\n",
       "      <th></th>\n",
       "      <th>25th Percentile</th>\n",
       "      <th>Median</th>\n",
       "      <th>75th Percentile</th>\n",
       "    </tr>\n",
       "  </thead>\n",
       "  <tbody>\n",
       "    <tr>\n",
       "      <th>Tech 2022</th>\n",
       "      <td>4850.0</td>\n",
       "      <td>5500.0</td>\n",
       "      <td>6447.5</td>\n",
       "    </tr>\n",
       "    <tr>\n",
       "      <th>Tech 2023</th>\n",
       "      <td>4850.0</td>\n",
       "      <td>5450.0</td>\n",
       "      <td>6230.0</td>\n",
       "    </tr>\n",
       "    <tr>\n",
       "      <th>Tech 2024</th>\n",
       "      <td>4950.0</td>\n",
       "      <td>5500.0</td>\n",
       "      <td>6550.0</td>\n",
       "    </tr>\n",
       "    <tr>\n",
       "      <th>Tech % Change 2022-2023</th>\n",
       "      <td>0.0</td>\n",
       "      <td>-0.909091</td>\n",
       "      <td>-3.373401</td>\n",
       "    </tr>\n",
       "    <tr>\n",
       "      <th>Tech % Change 2023-2024</th>\n",
       "      <td>2.061856</td>\n",
       "      <td>0.917431</td>\n",
       "      <td>5.136437</td>\n",
       "    </tr>\n",
       "    <tr>\n",
       "      <th>Non-Tech 2022</th>\n",
       "      <td>3625.0</td>\n",
       "      <td>4000.0</td>\n",
       "      <td>4562.5</td>\n",
       "    </tr>\n",
       "    <tr>\n",
       "      <th>Non-Tech 2023</th>\n",
       "      <td>3800.0</td>\n",
       "      <td>4129.0</td>\n",
       "      <td>4550.0</td>\n",
       "    </tr>\n",
       "    <tr>\n",
       "      <th>Non-Tech 2024</th>\n",
       "      <td>4000.0</td>\n",
       "      <td>4342.0</td>\n",
       "      <td>4917.5</td>\n",
       "    </tr>\n",
       "    <tr>\n",
       "      <th>Non-Tech % Change 2022-2023</th>\n",
       "      <td>4.827586</td>\n",
       "      <td>3.225</td>\n",
       "      <td>-0.273973</td>\n",
       "    </tr>\n",
       "    <tr>\n",
       "      <th>Non-Tech % Change 2023-2024</th>\n",
       "      <td>5.263158</td>\n",
       "      <td>5.158634</td>\n",
       "      <td>8.076923</td>\n",
       "    </tr>\n",
       "    <tr>\n",
       "      <th>Tech vs Non-Tech % Diff 2022</th>\n",
       "      <td>33.793103</td>\n",
       "      <td>37.5</td>\n",
       "      <td>41.315068</td>\n",
       "    </tr>\n",
       "    <tr>\n",
       "      <th>Tech vs Non-Tech % Diff 2023</th>\n",
       "      <td>27.631579</td>\n",
       "      <td>31.993219</td>\n",
       "      <td>36.923077</td>\n",
       "    </tr>\n",
       "    <tr>\n",
       "      <th>Tech vs Non-Tech % Diff 2024</th>\n",
       "      <td>23.75</td>\n",
       "      <td>26.669737</td>\n",
       "      <td>33.197763</td>\n",
       "    </tr>\n",
       "  </tbody>\n",
       "</table>\n",
       "</div>"
      ],
      "text/plain": [
       "                             25th Percentile     Median 75th Percentile\n",
       "Tech 2022                             4850.0     5500.0          6447.5\n",
       "Tech 2023                             4850.0     5450.0          6230.0\n",
       "Tech 2024                             4950.0     5500.0          6550.0\n",
       "Tech % Change 2022-2023                  0.0  -0.909091       -3.373401\n",
       "Tech % Change 2023-2024             2.061856   0.917431        5.136437\n",
       "Non-Tech 2022                         3625.0     4000.0          4562.5\n",
       "Non-Tech 2023                         3800.0     4129.0          4550.0\n",
       "Non-Tech 2024                         4000.0     4342.0          4917.5\n",
       "Non-Tech % Change 2022-2023         4.827586      3.225       -0.273973\n",
       "Non-Tech % Change 2023-2024         5.263158   5.158634        8.076923\n",
       "Tech vs Non-Tech % Diff 2022       33.793103       37.5       41.315068\n",
       "Tech vs Non-Tech % Diff 2023       27.631579  31.993219       36.923077\n",
       "Tech vs Non-Tech % Diff 2024           23.75  26.669737       33.197763"
      ]
     },
     "execution_count": 8,
     "metadata": {},
     "output_type": "execute_result"
    }
   ],
   "source": [
    "comparison"
   ]
  },
  {
   "cell_type": "markdown",
   "metadata": {},
   "source": [
    "From '23 to '24, the salary gap between tech vs non-tech holding steady / dropping very slightly. \n",
    "\n",
    "But it's not all good, need to look at employment rates. "
   ]
  },
  {
   "cell_type": "markdown",
   "metadata": {},
   "source": [
    "# Change in Tech Salaries by year"
   ]
  },
  {
   "cell_type": "code",
   "execution_count": 16,
   "metadata": {},
   "outputs": [
    {
     "data": {
      "application/vnd.plotly.v1+json": {
       "config": {
        "plotlyServerURL": "https://plotly.com"
       },
       "data": [
        {
         "marker": {
          "color": [
           "green",
           "green",
           "green",
           "green",
           "green",
           "green",
           "green",
           "red",
           "red"
          ]
         },
         "orientation": "h",
         "text": [
          "+610",
          "+500",
          "+400",
          "+300",
          "+200",
          "+167",
          "+100",
          "-100",
          "-400"
         ],
         "textposition": "outside",
         "type": "bar",
         "x": [
          610,
          500,
          400,
          300,
          200,
          167,
          100,
          -100,
          -400
         ],
         "y": [
          "Information Security (NUS)",
          "Information Systems (NUS)",
          "Data Science and Analytics (NUS)",
          "Computer Science (NTU)",
          "Data Science & Artificial Intelligence (NTU)",
          "Computer Science (NUS)",
          "Computer Engineering (NTU)",
          "Business Analytics (NUS)",
          "Information Systems (SMU)"
         ]
        }
       ],
       "layout": {
        "margin": {
         "l": 15,
         "r": 10
        },
        "shapes": [
         {
          "line": {
           "color": "black",
           "dash": "dash",
           "width": 2
          },
          "type": "line",
          "x0": 0,
          "x1": 0,
          "y0": -0.5,
          "y1": 8.5
         }
        ],
        "template": {
         "data": {
          "bar": [
           {
            "error_x": {
             "color": "#2a3f5f"
            },
            "error_y": {
             "color": "#2a3f5f"
            },
            "marker": {
             "line": {
              "color": "#E5ECF6",
              "width": 0.5
             },
             "pattern": {
              "fillmode": "overlay",
              "size": 10,
              "solidity": 0.2
             }
            },
            "type": "bar"
           }
          ],
          "barpolar": [
           {
            "marker": {
             "line": {
              "color": "#E5ECF6",
              "width": 0.5
             },
             "pattern": {
              "fillmode": "overlay",
              "size": 10,
              "solidity": 0.2
             }
            },
            "type": "barpolar"
           }
          ],
          "carpet": [
           {
            "aaxis": {
             "endlinecolor": "#2a3f5f",
             "gridcolor": "white",
             "linecolor": "white",
             "minorgridcolor": "white",
             "startlinecolor": "#2a3f5f"
            },
            "baxis": {
             "endlinecolor": "#2a3f5f",
             "gridcolor": "white",
             "linecolor": "white",
             "minorgridcolor": "white",
             "startlinecolor": "#2a3f5f"
            },
            "type": "carpet"
           }
          ],
          "choropleth": [
           {
            "colorbar": {
             "outlinewidth": 0,
             "ticks": ""
            },
            "type": "choropleth"
           }
          ],
          "contour": [
           {
            "colorbar": {
             "outlinewidth": 0,
             "ticks": ""
            },
            "colorscale": [
             [
              0,
              "#0d0887"
             ],
             [
              0.1111111111111111,
              "#46039f"
             ],
             [
              0.2222222222222222,
              "#7201a8"
             ],
             [
              0.3333333333333333,
              "#9c179e"
             ],
             [
              0.4444444444444444,
              "#bd3786"
             ],
             [
              0.5555555555555556,
              "#d8576b"
             ],
             [
              0.6666666666666666,
              "#ed7953"
             ],
             [
              0.7777777777777778,
              "#fb9f3a"
             ],
             [
              0.8888888888888888,
              "#fdca26"
             ],
             [
              1,
              "#f0f921"
             ]
            ],
            "type": "contour"
           }
          ],
          "contourcarpet": [
           {
            "colorbar": {
             "outlinewidth": 0,
             "ticks": ""
            },
            "type": "contourcarpet"
           }
          ],
          "heatmap": [
           {
            "colorbar": {
             "outlinewidth": 0,
             "ticks": ""
            },
            "colorscale": [
             [
              0,
              "#0d0887"
             ],
             [
              0.1111111111111111,
              "#46039f"
             ],
             [
              0.2222222222222222,
              "#7201a8"
             ],
             [
              0.3333333333333333,
              "#9c179e"
             ],
             [
              0.4444444444444444,
              "#bd3786"
             ],
             [
              0.5555555555555556,
              "#d8576b"
             ],
             [
              0.6666666666666666,
              "#ed7953"
             ],
             [
              0.7777777777777778,
              "#fb9f3a"
             ],
             [
              0.8888888888888888,
              "#fdca26"
             ],
             [
              1,
              "#f0f921"
             ]
            ],
            "type": "heatmap"
           }
          ],
          "heatmapgl": [
           {
            "colorbar": {
             "outlinewidth": 0,
             "ticks": ""
            },
            "colorscale": [
             [
              0,
              "#0d0887"
             ],
             [
              0.1111111111111111,
              "#46039f"
             ],
             [
              0.2222222222222222,
              "#7201a8"
             ],
             [
              0.3333333333333333,
              "#9c179e"
             ],
             [
              0.4444444444444444,
              "#bd3786"
             ],
             [
              0.5555555555555556,
              "#d8576b"
             ],
             [
              0.6666666666666666,
              "#ed7953"
             ],
             [
              0.7777777777777778,
              "#fb9f3a"
             ],
             [
              0.8888888888888888,
              "#fdca26"
             ],
             [
              1,
              "#f0f921"
             ]
            ],
            "type": "heatmapgl"
           }
          ],
          "histogram": [
           {
            "marker": {
             "pattern": {
              "fillmode": "overlay",
              "size": 10,
              "solidity": 0.2
             }
            },
            "type": "histogram"
           }
          ],
          "histogram2d": [
           {
            "colorbar": {
             "outlinewidth": 0,
             "ticks": ""
            },
            "colorscale": [
             [
              0,
              "#0d0887"
             ],
             [
              0.1111111111111111,
              "#46039f"
             ],
             [
              0.2222222222222222,
              "#7201a8"
             ],
             [
              0.3333333333333333,
              "#9c179e"
             ],
             [
              0.4444444444444444,
              "#bd3786"
             ],
             [
              0.5555555555555556,
              "#d8576b"
             ],
             [
              0.6666666666666666,
              "#ed7953"
             ],
             [
              0.7777777777777778,
              "#fb9f3a"
             ],
             [
              0.8888888888888888,
              "#fdca26"
             ],
             [
              1,
              "#f0f921"
             ]
            ],
            "type": "histogram2d"
           }
          ],
          "histogram2dcontour": [
           {
            "colorbar": {
             "outlinewidth": 0,
             "ticks": ""
            },
            "colorscale": [
             [
              0,
              "#0d0887"
             ],
             [
              0.1111111111111111,
              "#46039f"
             ],
             [
              0.2222222222222222,
              "#7201a8"
             ],
             [
              0.3333333333333333,
              "#9c179e"
             ],
             [
              0.4444444444444444,
              "#bd3786"
             ],
             [
              0.5555555555555556,
              "#d8576b"
             ],
             [
              0.6666666666666666,
              "#ed7953"
             ],
             [
              0.7777777777777778,
              "#fb9f3a"
             ],
             [
              0.8888888888888888,
              "#fdca26"
             ],
             [
              1,
              "#f0f921"
             ]
            ],
            "type": "histogram2dcontour"
           }
          ],
          "mesh3d": [
           {
            "colorbar": {
             "outlinewidth": 0,
             "ticks": ""
            },
            "type": "mesh3d"
           }
          ],
          "parcoords": [
           {
            "line": {
             "colorbar": {
              "outlinewidth": 0,
              "ticks": ""
             }
            },
            "type": "parcoords"
           }
          ],
          "pie": [
           {
            "automargin": true,
            "type": "pie"
           }
          ],
          "scatter": [
           {
            "fillpattern": {
             "fillmode": "overlay",
             "size": 10,
             "solidity": 0.2
            },
            "type": "scatter"
           }
          ],
          "scatter3d": [
           {
            "line": {
             "colorbar": {
              "outlinewidth": 0,
              "ticks": ""
             }
            },
            "marker": {
             "colorbar": {
              "outlinewidth": 0,
              "ticks": ""
             }
            },
            "type": "scatter3d"
           }
          ],
          "scattercarpet": [
           {
            "marker": {
             "colorbar": {
              "outlinewidth": 0,
              "ticks": ""
             }
            },
            "type": "scattercarpet"
           }
          ],
          "scattergeo": [
           {
            "marker": {
             "colorbar": {
              "outlinewidth": 0,
              "ticks": ""
             }
            },
            "type": "scattergeo"
           }
          ],
          "scattergl": [
           {
            "marker": {
             "colorbar": {
              "outlinewidth": 0,
              "ticks": ""
             }
            },
            "type": "scattergl"
           }
          ],
          "scattermapbox": [
           {
            "marker": {
             "colorbar": {
              "outlinewidth": 0,
              "ticks": ""
             }
            },
            "type": "scattermapbox"
           }
          ],
          "scatterpolar": [
           {
            "marker": {
             "colorbar": {
              "outlinewidth": 0,
              "ticks": ""
             }
            },
            "type": "scatterpolar"
           }
          ],
          "scatterpolargl": [
           {
            "marker": {
             "colorbar": {
              "outlinewidth": 0,
              "ticks": ""
             }
            },
            "type": "scatterpolargl"
           }
          ],
          "scatterternary": [
           {
            "marker": {
             "colorbar": {
              "outlinewidth": 0,
              "ticks": ""
             }
            },
            "type": "scatterternary"
           }
          ],
          "surface": [
           {
            "colorbar": {
             "outlinewidth": 0,
             "ticks": ""
            },
            "colorscale": [
             [
              0,
              "#0d0887"
             ],
             [
              0.1111111111111111,
              "#46039f"
             ],
             [
              0.2222222222222222,
              "#7201a8"
             ],
             [
              0.3333333333333333,
              "#9c179e"
             ],
             [
              0.4444444444444444,
              "#bd3786"
             ],
             [
              0.5555555555555556,
              "#d8576b"
             ],
             [
              0.6666666666666666,
              "#ed7953"
             ],
             [
              0.7777777777777778,
              "#fb9f3a"
             ],
             [
              0.8888888888888888,
              "#fdca26"
             ],
             [
              1,
              "#f0f921"
             ]
            ],
            "type": "surface"
           }
          ],
          "table": [
           {
            "cells": {
             "fill": {
              "color": "#EBF0F8"
             },
             "line": {
              "color": "white"
             }
            },
            "header": {
             "fill": {
              "color": "#C8D4E3"
             },
             "line": {
              "color": "white"
             }
            },
            "type": "table"
           }
          ]
         },
         "layout": {
          "annotationdefaults": {
           "arrowcolor": "#2a3f5f",
           "arrowhead": 0,
           "arrowwidth": 1
          },
          "autotypenumbers": "strict",
          "coloraxis": {
           "colorbar": {
            "outlinewidth": 0,
            "ticks": ""
           }
          },
          "colorscale": {
           "diverging": [
            [
             0,
             "#8e0152"
            ],
            [
             0.1,
             "#c51b7d"
            ],
            [
             0.2,
             "#de77ae"
            ],
            [
             0.3,
             "#f1b6da"
            ],
            [
             0.4,
             "#fde0ef"
            ],
            [
             0.5,
             "#f7f7f7"
            ],
            [
             0.6,
             "#e6f5d0"
            ],
            [
             0.7,
             "#b8e186"
            ],
            [
             0.8,
             "#7fbc41"
            ],
            [
             0.9,
             "#4d9221"
            ],
            [
             1,
             "#276419"
            ]
           ],
           "sequential": [
            [
             0,
             "#0d0887"
            ],
            [
             0.1111111111111111,
             "#46039f"
            ],
            [
             0.2222222222222222,
             "#7201a8"
            ],
            [
             0.3333333333333333,
             "#9c179e"
            ],
            [
             0.4444444444444444,
             "#bd3786"
            ],
            [
             0.5555555555555556,
             "#d8576b"
            ],
            [
             0.6666666666666666,
             "#ed7953"
            ],
            [
             0.7777777777777778,
             "#fb9f3a"
            ],
            [
             0.8888888888888888,
             "#fdca26"
            ],
            [
             1,
             "#f0f921"
            ]
           ],
           "sequentialminus": [
            [
             0,
             "#0d0887"
            ],
            [
             0.1111111111111111,
             "#46039f"
            ],
            [
             0.2222222222222222,
             "#7201a8"
            ],
            [
             0.3333333333333333,
             "#9c179e"
            ],
            [
             0.4444444444444444,
             "#bd3786"
            ],
            [
             0.5555555555555556,
             "#d8576b"
            ],
            [
             0.6666666666666666,
             "#ed7953"
            ],
            [
             0.7777777777777778,
             "#fb9f3a"
            ],
            [
             0.8888888888888888,
             "#fdca26"
            ],
            [
             1,
             "#f0f921"
            ]
           ]
          },
          "colorway": [
           "#636efa",
           "#EF553B",
           "#00cc96",
           "#ab63fa",
           "#FFA15A",
           "#19d3f3",
           "#FF6692",
           "#B6E880",
           "#FF97FF",
           "#FECB52"
          ],
          "font": {
           "color": "#2a3f5f"
          },
          "geo": {
           "bgcolor": "white",
           "lakecolor": "white",
           "landcolor": "#E5ECF6",
           "showlakes": true,
           "showland": true,
           "subunitcolor": "white"
          },
          "hoverlabel": {
           "align": "left"
          },
          "hovermode": "closest",
          "mapbox": {
           "style": "light"
          },
          "paper_bgcolor": "white",
          "plot_bgcolor": "#E5ECF6",
          "polar": {
           "angularaxis": {
            "gridcolor": "white",
            "linecolor": "white",
            "ticks": ""
           },
           "bgcolor": "#E5ECF6",
           "radialaxis": {
            "gridcolor": "white",
            "linecolor": "white",
            "ticks": ""
           }
          },
          "scene": {
           "xaxis": {
            "backgroundcolor": "#E5ECF6",
            "gridcolor": "white",
            "gridwidth": 2,
            "linecolor": "white",
            "showbackground": true,
            "ticks": "",
            "zerolinecolor": "white"
           },
           "yaxis": {
            "backgroundcolor": "#E5ECF6",
            "gridcolor": "white",
            "gridwidth": 2,
            "linecolor": "white",
            "showbackground": true,
            "ticks": "",
            "zerolinecolor": "white"
           },
           "zaxis": {
            "backgroundcolor": "#E5ECF6",
            "gridcolor": "white",
            "gridwidth": 2,
            "linecolor": "white",
            "showbackground": true,
            "ticks": "",
            "zerolinecolor": "white"
           }
          },
          "shapedefaults": {
           "line": {
            "color": "#2a3f5f"
           }
          },
          "ternary": {
           "aaxis": {
            "gridcolor": "white",
            "linecolor": "white",
            "ticks": ""
           },
           "baxis": {
            "gridcolor": "white",
            "linecolor": "white",
            "ticks": ""
           },
           "bgcolor": "#E5ECF6",
           "caxis": {
            "gridcolor": "white",
            "linecolor": "white",
            "ticks": ""
           }
          },
          "title": {
           "x": 0.05
          },
          "xaxis": {
           "automargin": true,
           "gridcolor": "white",
           "linecolor": "white",
           "ticks": "",
           "title": {
            "standoff": 15
           },
           "zerolinecolor": "white",
           "zerolinewidth": 2
          },
          "yaxis": {
           "automargin": true,
           "gridcolor": "white",
           "linecolor": "white",
           "ticks": "",
           "title": {
            "standoff": 15
           },
           "zerolinecolor": "white",
           "zerolinewidth": 2
          }
         }
        },
        "title": {
         "text": "Change in Median Salaries for Tech Degrees (2023 to 2024)"
        },
        "xaxis": {
         "fixedrange": true,
         "range": [
          -500,
          710
         ],
         "tickformat": "$,.0f",
         "title": {
          "text": "Change in Gross Monthly Median Salary"
         },
         "zeroline": false
        },
        "yaxis": {
         "autorange": "reversed",
         "fixedrange": true
        }
       }
      }
     },
     "metadata": {},
     "output_type": "display_data"
    }
   ],
   "source": [
    "# Initial years for comparison\n",
    "start_year, end_year = 2023, 2024\n",
    "df = orig_df.copy()\n",
    "\n",
    "# Filter the DataFrame for tech-related degrees\n",
    "df['is_tech_degree'] = df.apply(lambda x: 1 if x['course'] in tech_degrees.get(x['uni'], []) else 0, axis=1)\n",
    "\n",
    "# Filter the DataFrame for tech-related degrees in specified years\n",
    "tech_degrees_df = df[(df['is_tech_degree'] == 1) & (df['course_row'] == 1) & df['year'].isin([start_year, end_year])]\n",
    "\n",
    "# Compute the change in salary\n",
    "change_df = tech_degrees_df.pivot_table(\n",
    "    index=['uni', 'course'], \n",
    "    columns='year', \n",
    "    values='gross_monthly_median'\n",
    ").reset_index()\n",
    "change_df['change'] = change_df[end_year] - change_df[start_year]\n",
    "change_df['course_uni'] = change_df.apply(lambda x: f\"{x['course']} ({x['uni']})\", axis=1)\n",
    "\n",
    "# Sort the DataFrame by the 'change' column\n",
    "change_df.sort_values(by='change', ascending=False, inplace=True)\n",
    "\n",
    "# Create the bar plot with flipped axes\n",
    "fig = go.Figure()\n",
    "fig.add_trace(go.Bar(\n",
    "    y=change_df['course_uni'],\n",
    "    x=change_df['change'],\n",
    "    orientation='h',\n",
    "    marker_color=['red' if x < 0 else 'green' for x in change_df['change']],\n",
    "    # Modified: Add \"+\" before positive values\n",
    "    text=[f\"+{int(x)}\" if x > 0 else f\"{int(x)}\" for x in change_df['change']],\n",
    "    textposition='outside'\n",
    "))\n",
    "\n",
    "# Add a vertical dashed line at x=0\n",
    "fig.add_shape(\n",
    "    type=\"line\",\n",
    "    x0=0, y0=-0.5, x1=0, y1=len(change_df) - 0.5,\n",
    "    line=dict(color=\"black\", width=2, dash=\"dash\")\n",
    ")\n",
    "\n",
    "# Customize the layout\n",
    "fig.update_layout(\n",
    "    xaxis_fixedrange=True, yaxis_fixedrange=True,\n",
    "    title=f\"Change in Median Salaries for Tech Degrees ({start_year} to {end_year})\",\n",
    "    xaxis_title=\"Change in Gross Monthly Median Salary\",\n",
    "    xaxis=dict(\n",
    "        tickformat=\"$,.0f\",\n",
    "        zeroline=False,\n",
    "        range=[min(change_df['change']) - 100, max(change_df['change']) + 100]\n",
    "    ),\n",
    "    yaxis=dict(autorange=\"reversed\"),\n",
    "    margin=dict(r=10, l=15)\n",
    ")\n",
    "\n",
    "# Show the figure for Task 1\n",
    "fig.show()"
   ]
  },
  {
   "cell_type": "code",
   "execution_count": 18,
   "metadata": {},
   "outputs": [
    {
     "data": {
      "application/vnd.plotly.v1+json": {
       "config": {
        "plotlyServerURL": "https://plotly.com"
       },
       "data": [
        {
         "marker": {
          "color": "blue"
         },
         "name": "2022 to 2023",
         "orientation": "h",
         "text": [
          "0",
          "0",
          "+105",
          "-300",
          "0",
          "-500",
          "-267",
          "-375",
          "0"
         ],
         "textposition": "outside",
         "type": "bar",
         "x": [
          0,
          0,
          105,
          -300,
          0,
          -500,
          -267,
          -375,
          0
         ],
         "y": [
          "Information Security (NUS)",
          "Information Systems (NUS)",
          "Computer Engineering (NTU)",
          "Computer Science (NTU)",
          "Business Analytics (NUS)",
          "Data Science and Analytics (NUS)",
          "Computer Science (NUS)",
          "Data Science & Artificial Intelligence (NTU)",
          "Information Systems (SMU)"
         ]
        },
        {
         "marker": {
          "color": "green"
         },
         "name": "2023 to 2024",
         "orientation": "h",
         "text": [
          "+610",
          "+500",
          "+100",
          "+300",
          "-100",
          "+400",
          "+167",
          "+200",
          "-400"
         ],
         "textposition": "outside",
         "type": "bar",
         "x": [
          610,
          500,
          100,
          300,
          -100,
          400,
          167,
          200,
          -400
         ],
         "y": [
          "Information Security (NUS)",
          "Information Systems (NUS)",
          "Computer Engineering (NTU)",
          "Computer Science (NTU)",
          "Business Analytics (NUS)",
          "Data Science and Analytics (NUS)",
          "Computer Science (NUS)",
          "Data Science & Artificial Intelligence (NTU)",
          "Information Systems (SMU)"
         ]
        },
        {
         "marker": {
          "color": "pink"
         },
         "name": "Net (2022 to 2024)",
         "orientation": "h",
         "text": [
          "+610",
          "+500",
          "+205",
          "0",
          "-100",
          "-100",
          "-100",
          "-175",
          "-400"
         ],
         "textposition": "outside",
         "type": "bar",
         "x": [
          610,
          500,
          205,
          0,
          -100,
          -100,
          -100,
          -175,
          -400
         ],
         "y": [
          "Information Security (NUS)",
          "Information Systems (NUS)",
          "Computer Engineering (NTU)",
          "Computer Science (NTU)",
          "Business Analytics (NUS)",
          "Data Science and Analytics (NUS)",
          "Computer Science (NUS)",
          "Data Science & Artificial Intelligence (NTU)",
          "Information Systems (SMU)"
         ]
        }
       ],
       "layout": {
        "bargap": 0.3,
        "bargroupgap": 0.1,
        "barmode": "group",
        "height": 600,
        "legend": {
         "orientation": "h",
         "x": 1,
         "xanchor": "right",
         "y": 1.02,
         "yanchor": "bottom"
        },
        "margin": {
         "b": 30,
         "l": 30,
         "r": 30,
         "t": 80
        },
        "shapes": [
         {
          "line": {
           "color": "black",
           "dash": "dash",
           "width": 2
          },
          "type": "line",
          "x0": 0,
          "x1": 0,
          "y0": -0.5,
          "y1": 8.5
         }
        ],
        "template": {
         "data": {
          "bar": [
           {
            "error_x": {
             "color": "#2a3f5f"
            },
            "error_y": {
             "color": "#2a3f5f"
            },
            "marker": {
             "line": {
              "color": "#E5ECF6",
              "width": 0.5
             },
             "pattern": {
              "fillmode": "overlay",
              "size": 10,
              "solidity": 0.2
             }
            },
            "type": "bar"
           }
          ],
          "barpolar": [
           {
            "marker": {
             "line": {
              "color": "#E5ECF6",
              "width": 0.5
             },
             "pattern": {
              "fillmode": "overlay",
              "size": 10,
              "solidity": 0.2
             }
            },
            "type": "barpolar"
           }
          ],
          "carpet": [
           {
            "aaxis": {
             "endlinecolor": "#2a3f5f",
             "gridcolor": "white",
             "linecolor": "white",
             "minorgridcolor": "white",
             "startlinecolor": "#2a3f5f"
            },
            "baxis": {
             "endlinecolor": "#2a3f5f",
             "gridcolor": "white",
             "linecolor": "white",
             "minorgridcolor": "white",
             "startlinecolor": "#2a3f5f"
            },
            "type": "carpet"
           }
          ],
          "choropleth": [
           {
            "colorbar": {
             "outlinewidth": 0,
             "ticks": ""
            },
            "type": "choropleth"
           }
          ],
          "contour": [
           {
            "colorbar": {
             "outlinewidth": 0,
             "ticks": ""
            },
            "colorscale": [
             [
              0,
              "#0d0887"
             ],
             [
              0.1111111111111111,
              "#46039f"
             ],
             [
              0.2222222222222222,
              "#7201a8"
             ],
             [
              0.3333333333333333,
              "#9c179e"
             ],
             [
              0.4444444444444444,
              "#bd3786"
             ],
             [
              0.5555555555555556,
              "#d8576b"
             ],
             [
              0.6666666666666666,
              "#ed7953"
             ],
             [
              0.7777777777777778,
              "#fb9f3a"
             ],
             [
              0.8888888888888888,
              "#fdca26"
             ],
             [
              1,
              "#f0f921"
             ]
            ],
            "type": "contour"
           }
          ],
          "contourcarpet": [
           {
            "colorbar": {
             "outlinewidth": 0,
             "ticks": ""
            },
            "type": "contourcarpet"
           }
          ],
          "heatmap": [
           {
            "colorbar": {
             "outlinewidth": 0,
             "ticks": ""
            },
            "colorscale": [
             [
              0,
              "#0d0887"
             ],
             [
              0.1111111111111111,
              "#46039f"
             ],
             [
              0.2222222222222222,
              "#7201a8"
             ],
             [
              0.3333333333333333,
              "#9c179e"
             ],
             [
              0.4444444444444444,
              "#bd3786"
             ],
             [
              0.5555555555555556,
              "#d8576b"
             ],
             [
              0.6666666666666666,
              "#ed7953"
             ],
             [
              0.7777777777777778,
              "#fb9f3a"
             ],
             [
              0.8888888888888888,
              "#fdca26"
             ],
             [
              1,
              "#f0f921"
             ]
            ],
            "type": "heatmap"
           }
          ],
          "heatmapgl": [
           {
            "colorbar": {
             "outlinewidth": 0,
             "ticks": ""
            },
            "colorscale": [
             [
              0,
              "#0d0887"
             ],
             [
              0.1111111111111111,
              "#46039f"
             ],
             [
              0.2222222222222222,
              "#7201a8"
             ],
             [
              0.3333333333333333,
              "#9c179e"
             ],
             [
              0.4444444444444444,
              "#bd3786"
             ],
             [
              0.5555555555555556,
              "#d8576b"
             ],
             [
              0.6666666666666666,
              "#ed7953"
             ],
             [
              0.7777777777777778,
              "#fb9f3a"
             ],
             [
              0.8888888888888888,
              "#fdca26"
             ],
             [
              1,
              "#f0f921"
             ]
            ],
            "type": "heatmapgl"
           }
          ],
          "histogram": [
           {
            "marker": {
             "pattern": {
              "fillmode": "overlay",
              "size": 10,
              "solidity": 0.2
             }
            },
            "type": "histogram"
           }
          ],
          "histogram2d": [
           {
            "colorbar": {
             "outlinewidth": 0,
             "ticks": ""
            },
            "colorscale": [
             [
              0,
              "#0d0887"
             ],
             [
              0.1111111111111111,
              "#46039f"
             ],
             [
              0.2222222222222222,
              "#7201a8"
             ],
             [
              0.3333333333333333,
              "#9c179e"
             ],
             [
              0.4444444444444444,
              "#bd3786"
             ],
             [
              0.5555555555555556,
              "#d8576b"
             ],
             [
              0.6666666666666666,
              "#ed7953"
             ],
             [
              0.7777777777777778,
              "#fb9f3a"
             ],
             [
              0.8888888888888888,
              "#fdca26"
             ],
             [
              1,
              "#f0f921"
             ]
            ],
            "type": "histogram2d"
           }
          ],
          "histogram2dcontour": [
           {
            "colorbar": {
             "outlinewidth": 0,
             "ticks": ""
            },
            "colorscale": [
             [
              0,
              "#0d0887"
             ],
             [
              0.1111111111111111,
              "#46039f"
             ],
             [
              0.2222222222222222,
              "#7201a8"
             ],
             [
              0.3333333333333333,
              "#9c179e"
             ],
             [
              0.4444444444444444,
              "#bd3786"
             ],
             [
              0.5555555555555556,
              "#d8576b"
             ],
             [
              0.6666666666666666,
              "#ed7953"
             ],
             [
              0.7777777777777778,
              "#fb9f3a"
             ],
             [
              0.8888888888888888,
              "#fdca26"
             ],
             [
              1,
              "#f0f921"
             ]
            ],
            "type": "histogram2dcontour"
           }
          ],
          "mesh3d": [
           {
            "colorbar": {
             "outlinewidth": 0,
             "ticks": ""
            },
            "type": "mesh3d"
           }
          ],
          "parcoords": [
           {
            "line": {
             "colorbar": {
              "outlinewidth": 0,
              "ticks": ""
             }
            },
            "type": "parcoords"
           }
          ],
          "pie": [
           {
            "automargin": true,
            "type": "pie"
           }
          ],
          "scatter": [
           {
            "fillpattern": {
             "fillmode": "overlay",
             "size": 10,
             "solidity": 0.2
            },
            "type": "scatter"
           }
          ],
          "scatter3d": [
           {
            "line": {
             "colorbar": {
              "outlinewidth": 0,
              "ticks": ""
             }
            },
            "marker": {
             "colorbar": {
              "outlinewidth": 0,
              "ticks": ""
             }
            },
            "type": "scatter3d"
           }
          ],
          "scattercarpet": [
           {
            "marker": {
             "colorbar": {
              "outlinewidth": 0,
              "ticks": ""
             }
            },
            "type": "scattercarpet"
           }
          ],
          "scattergeo": [
           {
            "marker": {
             "colorbar": {
              "outlinewidth": 0,
              "ticks": ""
             }
            },
            "type": "scattergeo"
           }
          ],
          "scattergl": [
           {
            "marker": {
             "colorbar": {
              "outlinewidth": 0,
              "ticks": ""
             }
            },
            "type": "scattergl"
           }
          ],
          "scattermapbox": [
           {
            "marker": {
             "colorbar": {
              "outlinewidth": 0,
              "ticks": ""
             }
            },
            "type": "scattermapbox"
           }
          ],
          "scatterpolar": [
           {
            "marker": {
             "colorbar": {
              "outlinewidth": 0,
              "ticks": ""
             }
            },
            "type": "scatterpolar"
           }
          ],
          "scatterpolargl": [
           {
            "marker": {
             "colorbar": {
              "outlinewidth": 0,
              "ticks": ""
             }
            },
            "type": "scatterpolargl"
           }
          ],
          "scatterternary": [
           {
            "marker": {
             "colorbar": {
              "outlinewidth": 0,
              "ticks": ""
             }
            },
            "type": "scatterternary"
           }
          ],
          "surface": [
           {
            "colorbar": {
             "outlinewidth": 0,
             "ticks": ""
            },
            "colorscale": [
             [
              0,
              "#0d0887"
             ],
             [
              0.1111111111111111,
              "#46039f"
             ],
             [
              0.2222222222222222,
              "#7201a8"
             ],
             [
              0.3333333333333333,
              "#9c179e"
             ],
             [
              0.4444444444444444,
              "#bd3786"
             ],
             [
              0.5555555555555556,
              "#d8576b"
             ],
             [
              0.6666666666666666,
              "#ed7953"
             ],
             [
              0.7777777777777778,
              "#fb9f3a"
             ],
             [
              0.8888888888888888,
              "#fdca26"
             ],
             [
              1,
              "#f0f921"
             ]
            ],
            "type": "surface"
           }
          ],
          "table": [
           {
            "cells": {
             "fill": {
              "color": "#EBF0F8"
             },
             "line": {
              "color": "white"
             }
            },
            "header": {
             "fill": {
              "color": "#C8D4E3"
             },
             "line": {
              "color": "white"
             }
            },
            "type": "table"
           }
          ]
         },
         "layout": {
          "annotationdefaults": {
           "arrowcolor": "#2a3f5f",
           "arrowhead": 0,
           "arrowwidth": 1
          },
          "autotypenumbers": "strict",
          "coloraxis": {
           "colorbar": {
            "outlinewidth": 0,
            "ticks": ""
           }
          },
          "colorscale": {
           "diverging": [
            [
             0,
             "#8e0152"
            ],
            [
             0.1,
             "#c51b7d"
            ],
            [
             0.2,
             "#de77ae"
            ],
            [
             0.3,
             "#f1b6da"
            ],
            [
             0.4,
             "#fde0ef"
            ],
            [
             0.5,
             "#f7f7f7"
            ],
            [
             0.6,
             "#e6f5d0"
            ],
            [
             0.7,
             "#b8e186"
            ],
            [
             0.8,
             "#7fbc41"
            ],
            [
             0.9,
             "#4d9221"
            ],
            [
             1,
             "#276419"
            ]
           ],
           "sequential": [
            [
             0,
             "#0d0887"
            ],
            [
             0.1111111111111111,
             "#46039f"
            ],
            [
             0.2222222222222222,
             "#7201a8"
            ],
            [
             0.3333333333333333,
             "#9c179e"
            ],
            [
             0.4444444444444444,
             "#bd3786"
            ],
            [
             0.5555555555555556,
             "#d8576b"
            ],
            [
             0.6666666666666666,
             "#ed7953"
            ],
            [
             0.7777777777777778,
             "#fb9f3a"
            ],
            [
             0.8888888888888888,
             "#fdca26"
            ],
            [
             1,
             "#f0f921"
            ]
           ],
           "sequentialminus": [
            [
             0,
             "#0d0887"
            ],
            [
             0.1111111111111111,
             "#46039f"
            ],
            [
             0.2222222222222222,
             "#7201a8"
            ],
            [
             0.3333333333333333,
             "#9c179e"
            ],
            [
             0.4444444444444444,
             "#bd3786"
            ],
            [
             0.5555555555555556,
             "#d8576b"
            ],
            [
             0.6666666666666666,
             "#ed7953"
            ],
            [
             0.7777777777777778,
             "#fb9f3a"
            ],
            [
             0.8888888888888888,
             "#fdca26"
            ],
            [
             1,
             "#f0f921"
            ]
           ]
          },
          "colorway": [
           "#636efa",
           "#EF553B",
           "#00cc96",
           "#ab63fa",
           "#FFA15A",
           "#19d3f3",
           "#FF6692",
           "#B6E880",
           "#FF97FF",
           "#FECB52"
          ],
          "font": {
           "color": "#2a3f5f"
          },
          "geo": {
           "bgcolor": "white",
           "lakecolor": "white",
           "landcolor": "#E5ECF6",
           "showlakes": true,
           "showland": true,
           "subunitcolor": "white"
          },
          "hoverlabel": {
           "align": "left"
          },
          "hovermode": "closest",
          "mapbox": {
           "style": "light"
          },
          "paper_bgcolor": "white",
          "plot_bgcolor": "#E5ECF6",
          "polar": {
           "angularaxis": {
            "gridcolor": "white",
            "linecolor": "white",
            "ticks": ""
           },
           "bgcolor": "#E5ECF6",
           "radialaxis": {
            "gridcolor": "white",
            "linecolor": "white",
            "ticks": ""
           }
          },
          "scene": {
           "xaxis": {
            "backgroundcolor": "#E5ECF6",
            "gridcolor": "white",
            "gridwidth": 2,
            "linecolor": "white",
            "showbackground": true,
            "ticks": "",
            "zerolinecolor": "white"
           },
           "yaxis": {
            "backgroundcolor": "#E5ECF6",
            "gridcolor": "white",
            "gridwidth": 2,
            "linecolor": "white",
            "showbackground": true,
            "ticks": "",
            "zerolinecolor": "white"
           },
           "zaxis": {
            "backgroundcolor": "#E5ECF6",
            "gridcolor": "white",
            "gridwidth": 2,
            "linecolor": "white",
            "showbackground": true,
            "ticks": "",
            "zerolinecolor": "white"
           }
          },
          "shapedefaults": {
           "line": {
            "color": "#2a3f5f"
           }
          },
          "ternary": {
           "aaxis": {
            "gridcolor": "white",
            "linecolor": "white",
            "ticks": ""
           },
           "baxis": {
            "gridcolor": "white",
            "linecolor": "white",
            "ticks": ""
           },
           "bgcolor": "#E5ECF6",
           "caxis": {
            "gridcolor": "white",
            "linecolor": "white",
            "ticks": ""
           }
          },
          "title": {
           "x": 0.05
          },
          "xaxis": {
           "automargin": true,
           "gridcolor": "white",
           "linecolor": "white",
           "ticks": "",
           "title": {
            "standoff": 15
           },
           "zerolinecolor": "white",
           "zerolinewidth": 2
          },
          "yaxis": {
           "automargin": true,
           "gridcolor": "white",
           "linecolor": "white",
           "ticks": "",
           "title": {
            "standoff": 15
           },
           "zerolinecolor": "white",
           "zerolinewidth": 2
          }
         }
        },
        "title": {
         "text": "Changes in Median Salaries for Tech Degrees (2022-2024)"
        },
        "xaxis": {
         "range": [
          -600,
          710
         ],
         "tickformat": "$,.0f",
         "title": {
          "text": "Change in Gross Monthly Median Salary"
         },
         "zeroline": false
        },
        "yaxis": {
         "autorange": "reversed"
        }
       }
      }
     },
     "metadata": {},
     "output_type": "display_data"
    }
   ],
   "source": [
    "# Visualization to compare changes across three years\n",
    "# Years to include\n",
    "years = [2022, 2023, 2024]\n",
    "\n",
    "# Filter tech degrees for all three years\n",
    "tech_three_years = df[(df['is_tech_degree'] == 1) & (df['course_row'] == 1) & df['year'].isin(years)]\n",
    "\n",
    "# Pivot the data to get median salaries for each year\n",
    "pivot_df = tech_three_years.pivot_table(\n",
    "    index=['uni', 'course'], \n",
    "    columns='year', \n",
    "    values='gross_monthly_median'\n",
    ").reset_index()\n",
    "\n",
    "# Calculate changes between years and net change\n",
    "pivot_df['change_22_23'] = pivot_df[2023] - pivot_df[2022]\n",
    "pivot_df['change_23_24'] = pivot_df[2024] - pivot_df[2023]\n",
    "pivot_df['change_22_24'] = pivot_df[2024] - pivot_df[2022]  # Net change\n",
    "\n",
    "# Create course_uni label\n",
    "pivot_df['course_uni'] = pivot_df.apply(lambda x: f\"{x['course']} ({x['uni']})\", axis=1)\n",
    "\n",
    "# Sort by net change\n",
    "pivot_df.sort_values(by='change_22_24', ascending=False, inplace=True)\n",
    "\n",
    "# Create the grouped bar chart\n",
    "fig2 = go.Figure()\n",
    "\n",
    "# Add bars for each type of change\n",
    "fig2.add_trace(go.Bar(\n",
    "    y=pivot_df['course_uni'],\n",
    "    x=pivot_df['change_22_23'],\n",
    "    name='2022 to 2023',\n",
    "    orientation='h',\n",
    "    marker_color='blue',\n",
    "    # Round to nearest integer\n",
    "    text=[f\"+{int(round(x))}\" if x > 0 else f\"{int(round(x))}\" for x in pivot_df['change_22_23']],\n",
    "    textposition='outside'\n",
    "))\n",
    "\n",
    "fig2.add_trace(go.Bar(\n",
    "    y=pivot_df['course_uni'],\n",
    "    x=pivot_df['change_23_24'],\n",
    "    name='2023 to 2024',\n",
    "    orientation='h',\n",
    "    marker_color='green',\n",
    "    # Round to nearest integer\n",
    "    text=[f\"+{int(round(x))}\" if x > 0 else f\"{int(round(x))}\" for x in pivot_df['change_23_24']],\n",
    "    textposition='outside'\n",
    "))\n",
    "\n",
    "fig2.add_trace(go.Bar(\n",
    "    y=pivot_df['course_uni'],\n",
    "    x=pivot_df['change_22_24'],\n",
    "    name='Net (2022 to 2024)',\n",
    "    orientation='h',\n",
    "    # Changed color from purple to pink\n",
    "    marker_color='pink',\n",
    "    # Round to nearest integer\n",
    "    text=[f\"+{int(round(x))}\" if x > 0 else f\"{int(round(x))}\" for x in pivot_df['change_22_24']],\n",
    "    textposition='outside'\n",
    "))\n",
    "\n",
    "# Add a vertical dashed line at x=0\n",
    "fig2.add_shape(\n",
    "    type=\"line\",\n",
    "    x0=0, y0=-0.5, x1=0, y1=len(pivot_df) - 0.5,\n",
    "    line=dict(color=\"black\", width=2, dash=\"dash\")\n",
    ")\n",
    "\n",
    "# Customize the layout\n",
    "fig2.update_layout(\n",
    "    title=\"Changes in Median Salaries for Tech Degrees (2022-2024)\",\n",
    "    xaxis_title=\"Change in Gross Monthly Median Salary\",\n",
    "    xaxis=dict(\n",
    "        tickformat=\"$,.0f\",\n",
    "        zeroline=False,\n",
    "        # Widen the x-axis range to give annotations more space\n",
    "        range=[min(pivot_df['change_22_23'].min(), pivot_df['change_23_24'].min(), \n",
    "               pivot_df['change_22_24'].min()) - 100, \n",
    "               max(pivot_df['change_22_23'].max(), pivot_df['change_23_24'].max(), \n",
    "               pivot_df['change_22_24'].max()) + 100]\n",
    "    ),\n",
    "    yaxis=dict(\n",
    "        autorange=\"reversed\",\n",
    "    ),\n",
    "    # Add spacing between bar groups\n",
    "    bargap=0.3,\n",
    "    bargroupgap=0.1,\n",
    "    barmode='group',\n",
    "    legend=dict(\n",
    "        orientation=\"h\",\n",
    "        yanchor=\"bottom\",\n",
    "        y=1.02,\n",
    "        xanchor=\"right\",\n",
    "        x=1\n",
    "    ),\n",
    "    # Increase the height of the plot to prevent crowding\n",
    "    height=600,\n",
    "    margin=dict(r=30, l=30, t=80, b=30)\n",
    ")\n",
    "\n",
    "# Show the figure for Task 2\n",
    "fig2.show()"
   ]
  },
  {
   "cell_type": "code",
   "execution_count": null,
   "metadata": {},
   "outputs": [],
   "source": []
  }
 ],
 "metadata": {
  "kernelspec": {
   "display_name": "GES_env",
   "language": "python",
   "name": "python3"
  },
  "language_info": {
   "codemirror_mode": {
    "name": "ipython",
    "version": 3
   },
   "file_extension": ".py",
   "mimetype": "text/x-python",
   "name": "python",
   "nbconvert_exporter": "python",
   "pygments_lexer": "ipython3",
   "version": "3.11.1"
  }
 },
 "nbformat": 4,
 "nbformat_minor": 2
}
