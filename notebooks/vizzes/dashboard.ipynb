{
 "cells": [
  {
   "cell_type": "code",
   "execution_count": 2,
   "metadata": {},
   "outputs": [],
   "source": [
    "import plotly.express as px\n",
    "import plotly.graph_objects as go\n",
    "import pandas as pd\n",
    "import numpy as np"
   ]
  },
  {
   "cell_type": "markdown",
   "metadata": {},
   "source": [
    "# Setup"
   ]
  },
  {
   "cell_type": "code",
   "execution_count": 3,
   "metadata": {},
   "outputs": [],
   "source": [
    "# Import data\n",
    "df = pd.read_csv(\"../../data/graphing_table.csv\")"
   ]
  },
  {
   "cell_type": "code",
   "execution_count": 4,
   "metadata": {},
   "outputs": [],
   "source": [
    "# Which degree & university to examine\n",
    "selected_course = 'Arts (Hons)'\n",
    "selected_uni = 'NUS'\n",
    "# Obtain the school for this selected_course\n",
    "school = df.loc[(df.course==selected_course) & (df.uni==selected_uni), 'school'].drop_duplicates().item()\n",
    "# Copy the main dataframe\n",
    "input_df = df.copy().sort_values('year', ascending=True)"
   ]
  },
  {
   "cell_type": "code",
   "execution_count": 5,
   "metadata": {},
   "outputs": [],
   "source": [
    "# What years is there information for that course on? \n",
    "course_years = input_df.loc[(input_df.course == selected_course)\n",
    "                            & (input_df.uni==selected_uni), 'year']\n",
    "min_year, max_year = course_years.min().item(), course_years.max().item()\n",
    "\n",
    "\n",
    "# Identify rows that are summary stats at the university level\n",
    "input_df['summary_row'] = 0 \n",
    "# Do this for EVERY university\n",
    "for uni_tmp in df.uni.unique().tolist():\n",
    "\n",
    "    # Filter for that uni, for records within the year range\n",
    "    tdf = input_df.loc[(input_df.uni == uni_tmp)\n",
    "                   & (input_df.year.between(min_year, max_year))]\n",
    "\n",
    "    # Aggregate relevant metrics\n",
    "    metrics = ['Places', 'GPA', 'RP',  'employment_rate_overall','employment_rate_ft_perm','basic_monthly_mean','basic_monthly_median','gross_monthly_mean','gross_monthly_median','gross_mthly_25_percentile','gross_mthly_75_percentile']\n",
    "    # 25th Percentile rows\n",
    "    uni_25th_pctile = tdf.groupby('year', as_index=False)[metrics].agg(lambda x: x.quantile(0.25))\n",
    "    uni_25th_pctile['uni'] = uni_tmp\n",
    "    uni_25th_pctile['course'] = f'{uni_tmp} 25th Percentile'\n",
    "    # Median Rows\n",
    "    uni_median = tdf.groupby('year', as_index=False)[metrics].agg(lambda x: x.quantile(0.5))\n",
    "    uni_median['uni'] = uni_tmp\n",
    "    uni_median['course'] = f'{uni_tmp} Median'\n",
    "    # 75th Percentile Rows\n",
    "    uni_75th_percentile = tdf.groupby('year', as_index=False)[metrics].agg(lambda x: x.quantile(0.75))\n",
    "    uni_75th_percentile['uni'] = uni_tmp\n",
    "    uni_75th_percentile['course'] = f'{uni_tmp} 75th Percentile'\n",
    "    stats_table = pd.concat([uni_median, uni_25th_pctile, uni_75th_percentile], ignore_index=True)\n",
    "    stats_table['summary_row'] = 1\n",
    "    # Join back to input_df\n",
    "    input_df = pd.concat([input_df,stats_table], ignore_index=True)\n",
    "\n",
    "\n",
    "# track if a row is a course row or not\n",
    "input_df['course_row'] = input_df.summary_row.replace({0: 1, 1: 0 })"
   ]
  },
  {
   "cell_type": "markdown",
   "metadata": {},
   "source": [
    "# Admission (RP)"
   ]
  },
  {
   "cell_type": "code",
   "execution_count": 6,
   "metadata": {},
   "outputs": [
    {
     "data": {
      "application/vnd.plotly.v1+json": {
       "config": {
        "plotlyServerURL": "https://plot.ly"
       },
       "data": [
        {
         "line": {
          "color": "#0F7A8F",
          "shape": "linear",
          "width": 3
         },
         "mode": "lines",
         "name": "Arts (Hons)",
         "type": "scatter",
         "x": [
          2013,
          2014,
          2015,
          2016,
          2017,
          2018,
          2019,
          2020,
          2021,
          2022,
          2023
         ],
         "y": [
          77.5,
          76.25,
          76.25,
          78.75,
          76.25,
          73.75,
          75,
          76.25,
          78.75,
          77.5,
          78.75
         ]
        },
        {
         "line": {
          "color": "#7c6354",
          "dash": "dash",
          "width": 2
         },
         "mode": "lines",
         "name": "NUS Median",
         "opacity": 1,
         "type": "scatter",
         "x": [
          2013,
          2014,
          2015,
          2016,
          2017,
          2018,
          2019,
          2020,
          2021,
          2022,
          2023
         ],
         "y": [
          76.25,
          76.25,
          76.25,
          80,
          78.75,
          77.5,
          77.5,
          76.25,
          78.125,
          77.5,
          78.75
         ]
        },
        {
         "line": {
          "color": "#DB3F3F",
          "dash": "dash",
          "width": 2
         },
         "mode": "lines",
         "name": "NUS 25th Percentile",
         "opacity": 1,
         "type": "scatter",
         "x": [
          2013,
          2014,
          2015,
          2016,
          2017,
          2018,
          2019,
          2020,
          2021,
          2022,
          2023
         ],
         "y": [
          72.1875,
          72.5,
          75,
          77.5,
          75.3125,
          71.25,
          71.25,
          72.8125,
          71.25,
          71.25,
          72.5
         ]
        },
        {
         "line": {
          "color": "#317A41",
          "dash": "dash",
          "width": 2
         },
         "mode": "lines",
         "name": "NUS 75th Percentile",
         "opacity": 1,
         "type": "scatter",
         "x": [
          2013,
          2014,
          2015,
          2016,
          2017,
          2018,
          2019,
          2020,
          2021,
          2022,
          2023
         ],
         "y": [
          81.25,
          82.8125,
          83.75,
          84.6875,
          82.5,
          82.5,
          84.375,
          83.75,
          83.4375,
          83.125,
          83.75
         ]
        }
       ],
       "layout": {
        "hovermode": "x unified",
        "legend": {
         "orientation": "h",
         "x": 0.5,
         "xanchor": "center",
         "y": -0.3,
         "yanchor": "bottom"
        },
        "margin": {
         "b": 100,
         "l": 50,
         "r": 50,
         "t": 50
        },
        "template": {
         "data": {
          "bar": [
           {
            "error_x": {
             "color": "#2a3f5f"
            },
            "error_y": {
             "color": "#2a3f5f"
            },
            "marker": {
             "line": {
              "color": "#E5ECF6",
              "width": 0.5
             },
             "pattern": {
              "fillmode": "overlay",
              "size": 10,
              "solidity": 0.2
             }
            },
            "type": "bar"
           }
          ],
          "barpolar": [
           {
            "marker": {
             "line": {
              "color": "#E5ECF6",
              "width": 0.5
             },
             "pattern": {
              "fillmode": "overlay",
              "size": 10,
              "solidity": 0.2
             }
            },
            "type": "barpolar"
           }
          ],
          "carpet": [
           {
            "aaxis": {
             "endlinecolor": "#2a3f5f",
             "gridcolor": "white",
             "linecolor": "white",
             "minorgridcolor": "white",
             "startlinecolor": "#2a3f5f"
            },
            "baxis": {
             "endlinecolor": "#2a3f5f",
             "gridcolor": "white",
             "linecolor": "white",
             "minorgridcolor": "white",
             "startlinecolor": "#2a3f5f"
            },
            "type": "carpet"
           }
          ],
          "choropleth": [
           {
            "colorbar": {
             "outlinewidth": 0,
             "ticks": ""
            },
            "type": "choropleth"
           }
          ],
          "contour": [
           {
            "colorbar": {
             "outlinewidth": 0,
             "ticks": ""
            },
            "colorscale": [
             [
              0,
              "#0d0887"
             ],
             [
              0.1111111111111111,
              "#46039f"
             ],
             [
              0.2222222222222222,
              "#7201a8"
             ],
             [
              0.3333333333333333,
              "#9c179e"
             ],
             [
              0.4444444444444444,
              "#bd3786"
             ],
             [
              0.5555555555555556,
              "#d8576b"
             ],
             [
              0.6666666666666666,
              "#ed7953"
             ],
             [
              0.7777777777777778,
              "#fb9f3a"
             ],
             [
              0.8888888888888888,
              "#fdca26"
             ],
             [
              1,
              "#f0f921"
             ]
            ],
            "type": "contour"
           }
          ],
          "contourcarpet": [
           {
            "colorbar": {
             "outlinewidth": 0,
             "ticks": ""
            },
            "type": "contourcarpet"
           }
          ],
          "heatmap": [
           {
            "colorbar": {
             "outlinewidth": 0,
             "ticks": ""
            },
            "colorscale": [
             [
              0,
              "#0d0887"
             ],
             [
              0.1111111111111111,
              "#46039f"
             ],
             [
              0.2222222222222222,
              "#7201a8"
             ],
             [
              0.3333333333333333,
              "#9c179e"
             ],
             [
              0.4444444444444444,
              "#bd3786"
             ],
             [
              0.5555555555555556,
              "#d8576b"
             ],
             [
              0.6666666666666666,
              "#ed7953"
             ],
             [
              0.7777777777777778,
              "#fb9f3a"
             ],
             [
              0.8888888888888888,
              "#fdca26"
             ],
             [
              1,
              "#f0f921"
             ]
            ],
            "type": "heatmap"
           }
          ],
          "heatmapgl": [
           {
            "colorbar": {
             "outlinewidth": 0,
             "ticks": ""
            },
            "colorscale": [
             [
              0,
              "#0d0887"
             ],
             [
              0.1111111111111111,
              "#46039f"
             ],
             [
              0.2222222222222222,
              "#7201a8"
             ],
             [
              0.3333333333333333,
              "#9c179e"
             ],
             [
              0.4444444444444444,
              "#bd3786"
             ],
             [
              0.5555555555555556,
              "#d8576b"
             ],
             [
              0.6666666666666666,
              "#ed7953"
             ],
             [
              0.7777777777777778,
              "#fb9f3a"
             ],
             [
              0.8888888888888888,
              "#fdca26"
             ],
             [
              1,
              "#f0f921"
             ]
            ],
            "type": "heatmapgl"
           }
          ],
          "histogram": [
           {
            "marker": {
             "pattern": {
              "fillmode": "overlay",
              "size": 10,
              "solidity": 0.2
             }
            },
            "type": "histogram"
           }
          ],
          "histogram2d": [
           {
            "colorbar": {
             "outlinewidth": 0,
             "ticks": ""
            },
            "colorscale": [
             [
              0,
              "#0d0887"
             ],
             [
              0.1111111111111111,
              "#46039f"
             ],
             [
              0.2222222222222222,
              "#7201a8"
             ],
             [
              0.3333333333333333,
              "#9c179e"
             ],
             [
              0.4444444444444444,
              "#bd3786"
             ],
             [
              0.5555555555555556,
              "#d8576b"
             ],
             [
              0.6666666666666666,
              "#ed7953"
             ],
             [
              0.7777777777777778,
              "#fb9f3a"
             ],
             [
              0.8888888888888888,
              "#fdca26"
             ],
             [
              1,
              "#f0f921"
             ]
            ],
            "type": "histogram2d"
           }
          ],
          "histogram2dcontour": [
           {
            "colorbar": {
             "outlinewidth": 0,
             "ticks": ""
            },
            "colorscale": [
             [
              0,
              "#0d0887"
             ],
             [
              0.1111111111111111,
              "#46039f"
             ],
             [
              0.2222222222222222,
              "#7201a8"
             ],
             [
              0.3333333333333333,
              "#9c179e"
             ],
             [
              0.4444444444444444,
              "#bd3786"
             ],
             [
              0.5555555555555556,
              "#d8576b"
             ],
             [
              0.6666666666666666,
              "#ed7953"
             ],
             [
              0.7777777777777778,
              "#fb9f3a"
             ],
             [
              0.8888888888888888,
              "#fdca26"
             ],
             [
              1,
              "#f0f921"
             ]
            ],
            "type": "histogram2dcontour"
           }
          ],
          "mesh3d": [
           {
            "colorbar": {
             "outlinewidth": 0,
             "ticks": ""
            },
            "type": "mesh3d"
           }
          ],
          "parcoords": [
           {
            "line": {
             "colorbar": {
              "outlinewidth": 0,
              "ticks": ""
             }
            },
            "type": "parcoords"
           }
          ],
          "pie": [
           {
            "automargin": true,
            "type": "pie"
           }
          ],
          "scatter": [
           {
            "fillpattern": {
             "fillmode": "overlay",
             "size": 10,
             "solidity": 0.2
            },
            "type": "scatter"
           }
          ],
          "scatter3d": [
           {
            "line": {
             "colorbar": {
              "outlinewidth": 0,
              "ticks": ""
             }
            },
            "marker": {
             "colorbar": {
              "outlinewidth": 0,
              "ticks": ""
             }
            },
            "type": "scatter3d"
           }
          ],
          "scattercarpet": [
           {
            "marker": {
             "colorbar": {
              "outlinewidth": 0,
              "ticks": ""
             }
            },
            "type": "scattercarpet"
           }
          ],
          "scattergeo": [
           {
            "marker": {
             "colorbar": {
              "outlinewidth": 0,
              "ticks": ""
             }
            },
            "type": "scattergeo"
           }
          ],
          "scattergl": [
           {
            "marker": {
             "colorbar": {
              "outlinewidth": 0,
              "ticks": ""
             }
            },
            "type": "scattergl"
           }
          ],
          "scattermapbox": [
           {
            "marker": {
             "colorbar": {
              "outlinewidth": 0,
              "ticks": ""
             }
            },
            "type": "scattermapbox"
           }
          ],
          "scatterpolar": [
           {
            "marker": {
             "colorbar": {
              "outlinewidth": 0,
              "ticks": ""
             }
            },
            "type": "scatterpolar"
           }
          ],
          "scatterpolargl": [
           {
            "marker": {
             "colorbar": {
              "outlinewidth": 0,
              "ticks": ""
             }
            },
            "type": "scatterpolargl"
           }
          ],
          "scatterternary": [
           {
            "marker": {
             "colorbar": {
              "outlinewidth": 0,
              "ticks": ""
             }
            },
            "type": "scatterternary"
           }
          ],
          "surface": [
           {
            "colorbar": {
             "outlinewidth": 0,
             "ticks": ""
            },
            "colorscale": [
             [
              0,
              "#0d0887"
             ],
             [
              0.1111111111111111,
              "#46039f"
             ],
             [
              0.2222222222222222,
              "#7201a8"
             ],
             [
              0.3333333333333333,
              "#9c179e"
             ],
             [
              0.4444444444444444,
              "#bd3786"
             ],
             [
              0.5555555555555556,
              "#d8576b"
             ],
             [
              0.6666666666666666,
              "#ed7953"
             ],
             [
              0.7777777777777778,
              "#fb9f3a"
             ],
             [
              0.8888888888888888,
              "#fdca26"
             ],
             [
              1,
              "#f0f921"
             ]
            ],
            "type": "surface"
           }
          ],
          "table": [
           {
            "cells": {
             "fill": {
              "color": "#EBF0F8"
             },
             "line": {
              "color": "white"
             }
            },
            "header": {
             "fill": {
              "color": "#C8D4E3"
             },
             "line": {
              "color": "white"
             }
            },
            "type": "table"
           }
          ]
         },
         "layout": {
          "annotationdefaults": {
           "arrowcolor": "#2a3f5f",
           "arrowhead": 0,
           "arrowwidth": 1
          },
          "autotypenumbers": "strict",
          "coloraxis": {
           "colorbar": {
            "outlinewidth": 0,
            "ticks": ""
           }
          },
          "colorscale": {
           "diverging": [
            [
             0,
             "#8e0152"
            ],
            [
             0.1,
             "#c51b7d"
            ],
            [
             0.2,
             "#de77ae"
            ],
            [
             0.3,
             "#f1b6da"
            ],
            [
             0.4,
             "#fde0ef"
            ],
            [
             0.5,
             "#f7f7f7"
            ],
            [
             0.6,
             "#e6f5d0"
            ],
            [
             0.7,
             "#b8e186"
            ],
            [
             0.8,
             "#7fbc41"
            ],
            [
             0.9,
             "#4d9221"
            ],
            [
             1,
             "#276419"
            ]
           ],
           "sequential": [
            [
             0,
             "#0d0887"
            ],
            [
             0.1111111111111111,
             "#46039f"
            ],
            [
             0.2222222222222222,
             "#7201a8"
            ],
            [
             0.3333333333333333,
             "#9c179e"
            ],
            [
             0.4444444444444444,
             "#bd3786"
            ],
            [
             0.5555555555555556,
             "#d8576b"
            ],
            [
             0.6666666666666666,
             "#ed7953"
            ],
            [
             0.7777777777777778,
             "#fb9f3a"
            ],
            [
             0.8888888888888888,
             "#fdca26"
            ],
            [
             1,
             "#f0f921"
            ]
           ],
           "sequentialminus": [
            [
             0,
             "#0d0887"
            ],
            [
             0.1111111111111111,
             "#46039f"
            ],
            [
             0.2222222222222222,
             "#7201a8"
            ],
            [
             0.3333333333333333,
             "#9c179e"
            ],
            [
             0.4444444444444444,
             "#bd3786"
            ],
            [
             0.5555555555555556,
             "#d8576b"
            ],
            [
             0.6666666666666666,
             "#ed7953"
            ],
            [
             0.7777777777777778,
             "#fb9f3a"
            ],
            [
             0.8888888888888888,
             "#fdca26"
            ],
            [
             1,
             "#f0f921"
            ]
           ]
          },
          "colorway": [
           "#636efa",
           "#EF553B",
           "#00cc96",
           "#ab63fa",
           "#FFA15A",
           "#19d3f3",
           "#FF6692",
           "#B6E880",
           "#FF97FF",
           "#FECB52"
          ],
          "font": {
           "color": "#2a3f5f"
          },
          "geo": {
           "bgcolor": "white",
           "lakecolor": "white",
           "landcolor": "#E5ECF6",
           "showlakes": true,
           "showland": true,
           "subunitcolor": "white"
          },
          "hoverlabel": {
           "align": "left"
          },
          "hovermode": "closest",
          "mapbox": {
           "style": "light"
          },
          "paper_bgcolor": "white",
          "plot_bgcolor": "#E5ECF6",
          "polar": {
           "angularaxis": {
            "gridcolor": "white",
            "linecolor": "white",
            "ticks": ""
           },
           "bgcolor": "#E5ECF6",
           "radialaxis": {
            "gridcolor": "white",
            "linecolor": "white",
            "ticks": ""
           }
          },
          "scene": {
           "xaxis": {
            "backgroundcolor": "#E5ECF6",
            "gridcolor": "white",
            "gridwidth": 2,
            "linecolor": "white",
            "showbackground": true,
            "ticks": "",
            "zerolinecolor": "white"
           },
           "yaxis": {
            "backgroundcolor": "#E5ECF6",
            "gridcolor": "white",
            "gridwidth": 2,
            "linecolor": "white",
            "showbackground": true,
            "ticks": "",
            "zerolinecolor": "white"
           },
           "zaxis": {
            "backgroundcolor": "#E5ECF6",
            "gridcolor": "white",
            "gridwidth": 2,
            "linecolor": "white",
            "showbackground": true,
            "ticks": "",
            "zerolinecolor": "white"
           }
          },
          "shapedefaults": {
           "line": {
            "color": "#2a3f5f"
           }
          },
          "ternary": {
           "aaxis": {
            "gridcolor": "white",
            "linecolor": "white",
            "ticks": ""
           },
           "baxis": {
            "gridcolor": "white",
            "linecolor": "white",
            "ticks": ""
           },
           "bgcolor": "#E5ECF6",
           "caxis": {
            "gridcolor": "white",
            "linecolor": "white",
            "ticks": ""
           }
          },
          "title": {
           "x": 0.05
          },
          "xaxis": {
           "automargin": true,
           "gridcolor": "white",
           "linecolor": "white",
           "ticks": "",
           "title": {
            "standoff": 15
           },
           "zerolinecolor": "white",
           "zerolinewidth": 2
          },
          "yaxis": {
           "automargin": true,
           "gridcolor": "white",
           "linecolor": "white",
           "ticks": "",
           "title": {
            "standoff": 15
           },
           "zerolinecolor": "white",
           "zerolinewidth": 2
          }
         }
        },
        "title": {
         "text": "RP cutoff standing for Arts (Hons) in NUS"
        },
        "xaxis": {
         "dtick": 1,
         "range": [
          2012.5,
          2023.5
         ],
         "tick0": 2013,
         "tickangle": 45,
         "tickmode": "linear",
         "title": {
          "text": "Year"
         }
        },
        "yaxis": {
         "range": [
          70,
          85
         ],
         "title": {
          "text": "Rank Points"
         }
        }
       }
      }
     },
     "metadata": {},
     "output_type": "display_data"
    }
   ],
   "source": [
    "# Extracting data for the selected course and the university's aggregation rows\n",
    "course_data = input_df[(input_df['course'] == selected_course) & (input_df['uni'] == selected_uni)]\n",
    "agg_data = input_df[(input_df['summary_row'] == 1) & (input_df['uni'] == selected_uni)]\n",
    "\n",
    "# Creating the plot\n",
    "fig = go.Figure()\n",
    "\n",
    "# Adding line for the selected course\n",
    "fig.add_trace(go.Scatter(\n",
    "    x=course_data['year'], y=course_data['RP'],\n",
    "    mode='lines', name=f\"{selected_course}\",\n",
    "    line=dict(color='#0F7A8F', width=3, shape='linear')\n",
    "))\n",
    "\n",
    "# Colormapping. Will cycle \n",
    "agg_col_map = ['#7c6354', '#DB3F3F', '#317A41', '#222323', '#011638']\n",
    "# Adding lines for the aggregation row\n",
    "for idx, agg_row in enumerate(agg_data['course'].unique()):\n",
    "    agg_row_data = agg_data[agg_data['course'] == agg_row]\n",
    "    fig.add_trace(go.Scatter(\n",
    "        x=agg_row_data['year'], y=agg_row_data['RP'],\n",
    "        mode='lines', name=agg_row,\n",
    "        line=dict(color= agg_col_map[idx%(len(agg_col_map)-1)], width=2, dash='dash'),\n",
    "        opacity=1\n",
    "    ))\n",
    "\n",
    "# Lower RP limit rounded down to the nearest 5\n",
    "min_rp = min(course_data.RP.min(), agg_data.RP.min())\n",
    "min_rp_limit = 5 * (min_rp // 5)\n",
    "\n",
    "# Adding padding to the X-axis\n",
    "padding = 0.5\n",
    "x_min = course_data['year'].min() - padding\n",
    "x_max = course_data['year'].max() + padding\n",
    "\n",
    "\n",
    "# Updating layout for the presentation preferences\n",
    "fig.update_layout(\n",
    "    title = f\"RP cutoff standing for {selected_course} in {selected_uni}\", \n",
    "    xaxis_title = 'Year', \n",
    "    yaxis_title = 'Rank Points', \n",
    "    yaxis=dict(range=[min_rp_limit, input_df['RP'].max()]),\n",
    "    legend=dict(orientation=\"h\", yanchor=\"bottom\", y=-0.3, xanchor=\"center\", x=0.5),\n",
    "    xaxis=dict(range = [x_min, x_max], tickmode='linear', tick0=course_data['year'].min(), dtick=1),\n",
    "    margin=dict(l=50, r=50, t=50, b=100), \n",
    "    hovermode='x unified'\n",
    ")\n",
    "\n",
    "fig.update_xaxes(tickangle=45)\n",
    "fig.show()\n"
   ]
  },
  {
   "cell_type": "markdown",
   "metadata": {},
   "source": [
    "# RP vs Median"
   ]
  },
  {
   "cell_type": "code",
   "execution_count": 7,
   "metadata": {},
   "outputs": [
    {
     "data": {
      "application/vnd.plotly.v1+json": {
       "config": {
        "plotlyServerURL": "https://plot.ly"
       },
       "data": [
        {
         "hovertemplate": "<b>Arts (Hons)</b><br>RP: 78.75<br>Median Salary: $4.01K",
         "marker": {
          "color": "#121619",
          "size": 16
         },
         "mode": "markers",
         "name": "Arts (Hons) (NUS)",
         "type": "scatter",
         "x": [
          78.75
         ],
         "y": [
          4.008
         ]
        },
        {
         "customdata": [
          "Real Estate<br>RP: 73.75<br>Median Salary: $4.00K",
          "Business Analytics<br>RP: 85.0<br>Median Salary: $5.50K",
          "Computer Science<br>RP: 85.0<br>Median Salary: $6.33K",
          "Information Security<br>RP: 82.5<br>Median Salary: $5.50K",
          "Information Systems<br>RP: 85.0<br>Median Salary: $5.50K",
          "Industrial Design<br>RP: 78.75<br>Median Salary: $4.00K",
          "Architecture<br>RP: 68.75<br>Median Salary: $nanK",
          "Project & Facilities Management<br>RP: 72.5<br>Median Salary: $3.85K",
          "Social Sciences<br>RP: 78.75<br>Median Salary: $4.01K",
          "Nursing (Hons)<br>RP: 66.25<br>Median Salary: $4.00K",
          "Medicine<br>RP: 85.0<br>Median Salary: $nanK",
          "Mechanical Engineering<br>RP: 72.5<br>Median Salary: $4.49K",
          "Law<br>RP: 85.0<br>Median Salary: $7.00K",
          "Accountancy (Hons)<br>RP: 82.5<br>Median Salary: $4.20K",
          "Business Administration (Hons)<br>RP: 83.75<br>Median Salary: $4.80K",
          "Environmental Studies<br>RP: 83.75<br>Median Salary: $4.00K",
          "Civil Engineering<br>RP: 72.5<br>Median Salary: $4.00K",
          "Electrical Engineering<br>RP: 72.5<br>Median Salary: $4.80K",
          "Computer Engineering<br>RP: 80.0<br>Median Salary: $5.59K",
          "Engineering Science<br>RP: 72.5<br>Median Salary: $4.50K",
          "Industrial and Systems Engineering<br>RP: 72.5<br>Median Salary: $4.60K",
          "Environmental Engineering<br>RP: 72.5<br>Median Salary: $4.24K",
          "Materials Science and Engineering<br>RP: 72.5<br>Median Salary: $4.35K",
          "Data Science and Analytics<br>RP: 78.75<br>Median Salary: $5.00K",
          "Science (Hons)<br>RP: 78.75<br>Median Salary: $4.00K",
          "Chemical Engineering<br>RP: 72.5<br>Median Salary: $4.41K",
          "Dentistry<br>RP: 85.0<br>Median Salary: $4.55K",
          "Biomedical Engineering<br>RP: 72.5<br>Median Salary: $4.10K"
         ],
         "hovertemplate": "%{customdata}",
         "marker": {
          "color": "#fe4a49",
          "opacity": 0.4,
          "size": 8
         },
         "mode": "markers",
         "name": "NUS",
         "type": "scatter",
         "x": [
          73.75,
          85,
          85,
          82.5,
          85,
          78.75,
          68.75,
          72.5,
          78.75,
          66.25,
          85,
          72.5,
          85,
          82.5,
          83.75,
          83.75,
          72.5,
          72.5,
          80,
          72.5,
          72.5,
          72.5,
          72.5,
          78.75,
          78.75,
          72.5,
          85,
          72.5
         ],
         "y": [
          4,
          5.5,
          6.333,
          5.5,
          5.5,
          4,
          null,
          3.855,
          4.015,
          4,
          null,
          4.49,
          7,
          4.2,
          4.8,
          4,
          4,
          4.8,
          5.595,
          4.5,
          4.6,
          4.243,
          4.346,
          5,
          4,
          4.405,
          4.55,
          4.1
         ]
        },
        {
         "customdata": [
          "Accountancy<br>RP: 72.5<br>Median Salary: $3.60K",
          "History<br>RP: 70.0<br>Median Salary: $4.20K",
          "Public Policy and Global Affairs<br>RP: 81.25<br>Median Salary: $4.20K",
          "Arts (Education)<br>RP: 70.0<br>Median Salary: $4.13K",
          "Environmental Engineering<br>RP: 68.75<br>Median Salary: $4.12K",
          "Electrical and Electronic Engineering<br>RP: 65.0<br>Median Salary: $4.80K",
          "Mathematical Sciences<br>RP: 68.75<br>Median Salary: $4.25K",
          "Computer Science<br>RP: 80.0<br>Median Salary: $5.20K",
          "Chemistry and Biological Chemistry<br>RP: 72.5<br>Median Salary: $3.80K",
          "Civil Engineering<br>RP: 63.75<br>Median Salary: $4.00K",
          "Maritime Studies<br>RP: 68.75<br>Median Salary: $4.20K",
          "Art, Design and Media<br>RP: 72.5<br>Median Salary: $3.50K",
          "Sociology<br>RP: 71.25<br>Median Salary: $4.01K",
          "Chinese<br>RP: 71.25<br>Median Salary: $4.09K",
          "Communication Studies<br>RP: 78.75<br>Median Salary: $3.67K",
          "Economics<br>RP: 73.75<br>Median Salary: $4.31K",
          "Linguistics and Multilingual Studies<br>RP: 75.0<br>Median Salary: $3.95K",
          "English<br>RP: 73.75<br>Median Salary: $3.77K",
          "Psychology<br>RP: 77.5<br>Median Salary: $4.00K",
          "Science (Education)<br>RP: 76.25<br>Median Salary: $4.30K",
          "Sports Science and Management<br>RP: 68.75<br>Median Salary: $3.85K",
          "Aerospace Engineering<br>RP: 67.5<br>Median Salary: $4.76K",
          "Physics / Applied Physics<br>RP: 62.5<br>Median Salary: $4.00K",
          "Business<br>RP: 73.75<br>Median Salary: $4.25K",
          "Bioengineering<br>RP: 68.75<br>Median Salary: $4.04K",
          "Chemical and Biomolecular Engineering<br>RP: 70.0<br>Median Salary: $4.20K",
          "Computer Engineering<br>RP: 75.0<br>Median Salary: $5.40K",
          "Mechanical Engineering<br>RP: 62.5<br>Median Salary: $4.40K",
          "Biological Sciences<br>RP: 78.75<br>Median Salary: $3.98K",
          "Information Engineering and Media<br>RP: 68.75<br>Median Salary: $4.80K",
          "Materials Engineering<br>RP: 67.5<br>Median Salary: $4.20K",
          "Philosophy<br>RP: 72.5<br>Median Salary: $4.00K",
          "Data Science & Artificial Intelligence<br>RP: 82.5<br>Median Salary: $5.25K",
          "Medicine<br>RP: 85.0<br>Median Salary: $nanK",
          "Environmental Earth Systems Science<br>RP: 81.25<br>Median Salary: $4.14K"
         ],
         "hovertemplate": "%{customdata}",
         "marker": {
          "color": "#09814a",
          "opacity": 0.4,
          "size": 8
         },
         "mode": "markers",
         "name": "NTU",
         "type": "scatter",
         "x": [
          72.5,
          70,
          81.25,
          70,
          68.75,
          65,
          68.75,
          80,
          72.5,
          63.75,
          68.75,
          72.5,
          71.25,
          71.25,
          78.75,
          73.75,
          75,
          73.75,
          77.5,
          76.25,
          68.75,
          67.5,
          62.5,
          73.75,
          68.75,
          70,
          75,
          62.5,
          78.75,
          68.75,
          67.5,
          72.5,
          82.5,
          85,
          81.25
         ],
         "y": [
          3.6,
          4.2,
          4.202,
          4.129,
          4.115,
          4.8,
          4.25,
          5.2,
          3.8,
          4,
          4.2,
          3.498,
          4.008,
          4.09,
          3.675,
          4.314,
          3.95,
          3.775,
          4,
          4.3,
          3.85,
          4.763,
          4,
          4.255,
          4.043,
          4.2,
          5.4,
          4.4,
          3.98,
          4.8,
          4.2,
          4,
          5.25,
          null,
          4.138
         ]
        },
        {
         "customdata": [
          "Social Sciences<br>RP: 75.0<br>Median Salary: $4.00K",
          "Business Management<br>RP: 75.0<br>Median Salary: $4.44K",
          "Accountancy<br>RP: 72.5<br>Median Salary: $3.90K",
          "Information Systems<br>RP: 75.0<br>Median Salary: $5.40K",
          "Economics<br>RP: 73.75<br>Median Salary: $4.50K",
          "Law<br>RP: 85.0<br>Median Salary: $7.00K"
         ],
         "hovertemplate": "%{customdata}",
         "marker": {
          "color": "#1438CA",
          "opacity": 0.4,
          "size": 8
         },
         "mode": "markers",
         "name": "SMU",
         "type": "scatter",
         "x": [
          75,
          75,
          72.5,
          75,
          73.75,
          85
         ],
         "y": [
          4,
          4.436,
          3.9,
          5.4,
          4.5,
          7
         ]
        }
       ],
       "layout": {
        "legend": {
         "orientation": "h",
         "x": 0.5,
         "xanchor": "center",
         "y": -0.25,
         "yanchor": "bottom"
        },
        "margin": {
         "b": 100,
         "l": 50,
         "r": 50,
         "t": 50
        },
        "template": {
         "data": {
          "bar": [
           {
            "error_x": {
             "color": "#2a3f5f"
            },
            "error_y": {
             "color": "#2a3f5f"
            },
            "marker": {
             "line": {
              "color": "#E5ECF6",
              "width": 0.5
             },
             "pattern": {
              "fillmode": "overlay",
              "size": 10,
              "solidity": 0.2
             }
            },
            "type": "bar"
           }
          ],
          "barpolar": [
           {
            "marker": {
             "line": {
              "color": "#E5ECF6",
              "width": 0.5
             },
             "pattern": {
              "fillmode": "overlay",
              "size": 10,
              "solidity": 0.2
             }
            },
            "type": "barpolar"
           }
          ],
          "carpet": [
           {
            "aaxis": {
             "endlinecolor": "#2a3f5f",
             "gridcolor": "white",
             "linecolor": "white",
             "minorgridcolor": "white",
             "startlinecolor": "#2a3f5f"
            },
            "baxis": {
             "endlinecolor": "#2a3f5f",
             "gridcolor": "white",
             "linecolor": "white",
             "minorgridcolor": "white",
             "startlinecolor": "#2a3f5f"
            },
            "type": "carpet"
           }
          ],
          "choropleth": [
           {
            "colorbar": {
             "outlinewidth": 0,
             "ticks": ""
            },
            "type": "choropleth"
           }
          ],
          "contour": [
           {
            "colorbar": {
             "outlinewidth": 0,
             "ticks": ""
            },
            "colorscale": [
             [
              0,
              "#0d0887"
             ],
             [
              0.1111111111111111,
              "#46039f"
             ],
             [
              0.2222222222222222,
              "#7201a8"
             ],
             [
              0.3333333333333333,
              "#9c179e"
             ],
             [
              0.4444444444444444,
              "#bd3786"
             ],
             [
              0.5555555555555556,
              "#d8576b"
             ],
             [
              0.6666666666666666,
              "#ed7953"
             ],
             [
              0.7777777777777778,
              "#fb9f3a"
             ],
             [
              0.8888888888888888,
              "#fdca26"
             ],
             [
              1,
              "#f0f921"
             ]
            ],
            "type": "contour"
           }
          ],
          "contourcarpet": [
           {
            "colorbar": {
             "outlinewidth": 0,
             "ticks": ""
            },
            "type": "contourcarpet"
           }
          ],
          "heatmap": [
           {
            "colorbar": {
             "outlinewidth": 0,
             "ticks": ""
            },
            "colorscale": [
             [
              0,
              "#0d0887"
             ],
             [
              0.1111111111111111,
              "#46039f"
             ],
             [
              0.2222222222222222,
              "#7201a8"
             ],
             [
              0.3333333333333333,
              "#9c179e"
             ],
             [
              0.4444444444444444,
              "#bd3786"
             ],
             [
              0.5555555555555556,
              "#d8576b"
             ],
             [
              0.6666666666666666,
              "#ed7953"
             ],
             [
              0.7777777777777778,
              "#fb9f3a"
             ],
             [
              0.8888888888888888,
              "#fdca26"
             ],
             [
              1,
              "#f0f921"
             ]
            ],
            "type": "heatmap"
           }
          ],
          "heatmapgl": [
           {
            "colorbar": {
             "outlinewidth": 0,
             "ticks": ""
            },
            "colorscale": [
             [
              0,
              "#0d0887"
             ],
             [
              0.1111111111111111,
              "#46039f"
             ],
             [
              0.2222222222222222,
              "#7201a8"
             ],
             [
              0.3333333333333333,
              "#9c179e"
             ],
             [
              0.4444444444444444,
              "#bd3786"
             ],
             [
              0.5555555555555556,
              "#d8576b"
             ],
             [
              0.6666666666666666,
              "#ed7953"
             ],
             [
              0.7777777777777778,
              "#fb9f3a"
             ],
             [
              0.8888888888888888,
              "#fdca26"
             ],
             [
              1,
              "#f0f921"
             ]
            ],
            "type": "heatmapgl"
           }
          ],
          "histogram": [
           {
            "marker": {
             "pattern": {
              "fillmode": "overlay",
              "size": 10,
              "solidity": 0.2
             }
            },
            "type": "histogram"
           }
          ],
          "histogram2d": [
           {
            "colorbar": {
             "outlinewidth": 0,
             "ticks": ""
            },
            "colorscale": [
             [
              0,
              "#0d0887"
             ],
             [
              0.1111111111111111,
              "#46039f"
             ],
             [
              0.2222222222222222,
              "#7201a8"
             ],
             [
              0.3333333333333333,
              "#9c179e"
             ],
             [
              0.4444444444444444,
              "#bd3786"
             ],
             [
              0.5555555555555556,
              "#d8576b"
             ],
             [
              0.6666666666666666,
              "#ed7953"
             ],
             [
              0.7777777777777778,
              "#fb9f3a"
             ],
             [
              0.8888888888888888,
              "#fdca26"
             ],
             [
              1,
              "#f0f921"
             ]
            ],
            "type": "histogram2d"
           }
          ],
          "histogram2dcontour": [
           {
            "colorbar": {
             "outlinewidth": 0,
             "ticks": ""
            },
            "colorscale": [
             [
              0,
              "#0d0887"
             ],
             [
              0.1111111111111111,
              "#46039f"
             ],
             [
              0.2222222222222222,
              "#7201a8"
             ],
             [
              0.3333333333333333,
              "#9c179e"
             ],
             [
              0.4444444444444444,
              "#bd3786"
             ],
             [
              0.5555555555555556,
              "#d8576b"
             ],
             [
              0.6666666666666666,
              "#ed7953"
             ],
             [
              0.7777777777777778,
              "#fb9f3a"
             ],
             [
              0.8888888888888888,
              "#fdca26"
             ],
             [
              1,
              "#f0f921"
             ]
            ],
            "type": "histogram2dcontour"
           }
          ],
          "mesh3d": [
           {
            "colorbar": {
             "outlinewidth": 0,
             "ticks": ""
            },
            "type": "mesh3d"
           }
          ],
          "parcoords": [
           {
            "line": {
             "colorbar": {
              "outlinewidth": 0,
              "ticks": ""
             }
            },
            "type": "parcoords"
           }
          ],
          "pie": [
           {
            "automargin": true,
            "type": "pie"
           }
          ],
          "scatter": [
           {
            "fillpattern": {
             "fillmode": "overlay",
             "size": 10,
             "solidity": 0.2
            },
            "type": "scatter"
           }
          ],
          "scatter3d": [
           {
            "line": {
             "colorbar": {
              "outlinewidth": 0,
              "ticks": ""
             }
            },
            "marker": {
             "colorbar": {
              "outlinewidth": 0,
              "ticks": ""
             }
            },
            "type": "scatter3d"
           }
          ],
          "scattercarpet": [
           {
            "marker": {
             "colorbar": {
              "outlinewidth": 0,
              "ticks": ""
             }
            },
            "type": "scattercarpet"
           }
          ],
          "scattergeo": [
           {
            "marker": {
             "colorbar": {
              "outlinewidth": 0,
              "ticks": ""
             }
            },
            "type": "scattergeo"
           }
          ],
          "scattergl": [
           {
            "marker": {
             "colorbar": {
              "outlinewidth": 0,
              "ticks": ""
             }
            },
            "type": "scattergl"
           }
          ],
          "scattermapbox": [
           {
            "marker": {
             "colorbar": {
              "outlinewidth": 0,
              "ticks": ""
             }
            },
            "type": "scattermapbox"
           }
          ],
          "scatterpolar": [
           {
            "marker": {
             "colorbar": {
              "outlinewidth": 0,
              "ticks": ""
             }
            },
            "type": "scatterpolar"
           }
          ],
          "scatterpolargl": [
           {
            "marker": {
             "colorbar": {
              "outlinewidth": 0,
              "ticks": ""
             }
            },
            "type": "scatterpolargl"
           }
          ],
          "scatterternary": [
           {
            "marker": {
             "colorbar": {
              "outlinewidth": 0,
              "ticks": ""
             }
            },
            "type": "scatterternary"
           }
          ],
          "surface": [
           {
            "colorbar": {
             "outlinewidth": 0,
             "ticks": ""
            },
            "colorscale": [
             [
              0,
              "#0d0887"
             ],
             [
              0.1111111111111111,
              "#46039f"
             ],
             [
              0.2222222222222222,
              "#7201a8"
             ],
             [
              0.3333333333333333,
              "#9c179e"
             ],
             [
              0.4444444444444444,
              "#bd3786"
             ],
             [
              0.5555555555555556,
              "#d8576b"
             ],
             [
              0.6666666666666666,
              "#ed7953"
             ],
             [
              0.7777777777777778,
              "#fb9f3a"
             ],
             [
              0.8888888888888888,
              "#fdca26"
             ],
             [
              1,
              "#f0f921"
             ]
            ],
            "type": "surface"
           }
          ],
          "table": [
           {
            "cells": {
             "fill": {
              "color": "#EBF0F8"
             },
             "line": {
              "color": "white"
             }
            },
            "header": {
             "fill": {
              "color": "#C8D4E3"
             },
             "line": {
              "color": "white"
             }
            },
            "type": "table"
           }
          ]
         },
         "layout": {
          "annotationdefaults": {
           "arrowcolor": "#2a3f5f",
           "arrowhead": 0,
           "arrowwidth": 1
          },
          "autotypenumbers": "strict",
          "coloraxis": {
           "colorbar": {
            "outlinewidth": 0,
            "ticks": ""
           }
          },
          "colorscale": {
           "diverging": [
            [
             0,
             "#8e0152"
            ],
            [
             0.1,
             "#c51b7d"
            ],
            [
             0.2,
             "#de77ae"
            ],
            [
             0.3,
             "#f1b6da"
            ],
            [
             0.4,
             "#fde0ef"
            ],
            [
             0.5,
             "#f7f7f7"
            ],
            [
             0.6,
             "#e6f5d0"
            ],
            [
             0.7,
             "#b8e186"
            ],
            [
             0.8,
             "#7fbc41"
            ],
            [
             0.9,
             "#4d9221"
            ],
            [
             1,
             "#276419"
            ]
           ],
           "sequential": [
            [
             0,
             "#0d0887"
            ],
            [
             0.1111111111111111,
             "#46039f"
            ],
            [
             0.2222222222222222,
             "#7201a8"
            ],
            [
             0.3333333333333333,
             "#9c179e"
            ],
            [
             0.4444444444444444,
             "#bd3786"
            ],
            [
             0.5555555555555556,
             "#d8576b"
            ],
            [
             0.6666666666666666,
             "#ed7953"
            ],
            [
             0.7777777777777778,
             "#fb9f3a"
            ],
            [
             0.8888888888888888,
             "#fdca26"
            ],
            [
             1,
             "#f0f921"
            ]
           ],
           "sequentialminus": [
            [
             0,
             "#0d0887"
            ],
            [
             0.1111111111111111,
             "#46039f"
            ],
            [
             0.2222222222222222,
             "#7201a8"
            ],
            [
             0.3333333333333333,
             "#9c179e"
            ],
            [
             0.4444444444444444,
             "#bd3786"
            ],
            [
             0.5555555555555556,
             "#d8576b"
            ],
            [
             0.6666666666666666,
             "#ed7953"
            ],
            [
             0.7777777777777778,
             "#fb9f3a"
            ],
            [
             0.8888888888888888,
             "#fdca26"
            ],
            [
             1,
             "#f0f921"
            ]
           ]
          },
          "colorway": [
           "#636efa",
           "#EF553B",
           "#00cc96",
           "#ab63fa",
           "#FFA15A",
           "#19d3f3",
           "#FF6692",
           "#B6E880",
           "#FF97FF",
           "#FECB52"
          ],
          "font": {
           "color": "#2a3f5f"
          },
          "geo": {
           "bgcolor": "white",
           "lakecolor": "white",
           "landcolor": "#E5ECF6",
           "showlakes": true,
           "showland": true,
           "subunitcolor": "white"
          },
          "hoverlabel": {
           "align": "left"
          },
          "hovermode": "closest",
          "mapbox": {
           "style": "light"
          },
          "paper_bgcolor": "white",
          "plot_bgcolor": "#E5ECF6",
          "polar": {
           "angularaxis": {
            "gridcolor": "white",
            "linecolor": "white",
            "ticks": ""
           },
           "bgcolor": "#E5ECF6",
           "radialaxis": {
            "gridcolor": "white",
            "linecolor": "white",
            "ticks": ""
           }
          },
          "scene": {
           "xaxis": {
            "backgroundcolor": "#E5ECF6",
            "gridcolor": "white",
            "gridwidth": 2,
            "linecolor": "white",
            "showbackground": true,
            "ticks": "",
            "zerolinecolor": "white"
           },
           "yaxis": {
            "backgroundcolor": "#E5ECF6",
            "gridcolor": "white",
            "gridwidth": 2,
            "linecolor": "white",
            "showbackground": true,
            "ticks": "",
            "zerolinecolor": "white"
           },
           "zaxis": {
            "backgroundcolor": "#E5ECF6",
            "gridcolor": "white",
            "gridwidth": 2,
            "linecolor": "white",
            "showbackground": true,
            "ticks": "",
            "zerolinecolor": "white"
           }
          },
          "shapedefaults": {
           "line": {
            "color": "#2a3f5f"
           }
          },
          "ternary": {
           "aaxis": {
            "gridcolor": "white",
            "linecolor": "white",
            "ticks": ""
           },
           "baxis": {
            "gridcolor": "white",
            "linecolor": "white",
            "ticks": ""
           },
           "bgcolor": "#E5ECF6",
           "caxis": {
            "gridcolor": "white",
            "linecolor": "white",
            "ticks": ""
           }
          },
          "title": {
           "x": 0.05
          },
          "xaxis": {
           "automargin": true,
           "gridcolor": "white",
           "linecolor": "white",
           "ticks": "",
           "title": {
            "standoff": 15
           },
           "zerolinecolor": "white",
           "zerolinewidth": 2
          },
          "yaxis": {
           "automargin": true,
           "gridcolor": "white",
           "linecolor": "white",
           "ticks": "",
           "title": {
            "standoff": 15
           },
           "zerolinecolor": "white",
           "zerolinewidth": 2
          }
         }
        },
        "title": {
         "text": "RP vs Gross Monthly Median Salary (Year: 2023)"
        },
        "xaxis": {
         "title": {
          "text": "RP"
         }
        },
        "yaxis": {
         "title": {
          "text": "Gross Monthly Median Salary (in thousands)"
         }
        }
       }
      }
     },
     "metadata": {},
     "output_type": "display_data"
    }
   ],
   "source": [
    "# Filtering data for the latest year available for the selected course\n",
    "latest_year = input_df.loc[(input_df['course'] == selected_course)\n",
    "                           & (input_df['uni']==selected_uni), 'year'].max()\n",
    "filtered_df = input_df[(input_df['year'] == latest_year)\n",
    "                       & (input_df.summary_row==0)].copy()\n",
    "\n",
    "# Divide gross_monthly_median by 1,000 for formatting\n",
    "filtered_df['gross_monthly_median'] = filtered_df['gross_monthly_median'] / 1000\n",
    "\n",
    "# Add custom data for tooltips (course name, RP, and gross monthly median)\n",
    "filtered_df['tooltip'] = filtered_df.apply(lambda row: f\"{row['course']}<br>RP: {row['RP']}<br>Median Salary: ${row['gross_monthly_median']:.2f}K\", axis=1)\n",
    "filtered_df['empty'] = \"\"\n",
    "\n",
    "# Creating the scatter plot [NUS, NTU, SMU]\n",
    "colors = ['#fe4a49', '#09814a', '#1438CA']\n",
    "color_map = {uni: colors[i % len(colors)] for i, uni in enumerate(filtered_df['uni'].unique())}\n",
    "# Store Graph Object traces\n",
    "traces = []\n",
    "\n",
    "# Highlighting the selected course\n",
    "selected_data = filtered_df[(filtered_df['course'] == selected_course)\n",
    "                            & (filtered_df.uni==selected_uni)]\n",
    "selected_trace= go.Scatter(\n",
    "            x=selected_data['RP'], \n",
    "            y=selected_data['gross_monthly_median'], \n",
    "            mode='markers', \n",
    "            name=f\"{selected_course} ({selected_uni})\", \n",
    "            marker=dict(color='#121619', size=16),\n",
    "            hovertemplate='<b>{}</b><br>RP: {}<br>Median Salary: ${:.2f}K'.format(selected_course, selected_data['RP'].values[0], selected_data['gross_monthly_median'].values[0])\n",
    "        )\n",
    "traces.append(selected_trace)\n",
    "\n",
    "# Other courses data\n",
    "other_courses_df = filtered_df.loc[~((filtered_df.course == selected_course)\n",
    "                                 & (filtered_df.uni==selected_uni))]\n",
    "\n",
    "# Iterate over all other uni courses by uni\n",
    "for uni in other_courses_df['uni'].unique():\n",
    "    uni_data = other_courses_df[other_courses_df['uni'] == uni]\n",
    "    trace = go.Scatter(\n",
    "        x=uni_data['RP'],\n",
    "        y=uni_data['gross_monthly_median'],\n",
    "        mode='markers',\n",
    "        name=uni,\n",
    "        marker=dict(color=color_map[uni], size=8, opacity=0.4),\n",
    "        customdata=uni_data['tooltip'],\n",
    "        hovertemplate='%{customdata}'  # This ensures only the custom tooltip is displayed\n",
    "    )\n",
    "    # Add the trace\n",
    "    traces.append(trace)\n",
    "\n",
    "# Create the layout\n",
    "layout = go.Layout(\n",
    "    title=f\"RP vs Gross Monthly Median Salary (Year: {latest_year})\",\n",
    "    xaxis=dict(title='RP'),\n",
    "    yaxis=dict(title='Gross Monthly Median Salary (in thousands)'),\n",
    "    legend=dict(title=None, orientation=\"h\", yanchor=\"bottom\", y=-0.25, xanchor=\"center\", x=0.5),\n",
    "    margin=dict(l=50, r=50, t=50, b=100)\n",
    ")\n",
    "\n",
    "# Create the figure\n",
    "fig = go.Figure(data=traces, layout=layout)\n",
    "\n",
    "fig.show()"
   ]
  },
  {
   "cell_type": "markdown",
   "metadata": {},
   "source": [
    "Note there will be points that overlap. Currently no workaround for this in plotly. "
   ]
  },
  {
   "cell_type": "markdown",
   "metadata": {},
   "source": [
    "# Salary Changes"
   ]
  },
  {
   "cell_type": "code",
   "execution_count": 18,
   "metadata": {},
   "outputs": [
    {
     "data": {
      "application/vnd.plotly.v1+json": {
       "config": {
        "plotlyServerURL": "https://plot.ly"
       },
       "data": [
        {
         "customdata": [
          [
           null,
           null
          ],
          [
           null,
           null
          ],
          [
           null,
           null
          ],
          [
           null,
           null
          ],
          [
           4.9,
           3.9
          ],
          [
           5.4,
           4.2
          ],
          [
           6.1,
           4.628
          ],
          [
           5.5,
           4.5
          ]
         ],
         "error_y": {
          "array": [
           null,
           null,
           null,
           null,
           0.7750000000000004,
           0.6000000000000005,
           0.5999999999999996,
           0.5
          ],
          "arrayminus": [
           null,
           null,
           null,
           null,
           0.2250000000000001,
           0.5999999999999996,
           0.8719999999999999,
           0.5
          ],
          "symmetric": false,
          "type": "data",
          "visible": true
         },
         "hovertemplate": "%{x}<br>Median: %{y:.2f}k<br>75th Pct: %{customdata[0]:.2f}k<br>25th Pct: %{customdata[1]:.2f}k",
         "mode": "lines+markers",
         "name": "Data Science and Analytics",
         "type": "scatter",
         "x": [
          2016,
          2017,
          2018,
          2019,
          2020,
          2021,
          2022,
          2023
         ],
         "y": [
          null,
          null,
          null,
          null,
          4.125,
          4.8,
          5.5,
          5
         ]
        },
        {
         "hovertemplate": "%{x}<br>%{y:.2f}k",
         "line": {
          "dash": "dot"
         },
         "mode": "lines",
         "name": "NUS Median",
         "type": "scatter",
         "x": [
          2013,
          2014,
          2015,
          2016,
          2017,
          2018,
          2019,
          2020,
          2021,
          2022,
          2023
         ],
         "y": [
          3.175,
          3.3,
          3.45,
          3.5,
          3.55,
          3.6,
          3.75,
          3.95,
          3.896,
          4.45,
          4.405
         ]
        },
        {
         "hovertemplate": "%{x}<br>%{y:.2f}k",
         "line": {
          "dash": "dot"
         },
         "mode": "lines",
         "name": "NUS 75th Percentile",
         "type": "scatter",
         "x": [
          2013,
          2014,
          2015,
          2016,
          2017,
          2018,
          2019,
          2020,
          2021,
          2022,
          2023
         ],
         "y": [
          3.5,
          3.632,
          3.7,
          3.95,
          3.975,
          4,
          4.4,
          4.3625,
          4.44,
          5,
          4.95
         ]
        },
        {
         "hovertemplate": "%{x}<br>%{y:.2f}k",
         "line": {
          "dash": "dot"
         },
         "mode": "lines",
         "name": "NUS 25th Percentile",
         "type": "scatter",
         "x": [
          2013,
          2014,
          2015,
          2016,
          2017,
          2018,
          2019,
          2020,
          2021,
          2022,
          2023
         ],
         "y": [
          3,
          3,
          3.2,
          3.2,
          3.3,
          3.3,
          3.5,
          3.6,
          3.6,
          4,
          4
         ]
        }
       ],
       "layout": {
        "legend": {
         "orientation": "h",
         "x": 0.5,
         "xanchor": "center",
         "y": -0.2,
         "yanchor": "top"
        },
        "template": {
         "data": {
          "bar": [
           {
            "error_x": {
             "color": "#2a3f5f"
            },
            "error_y": {
             "color": "#2a3f5f"
            },
            "marker": {
             "line": {
              "color": "#E5ECF6",
              "width": 0.5
             },
             "pattern": {
              "fillmode": "overlay",
              "size": 10,
              "solidity": 0.2
             }
            },
            "type": "bar"
           }
          ],
          "barpolar": [
           {
            "marker": {
             "line": {
              "color": "#E5ECF6",
              "width": 0.5
             },
             "pattern": {
              "fillmode": "overlay",
              "size": 10,
              "solidity": 0.2
             }
            },
            "type": "barpolar"
           }
          ],
          "carpet": [
           {
            "aaxis": {
             "endlinecolor": "#2a3f5f",
             "gridcolor": "white",
             "linecolor": "white",
             "minorgridcolor": "white",
             "startlinecolor": "#2a3f5f"
            },
            "baxis": {
             "endlinecolor": "#2a3f5f",
             "gridcolor": "white",
             "linecolor": "white",
             "minorgridcolor": "white",
             "startlinecolor": "#2a3f5f"
            },
            "type": "carpet"
           }
          ],
          "choropleth": [
           {
            "colorbar": {
             "outlinewidth": 0,
             "ticks": ""
            },
            "type": "choropleth"
           }
          ],
          "contour": [
           {
            "colorbar": {
             "outlinewidth": 0,
             "ticks": ""
            },
            "colorscale": [
             [
              0,
              "#0d0887"
             ],
             [
              0.1111111111111111,
              "#46039f"
             ],
             [
              0.2222222222222222,
              "#7201a8"
             ],
             [
              0.3333333333333333,
              "#9c179e"
             ],
             [
              0.4444444444444444,
              "#bd3786"
             ],
             [
              0.5555555555555556,
              "#d8576b"
             ],
             [
              0.6666666666666666,
              "#ed7953"
             ],
             [
              0.7777777777777778,
              "#fb9f3a"
             ],
             [
              0.8888888888888888,
              "#fdca26"
             ],
             [
              1,
              "#f0f921"
             ]
            ],
            "type": "contour"
           }
          ],
          "contourcarpet": [
           {
            "colorbar": {
             "outlinewidth": 0,
             "ticks": ""
            },
            "type": "contourcarpet"
           }
          ],
          "heatmap": [
           {
            "colorbar": {
             "outlinewidth": 0,
             "ticks": ""
            },
            "colorscale": [
             [
              0,
              "#0d0887"
             ],
             [
              0.1111111111111111,
              "#46039f"
             ],
             [
              0.2222222222222222,
              "#7201a8"
             ],
             [
              0.3333333333333333,
              "#9c179e"
             ],
             [
              0.4444444444444444,
              "#bd3786"
             ],
             [
              0.5555555555555556,
              "#d8576b"
             ],
             [
              0.6666666666666666,
              "#ed7953"
             ],
             [
              0.7777777777777778,
              "#fb9f3a"
             ],
             [
              0.8888888888888888,
              "#fdca26"
             ],
             [
              1,
              "#f0f921"
             ]
            ],
            "type": "heatmap"
           }
          ],
          "heatmapgl": [
           {
            "colorbar": {
             "outlinewidth": 0,
             "ticks": ""
            },
            "colorscale": [
             [
              0,
              "#0d0887"
             ],
             [
              0.1111111111111111,
              "#46039f"
             ],
             [
              0.2222222222222222,
              "#7201a8"
             ],
             [
              0.3333333333333333,
              "#9c179e"
             ],
             [
              0.4444444444444444,
              "#bd3786"
             ],
             [
              0.5555555555555556,
              "#d8576b"
             ],
             [
              0.6666666666666666,
              "#ed7953"
             ],
             [
              0.7777777777777778,
              "#fb9f3a"
             ],
             [
              0.8888888888888888,
              "#fdca26"
             ],
             [
              1,
              "#f0f921"
             ]
            ],
            "type": "heatmapgl"
           }
          ],
          "histogram": [
           {
            "marker": {
             "pattern": {
              "fillmode": "overlay",
              "size": 10,
              "solidity": 0.2
             }
            },
            "type": "histogram"
           }
          ],
          "histogram2d": [
           {
            "colorbar": {
             "outlinewidth": 0,
             "ticks": ""
            },
            "colorscale": [
             [
              0,
              "#0d0887"
             ],
             [
              0.1111111111111111,
              "#46039f"
             ],
             [
              0.2222222222222222,
              "#7201a8"
             ],
             [
              0.3333333333333333,
              "#9c179e"
             ],
             [
              0.4444444444444444,
              "#bd3786"
             ],
             [
              0.5555555555555556,
              "#d8576b"
             ],
             [
              0.6666666666666666,
              "#ed7953"
             ],
             [
              0.7777777777777778,
              "#fb9f3a"
             ],
             [
              0.8888888888888888,
              "#fdca26"
             ],
             [
              1,
              "#f0f921"
             ]
            ],
            "type": "histogram2d"
           }
          ],
          "histogram2dcontour": [
           {
            "colorbar": {
             "outlinewidth": 0,
             "ticks": ""
            },
            "colorscale": [
             [
              0,
              "#0d0887"
             ],
             [
              0.1111111111111111,
              "#46039f"
             ],
             [
              0.2222222222222222,
              "#7201a8"
             ],
             [
              0.3333333333333333,
              "#9c179e"
             ],
             [
              0.4444444444444444,
              "#bd3786"
             ],
             [
              0.5555555555555556,
              "#d8576b"
             ],
             [
              0.6666666666666666,
              "#ed7953"
             ],
             [
              0.7777777777777778,
              "#fb9f3a"
             ],
             [
              0.8888888888888888,
              "#fdca26"
             ],
             [
              1,
              "#f0f921"
             ]
            ],
            "type": "histogram2dcontour"
           }
          ],
          "mesh3d": [
           {
            "colorbar": {
             "outlinewidth": 0,
             "ticks": ""
            },
            "type": "mesh3d"
           }
          ],
          "parcoords": [
           {
            "line": {
             "colorbar": {
              "outlinewidth": 0,
              "ticks": ""
             }
            },
            "type": "parcoords"
           }
          ],
          "pie": [
           {
            "automargin": true,
            "type": "pie"
           }
          ],
          "scatter": [
           {
            "fillpattern": {
             "fillmode": "overlay",
             "size": 10,
             "solidity": 0.2
            },
            "type": "scatter"
           }
          ],
          "scatter3d": [
           {
            "line": {
             "colorbar": {
              "outlinewidth": 0,
              "ticks": ""
             }
            },
            "marker": {
             "colorbar": {
              "outlinewidth": 0,
              "ticks": ""
             }
            },
            "type": "scatter3d"
           }
          ],
          "scattercarpet": [
           {
            "marker": {
             "colorbar": {
              "outlinewidth": 0,
              "ticks": ""
             }
            },
            "type": "scattercarpet"
           }
          ],
          "scattergeo": [
           {
            "marker": {
             "colorbar": {
              "outlinewidth": 0,
              "ticks": ""
             }
            },
            "type": "scattergeo"
           }
          ],
          "scattergl": [
           {
            "marker": {
             "colorbar": {
              "outlinewidth": 0,
              "ticks": ""
             }
            },
            "type": "scattergl"
           }
          ],
          "scattermapbox": [
           {
            "marker": {
             "colorbar": {
              "outlinewidth": 0,
              "ticks": ""
             }
            },
            "type": "scattermapbox"
           }
          ],
          "scatterpolar": [
           {
            "marker": {
             "colorbar": {
              "outlinewidth": 0,
              "ticks": ""
             }
            },
            "type": "scatterpolar"
           }
          ],
          "scatterpolargl": [
           {
            "marker": {
             "colorbar": {
              "outlinewidth": 0,
              "ticks": ""
             }
            },
            "type": "scatterpolargl"
           }
          ],
          "scatterternary": [
           {
            "marker": {
             "colorbar": {
              "outlinewidth": 0,
              "ticks": ""
             }
            },
            "type": "scatterternary"
           }
          ],
          "surface": [
           {
            "colorbar": {
             "outlinewidth": 0,
             "ticks": ""
            },
            "colorscale": [
             [
              0,
              "#0d0887"
             ],
             [
              0.1111111111111111,
              "#46039f"
             ],
             [
              0.2222222222222222,
              "#7201a8"
             ],
             [
              0.3333333333333333,
              "#9c179e"
             ],
             [
              0.4444444444444444,
              "#bd3786"
             ],
             [
              0.5555555555555556,
              "#d8576b"
             ],
             [
              0.6666666666666666,
              "#ed7953"
             ],
             [
              0.7777777777777778,
              "#fb9f3a"
             ],
             [
              0.8888888888888888,
              "#fdca26"
             ],
             [
              1,
              "#f0f921"
             ]
            ],
            "type": "surface"
           }
          ],
          "table": [
           {
            "cells": {
             "fill": {
              "color": "#EBF0F8"
             },
             "line": {
              "color": "white"
             }
            },
            "header": {
             "fill": {
              "color": "#C8D4E3"
             },
             "line": {
              "color": "white"
             }
            },
            "type": "table"
           }
          ]
         },
         "layout": {
          "annotationdefaults": {
           "arrowcolor": "#2a3f5f",
           "arrowhead": 0,
           "arrowwidth": 1
          },
          "autotypenumbers": "strict",
          "coloraxis": {
           "colorbar": {
            "outlinewidth": 0,
            "ticks": ""
           }
          },
          "colorscale": {
           "diverging": [
            [
             0,
             "#8e0152"
            ],
            [
             0.1,
             "#c51b7d"
            ],
            [
             0.2,
             "#de77ae"
            ],
            [
             0.3,
             "#f1b6da"
            ],
            [
             0.4,
             "#fde0ef"
            ],
            [
             0.5,
             "#f7f7f7"
            ],
            [
             0.6,
             "#e6f5d0"
            ],
            [
             0.7,
             "#b8e186"
            ],
            [
             0.8,
             "#7fbc41"
            ],
            [
             0.9,
             "#4d9221"
            ],
            [
             1,
             "#276419"
            ]
           ],
           "sequential": [
            [
             0,
             "#0d0887"
            ],
            [
             0.1111111111111111,
             "#46039f"
            ],
            [
             0.2222222222222222,
             "#7201a8"
            ],
            [
             0.3333333333333333,
             "#9c179e"
            ],
            [
             0.4444444444444444,
             "#bd3786"
            ],
            [
             0.5555555555555556,
             "#d8576b"
            ],
            [
             0.6666666666666666,
             "#ed7953"
            ],
            [
             0.7777777777777778,
             "#fb9f3a"
            ],
            [
             0.8888888888888888,
             "#fdca26"
            ],
            [
             1,
             "#f0f921"
            ]
           ],
           "sequentialminus": [
            [
             0,
             "#0d0887"
            ],
            [
             0.1111111111111111,
             "#46039f"
            ],
            [
             0.2222222222222222,
             "#7201a8"
            ],
            [
             0.3333333333333333,
             "#9c179e"
            ],
            [
             0.4444444444444444,
             "#bd3786"
            ],
            [
             0.5555555555555556,
             "#d8576b"
            ],
            [
             0.6666666666666666,
             "#ed7953"
            ],
            [
             0.7777777777777778,
             "#fb9f3a"
            ],
            [
             0.8888888888888888,
             "#fdca26"
            ],
            [
             1,
             "#f0f921"
            ]
           ]
          },
          "colorway": [
           "#636efa",
           "#EF553B",
           "#00cc96",
           "#ab63fa",
           "#FFA15A",
           "#19d3f3",
           "#FF6692",
           "#B6E880",
           "#FF97FF",
           "#FECB52"
          ],
          "font": {
           "color": "#2a3f5f"
          },
          "geo": {
           "bgcolor": "white",
           "lakecolor": "white",
           "landcolor": "#E5ECF6",
           "showlakes": true,
           "showland": true,
           "subunitcolor": "white"
          },
          "hoverlabel": {
           "align": "left"
          },
          "hovermode": "closest",
          "mapbox": {
           "style": "light"
          },
          "paper_bgcolor": "white",
          "plot_bgcolor": "#E5ECF6",
          "polar": {
           "angularaxis": {
            "gridcolor": "white",
            "linecolor": "white",
            "ticks": ""
           },
           "bgcolor": "#E5ECF6",
           "radialaxis": {
            "gridcolor": "white",
            "linecolor": "white",
            "ticks": ""
           }
          },
          "scene": {
           "xaxis": {
            "backgroundcolor": "#E5ECF6",
            "gridcolor": "white",
            "gridwidth": 2,
            "linecolor": "white",
            "showbackground": true,
            "ticks": "",
            "zerolinecolor": "white"
           },
           "yaxis": {
            "backgroundcolor": "#E5ECF6",
            "gridcolor": "white",
            "gridwidth": 2,
            "linecolor": "white",
            "showbackground": true,
            "ticks": "",
            "zerolinecolor": "white"
           },
           "zaxis": {
            "backgroundcolor": "#E5ECF6",
            "gridcolor": "white",
            "gridwidth": 2,
            "linecolor": "white",
            "showbackground": true,
            "ticks": "",
            "zerolinecolor": "white"
           }
          },
          "shapedefaults": {
           "line": {
            "color": "#2a3f5f"
           }
          },
          "ternary": {
           "aaxis": {
            "gridcolor": "white",
            "linecolor": "white",
            "ticks": ""
           },
           "baxis": {
            "gridcolor": "white",
            "linecolor": "white",
            "ticks": ""
           },
           "bgcolor": "#E5ECF6",
           "caxis": {
            "gridcolor": "white",
            "linecolor": "white",
            "ticks": ""
           }
          },
          "title": {
           "x": 0.05
          },
          "xaxis": {
           "automargin": true,
           "gridcolor": "white",
           "linecolor": "white",
           "ticks": "",
           "title": {
            "standoff": 15
           },
           "zerolinecolor": "white",
           "zerolinewidth": 2
          },
          "yaxis": {
           "automargin": true,
           "gridcolor": "white",
           "linecolor": "white",
           "ticks": "",
           "title": {
            "standoff": 15
           },
           "zerolinecolor": "white",
           "zerolinewidth": 2
          }
         }
        },
        "title": {
         "text": "Gross Monthly Salary for Data Science and Analytics at NUS Over Time",
         "x": 0.5
        },
        "xaxis": {
         "dtick": 1,
         "range": [
          2015.5,
          2023.5
         ],
         "tick0": 2016,
         "tickmode": "linear",
         "title": {
          "text": "Year"
         }
        },
        "yaxis": {
         "title": {
          "text": "Gross Monthly Salary (Thousands)"
         }
        }
       }
      }
     },
     "metadata": {},
     "output_type": "display_data"
    }
   ],
   "source": [
    "plot_course = 'Data Science and Analytics'\n",
    "plot_uni = 'NUS'\n",
    "\n",
    "# Filter data for the selected course and university\n",
    "course_data = input_df[(input_df['course'] == plot_course) & (input_df['uni'] == plot_uni) & (input_df['course_row'] == 1)].copy()\n",
    "\n",
    "# Filter data for the university median\n",
    "uni_median_data = input_df[(input_df['course'] == f\"{plot_uni} Median\") & (input_df['summary_row'] == 1)].copy()\n",
    "\n",
    "# X axis: Years where gross_monthly_median is available\n",
    "years = course_data['year']\n",
    "\n",
    "# Convert gross monthly salary values to thousands of dollars\n",
    "course_data['gross_monthly_median'] = course_data['gross_monthly_median'] / 1000\n",
    "course_data['gross_mthly_75_percentile'] = course_data['gross_mthly_75_percentile'] / 1000\n",
    "course_data['gross_mthly_25_percentile'] = course_data['gross_mthly_25_percentile'] / 1000\n",
    "\n",
    "uni_median_data['gross_monthly_median'] = uni_median_data['gross_monthly_median'] / 1000\n",
    "uni_median_data['gross_mthly_75_percentile'] = uni_median_data['gross_mthly_75_percentile'] / 1000\n",
    "uni_median_data['gross_mthly_25_percentile'] = uni_median_data['gross_mthly_25_percentile'] / 1000\n",
    "\n",
    "# Course line with error bars and custom hover text\n",
    "course_trace = go.Scatter(\n",
    "    x=years,\n",
    "    y=course_data['gross_monthly_median'],\n",
    "    error_y=dict(\n",
    "        type='data',\n",
    "        symmetric=False,\n",
    "        array=course_data['gross_mthly_75_percentile'] - course_data['gross_monthly_median'],\n",
    "        arrayminus=course_data['gross_monthly_median'] - course_data['gross_mthly_25_percentile'],\n",
    "        visible=True\n",
    "    ),\n",
    "    mode='lines+markers',\n",
    "    name=f\"{plot_course}\",\n",
    "    hovertemplate=\n",
    "        '%{x}<br>' +\n",
    "        'Median: %{y:.2f}k<br>' +\n",
    "        '75th Pct: %{customdata[0]:.2f}k<br>' +\n",
    "        '25th Pct: %{customdata[1]:.2f}k',\n",
    "    customdata=np.stack((course_data['gross_mthly_75_percentile'], course_data['gross_mthly_25_percentile']), axis=-1)\n",
    ")\n",
    "\n",
    "# University median line\n",
    "uni_median_trace = go.Scatter(\n",
    "    x=uni_median_data['year'],\n",
    "    y=uni_median_data['gross_monthly_median'],\n",
    "    mode='lines',\n",
    "    line=dict(dash='dot'),\n",
    "    name=f'{plot_uni} Median', \n",
    "    hovertemplate=\n",
    "        \"%{x}<br>\"+\"%{y:.2f}k\"\n",
    ")\n",
    "\n",
    "# University 75th percentile line\n",
    "uni_75th_trace = go.Scatter(\n",
    "    x=uni_median_data['year'],\n",
    "    y=uni_median_data['gross_mthly_75_percentile'],\n",
    "    mode='lines',\n",
    "    line=dict(dash='dot'),\n",
    "    name=f'{plot_uni} 75th Percentile', \n",
    "    hovertemplate=\n",
    "        \"%{x}<br>\"+\"%{y:.2f}k\"\n",
    ")\n",
    "\n",
    "# University 25th percentile line\n",
    "uni_25th_trace = go.Scatter(\n",
    "    x=uni_median_data['year'],\n",
    "    y=uni_median_data['gross_mthly_25_percentile'],\n",
    "    mode='lines',\n",
    "    line=dict(dash='dot'),\n",
    "    name=f'{plot_uni} 25th Percentile', \n",
    "    hovertemplate=\n",
    "        \"%{x}<br>\"+\"%{y:.2f}k\"\n",
    ")\n",
    "\n",
    "# Create the figure\n",
    "fig = go.Figure(data=[course_trace, uni_median_trace, uni_75th_trace, uni_25th_trace])\n",
    "\n",
    "# Adding padding to the X-axis\n",
    "padding = 0.5\n",
    "x_min = course_data['year'].min() - padding\n",
    "x_max = course_data['year'].max() + padding\n",
    "\n",
    "\n",
    "\n",
    "# Set titles and labels\n",
    "fig.update_layout(\n",
    "    title=f\"Gross Monthly Salary for {plot_course} at {plot_uni} Over Time\",\n",
    "    title_x=0.5,\n",
    "    xaxis_title=\"Year\",\n",
    "    xaxis=dict(range = [x_min, x_max], tickmode='linear', tick0=course_data['year'].min(), dtick=1),\n",
    "    yaxis_title=\"Gross Monthly Salary (Thousands)\",\n",
    "    legend=dict(\n",
    "        orientation=\"h\",\n",
    "        yanchor=\"top\",\n",
    "        y=-0.2,  # Move legend below x-axis\n",
    "        xanchor=\"center\",\n",
    "        x=0.5\n",
    "    )\n",
    ")\n",
    "\n",
    "# Set x-axis ticks to show every year\n",
    "fig.update_xaxes(\n",
    "    dtick=1  # Set tick interval to 1 year\n",
    ")\n",
    "\n",
    "# Show the figure\n",
    "fig.show()\n"
   ]
  },
  {
   "cell_type": "markdown",
   "metadata": {},
   "source": [
    "Aggregated values are the **median** for that field. E.g `NUS 75th Percentile` is the median value across all NUS degree's 75th percentile income for that year. "
   ]
  },
  {
   "cell_type": "code",
   "execution_count": 10,
   "metadata": {},
   "outputs": [
    {
     "data": {
      "text/html": [
       "<div>\n",
       "<style scoped>\n",
       "    .dataframe tbody tr th:only-of-type {\n",
       "        vertical-align: middle;\n",
       "    }\n",
       "\n",
       "    .dataframe tbody tr th {\n",
       "        vertical-align: top;\n",
       "    }\n",
       "\n",
       "    .dataframe thead th {\n",
       "        text-align: right;\n",
       "    }\n",
       "</style>\n",
       "<table border=\"1\" class=\"dataframe\">\n",
       "  <thead>\n",
       "    <tr style=\"text-align: right;\">\n",
       "      <th></th>\n",
       "      <th>uni</th>\n",
       "      <th>school</th>\n",
       "      <th>course</th>\n",
       "      <th>year</th>\n",
       "      <th>Places</th>\n",
       "      <th>GPA</th>\n",
       "      <th>RP</th>\n",
       "      <th>employment_rate_overall</th>\n",
       "      <th>employment_rate_ft_perm</th>\n",
       "      <th>basic_monthly_mean</th>\n",
       "      <th>basic_monthly_median</th>\n",
       "      <th>gross_monthly_mean</th>\n",
       "      <th>gross_monthly_median</th>\n",
       "      <th>gross_mthly_25_percentile</th>\n",
       "      <th>gross_mthly_75_percentile</th>\n",
       "      <th>university</th>\n",
       "    </tr>\n",
       "  </thead>\n",
       "  <tbody>\n",
       "    <tr>\n",
       "      <th>0</th>\n",
       "      <td>NUS</td>\n",
       "      <td>Faculty of Arts and Social Sciences</td>\n",
       "      <td>Arts (Hons)</td>\n",
       "      <td>2013</td>\n",
       "      <td>1562.0</td>\n",
       "      <td>3.68</td>\n",
       "      <td>77.50</td>\n",
       "      <td>86.6</td>\n",
       "      <td>74.6</td>\n",
       "      <td>3057.0</td>\n",
       "      <td>3200.0</td>\n",
       "      <td>3154.0</td>\n",
       "      <td>3200.0</td>\n",
       "      <td>2800.0</td>\n",
       "      <td>3500.0</td>\n",
       "      <td>National University of Singapore</td>\n",
       "    </tr>\n",
       "    <tr>\n",
       "      <th>1</th>\n",
       "      <td>NUS</td>\n",
       "      <td>Faculty of Arts and Social Sciences</td>\n",
       "      <td>Arts (Hons)</td>\n",
       "      <td>2014</td>\n",
       "      <td>1591.0</td>\n",
       "      <td>3.76</td>\n",
       "      <td>76.25</td>\n",
       "      <td>83.1</td>\n",
       "      <td>76.6</td>\n",
       "      <td>3141.0</td>\n",
       "      <td>3210.0</td>\n",
       "      <td>3277.0</td>\n",
       "      <td>3300.0</td>\n",
       "      <td>3000.0</td>\n",
       "      <td>3600.0</td>\n",
       "      <td>National University of Singapore</td>\n",
       "    </tr>\n",
       "  </tbody>\n",
       "</table>\n",
       "</div>"
      ],
      "text/plain": [
       "   uni                               school       course  year  Places   GPA  \\\n",
       "0  NUS  Faculty of Arts and Social Sciences  Arts (Hons)  2013  1562.0  3.68   \n",
       "1  NUS  Faculty of Arts and Social Sciences  Arts (Hons)  2014  1591.0  3.76   \n",
       "\n",
       "      RP  employment_rate_overall  employment_rate_ft_perm  \\\n",
       "0  77.50                     86.6                     74.6   \n",
       "1  76.25                     83.1                     76.6   \n",
       "\n",
       "   basic_monthly_mean  basic_monthly_median  gross_monthly_mean  \\\n",
       "0              3057.0                3200.0              3154.0   \n",
       "1              3141.0                3210.0              3277.0   \n",
       "\n",
       "   gross_monthly_median  gross_mthly_25_percentile  gross_mthly_75_percentile  \\\n",
       "0                3200.0                     2800.0                     3500.0   \n",
       "1                3300.0                     3000.0                     3600.0   \n",
       "\n",
       "                         university  \n",
       "0  National University of Singapore  \n",
       "1  National University of Singapore  "
      ]
     },
     "execution_count": 10,
     "metadata": {},
     "output_type": "execute_result"
    }
   ],
   "source": [
    "df.head(2)"
   ]
  },
  {
   "cell_type": "code",
   "execution_count": 13,
   "metadata": {},
   "outputs": [
    {
     "data": {
      "text/plain": [
       "np.float64(5000.0)"
      ]
     },
     "execution_count": 13,
     "metadata": {},
     "output_type": "execute_result"
    }
   ],
   "source": [
    "df.loc[(df.year==2022)\n",
    "             & (df.uni==selected_uni)\n",
    "             , 'gross_mthly_75_percentile'].median()"
   ]
  },
  {
   "cell_type": "markdown",
   "metadata": {},
   "source": [
    "# Employment rates"
   ]
  },
  {
   "cell_type": "code",
   "execution_count": 22,
   "metadata": {},
   "outputs": [
    {
     "data": {
      "application/vnd.plotly.v1+json": {
       "config": {
        "plotlyServerURL": "https://plot.ly"
       },
       "data": [
        {
         "hovertemplate": "%{y:.1f}%",
         "marker": {
          "color": "indianred"
         },
         "name": "FT Permanent Employment Rate",
         "type": "bar",
         "x": [
          2013,
          2014,
          2015,
          2016,
          2017,
          2018,
          2019,
          2020,
          2021,
          2022,
          2023
         ],
         "y": [
          74.6,
          76.6,
          70.5,
          74.1,
          66.7,
          60.8,
          68.2,
          54.2,
          68.3,
          74.4,
          73.6
         ]
        },
        {
         "hovertemplate": "%{y:.1f}%",
         "marker": {
          "color": "lightsalmon"
         },
         "name": "Overall Employment Rate",
         "type": "bar",
         "x": [
          2013,
          2014,
          2015,
          2016,
          2017,
          2018,
          2019,
          2020,
          2021,
          2022,
          2023
         ],
         "y": [
          86.6,
          83.1,
          83,
          90.7,
          88.2,
          87.5,
          92.7,
          93.1,
          88.8,
          87.5,
          86.5
         ]
        },
        {
         "line": {
          "color": "royalblue",
          "dash": "dot"
         },
         "mode": "lines",
         "name": "Median FT Permanent Employment Rate",
         "type": "scatter",
         "x": [
          2013,
          2014,
          2015,
          2016,
          2017,
          2018,
          2019,
          2020,
          2021,
          2022,
          2023
         ],
         "y": [
          88,
          91.3,
          90.8,
          85.9,
          86.45,
          86.4,
          90.1,
          79.5,
          91.9,
          92.7,
          87.7
         ]
        },
        {
         "line": {
          "color": "darkblue",
          "dash": "dot"
         },
         "mode": "lines",
         "name": "Median Overall Employment Rate",
         "type": "scatter",
         "x": [
          2013,
          2014,
          2015,
          2016,
          2017,
          2018,
          2019,
          2020,
          2021,
          2022,
          2023
         ],
         "y": [
          92.4,
          94.80000000000001,
          94.3,
          91.9,
          92.55,
          91.5,
          92.85,
          95,
          96.7,
          96.2,
          89.9
         ]
        }
       ],
       "layout": {
        "barmode": "group",
        "legend": {
         "orientation": "h",
         "x": 0.5,
         "xanchor": "center",
         "y": -0.15,
         "yanchor": "top"
        },
        "template": {
         "data": {
          "bar": [
           {
            "error_x": {
             "color": "#2a3f5f"
            },
            "error_y": {
             "color": "#2a3f5f"
            },
            "marker": {
             "line": {
              "color": "#E5ECF6",
              "width": 0.5
             },
             "pattern": {
              "fillmode": "overlay",
              "size": 10,
              "solidity": 0.2
             }
            },
            "type": "bar"
           }
          ],
          "barpolar": [
           {
            "marker": {
             "line": {
              "color": "#E5ECF6",
              "width": 0.5
             },
             "pattern": {
              "fillmode": "overlay",
              "size": 10,
              "solidity": 0.2
             }
            },
            "type": "barpolar"
           }
          ],
          "carpet": [
           {
            "aaxis": {
             "endlinecolor": "#2a3f5f",
             "gridcolor": "white",
             "linecolor": "white",
             "minorgridcolor": "white",
             "startlinecolor": "#2a3f5f"
            },
            "baxis": {
             "endlinecolor": "#2a3f5f",
             "gridcolor": "white",
             "linecolor": "white",
             "minorgridcolor": "white",
             "startlinecolor": "#2a3f5f"
            },
            "type": "carpet"
           }
          ],
          "choropleth": [
           {
            "colorbar": {
             "outlinewidth": 0,
             "ticks": ""
            },
            "type": "choropleth"
           }
          ],
          "contour": [
           {
            "colorbar": {
             "outlinewidth": 0,
             "ticks": ""
            },
            "colorscale": [
             [
              0,
              "#0d0887"
             ],
             [
              0.1111111111111111,
              "#46039f"
             ],
             [
              0.2222222222222222,
              "#7201a8"
             ],
             [
              0.3333333333333333,
              "#9c179e"
             ],
             [
              0.4444444444444444,
              "#bd3786"
             ],
             [
              0.5555555555555556,
              "#d8576b"
             ],
             [
              0.6666666666666666,
              "#ed7953"
             ],
             [
              0.7777777777777778,
              "#fb9f3a"
             ],
             [
              0.8888888888888888,
              "#fdca26"
             ],
             [
              1,
              "#f0f921"
             ]
            ],
            "type": "contour"
           }
          ],
          "contourcarpet": [
           {
            "colorbar": {
             "outlinewidth": 0,
             "ticks": ""
            },
            "type": "contourcarpet"
           }
          ],
          "heatmap": [
           {
            "colorbar": {
             "outlinewidth": 0,
             "ticks": ""
            },
            "colorscale": [
             [
              0,
              "#0d0887"
             ],
             [
              0.1111111111111111,
              "#46039f"
             ],
             [
              0.2222222222222222,
              "#7201a8"
             ],
             [
              0.3333333333333333,
              "#9c179e"
             ],
             [
              0.4444444444444444,
              "#bd3786"
             ],
             [
              0.5555555555555556,
              "#d8576b"
             ],
             [
              0.6666666666666666,
              "#ed7953"
             ],
             [
              0.7777777777777778,
              "#fb9f3a"
             ],
             [
              0.8888888888888888,
              "#fdca26"
             ],
             [
              1,
              "#f0f921"
             ]
            ],
            "type": "heatmap"
           }
          ],
          "heatmapgl": [
           {
            "colorbar": {
             "outlinewidth": 0,
             "ticks": ""
            },
            "colorscale": [
             [
              0,
              "#0d0887"
             ],
             [
              0.1111111111111111,
              "#46039f"
             ],
             [
              0.2222222222222222,
              "#7201a8"
             ],
             [
              0.3333333333333333,
              "#9c179e"
             ],
             [
              0.4444444444444444,
              "#bd3786"
             ],
             [
              0.5555555555555556,
              "#d8576b"
             ],
             [
              0.6666666666666666,
              "#ed7953"
             ],
             [
              0.7777777777777778,
              "#fb9f3a"
             ],
             [
              0.8888888888888888,
              "#fdca26"
             ],
             [
              1,
              "#f0f921"
             ]
            ],
            "type": "heatmapgl"
           }
          ],
          "histogram": [
           {
            "marker": {
             "pattern": {
              "fillmode": "overlay",
              "size": 10,
              "solidity": 0.2
             }
            },
            "type": "histogram"
           }
          ],
          "histogram2d": [
           {
            "colorbar": {
             "outlinewidth": 0,
             "ticks": ""
            },
            "colorscale": [
             [
              0,
              "#0d0887"
             ],
             [
              0.1111111111111111,
              "#46039f"
             ],
             [
              0.2222222222222222,
              "#7201a8"
             ],
             [
              0.3333333333333333,
              "#9c179e"
             ],
             [
              0.4444444444444444,
              "#bd3786"
             ],
             [
              0.5555555555555556,
              "#d8576b"
             ],
             [
              0.6666666666666666,
              "#ed7953"
             ],
             [
              0.7777777777777778,
              "#fb9f3a"
             ],
             [
              0.8888888888888888,
              "#fdca26"
             ],
             [
              1,
              "#f0f921"
             ]
            ],
            "type": "histogram2d"
           }
          ],
          "histogram2dcontour": [
           {
            "colorbar": {
             "outlinewidth": 0,
             "ticks": ""
            },
            "colorscale": [
             [
              0,
              "#0d0887"
             ],
             [
              0.1111111111111111,
              "#46039f"
             ],
             [
              0.2222222222222222,
              "#7201a8"
             ],
             [
              0.3333333333333333,
              "#9c179e"
             ],
             [
              0.4444444444444444,
              "#bd3786"
             ],
             [
              0.5555555555555556,
              "#d8576b"
             ],
             [
              0.6666666666666666,
              "#ed7953"
             ],
             [
              0.7777777777777778,
              "#fb9f3a"
             ],
             [
              0.8888888888888888,
              "#fdca26"
             ],
             [
              1,
              "#f0f921"
             ]
            ],
            "type": "histogram2dcontour"
           }
          ],
          "mesh3d": [
           {
            "colorbar": {
             "outlinewidth": 0,
             "ticks": ""
            },
            "type": "mesh3d"
           }
          ],
          "parcoords": [
           {
            "line": {
             "colorbar": {
              "outlinewidth": 0,
              "ticks": ""
             }
            },
            "type": "parcoords"
           }
          ],
          "pie": [
           {
            "automargin": true,
            "type": "pie"
           }
          ],
          "scatter": [
           {
            "fillpattern": {
             "fillmode": "overlay",
             "size": 10,
             "solidity": 0.2
            },
            "type": "scatter"
           }
          ],
          "scatter3d": [
           {
            "line": {
             "colorbar": {
              "outlinewidth": 0,
              "ticks": ""
             }
            },
            "marker": {
             "colorbar": {
              "outlinewidth": 0,
              "ticks": ""
             }
            },
            "type": "scatter3d"
           }
          ],
          "scattercarpet": [
           {
            "marker": {
             "colorbar": {
              "outlinewidth": 0,
              "ticks": ""
             }
            },
            "type": "scattercarpet"
           }
          ],
          "scattergeo": [
           {
            "marker": {
             "colorbar": {
              "outlinewidth": 0,
              "ticks": ""
             }
            },
            "type": "scattergeo"
           }
          ],
          "scattergl": [
           {
            "marker": {
             "colorbar": {
              "outlinewidth": 0,
              "ticks": ""
             }
            },
            "type": "scattergl"
           }
          ],
          "scattermapbox": [
           {
            "marker": {
             "colorbar": {
              "outlinewidth": 0,
              "ticks": ""
             }
            },
            "type": "scattermapbox"
           }
          ],
          "scatterpolar": [
           {
            "marker": {
             "colorbar": {
              "outlinewidth": 0,
              "ticks": ""
             }
            },
            "type": "scatterpolar"
           }
          ],
          "scatterpolargl": [
           {
            "marker": {
             "colorbar": {
              "outlinewidth": 0,
              "ticks": ""
             }
            },
            "type": "scatterpolargl"
           }
          ],
          "scatterternary": [
           {
            "marker": {
             "colorbar": {
              "outlinewidth": 0,
              "ticks": ""
             }
            },
            "type": "scatterternary"
           }
          ],
          "surface": [
           {
            "colorbar": {
             "outlinewidth": 0,
             "ticks": ""
            },
            "colorscale": [
             [
              0,
              "#0d0887"
             ],
             [
              0.1111111111111111,
              "#46039f"
             ],
             [
              0.2222222222222222,
              "#7201a8"
             ],
             [
              0.3333333333333333,
              "#9c179e"
             ],
             [
              0.4444444444444444,
              "#bd3786"
             ],
             [
              0.5555555555555556,
              "#d8576b"
             ],
             [
              0.6666666666666666,
              "#ed7953"
             ],
             [
              0.7777777777777778,
              "#fb9f3a"
             ],
             [
              0.8888888888888888,
              "#fdca26"
             ],
             [
              1,
              "#f0f921"
             ]
            ],
            "type": "surface"
           }
          ],
          "table": [
           {
            "cells": {
             "fill": {
              "color": "#EBF0F8"
             },
             "line": {
              "color": "white"
             }
            },
            "header": {
             "fill": {
              "color": "#C8D4E3"
             },
             "line": {
              "color": "white"
             }
            },
            "type": "table"
           }
          ]
         },
         "layout": {
          "annotationdefaults": {
           "arrowcolor": "#2a3f5f",
           "arrowhead": 0,
           "arrowwidth": 1
          },
          "autotypenumbers": "strict",
          "coloraxis": {
           "colorbar": {
            "outlinewidth": 0,
            "ticks": ""
           }
          },
          "colorscale": {
           "diverging": [
            [
             0,
             "#8e0152"
            ],
            [
             0.1,
             "#c51b7d"
            ],
            [
             0.2,
             "#de77ae"
            ],
            [
             0.3,
             "#f1b6da"
            ],
            [
             0.4,
             "#fde0ef"
            ],
            [
             0.5,
             "#f7f7f7"
            ],
            [
             0.6,
             "#e6f5d0"
            ],
            [
             0.7,
             "#b8e186"
            ],
            [
             0.8,
             "#7fbc41"
            ],
            [
             0.9,
             "#4d9221"
            ],
            [
             1,
             "#276419"
            ]
           ],
           "sequential": [
            [
             0,
             "#0d0887"
            ],
            [
             0.1111111111111111,
             "#46039f"
            ],
            [
             0.2222222222222222,
             "#7201a8"
            ],
            [
             0.3333333333333333,
             "#9c179e"
            ],
            [
             0.4444444444444444,
             "#bd3786"
            ],
            [
             0.5555555555555556,
             "#d8576b"
            ],
            [
             0.6666666666666666,
             "#ed7953"
            ],
            [
             0.7777777777777778,
             "#fb9f3a"
            ],
            [
             0.8888888888888888,
             "#fdca26"
            ],
            [
             1,
             "#f0f921"
            ]
           ],
           "sequentialminus": [
            [
             0,
             "#0d0887"
            ],
            [
             0.1111111111111111,
             "#46039f"
            ],
            [
             0.2222222222222222,
             "#7201a8"
            ],
            [
             0.3333333333333333,
             "#9c179e"
            ],
            [
             0.4444444444444444,
             "#bd3786"
            ],
            [
             0.5555555555555556,
             "#d8576b"
            ],
            [
             0.6666666666666666,
             "#ed7953"
            ],
            [
             0.7777777777777778,
             "#fb9f3a"
            ],
            [
             0.8888888888888888,
             "#fdca26"
            ],
            [
             1,
             "#f0f921"
            ]
           ]
          },
          "colorway": [
           "#636efa",
           "#EF553B",
           "#00cc96",
           "#ab63fa",
           "#FFA15A",
           "#19d3f3",
           "#FF6692",
           "#B6E880",
           "#FF97FF",
           "#FECB52"
          ],
          "font": {
           "color": "#2a3f5f"
          },
          "geo": {
           "bgcolor": "white",
           "lakecolor": "white",
           "landcolor": "#E5ECF6",
           "showlakes": true,
           "showland": true,
           "subunitcolor": "white"
          },
          "hoverlabel": {
           "align": "left"
          },
          "hovermode": "closest",
          "mapbox": {
           "style": "light"
          },
          "paper_bgcolor": "white",
          "plot_bgcolor": "#E5ECF6",
          "polar": {
           "angularaxis": {
            "gridcolor": "white",
            "linecolor": "white",
            "ticks": ""
           },
           "bgcolor": "#E5ECF6",
           "radialaxis": {
            "gridcolor": "white",
            "linecolor": "white",
            "ticks": ""
           }
          },
          "scene": {
           "xaxis": {
            "backgroundcolor": "#E5ECF6",
            "gridcolor": "white",
            "gridwidth": 2,
            "linecolor": "white",
            "showbackground": true,
            "ticks": "",
            "zerolinecolor": "white"
           },
           "yaxis": {
            "backgroundcolor": "#E5ECF6",
            "gridcolor": "white",
            "gridwidth": 2,
            "linecolor": "white",
            "showbackground": true,
            "ticks": "",
            "zerolinecolor": "white"
           },
           "zaxis": {
            "backgroundcolor": "#E5ECF6",
            "gridcolor": "white",
            "gridwidth": 2,
            "linecolor": "white",
            "showbackground": true,
            "ticks": "",
            "zerolinecolor": "white"
           }
          },
          "shapedefaults": {
           "line": {
            "color": "#2a3f5f"
           }
          },
          "ternary": {
           "aaxis": {
            "gridcolor": "white",
            "linecolor": "white",
            "ticks": ""
           },
           "baxis": {
            "gridcolor": "white",
            "linecolor": "white",
            "ticks": ""
           },
           "bgcolor": "#E5ECF6",
           "caxis": {
            "gridcolor": "white",
            "linecolor": "white",
            "ticks": ""
           }
          },
          "title": {
           "x": 0.05
          },
          "xaxis": {
           "automargin": true,
           "gridcolor": "white",
           "linecolor": "white",
           "ticks": "",
           "title": {
            "standoff": 15
           },
           "zerolinecolor": "white",
           "zerolinewidth": 2
          },
          "yaxis": {
           "automargin": true,
           "gridcolor": "white",
           "linecolor": "white",
           "ticks": "",
           "title": {
            "standoff": 15
           },
           "zerolinecolor": "white",
           "zerolinewidth": 2
          }
         }
        },
        "title": {
         "text": "Employment Rates for Arts (Hons) at NUS"
        },
        "xaxis": {
         "dtick": 1,
         "tick0": 2013,
         "tickmode": "linear",
         "title": {
          "text": "Year"
         }
        },
        "yaxis": {
         "title": {
          "text": "Employment Rate (%)"
         }
        }
       }
      }
     },
     "metadata": {},
     "output_type": "display_data"
    }
   ],
   "source": [
    "plot_course = selected_course\n",
    "plot_uni = selected_uni\n",
    "\n",
    "# Filter the data for the selected course\n",
    "course_data = input_df[(input_df['course'] == plot_course) & (input_df['uni'] == plot_uni) & (input_df['course_row'] == 1)].copy()\n",
    "\n",
    "# Filter the summary data for the university's median\n",
    "summary_data = input_df[(input_df['course'] == f\"{plot_uni} Median\") & (input_df['uni'] == plot_uni) & (input_df['summary_row'] == 1)].copy()\n",
    "\n",
    "# Create the grouped bar plot\n",
    "fig = go.Figure()\n",
    "\n",
    "# Add bars for 'employment_rate_ft_perm'\n",
    "fig.add_trace(go.Bar(\n",
    "    x=course_data['year'],\n",
    "    y=course_data['employment_rate_ft_perm'],\n",
    "    name='FT Permanent Employment Rate',\n",
    "    marker_color='indianred',\n",
    "    hovertemplate='%{y:.1f}%'  # Hover template for bar plot\n",
    "))\n",
    "\n",
    "# Add bars for 'employment_rate_overall'\n",
    "fig.add_trace(go.Bar(\n",
    "    x=course_data['year'],\n",
    "    y=course_data['employment_rate_overall'],\n",
    "    name='Overall Employment Rate',\n",
    "    marker_color='lightsalmon',\n",
    "    hovertemplate='%{y:.1f}%'  # Hover template for bar plot\n",
    "))\n",
    "\n",
    "# Add dotted line for 'employment_rate_ft_perm' from summary data\n",
    "fig.add_trace(go.Scatter(\n",
    "    x=summary_data['year'],\n",
    "    y=summary_data['employment_rate_ft_perm'],\n",
    "    mode='lines',\n",
    "    name='Median FT Permanent Employment Rate',\n",
    "    line=dict(color='royalblue', dash='dot')\n",
    "))\n",
    "\n",
    "# Add dotted line for 'employment_rate_overall' from summary data\n",
    "fig.add_trace(go.Scatter(\n",
    "    x=summary_data['year'],\n",
    "    y=summary_data['employment_rate_overall'],\n",
    "    mode='lines',\n",
    "    name='Median Overall Employment Rate',\n",
    "    line=dict(color='darkblue', dash='dot')\n",
    "))\n",
    "\n",
    "# Update layout for the legend, axes, and X-ticks\n",
    "fig.update_layout(\n",
    "    barmode='group',\n",
    "    title=f\"Employment Rates for {plot_course} at {plot_uni}\",\n",
    "    xaxis_title=\"Year\",\n",
    "    yaxis_title=\"Employment Rate (%)\",\n",
    "    legend=dict(\n",
    "        orientation=\"h\",\n",
    "        yanchor=\"top\",\n",
    "        y=-0.15,\n",
    "        xanchor=\"center\",\n",
    "        x=0.5\n",
    "    ),\n",
    "    xaxis=dict(\n",
    "        tickmode='linear',  # Ensure every year is shown on X-axis\n",
    "        tick0=course_data['year'].min(),\n",
    "        dtick=1  # Set interval to 1 year\n",
    "    )\n",
    ")\n",
    "\n",
    "# Show the plot\n",
    "fig.show()\n",
    "\n"
   ]
  },
  {
   "cell_type": "code",
   "execution_count": null,
   "metadata": {},
   "outputs": [],
   "source": []
  }
 ],
 "metadata": {
  "kernelspec": {
   "display_name": "GES_env",
   "language": "python",
   "name": "python3"
  },
  "language_info": {
   "codemirror_mode": {
    "name": "ipython",
    "version": 3
   },
   "file_extension": ".py",
   "mimetype": "text/x-python",
   "name": "python",
   "nbconvert_exporter": "python",
   "pygments_lexer": "ipython3",
   "version": "3.11.1"
  }
 },
 "nbformat": 4,
 "nbformat_minor": 2
}
