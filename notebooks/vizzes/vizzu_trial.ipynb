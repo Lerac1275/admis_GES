{
 "cells": [
  {
   "cell_type": "code",
   "execution_count": 7,
   "metadata": {},
   "outputs": [],
   "source": [
    "import pandas as pd\n",
    "from ipyvizzu import Chart, Data, Config, DisplayTarget"
   ]
  },
  {
   "cell_type": "markdown",
   "metadata": {},
   "source": [
    "# Read in Data\n",
    "\n",
    "Reading in the `graphing_table.csv` file from the data folder. See `master_agg.ipynb` for more information. "
   ]
  },
  {
   "cell_type": "code",
   "execution_count": 2,
   "metadata": {},
   "outputs": [],
   "source": [
    "df = pd.read_csv('../../data/graphing_table.csv')"
   ]
  },
  {
   "cell_type": "code",
   "execution_count": 3,
   "metadata": {},
   "outputs": [
    {
     "data": {
      "text/plain": [
       "uni                           object\n",
       "school                        object\n",
       "course                        object\n",
       "year                           int64\n",
       "Places                       float64\n",
       "GPA                          float64\n",
       "RP                           float64\n",
       "employment_rate_overall      float64\n",
       "employment_rate_ft_perm      float64\n",
       "basic_monthly_mean           float64\n",
       "basic_monthly_median         float64\n",
       "gross_monthly_mean           float64\n",
       "gross_monthly_median         float64\n",
       "gross_mthly_25_percentile    float64\n",
       "gross_mthly_75_percentile    float64\n",
       "university                    object\n",
       "dtype: object"
      ]
     },
     "execution_count": 3,
     "metadata": {},
     "output_type": "execute_result"
    }
   ],
   "source": [
    "# All metric columns should be numeric types\n",
    "df.dtypes"
   ]
  },
  {
   "cell_type": "markdown",
   "metadata": {},
   "source": [
    "# Example `.store()` call"
   ]
  },
  {
   "cell_type": "code",
   "execution_count": 94,
   "metadata": {},
   "outputs": [
    {
     "data": {
      "application/javascript": "if (window.IpyVizzu) { window.IpyVizzu.clearInhibitScroll(element); }"
     },
     "metadata": {},
     "output_type": "display_data"
    }
   ],
   "source": [
    "df = pd.read_csv(\n",
    "    \"https://ipyvizzu.vizzuhq.com/0.17/assets/data/music_data.csv\"\n",
    ")\n",
    "data = Data()\n",
    "data.add_df(df)\n",
    "\n",
    "chart = Chart(width='480px', height='240px', display=DisplayTarget.ACTUAL)"
   ]
  },
  {
   "cell_type": "code",
   "execution_count": 95,
   "metadata": {},
   "outputs": [
    {
     "data": {
      "application/javascript": "if (window.IpyVizzu) { window.IpyVizzu.clearInhibitScroll(element); }"
     },
     "metadata": {},
     "output_type": "display_data"
    },
    {
     "data": {
      "application/javascript": "if (window.IpyVizzu?.version !== '0.17.0') {\n\tclass IpyVizzu {\n\t\tstatic version = '0.17.0'\n\t\tstatic analytics = undefined\n\t\tstatic inhibitScroll = false\n\n\t\tconstructor() {\n\t\t\tdocument.addEventListener(\n\t\t\t\t'wheel',\n\t\t\t\t(evt) => {\n\t\t\t\t\tIpyVizzu.inhibitScroll = true\n\t\t\t\t},\n\t\t\t\ttrue\n\t\t\t)\n\t\t\tdocument.addEventListener(\n\t\t\t\t'keydown',\n\t\t\t\t(evt) => {\n\t\t\t\t\tIpyVizzu.inhibitScroll = true\n\t\t\t\t},\n\t\t\t\ttrue\n\t\t\t)\n\t\t\tdocument.addEventListener(\n\t\t\t\t'touchstart',\n\t\t\t\t(evt) => {\n\t\t\t\t\tIpyVizzu.inhibitScroll = true\n\t\t\t\t},\n\t\t\t\ttrue\n\t\t\t)\n\n\t\t\tthis.elements = {}\n\t\t\tthis.charts = {}\n\t\t\tthis.controls = {}\n\n\t\t\tthis.storage = {}\n\t\t\tthis.displays = {}\n\n\t\t\tthis.events = {}\n\t\t\tthis.loaded = {}\n\t\t\tthis.libs = {}\n\t\t\tthis.plugins = {}\n\t\t}\n\n\t\tstatic clearInhibitScroll(element) {\n\t\t\tIpyVizzu.inhibitScroll = false\n\t\t}\n\n\t\tcreateChart(element, chartId, vizzulib, divWidth, divHeight) {\n\t\t\tthis.elements[chartId] = document.createElement('div')\n\t\t\tthis.elements[chartId].style.cssText = `width: ${divWidth}; height: ${divHeight};`\n\t\t\tthis.loaded[chartId] = import(vizzulib)\n\t\t\tthis.charts[chartId] = this.loaded[chartId].then((Vizzu) => {\n\t\t\t\tthis.libs[chartId] = Vizzu.default\n\t\t\t\tconst VizzuConstructor = Vizzu.default\n\t\t\t\treturn new VizzuConstructor(this.elements[chartId]).initializing\n\t\t\t})\n\t\t\tthis._moveHere(chartId, element)\n\t\t}\n\n\t\tplugin(element, chartId, plugin, options, name, enabled) {\n\t\t\tthis.charts[chartId] = this.charts[chartId].then((chart) => {\n\t\t\t\tif (!this.plugins[plugin]) {\n\t\t\t\t\tthis.plugins[plugin] = import(plugin).catch((error) => {\n\t\t\t\t\t\tconsole.error('Error importing plugin:', plugin, error)\n\t\t\t\t\t\treturn null\n\t\t\t\t\t})\n\t\t\t\t}\n\n\t\t\t\treturn this.plugins[plugin].then((pluginModule) => {\n\t\t\t\t\tif (pluginModule) {\n\t\t\t\t\t\tconst pluginInstance = new pluginModule[name](options)\n\t\t\t\t\t\tif (enabled) {\n\t\t\t\t\t\t\tchart.feature(pluginInstance, true)\n\t\t\t\t\t\t} else {\n\t\t\t\t\t\t\tchart.feature(pluginInstance.meta.name, false)\n\t\t\t\t\t\t}\n\t\t\t\t\t}\n\n\t\t\t\t\treturn chart\n\t\t\t\t})\n\t\t\t})\n\t\t}\n\n\t\tanimate(\n\t\t\telement,\n\t\t\tchartId,\n\t\t\tanimId,\n\t\t\tdisplayTarget,\n\t\t\tscrollEnabled,\n\t\t\tgetChartTarget,\n\t\t\tchartAnimOpts\n\t\t) {\n\t\t\tif (displayTarget === 'end') this._moveHere(chartId, element)\n\t\t\tthis.controls[chartId] = this.charts[chartId]\n\t\t\tthis.charts[chartId] = this.charts[chartId].then((chart) => {\n\t\t\t\tif (displayTarget === 'actual') this._moveHere(chartId, element)\n\t\t\t\tthis._scroll(chartId, scrollEnabled)\n\t\t\t\tlet chartTarget = getChartTarget(this.libs[chartId])\n\t\t\t\tif (typeof chartTarget === 'string') {\n\t\t\t\t\tchartTarget = this.storage[chartTarget]\n\t\t\t\t} else if (Array.isArray(chartTarget)) {\n\t\t\t\t\tfor (let i = 0; i < chartTarget.length; i++) {\n\t\t\t\t\t\tconst target = chartTarget[i].target\n\t\t\t\t\t\tif (typeof target === 'string') {\n\t\t\t\t\t\t\tchartTarget[i].target = this.storage[target]\n\t\t\t\t\t\t}\n\t\t\t\t\t}\n\t\t\t\t}\n\t\t\t\tchart = chart.animate(chartTarget, chartAnimOpts)\n\t\t\t\tthis.controls[animId] = chart\n\t\t\t\treturn chart\n\t\t\t})\n\t\t}\n\n\t\tstore(element, chartId, id) {\n\t\t\tthis.charts[chartId] = this.charts[chartId].then((chart) => {\n\t\t\t\tthis.storage[id] = chart.store()\n\t\t\t\treturn chart\n\t\t\t})\n\t\t}\n\n\t\tfeature(element, chartId, name, enabled) {\n\t\t\tthis.charts[chartId] = this.charts[chartId].then((chart) => {\n\t\t\t\tchart.feature(name, enabled)\n\t\t\t\treturn chart\n\t\t\t})\n\t\t}\n\n\t\tsetEvent(element, chartId, id, event, handler) {\n\t\t\tthis.charts[chartId] = this.charts[chartId].then((chart) => {\n\t\t\t\tthis.events[id] = handler\n\t\t\t\tchart.on(event, this.events[id])\n\t\t\t\treturn chart\n\t\t\t})\n\t\t}\n\n\t\tclearEvent(element, chartId, id, event) {\n\t\t\tthis.charts[chartId] = this.charts[chartId].then((chart) => {\n\t\t\t\tchart.off(event, this.events[id])\n\t\t\t\treturn chart\n\t\t\t})\n\t\t}\n\n\t\tlog(element, chartId, chartProperty) {\n\t\t\tthis.charts[chartId] = this.charts[chartId].then((chart) => {\n\t\t\t\tconsole.log(chart[chartProperty])\n\t\t\t\treturn chart\n\t\t\t})\n\t\t}\n\n\t\tcontrol(element, method, prevId, lastId, ...params) {\n\t\t\tthis.controls[prevId].then(() => {\n\t\t\t\tthis.controls[lastId].activated.then((control) => {\n\t\t\t\t\tif (method === 'seek') {\n\t\t\t\t\t\tconst value = params[0]\n\t\t\t\t\t\tcontrol[method](value)\n\t\t\t\t\t\treturn\n\t\t\t\t\t}\n\t\t\t\t\tif (method === 'store') {\n\t\t\t\t\t\tconst id = params[0]\n\t\t\t\t\t\tthis.storage[id] = control[method]()\n\t\t\t\t\t\treturn\n\t\t\t\t\t}\n\t\t\t\t\tcontrol[method]()\n\t\t\t\t})\n\t\t\t})\n\t\t}\n\n\t\t_moveHere(chartId, element) {\n\t\t\telement.append(this.elements[chartId])\n\t\t}\n\n\t\t_scroll(chartId, enabled) {\n\t\t\tif (!IpyVizzu.inhibitScroll && enabled) {\n\t\t\t\tthis.elements[chartId].scrollIntoView({\n\t\t\t\t\tbehavior: 'auto',\n\t\t\t\t\tblock: 'center'\n\t\t\t\t})\n\t\t\t}\n\t\t}\n\n\t\tstatic _hide(element) {\n\t\t\tdocument.getElementById(element.selector.substring(1)).parentNode.style.display = 'none'\n\t\t}\n\n\t\tstatic _display(prevElement, element) {\n\t\t\tif (prevElement.parentNode) {\n\t\t\t\tprevElement.parentNode.style.display = 'none'\n\t\t\t}\n\t\t\tdocument.getElementById(element.selector.substring(1)).parentNode.style.display = 'flex'\n\t\t\tdocument.getElementById(element.selector.substring(1)).parentNode.style.margin = 'auto'\n\t\t}\n\n\t\tstatic changeAnalyticsTo(analytics) {\n\t\t\tif (IpyVizzu.analytics !== analytics) {\n\t\t\t\tconsole.log('ipyvizzu gather usage stats:', analytics)\n\t\t\t\tIpyVizzu.analytics = analytics\n\t\t\t}\n\t\t\tif (analytics) {\n\t\t\t\tIpyVizzu._addHeadScript()\n\t\t\t} else {\n\t\t\t\tIpyVizzu._removeScript('ipyvizzu-analytics-head')\n\t\t\t}\n\t\t}\n\n\t\tstatic _addHeadScript() {\n\t\t\tconst scriptId = 'ipyvizzu-analytics-head'\n\t\t\tif (!IpyVizzu._isScriptAppended(scriptId)) {\n\t\t\t\tconst script = document.createElement('script')\n\t\t\t\tscript.defer = true\n\t\t\t\tscript.src = 'https://plausible.io/js/script.local.js'\n\t\t\t\tscript.dataset.domain = 'usage.ipyvizzu.com'\n\t\t\t\tscript.id = scriptId\n\t\t\t\tdocument.getElementsByTagName('head')[0].appendChild(script)\n\t\t\t}\n\t\t}\n\n\t\tstatic _isScriptAppended(id) {\n\t\t\treturn document.querySelector(`script[id=\"${id}\"]`) !== null\n\t\t}\n\n\t\tstatic _removeScript(id) {\n\t\t\tconst script = document.getElementById(id)\n\t\t\tif (script) script.remove()\n\t\t}\n\t}\n\n\twindow.IpyVizzu = IpyVizzu\n\tconsole.log(`ipyvizzu ${IpyVizzu.version}`)\n\twindow.ipyvizzu = new window.IpyVizzu()\n}\n"
     },
     "metadata": {},
     "output_type": "display_data"
    },
    {
     "data": {
      "application/javascript": "if (window.IpyVizzu) window.IpyVizzu.changeAnalyticsTo(true);"
     },
     "metadata": {},
     "output_type": "display_data"
    },
    {
     "data": {
      "application/javascript": "window.ipyvizzu.createChart(element, 'a4d6d33', 'https://cdn.jsdelivr.net/npm/vizzu@0.9/dist/vizzu.min.js', '480px', '240px');"
     },
     "metadata": {},
     "output_type": "display_data"
    },
    {
     "data": {
      "application/javascript": "window.ipyvizzu.animate(element, 'a4d6d33', '84ea71f', 'actual', false, lib => { return {\"data\": {\"series\": [{\"name\": \"Genres\", \"values\": [\"Pop\", \"Rock\", \"Jazz\", \"Metal\", \"Pop\", \"Rock\", \"Jazz\", \"Metal\", \"Pop\", \"Rock\", \"Jazz\", \"Metal\"], \"type\": \"dimension\"}, {\"name\": \"Kinds\", \"values\": [\"Hard\", \"Hard\", \"Hard\", \"Hard\", \"Smooth\", \"Experimental\", \"Smooth\", \"Smooth\", \"Experimental\", \"Experimental\", \"Experimental\", \"Experimental\"], \"type\": \"dimension\"}, {\"name\": \"Popularity\", \"values\": [114.0, 96.0, 78.0, 52.0, 56.0, 36.0, 174.0, 121.0, 127.0, 83.0, 94.0, 58.0], \"type\": \"measure\"}]}, \"config\": {\"channels\": {\"y\": {\"set\": [\"Popularity\", \"Kinds\"]}, \"x\": {\"set\": [\"Genres\"]}, \"color\": {\"set\": [\"Kinds\"]}, \"label\": {\"set\": [\"Popularity\"]}}}} }, undefined);"
     },
     "metadata": {},
     "output_type": "display_data"
    }
   ],
   "source": [
    "chart.animate(\n",
    "    data,\n",
    "    Config(\n",
    "        {\n",
    "            \"channels\": {\n",
    "                \"y\": {\"set\": [\"Popularity\", \"Kinds\"]},\n",
    "                \"x\": {\"set\": [\"Genres\"]},\n",
    "                \"color\": {\"set\": [\"Kinds\"]},\n",
    "                \"label\": {\"set\": [\"Popularity\"]},\n",
    "            },\n",
    "        }\n",
    "    ),\n",
    ")"
   ]
  },
  {
   "cell_type": "code",
   "execution_count": 96,
   "metadata": {},
   "outputs": [
    {
     "data": {
      "application/javascript": "if (window.IpyVizzu) { window.IpyVizzu.clearInhibitScroll(element); }"
     },
     "metadata": {},
     "output_type": "display_data"
    },
    {
     "data": {
      "application/javascript": "window.ipyvizzu.animate(element, 'a4d6d33', 'eb6a80a', 'actual', false, lib => { return {\"config\": {\"align\": \"stretch\"}} }, undefined);"
     },
     "metadata": {},
     "output_type": "display_data"
    },
    {
     "data": {
      "application/javascript": "window.ipyvizzu.store(element, 'a4d6d33', 'c482326');"
     },
     "metadata": {},
     "output_type": "display_data"
    }
   ],
   "source": [
    "chart.animate(\n",
    "    Config(\n",
    "        {\n",
    "            \"align\": \"stretch\",\n",
    "        }\n",
    "    )\n",
    ")\n",
    "snapshot = chart.store()"
   ]
  },
  {
   "cell_type": "code",
   "execution_count": 97,
   "metadata": {},
   "outputs": [
    {
     "data": {
      "application/javascript": "if (window.IpyVizzu) { window.IpyVizzu.clearInhibitScroll(element); }"
     },
     "metadata": {},
     "output_type": "display_data"
    },
    {
     "data": {
      "application/javascript": "window.ipyvizzu.animate(element, 'a4d6d33', '9696e42', 'actual', false, lib => { return \"c482326\" }, {\"duration\": 0});"
     },
     "metadata": {},
     "output_type": "display_data"
    },
    {
     "data": {
      "application/javascript": "window.ipyvizzu.animate(element, 'a4d6d33', 'd0f49b2', 'actual', false, lib => { return {\"config\": {\"channels\": {\"x\": {\"attach\": \"Kinds\"}, \"y\": {\"detach\": \"Kinds\"}}, \"align\": \"none\"}} }, undefined);"
     },
     "metadata": {},
     "output_type": "display_data"
    },
    {
     "data": {
      "application/javascript": "window.ipyvizzu.store(element, 'a4d6d33', 'cc3a37c');"
     },
     "metadata": {},
     "output_type": "display_data"
    }
   ],
   "source": [
    "chart.animate(snapshot, duration=0)\n",
    "chart.animate(\n",
    "    Config(\n",
    "        {\n",
    "            \"channels\": {\n",
    "                # \"x\": { \"attach\": [ \"Kinds\" ] },\n",
    "                \"x\": {\"attach\": \"Kinds\"},\n",
    "                # \"y\": { \"detach\": [ \"Kinds\" ] },\n",
    "                \"y\": {\"detach\": \"Kinds\"},\n",
    "            },\n",
    "            \"align\": \"none\",\n",
    "        }\n",
    "    )\n",
    ")\n",
    "animation = chart.store()"
   ]
  },
  {
   "cell_type": "code",
   "execution_count": 103,
   "metadata": {},
   "outputs": [
    {
     "data": {
      "application/javascript": "if (window.IpyVizzu) { window.IpyVizzu.clearInhibitScroll(element); }"
     },
     "metadata": {},
     "output_type": "display_data"
    },
    {
     "data": {
      "application/javascript": "window.ipyvizzu.animate(element, 'a4d6d33', '5c31457', 'actual', false, lib => { return \"cc3a37c\" }, {\"duration\": 0});"
     },
     "metadata": {},
     "output_type": "display_data"
    },
    {
     "data": {
      "application/javascript": "window.ipyvizzu.animate(element, 'a4d6d33', 'b58f516', 'actual', false, lib => { return {\"config\": {\"channels\": {\"y\": [\"Kinds\", \"Popularity\"], \"x\": \"Genres\"}}} }, undefined);"
     },
     "metadata": {},
     "output_type": "display_data"
    }
   ],
   "source": [
    "chart.animate(animation, duration=0)\n",
    "chart.animate(\n",
    "    Config(\n",
    "        {\n",
    "            \"channels\": {\n",
    "                # \"y\": { \"set\": [ \"Kinds\", \"Popularity\" ] },\n",
    "                \"y\": [\"Kinds\", \"Popularity\"],\n",
    "                # \"x\": { \"set\": [ \"Genres\" ] },\n",
    "                \"x\": \"Genres\",\n",
    "            }\n",
    "        }\n",
    "    )\n",
    ")"
   ]
  },
  {
   "cell_type": "code",
   "execution_count": 104,
   "metadata": {},
   "outputs": [
    {
     "data": {
      "application/javascript": "if (window.IpyVizzu) { window.IpyVizzu.clearInhibitScroll(element); }"
     },
     "metadata": {},
     "output_type": "display_data"
    },
    {
     "data": {
      "application/javascript": "window.ipyvizzu.animate(element, 'a4d6d33', 'a84eb91', 'actual', false, lib => { return \"cc3a37c\" }, undefined);"
     },
     "metadata": {},
     "output_type": "display_data"
    }
   ],
   "source": [
    "chart.animate(animation)"
   ]
  },
  {
   "cell_type": "markdown",
   "metadata": {},
   "source": [
    "# Chart Object Construction"
   ]
  },
  {
   "cell_type": "code",
   "execution_count": 31,
   "metadata": {},
   "outputs": [
    {
     "data": {
      "application/javascript": "if (window.IpyVizzu) { window.IpyVizzu.clearInhibitScroll(element); }"
     },
     "metadata": {},
     "output_type": "display_data"
    }
   ],
   "source": [
    "data = Data()\n",
    "data.add_df(df)"
   ]
  },
  {
   "cell_type": "code",
   "execution_count": 33,
   "metadata": {},
   "outputs": [
    {
     "data": {
      "application/javascript": "if (window.IpyVizzu) { window.IpyVizzu.clearInhibitScroll(element); }"
     },
     "metadata": {},
     "output_type": "display_data"
    }
   ],
   "source": [
    "# This setting will run each graph animation update in the cell it was called\n",
    "chart = Chart(width='480px', height='240px', display=DisplayTarget.ACTUAL)"
   ]
  }
 ],
 "metadata": {
  "kernelspec": {
   "display_name": "GES_env",
   "language": "python",
   "name": "python3"
  },
  "language_info": {
   "codemirror_mode": {
    "name": "ipython",
    "version": 3
   },
   "file_extension": ".py",
   "mimetype": "text/x-python",
   "name": "python",
   "nbconvert_exporter": "python",
   "pygments_lexer": "ipython3",
   "version": "3.11.1"
  }
 },
 "nbformat": 4,
 "nbformat_minor": 2
}
